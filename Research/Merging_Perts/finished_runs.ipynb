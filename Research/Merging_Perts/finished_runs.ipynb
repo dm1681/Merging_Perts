{
 "cells": [
  {
   "cell_type": "code",
   "execution_count": 15,
   "metadata": {
    "collapsed": true
   },
   "outputs": [],
   "source": [
    "#imports\n",
    "\n",
    "import numpy as np\n",
    "from astropy.table import QTable\n",
    "import matplotlib.pyplot as plt\n",
    "from astropy import units as u\n",
    "from astropy import constants as const\n",
    "import os\n",
    "import math\n",
    "import shutil\n",
    "from IPython.core.debugger import Tracer\n",
    "import subprocess\n",
    "import re\n",
    "import pdb\n",
    "%matplotlib inline\n"
   ]
  },
  {
   "cell_type": "code",
   "execution_count": 2,
   "metadata": {
    "collapsed": true
   },
   "outputs": [],
   "source": [
    "# reads in the initial conditions for each sim\n",
    "# IC_table.csv is saved in the everything.ipynb, generated after executing the entire notebook\n",
    "\n",
    "ic = QTable.read('IC_table_eqorb.csv',format='ascii.csv')\n",
    "sim_idx = ic['Sim #']\n",
    "dMass_b = ic['Mass_b']\n",
    "dMass_c = ic['Mass_c']\n",
    "dRadius_b = ic['Radius_b']\n",
    "dRadius_c = ic['Radius_c']\n",
    "dSemi_b = ic['Semi_b_0']\n",
    "dSemi_c = ic['Semi_c_0']\n",
    "dEcc_b = ic['Ecc_b_0']\n",
    "dEcc_c = ic['Ecc_c_0']\n",
    "dInc_b = ic['Incl_b_0']\n",
    "dInc_c = ic['Incl_c_0']\n",
    "dLongA_b = ic['LongA_b_0']\n",
    "dLongA_c = ic['LongA_c_0']\n",
    "dArgP_b = ic['ArgP_b_0']\n",
    "dArgP_c = ic['ArgP_c_0']\n",
    "dTidalQ_b = ic['Qp_b']\n",
    "dTidalQ_c = ic['Qp_c']\n",
    "dTidalQ_star = ic['Q_star']\n",
    "dMass_star = ic['Mass_star']\n",
    "dRadius_star = ic['Radius_star']"
   ]
  },
  {
   "cell_type": "code",
   "execution_count": 6,
   "metadata": {
    "collapsed": true
   },
   "outputs": [],
   "source": [
    "#dMass_b"
   ]
  },
  {
   "cell_type": "code",
   "execution_count": 17,
   "metadata": {},
   "outputs": [
    {
     "name": "stdout",
     "output_type": "stream",
     "text": [
      "> <ipython-input-17-ef48ce2f0af9>(59)<module>()\n",
      "-> eqorb_folder_dir = comp_eqorb_dir+folder_name\n",
      "(Pdb) mass_line\n",
      "['dMass', '-11.4399233456']\n",
      "(Pdb) q\n"
     ]
    },
    {
     "ename": "BdbQuit",
     "evalue": "",
     "output_type": "error",
     "traceback": [
      "\u001b[0;31m---------------------------------------------------------------------------\u001b[0m",
      "\u001b[0;31mBdbQuit\u001b[0m                                   Traceback (most recent call last)",
      "\u001b[0;32m<ipython-input-17-ef48ce2f0af9>\u001b[0m in \u001b[0;36m<module>\u001b[0;34m()\u001b[0m\n\u001b[1;32m     57\u001b[0m     \u001b[0mpdb\u001b[0m\u001b[0;34m.\u001b[0m\u001b[0mset_trace\u001b[0m\u001b[0;34m(\u001b[0m\u001b[0;34m)\u001b[0m\u001b[0;34m\u001b[0m\u001b[0m\n\u001b[1;32m     58\u001b[0m     \u001b[0;31m#extract eqorb data last\u001b[0m\u001b[0;34m\u001b[0m\u001b[0;34m\u001b[0m\u001b[0m\n\u001b[0;32m---> 59\u001b[0;31m     \u001b[0meqorb_folder_dir\u001b[0m \u001b[0;34m=\u001b[0m \u001b[0mcomp_eqorb_dir\u001b[0m\u001b[0;34m+\u001b[0m\u001b[0mfolder_name\u001b[0m\u001b[0;34m\u001b[0m\u001b[0m\n\u001b[0m\u001b[1;32m     60\u001b[0m     \u001b[0mscreen_output\u001b[0m \u001b[0;34m=\u001b[0m \u001b[0mopen\u001b[0m\u001b[0;34m(\u001b[0m\u001b[0meqorb_folder_dir\u001b[0m\u001b[0;34m+\u001b[0m\u001b[0;34m'/log'\u001b[0m\u001b[0;34m)\u001b[0m\u001b[0;34m\u001b[0m\u001b[0m\n\u001b[1;32m     61\u001b[0m     \u001b[0mlog\u001b[0m \u001b[0;34m=\u001b[0m \u001b[0meqorb_folder_dir\u001b[0m \u001b[0;34m+\u001b[0m \u001b[0;34m'/system.log'\u001b[0m\u001b[0;34m\u001b[0m\u001b[0m\n",
      "\u001b[0;32m<ipython-input-17-ef48ce2f0af9>\u001b[0m in \u001b[0;36m<module>\u001b[0;34m()\u001b[0m\n\u001b[1;32m     57\u001b[0m     \u001b[0mpdb\u001b[0m\u001b[0;34m.\u001b[0m\u001b[0mset_trace\u001b[0m\u001b[0;34m(\u001b[0m\u001b[0;34m)\u001b[0m\u001b[0;34m\u001b[0m\u001b[0m\n\u001b[1;32m     58\u001b[0m     \u001b[0;31m#extract eqorb data last\u001b[0m\u001b[0;34m\u001b[0m\u001b[0;34m\u001b[0m\u001b[0m\n\u001b[0;32m---> 59\u001b[0;31m     \u001b[0meqorb_folder_dir\u001b[0m \u001b[0;34m=\u001b[0m \u001b[0mcomp_eqorb_dir\u001b[0m\u001b[0;34m+\u001b[0m\u001b[0mfolder_name\u001b[0m\u001b[0;34m\u001b[0m\u001b[0m\n\u001b[0m\u001b[1;32m     60\u001b[0m     \u001b[0mscreen_output\u001b[0m \u001b[0;34m=\u001b[0m \u001b[0mopen\u001b[0m\u001b[0;34m(\u001b[0m\u001b[0meqorb_folder_dir\u001b[0m\u001b[0;34m+\u001b[0m\u001b[0;34m'/log'\u001b[0m\u001b[0;34m)\u001b[0m\u001b[0;34m\u001b[0m\u001b[0m\n\u001b[1;32m     61\u001b[0m     \u001b[0mlog\u001b[0m \u001b[0;34m=\u001b[0m \u001b[0meqorb_folder_dir\u001b[0m \u001b[0;34m+\u001b[0m \u001b[0;34m'/system.log'\u001b[0m\u001b[0;34m\u001b[0m\u001b[0m\n",
      "\u001b[0;32m/home/dm1681/anaconda3/lib/python3.6/bdb.py\u001b[0m in \u001b[0;36mtrace_dispatch\u001b[0;34m(self, frame, event, arg)\u001b[0m\n\u001b[1;32m     46\u001b[0m             \u001b[0;32mreturn\u001b[0m \u001b[0;31m# None\u001b[0m\u001b[0;34m\u001b[0m\u001b[0m\n\u001b[1;32m     47\u001b[0m         \u001b[0;32mif\u001b[0m \u001b[0mevent\u001b[0m \u001b[0;34m==\u001b[0m \u001b[0;34m'line'\u001b[0m\u001b[0;34m:\u001b[0m\u001b[0;34m\u001b[0m\u001b[0m\n\u001b[0;32m---> 48\u001b[0;31m             \u001b[0;32mreturn\u001b[0m \u001b[0mself\u001b[0m\u001b[0;34m.\u001b[0m\u001b[0mdispatch_line\u001b[0m\u001b[0;34m(\u001b[0m\u001b[0mframe\u001b[0m\u001b[0;34m)\u001b[0m\u001b[0;34m\u001b[0m\u001b[0m\n\u001b[0m\u001b[1;32m     49\u001b[0m         \u001b[0;32mif\u001b[0m \u001b[0mevent\u001b[0m \u001b[0;34m==\u001b[0m \u001b[0;34m'call'\u001b[0m\u001b[0;34m:\u001b[0m\u001b[0;34m\u001b[0m\u001b[0m\n\u001b[1;32m     50\u001b[0m             \u001b[0;32mreturn\u001b[0m \u001b[0mself\u001b[0m\u001b[0;34m.\u001b[0m\u001b[0mdispatch_call\u001b[0m\u001b[0;34m(\u001b[0m\u001b[0mframe\u001b[0m\u001b[0;34m,\u001b[0m \u001b[0marg\u001b[0m\u001b[0;34m)\u001b[0m\u001b[0;34m\u001b[0m\u001b[0m\n",
      "\u001b[0;32m/home/dm1681/anaconda3/lib/python3.6/bdb.py\u001b[0m in \u001b[0;36mdispatch_line\u001b[0;34m(self, frame)\u001b[0m\n\u001b[1;32m     65\u001b[0m         \u001b[0;32mif\u001b[0m \u001b[0mself\u001b[0m\u001b[0;34m.\u001b[0m\u001b[0mstop_here\u001b[0m\u001b[0;34m(\u001b[0m\u001b[0mframe\u001b[0m\u001b[0;34m)\u001b[0m \u001b[0;32mor\u001b[0m \u001b[0mself\u001b[0m\u001b[0;34m.\u001b[0m\u001b[0mbreak_here\u001b[0m\u001b[0;34m(\u001b[0m\u001b[0mframe\u001b[0m\u001b[0;34m)\u001b[0m\u001b[0;34m:\u001b[0m\u001b[0;34m\u001b[0m\u001b[0m\n\u001b[1;32m     66\u001b[0m             \u001b[0mself\u001b[0m\u001b[0;34m.\u001b[0m\u001b[0muser_line\u001b[0m\u001b[0;34m(\u001b[0m\u001b[0mframe\u001b[0m\u001b[0;34m)\u001b[0m\u001b[0;34m\u001b[0m\u001b[0m\n\u001b[0;32m---> 67\u001b[0;31m             \u001b[0;32mif\u001b[0m \u001b[0mself\u001b[0m\u001b[0;34m.\u001b[0m\u001b[0mquitting\u001b[0m\u001b[0;34m:\u001b[0m \u001b[0;32mraise\u001b[0m \u001b[0mBdbQuit\u001b[0m\u001b[0;34m\u001b[0m\u001b[0m\n\u001b[0m\u001b[1;32m     68\u001b[0m         \u001b[0;32mreturn\u001b[0m \u001b[0mself\u001b[0m\u001b[0;34m.\u001b[0m\u001b[0mtrace_dispatch\u001b[0m\u001b[0;34m\u001b[0m\u001b[0m\n\u001b[1;32m     69\u001b[0m \u001b[0;34m\u001b[0m\u001b[0m\n",
      "\u001b[0;31mBdbQuit\u001b[0m: "
     ]
    }
   ],
   "source": [
    "#pulls final data\n",
    "\n",
    "wd = '/home/dm1681/Merging_Perts/Research/Merging_Perts'\n",
    "comp_eq_only_dir = wd+'/final_data/runs_eq_only/'\n",
    "comp_eqorb_dir = wd+'/final_data/runs_eqorb/'\n",
    "\n",
    "# this script fills the below arrays for 'n' simulations\n",
    "eq_sim_num = np.array([])\n",
    "eq_time_final = np.array([])\n",
    "eq_semi_final = np.array([])\n",
    "eq_ecc_final = np.array([])\n",
    "\n",
    "eqorb_sim_num = np.array([])\n",
    "eqorb_time_final = np.array([])\n",
    "eqorb_semi_final = np.array([])\n",
    "eqorb_ecc_final = np.array([])\n",
    "\n",
    "ecc_diff = np.array([]) #difference in eccentricities\n",
    "semi_diff = np.array([])\n",
    "\n",
    "eq_merged = np.array([])\n",
    "eqorb_merged = np.array([])\n",
    "\n",
    "\n",
    "n = 25000\n",
    "t = 0\n",
    "while t <= n-1:\n",
    "    #extract eq_only data first:\n",
    "    folder_name = '%05i'%t\n",
    "    eq_folder_dir = comp_eq_only_dir+folder_name\n",
    "    screen_output = open(eq_folder_dir+'/log')\n",
    "    screen_content =  screen_output.read()\n",
    "    screen_content = screen_content.split('\\n')\n",
    "    merge_line = screen_content[-4]\n",
    "    if merge_line[:15] == \"HALT: Merge at \":\n",
    "        eq_merged = np.append(eq_merged,1)\n",
    "    else:\n",
    "        eq_merged = np.append(eq_merged,0)\n",
    "    b_fwd = open(eq_folder_dir+'/system.b.forward') #fwd file\n",
    "\n",
    "    b_fwd_content = b_fwd.read()\n",
    "    b_fwd_content = b_fwd_content.split('\\n')\n",
    "    b_fwd_lastline = b_fwd_content[-2] # last line\n",
    "    b_fwd_lastline = b_fwd_lastline.split(' ')\n",
    "    final_time_eq = b_fwd_lastline[0]\n",
    "    final_semi_eq = b_fwd_lastline[1]\n",
    "    final_ecc_eq = b_fwd_lastline[2]\n",
    "    eq_time_final = np.append(eq_time_final,float(final_time_eq))\n",
    "    eq_semi_final = np.append(eq_semi_final,float(final_semi_eq))\n",
    "    eq_ecc_final = np.append(eq_ecc_final,float(final_ecc_eq))\n",
    "    eq_sim_num = np.append(eq_sim_num,folder_name)\n",
    "    b_in = open(eq_folder_dir+'/b.in') #b.in\n",
    "    b_in_content = b_in.read()\n",
    "    b_in_content = b_in_content.split('\\n')\n",
    "    mass_line = b_in_content[4]\n",
    "    mass_line = mass_line.split('\\t\\t')\n",
    "    mass_b = float(mass_line[1])*-1\n",
    "    \n",
    "    #extract eqorb data last\n",
    "    eqorb_folder_dir = comp_eqorb_dir+folder_name\n",
    "    screen_output = open(eqorb_folder_dir+'/log')\n",
    "    log = eqorb_folder_dir + '/system.log'\n",
    "    if os.path.isfile(log) == True: #log file exists\n",
    "        log_file = open(log)\n",
    "        log_content = log_file.read()\n",
    "        log_content = log_content.split('\\n') #separates by line\n",
    "        runtime = log_content[-2] #takes the line corresponding to \"Runtime\"\n",
    "\n",
    "        if runtime[0:7] == 'Runtime': #runtime is printed\n",
    "            #read in screen output to test for merge\n",
    "            screen_content =  screen_output.read()\n",
    "            screen_content = screen_content.split('\\n')\n",
    "            merge_line = screen_content[-4]\n",
    "            if merge_line[:15] == \"HALT: Merge at \":\n",
    "                eqorb_merged = np.append(eqorb_merged,1)\n",
    "            else:\n",
    "                eqorb_merged = np.append(eqorb_merged,0)\n",
    "                \n",
    "                \n",
    "            b_fwd = open(eqorb_folder_dir+'/system.b.forward')\n",
    "            b_fwd_content = b_fwd.read()\n",
    "            b_fwd_content = b_fwd_content.split('\\n')\n",
    "            b_fwd_lastline = b_fwd_content[-2]\n",
    "            b_fwd_lastline = b_fwd_lastline.split(' ')\n",
    "            final_time_eqorb = b_fwd_lastline[0]\n",
    "            final_semi_eqorb = b_fwd_lastline[1]\n",
    "            final_ecc_eqorb = b_fwd_lastline[2]\n",
    "            eqorb_time_final = np.append(eqorb_time_final,float(final_time_eqorb))\n",
    "            eqorb_semi_final = np.append(eqorb_semi_final,float(final_semi_eqorb))\n",
    "            eqorb_ecc_final = np.append(eqorb_ecc_final,float(final_ecc_eqorb))\n",
    "            eqorb_sim_num = np.append(eqorb_sim_num,folder_name)\n",
    "\n",
    "            #some analysis:\n",
    "            #difference between eccentricities:\n",
    "            diff_ecc = float(final_ecc_eq) - float(final_ecc_eqorb) #if positive, eqtide > eqorb, if negative eqtide < eqorb\n",
    "            diff_semi = float(final_semi_eq) - float(final_semi_eqorb)\n",
    "            ecc_diff = np.append(ecc_diff,diff_ecc)\n",
    "            semi_diff = np.append(semi_diff,diff_semi)\n",
    "        # sets unfinished runs to -9999 to be filtered out later. \n",
    "        else:\n",
    "            final_time_eqorb = -9999\n",
    "            eqorb_time_final = np.append(eqorb_time_final,final_time_eqorb)\n",
    "\n",
    "    \n",
    "\n",
    "    t += 1\n",
    "'''    \n",
    "# saves the above values in a table    \n",
    "final = QTable()\n",
    "final['Eq_age'] = eq_time_final\n",
    "final['Eqorb_age'] = eqorb_time_final\n",
    "final['Eq_semi'] = eq_semi_final\n",
    "final['Eqorb_semi'] = eqorb_semi_final\n",
    "final['Eq_ecc'] = eq_ecc_final\n",
    "final['Eqorb_ecc'] = eqorb_ecc_final\n",
    "final['Diff_ecc'] = ecc_diff\n",
    "final['Diff_semi'] = semi_diff\n",
    "final['Sim #'] = eqorb_sim_num\n",
    "final.write('final.data',format='ascii.csv')\n",
    "'''"
   ]
  },
  {
   "cell_type": "code",
   "execution_count": 4,
   "metadata": {},
   "outputs": [
    {
     "data": {
      "text/plain": [
       "(24922,)"
      ]
     },
     "execution_count": 4,
     "metadata": {},
     "output_type": "execute_result"
    }
   ],
   "source": [
    "eqorb_semi_final.shape"
   ]
  },
  {
   "cell_type": "code",
   "execution_count": 5,
   "metadata": {},
   "outputs": [
    {
     "data": {
      "text/html": [
       "&lt;QTable length=24922&gt;\n",
       "<table id=\"table140349874182016\" class=\"table-striped table-bordered table-condensed\">\n",
       "<thead><tr><th>Eq_age</th><th>Eqorb_age</th><th>Eq_semi</th><th>Eqorb_semi</th><th>Eq_ecc</th><th>Eqorb_ecc</th><th>Eq_Merge</th><th>Eqorb_Merge</th><th>Diff_ecc</th><th>Diff_semi</th><th>Sim #</th></tr></thead>\n",
       "<thead><tr><th>float64</th><th>float64</th><th>float64</th><th>float64</th><th>float64</th><th>float64</th><th>float64</th><th>float64</th><th>float64</th><th>float64</th><th>str32</th></tr></thead>\n",
       "<tr><td>10000000000.0</td><td>10000000000.0</td><td>0.079503</td><td>0.079512</td><td>0.147025</td><td>0.12814</td><td>0.0</td><td>0.0</td><td>0.018885</td><td>-9e-06</td><td>00000</td></tr>\n",
       "<tr><td>3046729000.0</td><td>2448582000.0</td><td>0.006595</td><td>0.006614</td><td>0.0</td><td>0.0</td><td>1.0</td><td>1.0</td><td>0.0</td><td>-1.9e-05</td><td>00001</td></tr>\n",
       "<tr><td>10000000000.0</td><td>75987.28</td><td>0.098895</td><td>0.102591</td><td>0.09057</td><td>0.662922</td><td>0.0</td><td>0.0</td><td>-0.572352</td><td>-0.003696</td><td>00002</td></tr>\n",
       "<tr><td>10000000000.0</td><td>0.0</td><td>0.124557</td><td>0.124559</td><td>0.097327</td><td>0.098326</td><td>0.0</td><td>0.0</td><td>-0.000999</td><td>-2e-06</td><td>00003</td></tr>\n",
       "<tr><td>10000000000.0</td><td>0.0</td><td>0.102118</td><td>0.102364</td><td>0.033924</td><td>0.045136</td><td>0.0</td><td>0.0</td><td>-0.011212</td><td>-0.000246</td><td>00004</td></tr>\n",
       "<tr><td>10000000000.0</td><td>10000000000.0</td><td>0.074943</td><td>0.073131</td><td>1.108205e-05</td><td>0.009174</td><td>0.0</td><td>0.0</td><td>-0.00916291795</td><td>0.001812</td><td>00005</td></tr>\n",
       "<tr><td>10000000000.0</td><td>20133260.0</td><td>0.024989</td><td>0.005285</td><td>0.0</td><td>0.050205</td><td>0.0</td><td>1.0</td><td>-0.050205</td><td>0.019704</td><td>00006</td></tr>\n",
       "<tr><td>10000000000.0</td><td>10000000000.0</td><td>0.066926</td><td>0.066955</td><td>0.197318</td><td>0.157068</td><td>0.0</td><td>0.0</td><td>0.04025</td><td>-2.9e-05</td><td>00007</td></tr>\n",
       "<tr><td>10000000000.0</td><td>10000000000.0</td><td>0.121883</td><td>0.121889</td><td>0.50218</td><td>0.591892</td><td>0.0</td><td>0.0</td><td>-0.089712</td><td>-5.99999999999e-06</td><td>00008</td></tr>\n",
       "<tr><td>10000000000.0</td><td>192723.2</td><td>0.076216</td><td>0.081187</td><td>0.446345</td><td>0.662766</td><td>0.0</td><td>0.0</td><td>-0.216421</td><td>-0.004971</td><td>00009</td></tr>\n",
       "<tr><td>...</td><td>...</td><td>...</td><td>...</td><td>...</td><td>...</td><td>...</td><td>...</td><td>...</td><td>...</td><td>...</td></tr>\n",
       "<tr><td>10000000000.0</td><td>10000000000.0</td><td>0.113122</td><td>0.113122</td><td>0.063575</td><td>0.035152</td><td>0.0</td><td>0.0</td><td>0.028423</td><td>0.0</td><td>24990</td></tr>\n",
       "<tr><td>10000000000.0</td><td>10000000000.0</td><td>0.029362</td><td>0.027178</td><td>0.001158</td><td>0.0342</td><td>0.0</td><td>0.0</td><td>-0.033042</td><td>0.002184</td><td>24991</td></tr>\n",
       "<tr><td>10000000000.0</td><td>0.0</td><td>0.018006</td><td>0.017222</td><td>6.547069e-05</td><td>0.551922</td><td>0.0</td><td>0.0</td><td>-0.55185652931</td><td>0.000784</td><td>24992</td></tr>\n",
       "<tr><td>192948600.0</td><td>120839000.0</td><td>0.003958</td><td>0.003975</td><td>0.0</td><td>0.0</td><td>1.0</td><td>1.0</td><td>0.0</td><td>-1.7e-05</td><td>24993</td></tr>\n",
       "<tr><td>10000000000.0</td><td>10000000000.0</td><td>0.105014</td><td>0.105011</td><td>0.029412</td><td>0.113064</td><td>0.0</td><td>0.0</td><td>-0.083652</td><td>3e-06</td><td>24994</td></tr>\n",
       "<tr><td>10000000000.0</td><td>10000000000.0</td><td>0.06472</td><td>0.065017</td><td>0.160032</td><td>0.339934</td><td>0.0</td><td>0.0</td><td>-0.179902</td><td>-0.000297</td><td>24995</td></tr>\n",
       "<tr><td>10000000000.0</td><td>10000000000.0</td><td>0.094239</td><td>0.09424</td><td>0.072418</td><td>0.160096</td><td>0.0</td><td>0.0</td><td>-0.087678</td><td>-1e-06</td><td>24996</td></tr>\n",
       "<tr><td>10000000000.0</td><td>10000000000.0</td><td>0.082264</td><td>0.082274</td><td>0.155189</td><td>0.137281</td><td>0.0</td><td>0.0</td><td>0.017908</td><td>-1e-05</td><td>24997</td></tr>\n",
       "<tr><td>10000000000.0</td><td>10000000000.0</td><td>0.053453</td><td>0.053448</td><td>0.005204</td><td>0.11857</td><td>0.0</td><td>0.0</td><td>-0.113366</td><td>5e-06</td><td>24998</td></tr>\n",
       "<tr><td>10000000000.0</td><td>10000000000.0</td><td>0.092685</td><td>0.091253</td><td>0.004411</td><td>0.07405</td><td>0.0</td><td>0.0</td><td>-0.069639</td><td>0.001432</td><td>24999</td></tr>\n",
       "</table>"
      ],
      "text/plain": [
       "<QTable length=24922>\n",
       "    Eq_age      Eqorb_age   Eq_semi  ...    Diff_ecc        Diff_semi      Sim #\n",
       "   float64       float64    float64  ...    float64          float64       str32\n",
       "------------- ------------- -------- ... -------------- ------------------ -----\n",
       "10000000000.0 10000000000.0 0.079503 ...       0.018885             -9e-06 00000\n",
       " 3046729000.0  2448582000.0 0.006595 ...            0.0           -1.9e-05 00001\n",
       "10000000000.0      75987.28 0.098895 ...      -0.572352          -0.003696 00002\n",
       "10000000000.0           0.0 0.124557 ...      -0.000999             -2e-06 00003\n",
       "10000000000.0           0.0 0.102118 ...      -0.011212          -0.000246 00004\n",
       "10000000000.0 10000000000.0 0.074943 ... -0.00916291795           0.001812 00005\n",
       "10000000000.0    20133260.0 0.024989 ...      -0.050205           0.019704 00006\n",
       "10000000000.0 10000000000.0 0.066926 ...        0.04025           -2.9e-05 00007\n",
       "10000000000.0 10000000000.0 0.121883 ...      -0.089712 -5.99999999999e-06 00008\n",
       "10000000000.0      192723.2 0.076216 ...      -0.216421          -0.004971 00009\n",
       "          ...           ...      ... ...            ...                ...   ...\n",
       "10000000000.0 10000000000.0 0.113122 ...       0.028423                0.0 24990\n",
       "10000000000.0 10000000000.0 0.029362 ...      -0.033042           0.002184 24991\n",
       "10000000000.0           0.0 0.018006 ... -0.55185652931           0.000784 24992\n",
       "  192948600.0   120839000.0 0.003958 ...            0.0           -1.7e-05 24993\n",
       "10000000000.0 10000000000.0 0.105014 ...      -0.083652              3e-06 24994\n",
       "10000000000.0 10000000000.0  0.06472 ...      -0.179902          -0.000297 24995\n",
       "10000000000.0 10000000000.0 0.094239 ...      -0.087678             -1e-06 24996\n",
       "10000000000.0 10000000000.0 0.082264 ...       0.017908             -1e-05 24997\n",
       "10000000000.0 10000000000.0 0.053453 ...      -0.113366              5e-06 24998\n",
       "10000000000.0 10000000000.0 0.092685 ...      -0.069639           0.001432 24999"
      ]
     },
     "execution_count": 5,
     "metadata": {},
     "output_type": "execute_result"
    }
   ],
   "source": [
    "# organize with some tables and filter out uncompleted runs\n",
    "eq_final = QTable()\n",
    "eq_final['Sim #'] = eq_sim_num\n",
    "eq_final['age'] = eq_time_final\n",
    "eq_final['semi'] = eq_semi_final\n",
    "eq_final['ecc'] = eq_ecc_final\n",
    "eq_final['eqorb_stats'] = eqorb_time_final\n",
    "eq_final['Merged'] = eq_merged\n",
    "\n",
    "both_exist = np.where(eq_final['eqorb_stats'] != -9999)\n",
    "eqorb_uncomp = np.where(eqorb_time_final != -9999)\n",
    "eq_final = eq_final[both_exist]\n",
    "eqorb_time_final = eqorb_time_final[eqorb_uncomp]\n",
    "\n",
    "eqorb_final = QTable()\n",
    "eqorb_final['Sim #'] = eqorb_sim_num\n",
    "eqorb_final['age'] = eqorb_time_final\n",
    "eqorb_final['semi'] = eqorb_semi_final\n",
    "eqorb_final['ecc'] = eqorb_ecc_final\n",
    "eqorb_final['Merged'] = eqorb_merged\n",
    "\n",
    "\n",
    "final = QTable()\n",
    "final['Eq_age'] = eq_final['age']\n",
    "final['Eqorb_age'] = eqorb_final['age']\n",
    "final['Eq_semi'] = eq_final['semi']\n",
    "final['Eqorb_semi'] = eqorb_final['semi']\n",
    "final['Eq_ecc'] = eq_final['ecc']\n",
    "final['Eqorb_ecc'] = eqorb_final['ecc']\n",
    "final['Eq_Merge'] = eq_final['Merged']\n",
    "final['Eqorb_Merge'] = eqorb_final['Merged']\n",
    "final['Diff_ecc'] = ecc_diff\n",
    "final['Diff_semi'] = semi_diff\n",
    "final['Sim #'] = eq_final['Sim #']\n",
    "final"
   ]
  },
  {
   "cell_type": "code",
   "execution_count": 9,
   "metadata": {},
   "outputs": [
    {
     "data": {
      "image/png": "[encoded data removed]",
      "text/plain": [
       "<matplotlib.figure.Figure at 0x7fa5c0651208>"
      ]
     },
     "metadata": {},
     "output_type": "display_data"
    }
   ],
   "source": [
    "fig,ax = plt.subplots(2,1)\n",
    "fig.set_size_inches(11,11)\n",
    "\n",
    "#define a few masks\n",
    "eqorb_greater_ecc = np.where(final['Eq_ecc']<final['Eqorb_ecc']) #Ecc of Eq < Eqorb\n",
    "eq_greater_ecc = np.where(final['Eq_ecc']>final['Eqorb_ecc']) # Ecc Eq > Eqorb\n",
    "eqorb_vert_line = np.where((final['Eqorb_ecc']>=0.66)&(final['Eqorb_ecc'] <= 0.67)) # the vertical line where distorb breaks\n",
    "eqorb_lo_eq_hi = np.where((final['Eqorb_semi']<=0.008)&(final['Eq_semi']<=0.1)) # describes the clusters along the x and y axis below\n",
    "eqorb_hi_eq_lo = np.where((final['Eqorb_semi']<=0.06)&(final['Eq_semi']<=0.01)) # describes the clusters along the x and y axis below\n",
    "eqorb_merge_eq_nomerge = np.where((final['Eqorb_Merge'] == 1.0) & (final['Eq_Merge'] == 0.0))\n",
    "both_merge = np.where((final['Eqorb_Merge'] == 1)&(final['Eq_Merge'] == 1)) \n",
    "eq_merge_eqorb_nomerge = np.where((final['Eq_Merge'] == 1)&(final['Eqorb_Merge'] == 0))\n",
    "\n",
    "# how many sims have completed\n",
    "n = eq_final['Sim #'].shape[0]\n",
    "\n",
    "\n",
    "\n",
    "\n",
    "\n",
    "\n",
    "#plots the data\n",
    "ax[0].scatter(final['Eqorb_ecc'],final['Eq_ecc'])\n",
    "ax[1].scatter(final['Eqorb_semi'],final['Eq_semi'])\n",
    "\n",
    "#reference lines\n",
    "ax[0].plot(final['Eqorb_ecc'],final['Eqorb_ecc'], color = 'red')\n",
    "ax[1].plot(final['Eqorb_semi'],final['Eqorb_semi'], color = 'red', label='Eqorb=Eqtide')\n",
    "\n",
    "#overlay masks\n",
    "ax[0].scatter(final['Eqorb_ecc'][eqorb_vert_line],final['Eq_ecc'][eqorb_vert_line], color = 'green')\n",
    "ax[1].scatter(final['Eqorb_semi'][eqorb_merge_eq_nomerge],final['Eq_semi'][eqorb_merge_eq_nomerge],color='cyan',label='Eqorb_merge_eq_nomerge')\n",
    "\n",
    "#make it pretty\n",
    "ax[0].set_ylabel('Eccentricity (Eqtide Only)')\n",
    "ax[0].set_xlabel('Eccentricity (Eqtide + Distorb)')\n",
    "ax[0].set_ylim(0,1)\n",
    "ax[0].set_xlim(0,1)\n",
    "\n",
    "ax[1].set_ylabel('Semi Major Axis (AU - Eqtide Only)')\n",
    "ax[1].set_xlabel('Semi Major Axis (AU - Eqtide + Distorb)')\n",
    "ax[1].set_ylim(0,0.175)\n",
    "ax[1].set_xlim(0,0.175)\n",
    "ax[1].legend(loc=0);"
   ]
  },
  {
   "cell_type": "code",
   "execution_count": 10,
   "metadata": {},
   "outputs": [
    {
     "data": {
      "text/html": [
       "&lt;QTable length=175&gt;\n",
       "<table id=\"table140349913119432\" class=\"table-striped table-bordered table-condensed\">\n",
       "<thead><tr><th>Eq_age</th><th>Eqorb_age</th><th>Eq_semi</th><th>Eqorb_semi</th><th>Eq_ecc</th><th>Eqorb_ecc</th><th>Eq_Merge</th><th>Eqorb_Merge</th><th>Diff_ecc</th><th>Diff_semi</th><th>Sim #</th></tr></thead>\n",
       "<thead><tr><th>float64</th><th>float64</th><th>float64</th><th>float64</th><th>float64</th><th>float64</th><th>float64</th><th>float64</th><th>float64</th><th>float64</th><th>str32</th></tr></thead>\n",
       "<tr><td>2449045000.0</td><td>0.0</td><td>0.005428</td><td>0.029645</td><td>0.0</td><td>0.775775</td><td>1.0</td><td>0.0</td><td>-0.775775</td><td>-0.024217</td><td>00106</td></tr>\n",
       "<tr><td>7559398000.0</td><td>0.0</td><td>0.003538</td><td>0.016188</td><td>0.0</td><td>0.175195</td><td>1.0</td><td>0.0</td><td>-0.175195</td><td>-0.01265</td><td>00156</td></tr>\n",
       "<tr><td>2168916000.0</td><td>0.0</td><td>0.005046</td><td>0.011603</td><td>0.0</td><td>0.015063</td><td>1.0</td><td>0.0</td><td>-0.015063</td><td>-0.006557</td><td>00165</td></tr>\n",
       "<tr><td>80787930.0</td><td>0.0</td><td>0.005619</td><td>0.010548</td><td>0.0</td><td>0.194968</td><td>1.0</td><td>0.0</td><td>-0.194968</td><td>-0.004929</td><td>00362</td></tr>\n",
       "<tr><td>977704600.0</td><td>0.0</td><td>0.006311</td><td>0.013489</td><td>0.0</td><td>0.291206</td><td>1.0</td><td>0.0</td><td>-0.291206</td><td>-0.007178</td><td>00405</td></tr>\n",
       "<tr><td>4246852000.0</td><td>0.0</td><td>0.005202</td><td>0.017392</td><td>0.0</td><td>0.2315</td><td>1.0</td><td>0.0</td><td>-0.2315</td><td>-0.01219</td><td>00450</td></tr>\n",
       "<tr><td>2579142.0</td><td>0.0</td><td>0.016961</td><td>0.028626</td><td>0.678877</td><td>0.80617</td><td>1.0</td><td>0.0</td><td>-0.127293</td><td>-0.011665</td><td>00811</td></tr>\n",
       "<tr><td>647855900.0</td><td>0.0</td><td>0.004123</td><td>0.013484</td><td>0.0</td><td>0.185677</td><td>1.0</td><td>0.0</td><td>-0.185677</td><td>-0.009361</td><td>00922</td></tr>\n",
       "<tr><td>6362251000.0</td><td>0.0</td><td>0.006377</td><td>0.022917</td><td>0.0</td><td>0.096133</td><td>1.0</td><td>0.0</td><td>-0.096133</td><td>-0.01654</td><td>00963</td></tr>\n",
       "<tr><td>5053632000.0</td><td>0.0</td><td>0.005647</td><td>0.030946</td><td>0.0</td><td>0.755532</td><td>1.0</td><td>0.0</td><td>-0.755532</td><td>-0.025299</td><td>01136</td></tr>\n",
       "<tr><td>...</td><td>...</td><td>...</td><td>...</td><td>...</td><td>...</td><td>...</td><td>...</td><td>...</td><td>...</td><td>...</td></tr>\n",
       "<tr><td>297131700.0</td><td>3274.533476</td><td>0.005749</td><td>0.01735</td><td>0.0</td><td>0.662776</td><td>1.0</td><td>0.0</td><td>-0.662776</td><td>-0.011601</td><td>24082</td></tr>\n",
       "<tr><td>6577038000.0</td><td>0.0</td><td>0.00456</td><td>0.021774</td><td>0.0</td><td>0.734884</td><td>1.0</td><td>0.0</td><td>-0.734884</td><td>-0.017214</td><td>24411</td></tr>\n",
       "<tr><td>683467.2</td><td>0.0</td><td>0.01604</td><td>0.021889</td><td>0.733264</td><td>0.803993</td><td>1.0</td><td>0.0</td><td>-0.070729</td><td>-0.005849</td><td>24487</td></tr>\n",
       "<tr><td>2392178000.0</td><td>0.0</td><td>0.004926</td><td>0.016178</td><td>0.0</td><td>0.013345</td><td>1.0</td><td>0.0</td><td>-0.013345</td><td>-0.011252</td><td>24518</td></tr>\n",
       "<tr><td>9017715000.0</td><td>0.0</td><td>0.003775</td><td>0.016692</td><td>0.0</td><td>0.191654</td><td>1.0</td><td>0.0</td><td>-0.191654</td><td>-0.012917</td><td>24619</td></tr>\n",
       "<tr><td>3336256000.0</td><td>0.0</td><td>0.00368</td><td>0.026694</td><td>0.0</td><td>0.832038</td><td>1.0</td><td>0.0</td><td>-0.832038</td><td>-0.023014</td><td>24673</td></tr>\n",
       "<tr><td>1061262000.0</td><td>0.0</td><td>0.005979</td><td>0.016227</td><td>0.0</td><td>0.08367</td><td>1.0</td><td>0.0</td><td>-0.08367</td><td>-0.010248</td><td>24691</td></tr>\n",
       "<tr><td>8705716000.0</td><td>10000000000.0</td><td>0.004471</td><td>0.00909</td><td>0.0</td><td>0.0</td><td>1.0</td><td>0.0</td><td>0.0</td><td>-0.004619</td><td>24724</td></tr>\n",
       "<tr><td>5552101000.0</td><td>0.0</td><td>0.004014</td><td>0.014057</td><td>0.0</td><td>0.213382</td><td>1.0</td><td>0.0</td><td>-0.213382</td><td>-0.010043</td><td>24823</td></tr>\n",
       "<tr><td>1276915000.0</td><td>0.0</td><td>0.00489</td><td>0.026295</td><td>0.0</td><td>0.721952</td><td>1.0</td><td>0.0</td><td>-0.721952</td><td>-0.021405</td><td>24944</td></tr>\n",
       "</table>"
      ],
      "text/plain": [
       "<QTable length=175>\n",
       "   Eq_age      Eqorb_age   Eq_semi  Eqorb_semi ...  Diff_ecc Diff_semi Sim #\n",
       "  float64       float64    float64   float64   ...  float64   float64  str32\n",
       "------------ ------------- -------- ---------- ... --------- --------- -----\n",
       "2449045000.0           0.0 0.005428   0.029645 ... -0.775775 -0.024217 00106\n",
       "7559398000.0           0.0 0.003538   0.016188 ... -0.175195  -0.01265 00156\n",
       "2168916000.0           0.0 0.005046   0.011603 ... -0.015063 -0.006557 00165\n",
       "  80787930.0           0.0 0.005619   0.010548 ... -0.194968 -0.004929 00362\n",
       " 977704600.0           0.0 0.006311   0.013489 ... -0.291206 -0.007178 00405\n",
       "4246852000.0           0.0 0.005202   0.017392 ...   -0.2315  -0.01219 00450\n",
       "   2579142.0           0.0 0.016961   0.028626 ... -0.127293 -0.011665 00811\n",
       " 647855900.0           0.0 0.004123   0.013484 ... -0.185677 -0.009361 00922\n",
       "6362251000.0           0.0 0.006377   0.022917 ... -0.096133  -0.01654 00963\n",
       "5053632000.0           0.0 0.005647   0.030946 ... -0.755532 -0.025299 01136\n",
       "         ...           ...      ...        ... ...       ...       ...   ...\n",
       " 297131700.0   3274.533476 0.005749    0.01735 ... -0.662776 -0.011601 24082\n",
       "6577038000.0           0.0  0.00456   0.021774 ... -0.734884 -0.017214 24411\n",
       "    683467.2           0.0  0.01604   0.021889 ... -0.070729 -0.005849 24487\n",
       "2392178000.0           0.0 0.004926   0.016178 ... -0.013345 -0.011252 24518\n",
       "9017715000.0           0.0 0.003775   0.016692 ... -0.191654 -0.012917 24619\n",
       "3336256000.0           0.0  0.00368   0.026694 ... -0.832038 -0.023014 24673\n",
       "1061262000.0           0.0 0.005979   0.016227 ...  -0.08367 -0.010248 24691\n",
       "8705716000.0 10000000000.0 0.004471    0.00909 ...       0.0 -0.004619 24724\n",
       "5552101000.0           0.0 0.004014   0.014057 ... -0.213382 -0.010043 24823\n",
       "1276915000.0           0.0  0.00489   0.026295 ... -0.721952 -0.021405 24944"
      ]
     },
     "execution_count": 10,
     "metadata": {},
     "output_type": "execute_result"
    }
   ],
   "source": [
    "final[eq_merge_eqorb_nomerge]"
   ]
  },
  {
   "cell_type": "code",
   "execution_count": 11,
   "metadata": {},
   "outputs": [
    {
     "data": {
      "text/html": [
       "&lt;QTable length=824&gt;\n",
       "<table id=\"table140349913119824\" class=\"table-striped table-bordered table-condensed\">\n",
       "<thead><tr><th>Eq_age</th><th>Eqorb_age</th><th>Eq_semi</th><th>Eqorb_semi</th><th>Eq_ecc</th><th>Eqorb_ecc</th><th>Eq_Merge</th><th>Eqorb_Merge</th><th>Diff_ecc</th><th>Diff_semi</th><th>Sim #</th></tr></thead>\n",
       "<thead><tr><th>float64</th><th>float64</th><th>float64</th><th>float64</th><th>float64</th><th>float64</th><th>float64</th><th>float64</th><th>float64</th><th>float64</th><th>str32</th></tr></thead>\n",
       "<tr><td>10000000000.0</td><td>20133260.0</td><td>0.024989</td><td>0.005285</td><td>0.0</td><td>0.050205</td><td>0.0</td><td>1.0</td><td>-0.050205</td><td>0.019704</td><td>00006</td></tr>\n",
       "<tr><td>10000000000.0</td><td>257546400.0</td><td>0.051069</td><td>0.005011</td><td>0.0</td><td>0.001947</td><td>0.0</td><td>1.0</td><td>-0.001947</td><td>0.046058</td><td>00010</td></tr>\n",
       "<tr><td>10000000000.0</td><td>9391295000.0</td><td>0.027441</td><td>0.005946</td><td>0.049029</td><td>3.802785e-09</td><td>0.0</td><td>1.0</td><td>0.0490289961972</td><td>0.021495</td><td>00019</td></tr>\n",
       "<tr><td>10000000000.0</td><td>2424703000.0</td><td>0.01911</td><td>0.00432</td><td>0.024863</td><td>0.097943</td><td>0.0</td><td>1.0</td><td>-0.07308</td><td>0.01479</td><td>00021</td></tr>\n",
       "<tr><td>10000000000.0</td><td>5978379000.0</td><td>0.021737</td><td>0.004588</td><td>0.0</td><td>0.0</td><td>0.0</td><td>1.0</td><td>0.0</td><td>0.017149</td><td>00119</td></tr>\n",
       "<tr><td>10000000000.0</td><td>2945845000.0</td><td>0.033826</td><td>0.005805</td><td>0.0</td><td>0.0</td><td>0.0</td><td>1.0</td><td>0.0</td><td>0.028021</td><td>00130</td></tr>\n",
       "<tr><td>10000000000.0</td><td>1981733000.0</td><td>0.037845</td><td>0.004155</td><td>0.0</td><td>0.001304</td><td>0.0</td><td>1.0</td><td>-0.001304</td><td>0.03369</td><td>00181</td></tr>\n",
       "<tr><td>10000000000.0</td><td>5007305.0</td><td>0.018462</td><td>0.006052</td><td>0.0</td><td>0.04238</td><td>0.0</td><td>1.0</td><td>-0.04238</td><td>0.01241</td><td>00208</td></tr>\n",
       "<tr><td>10000000000.0</td><td>1035259.0</td><td>0.017543</td><td>0.003732</td><td>0.0</td><td>0.005913</td><td>0.0</td><td>1.0</td><td>-0.005913</td><td>0.013811</td><td>00212</td></tr>\n",
       "<tr><td>10000000000.0</td><td>7985647000.0</td><td>0.012748</td><td>0.004019</td><td>0.0</td><td>0.0</td><td>0.0</td><td>1.0</td><td>0.0</td><td>0.008729</td><td>00221</td></tr>\n",
       "<tr><td>...</td><td>...</td><td>...</td><td>...</td><td>...</td><td>...</td><td>...</td><td>...</td><td>...</td><td>...</td><td>...</td></tr>\n",
       "<tr><td>10000000000.0</td><td>8297140000.0</td><td>0.012748</td><td>0.003948</td><td>0.0</td><td>0.0</td><td>0.0</td><td>1.0</td><td>0.0</td><td>0.0088</td><td>24623</td></tr>\n",
       "<tr><td>10000000000.0</td><td>646832700.0</td><td>0.037635</td><td>0.005966</td><td>0.0</td><td>0.025312</td><td>0.0</td><td>1.0</td><td>-0.025312</td><td>0.031669</td><td>24678</td></tr>\n",
       "<tr><td>10000000000.0</td><td>2644953000.0</td><td>0.027168</td><td>0.00346</td><td>0.0</td><td>0.0</td><td>0.0</td><td>1.0</td><td>0.0</td><td>0.023708</td><td>24702</td></tr>\n",
       "<tr><td>10000000000.0</td><td>6578015000.0</td><td>0.021558</td><td>0.005545</td><td>5.358141e-05</td><td>1.308759e-07</td><td>0.0</td><td>1.0</td><td>5.34505341e-05</td><td>0.016013</td><td>24768</td></tr>\n",
       "<tr><td>10000000000.0</td><td>634976900.0</td><td>0.031487</td><td>0.006052</td><td>0.0</td><td>0.035509</td><td>0.0</td><td>1.0</td><td>-0.035509</td><td>0.025435</td><td>24784</td></tr>\n",
       "<tr><td>10000000000.0</td><td>770600400.0</td><td>0.059465</td><td>0.005855</td><td>6.028633e-08</td><td>0.015055</td><td>0.0</td><td>1.0</td><td>-0.0150549397137</td><td>0.05361</td><td>24794</td></tr>\n",
       "<tr><td>10000000000.0</td><td>231886100.0</td><td>0.031787</td><td>0.004153</td><td>0.0</td><td>0.001603</td><td>0.0</td><td>1.0</td><td>-0.001603</td><td>0.027634</td><td>24824</td></tr>\n",
       "<tr><td>10000000000.0</td><td>8580606000.0</td><td>0.018866</td><td>0.005762</td><td>6.443484e-08</td><td>0.0</td><td>0.0</td><td>1.0</td><td>6.443484e-08</td><td>0.013104</td><td>24890</td></tr>\n",
       "<tr><td>10000000000.0</td><td>7784164000.0</td><td>0.039336</td><td>0.005279</td><td>0.0</td><td>0.0</td><td>0.0</td><td>1.0</td><td>0.0</td><td>0.034057</td><td>24895</td></tr>\n",
       "<tr><td>10000000000.0</td><td>5730120000.0</td><td>0.015801</td><td>0.005951</td><td>0.0</td><td>0.0</td><td>0.0</td><td>1.0</td><td>0.0</td><td>0.00985</td><td>24966</td></tr>\n",
       "</table>"
      ],
      "text/plain": [
       "<QTable length=824>\n",
       "    Eq_age     Eqorb_age   Eq_semi  ...     Diff_ecc     Diff_semi Sim #\n",
       "   float64      float64    float64  ...     float64       float64  str32\n",
       "------------- ------------ -------- ... ---------------- --------- -----\n",
       "10000000000.0   20133260.0 0.024989 ...        -0.050205  0.019704 00006\n",
       "10000000000.0  257546400.0 0.051069 ...        -0.001947  0.046058 00010\n",
       "10000000000.0 9391295000.0 0.027441 ...  0.0490289961972  0.021495 00019\n",
       "10000000000.0 2424703000.0  0.01911 ...         -0.07308   0.01479 00021\n",
       "10000000000.0 5978379000.0 0.021737 ...              0.0  0.017149 00119\n",
       "10000000000.0 2945845000.0 0.033826 ...              0.0  0.028021 00130\n",
       "10000000000.0 1981733000.0 0.037845 ...        -0.001304   0.03369 00181\n",
       "10000000000.0    5007305.0 0.018462 ...         -0.04238   0.01241 00208\n",
       "10000000000.0    1035259.0 0.017543 ...        -0.005913  0.013811 00212\n",
       "10000000000.0 7985647000.0 0.012748 ...              0.0  0.008729 00221\n",
       "          ...          ...      ... ...              ...       ...   ...\n",
       "10000000000.0 8297140000.0 0.012748 ...              0.0    0.0088 24623\n",
       "10000000000.0  646832700.0 0.037635 ...        -0.025312  0.031669 24678\n",
       "10000000000.0 2644953000.0 0.027168 ...              0.0  0.023708 24702\n",
       "10000000000.0 6578015000.0 0.021558 ...   5.34505341e-05  0.016013 24768\n",
       "10000000000.0  634976900.0 0.031487 ...        -0.035509  0.025435 24784\n",
       "10000000000.0  770600400.0 0.059465 ... -0.0150549397137   0.05361 24794\n",
       "10000000000.0  231886100.0 0.031787 ...        -0.001603  0.027634 24824\n",
       "10000000000.0 8580606000.0 0.018866 ...     6.443484e-08  0.013104 24890\n",
       "10000000000.0 7784164000.0 0.039336 ...              0.0  0.034057 24895\n",
       "10000000000.0 5730120000.0 0.015801 ...              0.0   0.00985 24966"
      ]
     },
     "execution_count": 11,
     "metadata": {},
     "output_type": "execute_result"
    }
   ],
   "source": [
    "final[eqorb_merge_eq_nomerge]"
   ]
  },
  {
   "cell_type": "code",
   "execution_count": 14,
   "metadata": {},
   "outputs": [
    {
     "data": {
      "text/html": [
       "&lt;QTable length=1485&gt;\n",
       "<table id=\"table140349874235320\" class=\"table-striped table-bordered table-condensed\">\n",
       "<thead><tr><th>Sim #</th><th>age</th><th>semi</th><th>ecc</th><th>eqorb_stats</th><th>Merged</th></tr></thead>\n",
       "<thead><tr><th>str32</th><th>float64</th><th>float64</th><th>float64</th><th>float64</th><th>float64</th></tr></thead>\n",
       "<tr><td>00001</td><td>3046729000.0</td><td>0.006595</td><td>0.0</td><td>2448582000.0</td><td>1.0</td></tr>\n",
       "<tr><td>00023</td><td>518216400.0</td><td>0.005114</td><td>0.0</td><td>195917100.0</td><td>1.0</td></tr>\n",
       "<tr><td>00031</td><td>1119083000.0</td><td>0.004042</td><td>0.0</td><td>598040000.0</td><td>1.0</td></tr>\n",
       "<tr><td>00053</td><td>0.0</td><td>0.012211</td><td>0.608623</td><td>0.0</td><td>1.0</td></tr>\n",
       "<tr><td>00106</td><td>2449045000.0</td><td>0.005428</td><td>0.0</td><td>0.0</td><td>1.0</td></tr>\n",
       "<tr><td>00124</td><td>30575360.0</td><td>0.006524</td><td>0.0</td><td>26657200.0</td><td>1.0</td></tr>\n",
       "<tr><td>00136</td><td>323784800.0</td><td>0.005385</td><td>0.0</td><td>128919700.0</td><td>1.0</td></tr>\n",
       "<tr><td>00143</td><td>9878405000.0</td><td>0.005545</td><td>0.0</td><td>923394.4</td><td>1.0</td></tr>\n",
       "<tr><td>00151</td><td>2213393000.0</td><td>0.003576</td><td>0.0</td><td>838403300.0</td><td>1.0</td></tr>\n",
       "<tr><td>00152</td><td>3797698000.0</td><td>0.005585</td><td>0.0</td><td>3592312000.0</td><td>1.0</td></tr>\n",
       "<tr><td>...</td><td>...</td><td>...</td><td>...</td><td>...</td><td>...</td></tr>\n",
       "<tr><td>24762</td><td>2147966000.0</td><td>0.005897</td><td>0.0</td><td>823599500.0</td><td>1.0</td></tr>\n",
       "<tr><td>24763</td><td>595549000.0</td><td>0.003601</td><td>0.0</td><td>459727600.0</td><td>1.0</td></tr>\n",
       "<tr><td>24795</td><td>0.0</td><td>0.018717</td><td>0.825498</td><td>0.0</td><td>1.0</td></tr>\n",
       "<tr><td>24823</td><td>5552101000.0</td><td>0.004014</td><td>0.0</td><td>0.0</td><td>1.0</td></tr>\n",
       "<tr><td>24836</td><td>40257340.0</td><td>0.006373</td><td>0.0</td><td>38258660.0</td><td>1.0</td></tr>\n",
       "<tr><td>24840</td><td>8775505000.0</td><td>0.00437</td><td>0.0</td><td>6684679000.0</td><td>1.0</td></tr>\n",
       "<tr><td>24852</td><td>114932800.0</td><td>0.006384</td><td>1.962317e-07</td><td>59603650.0</td><td>1.0</td></tr>\n",
       "<tr><td>24944</td><td>1276915000.0</td><td>0.00489</td><td>0.0</td><td>0.0</td><td>1.0</td></tr>\n",
       "<tr><td>24978</td><td>4550748000.0</td><td>0.00631</td><td>0.0</td><td>5651095000.0</td><td>1.0</td></tr>\n",
       "<tr><td>24993</td><td>192948600.0</td><td>0.003958</td><td>0.0</td><td>120839000.0</td><td>1.0</td></tr>\n",
       "</table>"
      ],
      "text/plain": [
       "<QTable length=1485>\n",
       "Sim #     age        semi       ecc      eqorb_stats   Merged\n",
       "str32   float64    float64    float64      float64    float64\n",
       "----- ------------ -------- ------------ ------------ -------\n",
       "00001 3046729000.0 0.006595          0.0 2448582000.0     1.0\n",
       "00023  518216400.0 0.005114          0.0  195917100.0     1.0\n",
       "00031 1119083000.0 0.004042          0.0  598040000.0     1.0\n",
       "00053          0.0 0.012211     0.608623          0.0     1.0\n",
       "00106 2449045000.0 0.005428          0.0          0.0     1.0\n",
       "00124   30575360.0 0.006524          0.0   26657200.0     1.0\n",
       "00136  323784800.0 0.005385          0.0  128919700.0     1.0\n",
       "00143 9878405000.0 0.005545          0.0     923394.4     1.0\n",
       "00151 2213393000.0 0.003576          0.0  838403300.0     1.0\n",
       "00152 3797698000.0 0.005585          0.0 3592312000.0     1.0\n",
       "  ...          ...      ...          ...          ...     ...\n",
       "24762 2147966000.0 0.005897          0.0  823599500.0     1.0\n",
       "24763  595549000.0 0.003601          0.0  459727600.0     1.0\n",
       "24795          0.0 0.018717     0.825498          0.0     1.0\n",
       "24823 5552101000.0 0.004014          0.0          0.0     1.0\n",
       "24836   40257340.0 0.006373          0.0   38258660.0     1.0\n",
       "24840 8775505000.0  0.00437          0.0 6684679000.0     1.0\n",
       "24852  114932800.0 0.006384 1.962317e-07   59603650.0     1.0\n",
       "24944 1276915000.0  0.00489          0.0          0.0     1.0\n",
       "24978 4550748000.0  0.00631          0.0 5651095000.0     1.0\n",
       "24993  192948600.0 0.003958          0.0  120839000.0     1.0"
      ]
     },
     "execution_count": 14,
     "metadata": {},
     "output_type": "execute_result"
    }
   ],
   "source": [
    "eq_merge = np.where(eq_final['Merged'] == 1)\n",
    "eq_final[eq_merge]"
   ]
  },
  {
   "cell_type": "code",
   "execution_count": 12,
   "metadata": {},
   "outputs": [
    {
     "name": "stderr",
     "output_type": "stream",
     "text": [
      "/home/dm1681/anaconda3/lib/python3.6/site-packages/ipykernel_launcher.py:1: FutureWarning: np.average currently does not preserve subclasses, but will do so in the future to match the behavior of most other numpy functions such as np.mean. In particular, this means calls which returned a scalar may return a 0-d subclass object instead.\n",
      "  \"\"\"Entry point for launching an IPython kernel.\n",
      "/home/dm1681/anaconda3/lib/python3.6/site-packages/ipykernel_launcher.py:2: FutureWarning: np.average currently does not preserve subclasses, but will do so in the future to match the behavior of most other numpy functions such as np.mean. In particular, this means calls which returned a scalar may return a 0-d subclass object instead.\n",
      "  \n"
     ]
    },
    {
     "data": {
      "text/plain": [
       "'\\nchange plots using vplot, and look at rory 2015\\noutline of paper!!!!!;\\nreproduce owen and email with new stuff--> latex\\n'"
      ]
     },
     "execution_count": 12,
     "metadata": {},
     "output_type": "execute_result"
    }
   ],
   "source": [
    "avg_diff_ecc = np.average(final['Diff_ecc'])\n",
    "avg_diff_semi = np.average(final['Diff_semi'])\n",
    "'''\n",
    "change plots using vplot, and look at rory 2015\n",
    "outline of paper!!!!!;\n",
    "reproduce owen and email with new stuff--> latex\n",
    "'''"
   ]
  },
  {
   "cell_type": "code",
   "execution_count": null,
   "metadata": {
    "collapsed": true
   },
   "outputs": [],
   "source": [
    "'''\n",
    "Luger et al. 2015, habitable evaporated cores\n",
    "\n",
    "create input files with atmesc and stellar\n",
    "neptume mass; mess around with vplanet\n",
    "'''"
   ]
  }
 ],
 "metadata": {
  "anaconda-cloud": {},
  "kernelspec": {
   "display_name": "Python 3",
   "language": "python",
   "name": "python3"
  },
  "language_info": {
   "codemirror_mode": {
    "name": "ipython",
    "version": 3
   },
   "file_extension": ".py",
   "mimetype": "text/x-python",
   "name": "python",
   "nbconvert_exporter": "python",
   "pygments_lexer": "ipython3",
   "version": "3.6.1"
  }
 },
 "nbformat": 4,
 "nbformat_minor": 1
}
