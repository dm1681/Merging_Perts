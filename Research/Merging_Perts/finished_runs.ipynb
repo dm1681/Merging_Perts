{
 "cells": [
  {
   "cell_type": "code",
   "execution_count": 1,
   "metadata": {
    "collapsed": true
   },
   "outputs": [],
   "source": [
    "#imports\n",
    "\n",
    "import numpy as np\n",
    "import shelve\n",
    "from astropy.table import QTable\n",
    "import matplotlib.pyplot as plt\n",
    "from astropy import units as u\n",
    "from astropy import constants as const\n",
    "import os\n",
    "import math\n",
    "import shutil\n",
    "from IPython.core.debugger import Tracer\n",
    "import subprocess\n",
    "import re\n",
    "%matplotlib inline\n",
    "\n",
    "\n",
    "#initial conditions\n",
    "stable_ICs = shelve.open('stable_ICs')\n",
    "ecc_b = stable_ICs['ecc_b']\n",
    "ecc_c = stable_ICs['ecc_c']\n",
    "semi_b = stable_ICs['semi_b']\n",
    "semi_c = stable_ICs['semi_c']\n",
    "dInc_b = stable_ICs['dInc_b']\n",
    "dInc_c = stable_ICs['dInc_c']\n",
    "dLongA_b = stable_ICs['dLongA_b']\n",
    "dLongA_c = stable_ICs['dLongA_c']\n",
    "dArgP_b = stable_ICs['dArgP_b']\n",
    "dArgP_c = stable_ICs['dArgP_c']\n",
    "mean_an_b = stable_ICs['mean_an_b']\n",
    "mean_an_c = stable_ICs['mean_an_c']\n",
    "good_hill = stable_ICs['good_hill']\n",
    "bad_hill = stable_ICs['bad_hill']\n",
    "dPrecA_b = stable_ICs['dPrecA_b']\n",
    "dMass_star = stable_ICs['dMass_star']\n",
    "dRadius_star = stable_ICs['dRadius_star']\n",
    "dMass_b = stable_ICs['dMass_b']\n",
    "dMass_c = stable_ICs['dMass_c']\n",
    "dRadius_b = stable_ICs['dRadius_b']\n",
    "dRadius_c = stable_ICs['dRadius_c']\n",
    "dTidalQ_b = stable_ICs['dTidalQ_b']\n",
    "dTidalQ_c = stable_ICs['dTidalQ_c']\n",
    "dTidalQ_star = stable_ICs['dTidalQ_star']\n",
    "dStopTime = stable_ICs['dStopTime']\n",
    "stable_ICs.close()"
   ]
  },
  {
   "cell_type": "code",
   "execution_count": 2,
   "metadata": {
    "collapsed": false
   },
   "outputs": [],
   "source": [
    "t = 25000 # number of sims\n",
    "\n",
    "\n",
    "\n",
    "\n",
    "data_merged_runs = np.array([])\n",
    "data_age = np.array([])\n",
    "data_semi = np.array([])\n",
    "data_ecc = np.array([])\n",
    "data_m_star = dMass_star\n",
    "data_m_b = dMass_b\n",
    "data_per = np.array([])\n",
    "\n",
    "\n",
    "folders = np.array([]) # corresponding folders\n",
    "\n",
    "\n",
    "\n",
    "n = 0\n",
    "while n <= t-1:     # builds the final vars from output files\n",
    "    name_idx = '%05i'%n\n",
    "    folder_name = name_idx\n",
    "    wd = './runs/'+folder_name\n",
    "    fwd = open(wd+'/system.b.forward','r')\n",
    "    fwd_content = fwd.read()\n",
    "    fwd_content = fwd_content.split('\\n')\n",
    "    last_line = fwd_content[-2]\n",
    "    last_line = last_line.split(' ')\n",
    "    max_age = last_line[0]\n",
    "    max_age = float(max_age)\n",
    "    str_max_age = str(max_age)\n",
    "    str_max_age = str_max_age[0]\n",
    "    sdigit_max_age = int(str_max_age)\n",
    "    \n",
    "    if max_age<=3e09: #throws away so able to generate age b/w 2 and 8 (excludes 2 and 2)\n",
    "        data_merged_runs = np.append(data_merged_runs,int(folder_name))\n",
    "    else:\n",
    "        if max_age < 8e09: #generates age to max age\n",
    "            age_rand = np.random.randint(2,sdigit_max_age)\n",
    "            data_age = np.append(data_age,age_rand)\n",
    "        \n",
    "        elif max_age >= 8e09: #generates age 2 to 8 gyrs\n",
    "            age_rand = np.random.randint(2,9)\n",
    "            data_age = np.append(data_age,age_rand)\n",
    "\n",
    "            \n",
    "            \n",
    "        line = fwd_content[age_rand]\n",
    "        age = int(line[0])\n",
    "        data = line.split(\" \")\n",
    "        ecc = float(data[2])\n",
    "        semi = float(data[1])\n",
    "        data_ecc = np.append(data_ecc,ecc)\n",
    "        data_semi = np.append(data_semi,semi)\n",
    "        #Tracer()()\n",
    "\n",
    "    \n",
    "    n += 1\n",
    "data_m_star = np.delete(data_m_star,data_merged_runs)\n",
    "data_m_b = np.delete(data_m_b,data_merged_runs)\n",
    "data_m_b = abs(data_m_b)\n",
    "\n",
    "data_m_star = data_m_star * u.earthMass\n",
    "data_m_b = data_m_b * u.earthMass\n",
    "\n",
    "\n",
    "a = data_semi * u.AU\n",
    "per = np.sqrt(((4 * np.pi**2)/(const.G*(data_m_b + data_m_star)))*a**3)\n",
    "per = per.decompose()\n",
    "per = per.to(u.day)\n",
    "per = per.value\n",
    "data_per = per\n",
    "# now to combine it all\n",
    "\n",
    "\n",
    "\n"
   ]
  },
  {
   "cell_type": "code",
   "execution_count": 3,
   "metadata": {
    "collapsed": false
   },
   "outputs": [
    {
     "data": {
      "text/plain": [
       "(23248, 4)"
      ]
     },
     "execution_count": 3,
     "metadata": {},
     "output_type": "execute_result"
    }
   ],
   "source": [
    "data_semi = np.transpose(data_semi)\n",
    "data_ecc = np.transpose(data_ecc)\n",
    "data_age = np.transpose(data_age)\n",
    "data_per = np.transpose(data_per)\n",
    "data = np.vstack((data_age,data_semi,data_ecc,data_per))\n",
    "data = np.transpose(data)\n",
    "data.shape"
   ]
  },
  {
   "cell_type": "code",
   "execution_count": 26,
   "metadata": {
    "collapsed": false,
    "scrolled": true
   },
   "outputs": [
    {
     "data": {
      "text/plain": [
       "<matplotlib.text.Text at 0x7fe3be070400>"
      ]
     },
     "execution_count": 26,
     "metadata": {},
     "output_type": "execute_result"
    },
    {
     "data": {
      "image/png": "[encoded data removed]",
      "text/plain": [
       "<matplotlib.figure.Figure at 0x7fe3bee4b278>"
      ]
     },
     "metadata": {},
     "output_type": "display_data"
    }
   ],
   "source": [
    "n = 20 #number of bins\n",
    "binwidth = (max(data_per)-min(data_per))/n\n",
    "\n",
    "#generate x axis'\n",
    "x = np.arange(0,max(data_per),binwidth)\n",
    "avg_ecc = np.array([])\n",
    "#generate y axis, avg ecc per bin;\n",
    "\n",
    "for l in x:\n",
    "    \n",
    "    lb = l\n",
    "    ub = lb+binwidth\n",
    "    ecc_bin = np.array([])\n",
    "    \n",
    "    for idx,per in enumerate(data_per):\n",
    "        if per >= lb and per <= ub:\n",
    "            ecc_bin = np.append(ecc_bin,data_ecc[idx])\n",
    "            \n",
    "    avg_ecc_bin = np.mean(ecc_bin)\n",
    "    avg_ecc = np.append(avg_ecc,avg_ecc_bin)\n",
    "\n",
    "    \n",
    "x.shape,avg_ecc.shape,avg_ecc\n",
    "\n",
    "fig,ax = plt.subplots(1,1)\n",
    "ax.bar(x,avg_ecc,width=binwidth)\n",
    "ax.set_xlabel('Period (days)')\n",
    "ax.set_ylabel('Average Final Eccentricity')\n",
    "        \n",
    "    "
   ]
  },
  {
   "cell_type": "code",
   "execution_count": 5,
   "metadata": {
    "collapsed": false
   },
   "outputs": [
    {
     "name": "stdout",
     "output_type": "stream",
     "text": [
      "17552 13205.0643758\n"
     ]
    }
   ],
   "source": [
    "# to find the run with the highest period:\n",
    "print (np.argmax(data_per),data_per[np.argmax(data_per)])"
   ]
  },
  {
   "cell_type": "code",
   "execution_count": 6,
   "metadata": {
    "collapsed": false
   },
   "outputs": [],
   "source": [
    "#reads in data for completed/uncompleted hyak runs\n",
    "\n",
    "ss = shelve.open('ss')\n",
    "\n",
    "uncomp = ss['uncomp']\n",
    "comp = ss['comp']\n",
    "comp_runtime = ss['comp_runtime']\n",
    "\n",
    "co_b_semi_list = ss['co_b_semi']\n",
    "un_b_semi_list = ss['un_b_semi']\n",
    "\n",
    "co_b_ecc_list = ss['co_b_ecc']\n",
    "un_b_ecc_list = ss['un_b_ecc'] \n",
    "\n",
    "co_b_inc_list = ss['co_b_inc'] \n",
    "un_b_inc_list = ss['un_b_inc']\n",
    "\n",
    "co_c_inc_list = ss['co_c_inc']\n",
    "un_c_inc_list = ss['un_c_inc']\n",
    "\n",
    "co_b_longa_list = ss['co_b_longa']\n",
    "un_b_longa_list = ss['un_b_longa']\n",
    "\n",
    "co_c_longa_list = ss['co_c_longa'] \n",
    "un_c_longa_list = ss['un_c_longa']\n",
    "\n",
    "co_mut_incl = ss['co_mut_inc']\n",
    "un_mut_incl = ss['un_mut_inc']"
   ]
  },
  {
   "cell_type": "code",
   "execution_count": 40,
   "metadata": {
    "collapsed": false
   },
   "outputs": [
    {
     "data": {
      "text/plain": [
       "<matplotlib.text.Text at 0x7fe3bc35fb00>"
      ]
     },
     "execution_count": 40,
     "metadata": {},
     "output_type": "execute_result"
    },
    {
     "data": {
      "image/png": "[encoded data removed]",
      "text/plain": [
       "<matplotlib.figure.Figure at 0x7fe3bc3f0588>"
      ]
     },
     "metadata": {},
     "output_type": "display_data"
    }
   ],
   "source": [
    "comp_runtime = comp_runtime.astype(np.float) #converts from strings to float\n",
    "\n",
    "n = 40 #number of bins\n",
    "binwidth = (max(comp_runtime)-min(comp_runtime))/n\n",
    "\n",
    "x = np.arange(min(comp_runtime),max(comp_runtime),binwidth)\n",
    "freq = np.array([])\n",
    "avg_ecc = np.array([])\n",
    "\n",
    "for l in x:\n",
    "    lb = l\n",
    "    ub = lb + binwidth\n",
    "    freq_bin = 0\n",
    "    ecc_bin = np.array([])\n",
    "    for idx,time in enumerate(comp_runtime):\n",
    "        if time >= lb and time <= ub:\n",
    "            freq_bin += 1\n",
    "            ecc_bin = np.append(ecc_bin,co_b_ecc_list[idx])\n",
    "            \n",
    "    freq = np.append(freq,freq_bin)\n",
    "    avg_ecc_bin = np.mean(ecc_bin)\n",
    "    avg_ecc = np.append(avg_ecc,avg_ecc_bin)\n",
    "    \n",
    "\n",
    "\n",
    "\n",
    "fig,ax = plt.subplots(2,1)\n",
    "fig.set_size_inches(11,8.5)\n",
    "\n",
    "ax[0].bar(x,freq,width=binwidth)\n",
    "ax[0].set_xlabel('Runtime (s)')\n",
    "ax[0].set_ylabel('Freq (#)')\n",
    "\n",
    "ax[1].plot(x,avg_ecc)\n",
    "ax[1].set_xlabel('Runtime (s)')\n",
    "ax[1].set_ylabel('Average Initial Eccentricity')\n"
   ]
  },
  {
   "cell_type": "code",
   "execution_count": 37,
   "metadata": {
    "collapsed": false
   },
   "outputs": [
    {
     "data": {
      "text/plain": [
       "<matplotlib.text.Text at 0x7fe3bcabc630>"
      ]
     },
     "execution_count": 37,
     "metadata": {},
     "output_type": "execute_result"
    },
    {
     "data": {
      "image/png": "[encoded data removed]",
      "text/plain": [
       "<matplotlib.figure.Figure at 0x7fe3bca43390>"
      ]
     },
     "metadata": {},
     "output_type": "display_data"
    }
   ],
   "source": [
    "x[np.argmax(avg_ecc)"
   ]
  },
  {
   "cell_type": "code",
   "execution_count": null,
   "metadata": {
    "collapsed": false
   },
   "outputs": [],
   "source": [
    "# send rory case with large period, inputs\n",
    "# see if longer runs have e > 0.22\n",
    "# histogram of run times with freq (bins of runtime)\n",
    "# ecc vs runtime\n",
    "# np.argmax(data_per)"
   ]
  },
  {
   "cell_type": "code",
   "execution_count": null,
   "metadata": {
    "collapsed": true
   },
   "outputs": [],
   "source": []
  }
 ],
 "metadata": {
  "anaconda-cloud": {},
  "kernelspec": {
   "display_name": "Python [Root]",
   "language": "python",
   "name": "Python [Root]"
  },
  "language_info": {
   "codemirror_mode": {
    "name": "ipython",
    "version": 3
   },
   "file_extension": ".py",
   "mimetype": "text/x-python",
   "name": "python",
   "nbconvert_exporter": "python",
   "pygments_lexer": "ipython3",
   "version": "3.5.2"
  }
 },
 "nbformat": 4,
 "nbformat_minor": 0
}
