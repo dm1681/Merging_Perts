{
 "cells": [
  {
   "cell_type": "code",
   "execution_count": 1,
   "metadata": {
    "collapsed": true
   },
   "outputs": [],
   "source": [
    "#imports\n",
    "\n",
    "import numpy as np\n",
    "import shelve\n",
    "from astropy.table import QTable\n",
    "import matplotlib.pyplot as plt\n",
    "from astropy import units as u\n",
    "from astropy import constants as const\n",
    "import os\n",
    "import math\n",
    "import shutil\n",
    "from IPython.core.debugger import Tracer\n",
    "import subprocess\n",
    "import re\n",
    "%matplotlib inline\n",
    "\n",
    "\n",
    "#initial conditions\n",
    "stable_ICs = shelve.open('stable_ICs')\n",
    "ecc_b = stable_ICs['ecc_b']\n",
    "ecc_c = stable_ICs['ecc_c']\n",
    "semi_b = stable_ICs['semi_b']\n",
    "semi_c = stable_ICs['semi_c']\n",
    "dInc_b = stable_ICs['dInc_b']\n",
    "dInc_c = stable_ICs['dInc_c']\n",
    "dLongA_b = stable_ICs['dLongA_b']\n",
    "dLongA_c = stable_ICs['dLongA_c']\n",
    "dArgP_b = stable_ICs['dArgP_b']\n",
    "dArgP_c = stable_ICs['dArgP_c']\n",
    "mean_an_b = stable_ICs['mean_an_b']\n",
    "mean_an_c = stable_ICs['mean_an_c']\n",
    "good_hill = stable_ICs['good_hill']\n",
    "bad_hill = stable_ICs['bad_hill']\n",
    "dPrecA_b = stable_ICs['dPrecA_b']\n",
    "dMass_star = stable_ICs['dMass_star']\n",
    "dRadius_star = stable_ICs['dRadius_star']\n",
    "dMass_b = stable_ICs['dMass_b']\n",
    "dMass_c = stable_ICs['dMass_c']\n",
    "dRadius_b = stable_ICs['dRadius_b']\n",
    "dRadius_c = stable_ICs['dRadius_c']\n",
    "dTidalQ_b = stable_ICs['dTidalQ_b']\n",
    "dTidalQ_c = stable_ICs['dTidalQ_c']\n",
    "dTidalQ_star = stable_ICs['dTidalQ_star']\n",
    "dStopTime = stable_ICs['dStopTime']\n",
    "stable_ICs.close()"
   ]
  },
  {
   "cell_type": "code",
   "execution_count": 87,
   "metadata": {
    "collapsed": false
   },
   "outputs": [],
   "source": [
    "t = 25000 # number of sims\n",
    "\n",
    "x = np.arange(0,15.5,0.5) # Period\n",
    "y = np.arange(0,10.5,0.5) # Radius\n",
    "z = np.array([]) # Avg. Final Ecc.\n",
    "ymax = 10\n",
    "xmax = 15\n",
    "\n",
    "\n",
    "data_merged_runs = np.array([])\n",
    "data_age = np.array([])\n",
    "data_semi = np.array([])\n",
    "data_ecc = np.array([])\n",
    "data_m_star = dMass_star\n",
    "data_m_b = dMass_b\n",
    "data_per = np.array([])\n",
    "\n",
    "\n",
    "folders = np.array([]) # corresponding folders\n",
    "\n",
    "\n",
    "\n",
    "n = 0\n",
    "while n <= t-1:     # builds the final vars from output files\n",
    "    name_idx = '%05i'%n\n",
    "    folder_name = name_idx\n",
    "    wd = './runs/'+folder_name\n",
    "    fwd = open(wd+'/system.b.forward','r')\n",
    "    fwd_content = fwd.read()\n",
    "    fwd_content = fwd_content.split('\\n')\n",
    "    last_line = fwd_content[-2]\n",
    "    last_line = last_line.split(' ')\n",
    "    max_age = last_line[0]\n",
    "    max_age = float(max_age)\n",
    "    str_max_age = str(max_age)\n",
    "    str_max_age = str_max_age[0]\n",
    "    sdigit_max_age = int(str_max_age)\n",
    "    \n",
    "    if max_age<=3e09: #throws away so able to generate age b/w 2 and 8 (excludes 2 and 2)\n",
    "        data_merged_runs = np.append(data_merged_runs,int(folder_name))\n",
    "    else:\n",
    "        if max_age < 8e09: #generates age to max age\n",
    "            age_rand = np.random.randint(2,sdigit_max_age)\n",
    "            data_age = np.append(data_age,age_rand)\n",
    "        \n",
    "        elif max_age >= 8e09: #generates age 2 to 8 gyrs\n",
    "            age_rand = np.random.randint(2,9)\n",
    "            data_age = np.append(data_age,age_rand)\n",
    "\n",
    "            \n",
    "            \n",
    "        line = fwd_content[age_rand]\n",
    "        age = int(line[0])\n",
    "        data = line.split(\" \")\n",
    "        ecc = float(data[2])\n",
    "        semi = float(data[1])\n",
    "        data_ecc = np.append(data_ecc,ecc)\n",
    "        data_semi = np.append(data_semi,semi)\n",
    "        #Tracer()()\n",
    "\n",
    "    \n",
    "    n += 1\n",
    "data_m_star = np.delete(data_m_star,data_merged_runs)\n",
    "data_m_b = np.delete(data_m_b,data_merged_runs)\n",
    "data_m_b = abs(data_m_b)\n",
    "\n",
    "data_m_star = data_m_star * u.earthMass\n",
    "data_m_b = data_m_b * u.earthMass\n",
    "\n",
    "\n",
    "a = data_semi * u.AU\n",
    "per = np.sqrt(((4 * np.pi**2)/(const.G*(data_m_b + data_m_star)))*a**3)\n",
    "per = per.decompose()\n",
    "per = per.to(u.day)\n",
    "per = per.value\n",
    "data_per = per\n",
    "# now to combine it all\n",
    "\n",
    "\n",
    "\n"
   ]
  },
  {
   "cell_type": "code",
   "execution_count": 111,
   "metadata": {
    "collapsed": false
   },
   "outputs": [
    {
     "data": {
      "text/plain": [
       "(23248, 4)"
      ]
     },
     "execution_count": 111,
     "metadata": {},
     "output_type": "execute_result"
    }
   ],
   "source": [
    "data_semi = np.transpose(data_semi)\n",
    "data_ecc = np.transpose(data_ecc)\n",
    "data_age = np.transpose(data_age)\n",
    "data_per = np.transpose(data_per)\n",
    "data = np.vstack((data_age,data_semi,data_ecc,data_per))\n",
    "data = np.transpose(data)\n",
    "data.shape"
   ]
  },
  {
   "cell_type": "code",
   "execution_count": 125,
   "metadata": {
    "collapsed": false
   },
   "outputs": [
    {
     "data": {
      "text/plain": [
       "<matplotlib.text.Text at 0x7efe745e2748>"
      ]
     },
     "execution_count": 125,
     "metadata": {},
     "output_type": "execute_result"
    },
    {
     "data": {
      "image/png": "[encoded data removed]",
      "text/plain": [
       "<matplotlib.figure.Figure at 0x7efe744fe160>"
      ]
     },
     "metadata": {},
     "output_type": "display_data"
    }
   ],
   "source": [
    "n = 20 #number of bins\n",
    "binwidth = (max(data_per)-min(data_per))/n\n",
    "\n",
    "#generate x axis'\n",
    "x = np.arange(0,max(data_per),binwidth)\n",
    "avg_ecc = np.array([])\n",
    "#generate y axis, avg ecc per bin;\n",
    "\n",
    "for l in x:\n",
    "    \n",
    "    lb = l\n",
    "    ub = lb+binwidth\n",
    "    ecc_bin = np.array([])\n",
    "    \n",
    "    for idx,per in enumerate(data_per):\n",
    "        if per >= lb and per <= ub:\n",
    "            ecc_bin = np.append(ecc_bin,data_ecc[idx])\n",
    "            \n",
    "    avg_ecc_bin = np.mean(ecc_bin)\n",
    "    avg_ecc = np.append(avg_ecc,avg_ecc_bin)\n",
    "\n",
    "    \n",
    "x.shape,avg_ecc.shape,avg_ecc\n",
    "\n",
    "fig,ax = plt.subplots(1,1)\n",
    "ax.bar(x,avg_ecc,width=binwidth)\n",
    "ax.set_xlabel('Period (days)')\n",
    "ax.set_ylabel('Average Eccentricity')\n",
    "        \n",
    "    "
   ]
  },
  {
   "cell_type": "code",
   "execution_count": null,
   "metadata": {
    "collapsed": false
   },
   "outputs": [],
   "source": []
  },
  {
   "cell_type": "code",
   "execution_count": null,
   "metadata": {
    "collapsed": false
   },
   "outputs": [],
   "source": []
  },
  {
   "cell_type": "code",
   "execution_count": null,
   "metadata": {
    "collapsed": false
   },
   "outputs": [],
   "source": []
  },
  {
   "cell_type": "code",
   "execution_count": null,
   "metadata": {
    "collapsed": true
   },
   "outputs": [],
   "source": []
  }
 ],
 "metadata": {
  "anaconda-cloud": {},
  "kernelspec": {
   "display_name": "Python [Root]",
   "language": "python",
   "name": "Python [Root]"
  },
  "language_info": {
   "codemirror_mode": {
    "name": "ipython",
    "version": 3
   },
   "file_extension": ".py",
   "mimetype": "text/x-python",
   "name": "python",
   "nbconvert_exporter": "python",
   "pygments_lexer": "ipython3",
   "version": "3.5.2"
  }
 },
 "nbformat": 4,
 "nbformat_minor": 0
}
