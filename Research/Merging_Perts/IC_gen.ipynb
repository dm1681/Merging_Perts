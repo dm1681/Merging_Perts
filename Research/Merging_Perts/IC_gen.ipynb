{
 "cells": [
  {
   "cell_type": "code",
   "execution_count": 9,
   "metadata": {
    "collapsed": false,
    "scrolled": true
   },
   "outputs": [
    {
     "name": "stdout",
     "output_type": "stream",
     "text": [
      "[ 104.55944464   17.92845623   39.39328803 ...,    5.3740595    33.11208314\n",
      "   28.76614878] [ 8.31427458  4.61903131  6.00496782 ...,  1.57925317  5.66715958\n",
      "  5.40750813] earthRad [  4.66490512e+06   7.37013403e+06   8.23494035e+06 ...,   1.78480644e+02\n",
      "   3.88161773e+06   7.49218017e+06] [ 0.16958723  0.08096575  0.0460677  ...,  0.67281976  0.01821971\n",
      "  0.25377807] (25000,) (25000,) (25000,) (25000,)\n"
     ]
    },
    {
     "data": {
      "image/png": "[encoded data removed]",
      "text/plain": [
       "<matplotlib.figure.Figure at 0x7f6444555898>"
      ]
     },
     "metadata": {},
     "output_type": "display_data"
    }
   ],
   "source": [
    "from astropy.table import QTable\n",
    "import numpy as np\n",
    "import matplotlib.pyplot as plt\n",
    "from astropy import units as u\n",
    "from astropy import constants as const\n",
    "\n",
    "%matplotlib inline\n",
    "\n",
    "# change the data for the kepler data, and graphs below\n",
    "data = QTable.read('probecc_comma.dat',format='ascii.no_header')\n",
    "\n",
    "\n",
    "data.rename_column('col1','ecc')\n",
    "data.rename_column('col2','% in bin')\n",
    "data.rename_column('col3','cum %')\n",
    "x = np.arange(0,1,0.05)\n",
    "y = data['cum %']\n",
    "ecc_inbin = data['% in bin']\n",
    "cum=data['cum %']\n",
    "binwidth = 0.05\n",
    "fig,ax=plt.subplots(1,1)\n",
    "fig.set_size_inches(11,8.5)                  \n",
    "\n",
    "bar = ax.bar(data['ecc'],ecc_inbin,width=0.05,color='r')\n",
    "ax.set_xlabel('Eccentricity')\n",
    "ax.set_ylabel('P(Eccentricity)')\n",
    "\n",
    "n = 1\n",
    "ecc_list = np.array([])\n",
    "while n <= 25000:\n",
    "    r = (np.random.sample(1)) #some y value (percentage)\n",
    "    #Tracer()()\n",
    "    if r <= 0.149171270718232:\n",
    "        bin_lower=0.0\n",
    "        bin_upper=0.05\n",
    "    else:\n",
    "        r_mask = np.where(y<=r)\n",
    "        x_below = x[r_mask]\n",
    "        x_below = np.append(x_below,x_below[-1]+0.05)\n",
    "        bin_upper = x_below[-1]+0.05\n",
    "        bin_lower = x_below[-2]+0.05\n",
    "    rand = np.random.uniform(0,0.05,1)\n",
    "    ecc = bin_lower + rand \n",
    "    ecc_list=np.append(ecc_list,ecc)\n",
    "    n += 1\n",
    "    continue\n",
    "ecc_hist = ax.hist(ecc_list,bins=x,weights=np.zeros_like(ecc_list)+1./ecc_list.size,histtype='step',color='blue')\n",
    "\n",
    "# now to generate ICs and their files. \n",
    "# clears vars and generates new randoms\n",
    "mass_list = np.array([]) #if radius < 2 R_earth, then mass = ((R/R_earth)**(3.68))*M_earth; if larger, density = 1g/cm**3\n",
    "ecc = ecc_list\n",
    "stellar_mass = np.random.uniform(0.7,1.4,25000) # [0.7,1.4] M_sun\n",
    "stellar_radius = np.random.uniform(0.7,1.4,25000) #[0.7,1.4] R_sun\n",
    "dRadius = np.random.uniform(0.5,10,25000) * u.earthRad # [0.5,10] R_earth;  \n",
    "Qp = np.array([]) # [30,300] # [10**6,10**7]\n",
    "Qstar = np.random.uniform(10**6,10**7,25000) # [10**6,10**7]\n",
    "Period = np.array([])\n",
    "semi = np.random.uniform(0.01,0.15,25000) # [0.01,0.15] AU\n",
    "Ages = np.random.uniform(2*10**9,8*10**9,25000) # [2,8] Gyrs\n",
    "R_crit = 2 * u.earthRad\n",
    "\n",
    "\n",
    "# mass calculations\n",
    "def calc_mass_l2(radius):\n",
    "    r = radius\n",
    "    mass = ((r/const.R_earth)**(3.68))*const.M_earth\n",
    "    return mass\n",
    "\n",
    "def calc_mass_g2(radius):\n",
    "    r = radius\n",
    "    r = r.to(u.cm)\n",
    "    volume = (4*np.pi*r**3)/3\n",
    "    density = (1*u.g)/(1*u.cm)**3\n",
    "    mass = volume * density\n",
    "    return mass\n",
    "\n",
    "# determining mass and Qp based on radius\n",
    "for r in dRadius:\n",
    "    if r < 2*u.earthRad:\n",
    "        mass = calc_mass_l2(r)\n",
    "        mass = mass.to(u.earthMass)\n",
    "        Qplanet = np.random.uniform(30,301)\n",
    "    else:\n",
    "        mass = calc_mass_g2(r)\n",
    "        mass = mass.to(u.earthMass)\n",
    "        Qplanet = np.random.uniform(10**6,(10**7)+1)\n",
    "    mass_list = np.append(mass_list,mass.value)\n",
    "    Qp = np.append(Qp,Qplanet)\n",
    "\n",
    "        \n",
    "\n",
    "\n",
    "print (mass_list,dRadius,Qp,ecc_list,mass_list.shape,dRadius.shape,Qp.shape,ecc_list.shape)\n"
   ]
  },
  {
   "cell_type": "code",
   "execution_count": 17,
   "metadata": {
    "collapsed": false
   },
   "outputs": [
    {
     "name": "stdout",
     "output_type": "stream",
     "text": [
      "3817 21183 25000\n"
     ]
    },
    {
     "data": {
      "image/png": "[encoded data removed]",
      "text/plain": [
       "<matplotlib.figure.Figure at 0x7f644109f7b8>"
      ]
     },
     "metadata": {},
     "output_type": "display_data"
    }
   ],
   "source": [
    "# now to graph above params in histograms\n",
    "fig,ax = plt.subplots(2,2)\n",
    "fig.set_size_inches(11,8.5)\n",
    "ran = max(mass_list)-min(mass_list)\n",
    "ax[0,0].hist(mass_list,bins=18,weights=np.zeros_like(mass_list)+1./mass_list.size) # 18 bins --> binwidth ~10 earthMass\n",
    "ax[0,1].hist(dRadius,weights=np.zeros_like(dRadius.value)+1./dRadius.size) # Uniform\n",
    "q_lower = np.where(Qp<=301)\n",
    "q_upper = np.where(Qp>301) \n",
    "ax[1,0].hist(Qp[q_lower],weights=np.zeros_like(Qp[q_lower])+1./Qp[q_lower].size) \n",
    "ax[1,1].hist(Qp[q_upper],weights=np.zeros_like(Qp[q_upper])+1./Qp[q_upper].size,color='r')\n",
    "\n",
    "ax[0,0].set_xlabel('Mass (EarthMass)')\n",
    "ax[0,1].set_xlabel('Radius (EarthRad)')\n",
    "ax[1,0].set_xlabel('Qr')\n",
    "ax[1,1].set_xlabel('Qg')\n",
    "\n",
    "print(Qp[q_lower].size,Qp[q_upper].size,Qp[q_lower].size + Qp[q_upper].size)"
   ]
  },
  {
   "cell_type": "code",
   "execution_count": 18,
   "metadata": {
    "collapsed": false
   },
   "outputs": [],
   "source": [
    "# Parameters still need to do, by file\n",
    "# b.in\n",
    "name_b = 'b'\n",
    "modules_b = 'eqtide'\n",
    "sTideModel = 'p2'\n",
    "dMass = mass_list\n",
    "dRadius = dRadius\n",
    "bForceEqSpin = 1\n",
    "#dRotPeriod = -1 #???????????????\n",
    "dObliquity = 0 #?????????????????\n",
    "dRadGyra = 0.5 #??????????????\n",
    "dTidalQ = Qp # no related to radius or mass --> low mass, but Qgas? \n",
    "dK2 = 0.3 #???????????\n",
    "#dMaxLockDiff = 0.1 #??????????????\n",
    "saTidePerts = 'star'\n",
    "saOutputOrder_b = 'Time Semim Ecce'\n",
    "\n",
    "#star.in\n",
    "name_star = 'star'\n",
    "modules_star = 'eqtide'\n",
    "dMass_star = np.random.uniform(0.7,1.4,25000)\n",
    "dRadius_star = dMass_star\n",
    "dObliquity_star = 0  #???????????\n",
    "bForceEqSpin_star = 1\n",
    "dRotPeriod_star = -83 #????????????\n",
    "dRadGyra_star = 0.5 #??????????????????/\n",
    "dTidalQ_star = 10**6\n",
    "dK2_star = 0.3 #?????????????\n",
    "saTidePerts_star = 'b'\n",
    "saOutputOrder_s = 'Time'\n",
    "\n",
    "#vpl.in\n",
    "Sys_name = 'system'\n",
    "iVerbose = 5\n",
    "bOverwrite = 1\n",
    "saBodyFiles = 'b.in star.in'\n",
    "UnitMass = 'Earth' # the units of b_mass?\n",
    "UnitLength = 'Earth' # units of b_radius? \n",
    "UnitTime = 'YEARS'\n",
    "UnitAngle = 'd'\n",
    "UnitTemp = 'K'\n",
    "bDoLog = 1\n",
    "iDigits = 6\n",
    "dMinValue = 10**(-10)\n",
    "bDoForward = 1\n",
    "bVarDt = 1\n",
    "dEta = 0.01\n",
    "dStopTime = Ages\n",
    "dOutputTime = 10**9"
   ]
  },
  {
   "cell_type": "code",
   "execution_count": 20,
   "metadata": {
    "collapsed": false
   },
   "outputs": [],
   "source": [
    "# need to make 25000 folders, 1 to 25000; DONT RUN THIS CELL UNLESS YOU WANNA LOSE ALL YOUR RUNS\n",
    "import os\n",
    "import shutil\n",
    "from IPython.core.debugger import Tracer\n",
    "shutil.rmtree('./runs/') # removes current runs; \n",
    "\n",
    "n = 0\n",
    "while n <= 40: # will make n <= x amount of folders; (25000)\n",
    "    # make strings of values; b.in\n",
    "    name_idx = str(n)\n",
    "    mass_str = str(mass_list[n])\n",
    "    radius_str = str(dRadius[n].value)\n",
    "    eqspin_str = str(bForceEqSpin)\n",
    "    obl_str = str(dObliquity)\n",
    "    radgy_str = str(dRadGyra)\n",
    "    ecc_str = str(ecc[n])\n",
    "    semi_str = str(semi[n])\n",
    "    q_str = str(dTidalQ[n])\n",
    "    dK2_str = str(dK2)\n",
    "    perts_str = str(saTidePerts)\n",
    "    outorder_str = str(saOutputOrder_b)\n",
    "    #star.in\n",
    "    name_star = name_star\n",
    "    modules_star = modules_star\n",
    "    strMass_str = str(dMass_star[n])\n",
    "    strRad_str = str(dRadius_star[n])\n",
    "    strObl_str = str(dObliquity_star)\n",
    "    strEqSpin_str = str(bForceEqSpin_star)\n",
    "    strRadGyr_str = str(dRadGyra_star)\n",
    "    strTidalQ_str = str(dTidalQ_star)\n",
    "    strdK2_str = str(dK2_star)\n",
    "    saTidePerts_star = saTidePerts_star\n",
    "    strsaOutputOrder = saOutputOrder_s\n",
    "    #vpl.in\n",
    "    sys_name = Sys_name\n",
    "    iVerbose_str = str(iVerbose)\n",
    "    bOverwrite_str = str(bOverwrite)\n",
    "    saBodyFiles = saBodyFiles\n",
    "    UnitMass = UnitMass\n",
    "    UnitLength = UnitLength\n",
    "    UnitTime = UnitTime\n",
    "    UnitAngle = UnitAngle\n",
    "    UnitTemp = UnitTemp\n",
    "    bDoLog_str = str(bDoLog)\n",
    "    iDigits_str = str(iDigits)\n",
    "    dMinValue_str = str(dMinValue)\n",
    "    bDoForward_str = str(bDoForward)\n",
    "    bVarDt_str = str(bVarDt)\n",
    "    dEta_str = str(dEta)\n",
    "    dStopTime_str = str(int(dStopTime[n]))\n",
    "    dOutputTime_str = str(dOutputTime)\n",
    "    \n",
    "    os.makedirs('./runs/'+name_idx)\n",
    "    b = open('./runs/'+name_idx+'/b.in','w')\n",
    "    b_content = 'sName\\t'+ name_b + '\\nsaModules\\t'+modules_b+'\\nsTideModel\\t'+sTideModel+'\\ndMass\\t'+mass_str+'\\ndRadius\\t'+radius_str+'\\ndObliquity\\t'+obl_str+'\\ndRadGyra\\t'+radgy_str+'\\n\\ndEcc\\t'+ecc_str+'\\ndSemi\\t'+semi_str+'\\n\\nbForceEqSpin\\t'+eqspin_str+'\\ndTidalQ\\t'+q_str+'\\ndK2\\t'+dK2_str+'\\nsaTidePerts\\t'+perts_str+'\\n\\nsaOutputOrder\\t'+outorder_str+'\\n'\n",
    "    b.write(b_content)\n",
    "    \n",
    "    star = open('./runs/'+name_idx+'/star.in','w')\n",
    "    star_content = 'sName\\t'+name_star+'\\nsaModules\\t'+modules_star+'\\n\\ndMass\\t'+strMass_str+'\\ndRadius\\t'+strRad_str+'\\ndObliquity\\t'+strObl_str+'\\nbForceEqSpin\\t'+strEqSpin_str+'\\ndRadGyra\\t'+strRadGyr_str+'\\n\\ndTidalQ\\t'+strTidalQ_str+'\\ndK2\\t'+strdK2_str+'\\n\\nsaTidePerts\\t'+saTidePerts_star+'\\n\\nsaOutputOrder\\t'+strsaOutputOrder+'\\n'\n",
    "    star.write(star_content)\n",
    "    \n",
    "    vpl = open('./runs/'+name_idx+'/vpl.in','w')\n",
    "    vpl_content = 'sSystemName\\t'+sys_name+'\\niVerbose\\t'+iVerbose_str+'\\nbOverwrite\\t'+bOverwrite_str+'\\n\\nsaBodyFiles\\t'+saBodyFiles+'\\n\\nsUnitMass\\t'+UnitMass+'\\nsUnitLength\\t'+UnitLength+'\\nsUnitTime\\t'+UnitTime+'\\nsUnitAngle\\t'+UnitAngle+'\\nsUnitTemp\\t'+UnitTemp+'\\n\\nbDoLog\\t'+bDoLog_str+'\\niDigits\\t'+iDigits_str+'\\ndMinValue\\t'+dMinValue_str+'\\n\\nbDoForward\\t'+bDoForward_str+'\\nbVarDt\\t'+bVarDt_str+'\\ndEta\\t'+dEta_str+'\\ndStopTime\\t'+dStopTime_str+'\\ndOutputTime\\t'+ dOutputTime_str+'\\n'\n",
    "    vpl.write(vpl_content)\n",
    "    \n",
    "    n += 1\n",
    "    \n",
    "    \n",
    "    \n",
    "\n",
    "\n",
    "cd = os.getcwd()\n",
    "\n",
    "\n"
   ]
  },
  {
   "cell_type": "code",
   "execution_count": null,
   "metadata": {
    "collapsed": true
   },
   "outputs": [],
   "source": []
  },
  {
   "cell_type": "code",
   "execution_count": 5,
   "metadata": {
    "collapsed": false,
    "scrolled": false
   },
   "outputs": [
    {
     "name": "stdout",
     "output_type": "stream",
     "text": [
      "[ 0.99077747] =r \n",
      " (array([ 0,  1,  2,  3,  4,  5,  6,  7,  8,  9, 10, 11, 12, 13, 14, 15, 16,\n",
      "       17, 18, 19]),) =r_mask(indices) \n",
      " [ 0.    0.05  0.1   0.15  0.2   0.25  0.3   0.35  0.4   0.45  0.5   0.55\n",
      "  0.6   0.65  0.7   0.75  0.8   0.85  0.9   0.95  1.  ] bins(last is right edge) \n",
      " 20 index of right edge \n",
      "    % in bin   \n",
      "--------------\n",
      "0.149171270718\n",
      "0.256906077348\n",
      "0.417127071823\n",
      "0.508287292818\n",
      "0.591160220994\n",
      "0.696132596685\n",
      "0.754143646409\n",
      "0.790055248619\n",
      "0.839779005525\n",
      "0.870165745856\n",
      "0.908839779006\n",
      "0.919889502762\n",
      "0.936464088398\n",
      "0.953038674033\n",
      "0.969613259669\n",
      "0.977900552486\n",
      "0.991712707182\n",
      "0.991712707182\n",
      "           1.0\n",
      "           1.0\n"
     ]
    },
    {
     "data": {
      "image/png": "[encoded data removed]",
      "text/plain": [
       "<matplotlib.figure.Figure at 0x7f2549a16ac8>"
      ]
     },
     "metadata": {},
     "output_type": "display_data"
    }
   ],
   "source": [
    "\n",
    "# Sanity check, pick some range of y and spit out x and compare to original \n",
    "'''\n",
    "to create cumdist, need a line where x is 0 to 1 and y is 0 to 1. \n",
    "each point is the sum of all the previous points (the third column in the data)\n",
    "'''\n",
    "fig,ax=plt.subplots(1,1)\n",
    "x = np.arange(0,1,0.05)\n",
    "y = data['cum %']\n",
    "#y = np.array(y)\n",
    "ax.plot(x,y,c='blue')\n",
    "ax.set_xlabel('Eccentricity')\n",
    "ax.set_ylabel('% below given X')\n",
    "\n",
    "#sanity check\n",
    "\n",
    "\n",
    "    \n",
    "    \n",
    "r = (np.random.sample(1))\n",
    "if r >= 0.25 and r <= 0.75:\n",
    "    r_mask = np.where(y<=r)\n",
    "else:\n",
    "    r_mask = np.where(y==y) # doesnt apply any masking, x_below = x\n",
    "    \n",
    "x_below = x[r_mask]\n",
    "x_below = np.append(x_below,x_below[-1]+0.05) # to include the bin in which r belongs\n",
    "max_index = np.argmax(x_below) \n",
    "max_range = x_below[-1]\n",
    "\n",
    "\n",
    "# now set r = y and find all values of x that are less than that percent\n",
    "#now add (% in bin) up to b_max, and compare cumsum \n",
    "sanity_check = np.cumsum(ecc_inbin[0:max_index+1])\n",
    "print(r,'=r','\\n',r_mask,'=r_mask(indices)','\\n',x_below,'bins(last is right edge)','\\n',max_index,'index of right edge','\\n',sanity_check)"
   ]
  },
  {
   "cell_type": "code",
   "execution_count": 6,
   "metadata": {
    "collapsed": false
   },
   "outputs": [],
   "source": [
    "# make 25000 ICs w/ mass, radii, Q, ecc., period and histogram of each; 25 bins per parameter\n",
    "# in data, the last column is upper bound for the bin, where bin_upper is the next line's eccentricity\n",
    "    #ex --> first line means 14.9% are below 0.05\n",
    "#DATA MATCHES!!!!!\n",
    "#25000 folders\n",
    "#np.random.uniform() for all except eccentricity.\n",
    "#import subprocess. \n",
    "#size of output files\n",
    "#output time 1gyr\n",
    "#eqtide\n",
    "#ecc + binwidth\n",
    "    #get bin, then plus random number in binwidth. "
   ]
  },
  {
   "cell_type": "code",
   "execution_count": 7,
   "metadata": {
    "collapsed": false
   },
   "outputs": [
    {
     "name": "stdout",
     "output_type": "stream",
     "text": [
      "[ 0.15439567  0.00496926  0.5374605  ...,  0.28878449  0.71243158\n",
      "  0.0378666 ] (0,)\n"
     ]
    },
    {
     "data": {
      "text/plain": [
       "(array([ 0.14252,  0.10368,  0.14772,  0.09668,  0.08112,  0.0934 ,\n",
       "         0.07   ,  0.0416 ,  0.04108,  0.03816,  0.0324 ,  0.02368,\n",
       "         0.01208,  0.01624,  0.0156 ,  0.01532,  0.00948,  0.01084,\n",
       "         0.0004 ,  0.008  ]),\n",
       " array([  3.57237970e-06,   4.74809801e-02,   9.49583879e-02,\n",
       "          1.42435796e-01,   1.89913203e-01,   2.37390611e-01,\n",
       "          2.84868019e-01,   3.32345427e-01,   3.79822834e-01,\n",
       "          4.27300242e-01,   4.74777650e-01,   5.22255058e-01,\n",
       "          5.69732465e-01,   6.17209873e-01,   6.64687281e-01,\n",
       "          7.12164689e-01,   7.59642096e-01,   8.07119504e-01,\n",
       "          8.54596912e-01,   9.02074320e-01,   9.49551727e-01]),\n",
       " <a list of 20 Patch objects>)"
      ]
     },
     "execution_count": 7,
     "metadata": {},
     "output_type": "execute_result"
    },
    {
     "data": {
      "image/png": "[encoded data removed]",
      "text/plain": [
       "<matplotlib.figure.Figure at 0x7f2549936940>"
      ]
     },
     "metadata": {},
     "output_type": "display_data"
    }
   ],
   "source": [
    "# generate eccentricity distribution mirroring above histogram\n",
    "from IPython.core.debugger import Tracer\n",
    "n = 1\n",
    "ecc_list = np.array([])\n",
    "while n <= 25000:\n",
    "    r = (np.random.sample(1)) #some y value (percentage)\n",
    "    #Tracer()()\n",
    "    if r <= 0.149171270718232:\n",
    "        bin_lower=0.0\n",
    "        bin_upper=0.05\n",
    "    else:\n",
    "        r_mask = np.where(y<=r)\n",
    "        x_below = x[r_mask]\n",
    "        x_below = np.append(x_below,x_below[-1]+0.05)\n",
    "        bin_upper = x_below[-1]+0.05\n",
    "        bin_lower = x_below[-2]+0.05\n",
    "    rand = np.random.uniform(0,0.05,1)\n",
    "    ecc = bin_lower + rand \n",
    "    ecc_list=np.append(ecc_list,ecc)\n",
    "    n += 1\n",
    "    continue\n",
    "too_big = np.where(x>1)\n",
    "np.delete(ecc_list,ecc_list[too_big])\n",
    "print (ecc_list,ecc_list[too_big].shape)\n",
    "fig,ax = plt.subplots(1,1)\n",
    "plt.hist(ecc_list,bins=20,weights=np.zeros_like(ecc_list)+1./ecc_list.size)"
   ]
  },
  {
   "cell_type": "code",
   "execution_count": 8,
   "metadata": {
    "collapsed": false
   },
   "outputs": [
    {
     "data": {
      "text/latex": [
       "$14.799814 \\; \\mathrm{M_{\\oplus}}$"
      ],
      "text/plain": [
       "<Quantity 14.799813582748513 earthMass>"
      ]
     },
     "execution_count": 8,
     "metadata": {},
     "output_type": "execute_result"
    }
   ],
   "source": [
    "#tests for correlation between dRadius and Masses: GOOD!\n",
    "\n",
    "\n",
    "t=(4.333 * u.earthRad) #r > 2\n",
    "t.to(u.cm)\n",
    "volume = (4 * np.pi * t**3)/3\n",
    "density = (1*u.g)/(1*u.cm)**3\n",
    "mass = volume * density\n",
    "mass = mass.to(u.earthMass)\n",
    "\n",
    "y = (0.5184273 * u.earthRad) # r < 2\n",
    "#mass = (y/const.R_earth)**(3.68)*const.M_earth\n",
    "#mass=mass.to(u.earthMass)\n",
    "mass"
   ]
  },
  {
   "cell_type": "code",
   "execution_count": null,
   "metadata": {
    "collapsed": false
   },
   "outputs": [],
   "source": []
  },
  {
   "cell_type": "code",
   "execution_count": null,
   "metadata": {
    "collapsed": true
   },
   "outputs": [],
   "source": []
  }
 ],
 "metadata": {
  "anaconda-cloud": {},
  "kernelspec": {
   "display_name": "Python [Root]",
   "language": "python",
   "name": "Python [Root]"
  },
  "language_info": {
   "codemirror_mode": {
    "name": "ipython",
    "version": 3
   },
   "file_extension": ".py",
   "mimetype": "text/x-python",
   "name": "python",
   "nbconvert_exporter": "python",
   "pygments_lexer": "ipython3",
   "version": "3.5.2"
  }
 },
 "nbformat": 4,
 "nbformat_minor": 0
}
