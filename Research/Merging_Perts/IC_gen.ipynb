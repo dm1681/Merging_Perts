{
 "cells": [
  {
   "cell_type": "code",
   "execution_count": 1,
   "metadata": {
    "collapsed": false,
    "scrolled": false
   },
   "outputs": [
    {
     "name": "stdout",
     "output_type": "stream",
     "text": [
      "[ 146.14839536  100.26947355  159.44016143 ...,  162.08374786  135.76695407\n",
      "    2.25767687] [ 9.29611079  8.19897418  9.56979238 ...,  9.62239315  9.07057111\n",
      "  1.24768153] earthRad [  8.64900070e+06   9.58516417e+06   5.25440839e+06 ...,   3.54366675e+06\n",
      "   9.99598846e+06   2.17193231e+02] [ 0.14302681  0.01450371  0.00824051 ...,  0.08402293  0.05016742\n",
      "  0.02942691] (25000,) (25000,) (25000,) (25000,)\n"
     ]
    },
    {
     "data": {
      "image/png": "[encoded data removed]",
      "text/plain": [
       "<matplotlib.figure.Figure at 0x7f4195e90d68>"
      ]
     },
     "metadata": {},
     "output_type": "display_data"
    }
   ],
   "source": [
    "# now able to run entire notebook and produce the relevant parameters and figures.  \n",
    "\n",
    "from astropy.table import QTable\n",
    "import numpy as np\n",
    "import matplotlib.pyplot as plt\n",
    "from astropy import units as u\n",
    "from astropy import constants as const\n",
    "\n",
    "%matplotlib inline\n",
    "\n",
    "# change the data for the kepler data, and graphs below\n",
    "data = QTable.read('probecc_comma.dat',format='ascii.no_header')\n",
    "\n",
    "\n",
    "data.rename_column('col1','ecc')\n",
    "data.rename_column('col2','% in bin')\n",
    "data.rename_column('col3','cum %')\n",
    "x = np.arange(0,1,0.05)\n",
    "y = data['cum %']\n",
    "ecc_inbin = data['% in bin']\n",
    "cum=data['cum %']\n",
    "binwidth = 0.05\n",
    "fig,ax=plt.subplots(1,1)\n",
    "fig.set_size_inches(11,8.5)                  \n",
    "\n",
    "bar = ax.bar(data['ecc'],ecc_inbin,width=0.05,color='r')\n",
    "ax.set_xlabel('Eccentricity')\n",
    "ax.set_ylabel('P(Eccentricity)')\n",
    "\n",
    "t = 25000 # number of sims to run\n",
    "\n",
    "\n",
    "n = 0\n",
    "ecc_list = np.array([])\n",
    "while n <= t-1:\n",
    "    r = (np.random.sample(1)) #some y value (percentage)\n",
    "    if r <= 0.149171270718232:\n",
    "        bin_lower=0.0\n",
    "        bin_upper=0.05\n",
    "    else:\n",
    "        r_mask = np.where(y<=r)\n",
    "        x_below = x[r_mask]\n",
    "        x_below = np.append(x_below,x_below[-1]+0.05)\n",
    "        bin_upper = x_below[-1]+0.05\n",
    "        bin_lower = x_below[-2]+0.05\n",
    "    rand = np.random.uniform(0,0.05,1)\n",
    "    ecc = bin_lower + rand \n",
    "    ecc_list=np.append(ecc_list,ecc)\n",
    "    n += 1\n",
    "    continue\n",
    "ecc_hist = ax.hist(ecc_list,bins=x,weights=np.zeros_like(ecc_list)+1./ecc_list.size,histtype='step',color='blue')\n",
    "\n",
    "# now to generate ICs and their files. \n",
    "# clears vars and generates new randoms\n",
    "mass_list = np.array([]) #if radius < 2 R_earth, then mass = ((R/R_earth)**(3.68))*M_earth; if larger, density = 1g/cm**3\n",
    "ecc = ecc_list\n",
    "stellar_mass = np.random.uniform(0.7,1.4,25000) # [0.7,1.4] M_sun\n",
    "stellar_radius = np.random.uniform(0.7,1.4,25000) #[0.7,1.4] R_sun\n",
    "dRadius = np.random.uniform(0.5,10,25000) * u.earthRad # [0.5,10] R_earth;  \n",
    "Qp = np.array([]) # [30,300] # [10**6,10**7]\n",
    "Qstar = np.random.uniform(10**6,10**7,25000) # [10**6,10**7]\n",
    "Period = np.array([])\n",
    "semi = np.random.uniform(0.01,0.15,25000) # [0.01,0.15] AU\n",
    "Ages = np.random.uniform(2*10**9,8*10**9,25000) # [2,8] Gyrs\n",
    "R_crit = 2 * u.earthRad\n",
    "\n",
    "\n",
    "# mass calculations\n",
    "def calc_mass_l2(radius):\n",
    "    r = radius\n",
    "    mass = ((r/const.R_earth)**(3.68))*const.M_earth\n",
    "    return mass\n",
    "\n",
    "def calc_mass_g2(radius):\n",
    "    r = radius\n",
    "    r = r.to(u.cm)\n",
    "    volume = (4*np.pi*r**3)/3\n",
    "    density = (1*u.g)/(1*u.cm)**3\n",
    "    mass = volume * density\n",
    "    return mass\n",
    "\n",
    "# determining mass and Qp based on radius\n",
    "for r in dRadius:\n",
    "    if r < 2*u.earthRad:\n",
    "        mass = calc_mass_l2(r)\n",
    "        mass = mass.to(u.earthMass)\n",
    "        Qplanet = np.random.uniform(30,301)\n",
    "    else:\n",
    "        mass = calc_mass_g2(r)\n",
    "        mass = mass.to(u.earthMass)\n",
    "        Qplanet = np.random.uniform(10**6,(10**7)+1)\n",
    "    mass_list = np.append(mass_list,mass.value)\n",
    "    Qp = np.append(Qp,Qplanet)\n",
    "\n",
    "        \n",
    "\n",
    "\n",
    "print (mass_list,dRadius,Qp,ecc_list,mass_list.shape,dRadius.shape,Qp.shape,ecc_list.shape)\n"
   ]
  },
  {
   "cell_type": "code",
   "execution_count": 2,
   "metadata": {
    "collapsed": false,
    "scrolled": false
   },
   "outputs": [
    {
     "name": "stdout",
     "output_type": "stream",
     "text": [
      "4052 20948 25000\n"
     ]
    },
    {
     "data": {
      "image/png": "[encoded data removed]",
      "text/plain": [
       "<matplotlib.figure.Figure at 0x7f4190609c50>"
      ]
     },
     "metadata": {},
     "output_type": "display_data"
    }
   ],
   "source": [
    "# now to graph above params in histograms\n",
    "fig,ax = plt.subplots(2,2)\n",
    "fig.set_size_inches(11,8.5)\n",
    "ran = max(mass_list)-min(mass_list)\n",
    "ax[0,0].hist(mass_list,bins=18,weights=np.zeros_like(mass_list)+1./mass_list.size) # 18 bins --> binwidth ~10 earthMass\n",
    "ax[0,1].hist(dRadius,weights=np.zeros_like(dRadius.value)+1./dRadius.size) # Uniform\n",
    "q_lower = np.where(Qp<=301)\n",
    "q_upper = np.where(Qp>301) \n",
    "ax[1,0].hist(Qp[q_lower],weights=np.zeros_like(Qp[q_lower])+1./Qp[q_lower].size) \n",
    "ax[1,1].hist(Qp[q_upper],weights=np.zeros_like(Qp[q_upper])+1./Qp[q_upper].size,color='r')\n",
    "\n",
    "ax[0,0].set_xlabel('Mass (EarthMass)')\n",
    "ax[0,1].set_xlabel('Radius (EarthRad)')\n",
    "ax[1,0].set_xlabel('Qr')\n",
    "ax[1,1].set_xlabel('Qg')\n",
    "\n",
    "print(Qp[q_lower].size,Qp[q_upper].size,Qp[q_lower].size + Qp[q_upper].size)"
   ]
  },
  {
   "cell_type": "code",
   "execution_count": 3,
   "metadata": {
    "collapsed": false
   },
   "outputs": [
    {
     "name": "stdout",
     "output_type": "stream",
     "text": [
      "ICs set.\n"
     ]
    }
   ],
   "source": [
    "# Parameters still need to do, by file\n",
    "# b.in\n",
    "name_b = 'b'\n",
    "modules_b = 'eqtide'\n",
    "sTideModel = 'p2'\n",
    "dMass = (mass_list)*(-1) # sets to earth masses\n",
    "dRadius = (dRadius)*(-1) # sets to earth radii\n",
    "bForceEqSpin = 1\n",
    "#dRotPeriod = -1 \n",
    "dObliquity = 0 \n",
    "dRadGyra = 0.5\n",
    "dTidalQ = Qp \n",
    "dK2 = 0.3\n",
    "#dMaxLockDiff = 0.1 \n",
    "saTidePerts = 'star'\n",
    "saOutputOrder_b = 'Time Semim Ecce'\n",
    "\n",
    "#star.in\n",
    "name_star = 'star'\n",
    "modules_star = 'eqtide'\n",
    "dMass_star = np.random.uniform(0.7,1.4,25000) #solar masses; convert to earth masses:\n",
    "dRadius_star = dMass_star * 0.0048 # * ratio of solar radii to au\n",
    "dObliquity_star = 0  \n",
    "bForceEqSpin_star = 1\n",
    "#dRotPeriod_star = -83 \n",
    "dRadGyra_star = 0.5 \n",
    "dTidalQ_star = 10**6\n",
    "dK2_star = 0.3 \n",
    "saTidePerts_star = 'b'\n",
    "saOutputOrder_s = 'Time'\n",
    "\n",
    "#vpl.in\n",
    "Sys_name = 'system'\n",
    "iVerbose = 5\n",
    "bOverwrite = 1\n",
    "saBodyFiles = 'star.in b.in'  \n",
    "UnitMass = 'solar' \n",
    "UnitLength = 'aU'  \n",
    "UnitTime = 'YEARS'\n",
    "UnitAngle = 'd'\n",
    "UnitTemp = 'K'\n",
    "bDoLog = 1\n",
    "iDigits = 6\n",
    "dMinValue = 10**(-10)\n",
    "bDoForward = 1\n",
    "bVarDt = 1\n",
    "dEta = 0.01\n",
    "dStopTime = Ages\n",
    "dOutputTime = 10**9\n",
    "\n",
    "#any extra conversions for units defined in vpl.in; therefore everything needs to be in M_earth or R_earth.\n",
    "print ('ICs set.')"
   ]
  },
  {
   "cell_type": "code",
   "execution_count": 4,
   "metadata": {
    "collapsed": false
   },
   "outputs": [],
   "source": [
    "# need to make 25000 folders, 1 to 25000; DONT RUN THIS CELL UNLESS YOU WANNA LOSE ALL YOUR RUNS\n",
    "import os\n",
    "import shutil\n",
    "from IPython.core.debugger import Tracer\n",
    "import subprocess\n",
    "shutil.rmtree('./runs/') # removes current runs; \n",
    "\n",
    "t = t # number of runs\n",
    "\n",
    "\n",
    "n = 0\n",
    "while n <= t-1: # will make n <= x amount of folders; (25000);\n",
    "    # make strings of values; b.in\n",
    "    name_idx = '%05i'%n\n",
    "    mass_str = str(mass_list[n])\n",
    "    radius_str = str(dRadius[n].value)\n",
    "    eqspin_str = str(bForceEqSpin)\n",
    "    obl_str = str(dObliquity)\n",
    "    radgy_str = str(dRadGyra)\n",
    "    ecc_str = str(ecc[n])\n",
    "    semi_str = str(semi[n])\n",
    "    q_str = str(dTidalQ[n])\n",
    "    dK2_str = str(dK2)\n",
    "    perts_str = str(saTidePerts)\n",
    "    outorder_str = str(saOutputOrder_b)\n",
    "    #star.in\n",
    "    name_star = name_star\n",
    "    modules_star = modules_star\n",
    "    strMass_str = str(dMass_star[n])\n",
    "    strRad_str = str(dRadius_star[n])\n",
    "    strObl_str = str(dObliquity_star)\n",
    "    strEqSpin_str = str(bForceEqSpin_star)\n",
    "    strRadGyr_str = str(dRadGyra_star)\n",
    "    strTidalQ_str = str(dTidalQ_star)\n",
    "    strdK2_str = str(dK2_star)\n",
    "    saTidePerts_star = saTidePerts_star\n",
    "    strsaOutputOrder = saOutputOrder_s\n",
    "    #vpl.in\n",
    "    sys_name = Sys_name\n",
    "    iVerbose_str = str(iVerbose)\n",
    "    bOverwrite_str = str(bOverwrite)\n",
    "    saBodyFiles = saBodyFiles\n",
    "    UnitMass = UnitMass\n",
    "    UnitLength = UnitLength\n",
    "    UnitTime = UnitTime\n",
    "    UnitAngle = UnitAngle\n",
    "    UnitTemp = UnitTemp\n",
    "    bDoLog_str = str(bDoLog)\n",
    "    iDigits_str = str(iDigits)\n",
    "    dMinValue_str = str(dMinValue)\n",
    "    bDoForward_str = str(bDoForward)\n",
    "    bVarDt_str = str(bVarDt)\n",
    "    dEta_str = str(dEta)\n",
    "    dStopTime_str = str(int(dStopTime[n]))\n",
    "    dOutputTime_str = str(dOutputTime)\n",
    "    \n",
    "    os.makedirs('./runs/'+name_idx)\n",
    "    b = open('./runs/'+name_idx+'/b.in','w')\n",
    "    b_content = 'sName\\t'+ name_b + '\\nsaModules\\t'+modules_b+'\\nsTideModel\\t'+sTideModel+'\\n\\ndMass\\t'+mass_str+'\\ndRadius\\t'+radius_str+'\\ndObliquity\\t'+obl_str+'\\ndRadGyra\\t'+radgy_str+'\\n\\ndEcc\\t'+ecc_str+'\\ndSemi\\t'+semi_str+'\\n\\nbForceEqSpin\\t'+eqspin_str+'\\ndTidalQ\\t'+q_str+'\\ndK2\\t'+dK2_str+'\\nsaTidePerts\\t'+perts_str+'\\n\\nsaOutputOrder\\t'+outorder_str+'\\n'\n",
    "    b.write(b_content)\n",
    "    b.close()\n",
    "    \n",
    "    star = open('./runs/'+name_idx+'/star.in','w')\n",
    "    star_content = 'sName\\t'+name_star+'\\nsaModules\\t'+modules_star+'\\n\\ndMass\\t'+strMass_str+'\\ndRadius\\t'+strRad_str+'\\ndObliquity\\t'+strObl_str+'\\nbForceEqSpin\\t'+strEqSpin_str+'\\ndRadGyra\\t'+strRadGyr_str+'\\n\\ndTidalQ\\t'+strTidalQ_str+'\\ndK2\\t'+strdK2_str+'\\n\\nsaTidePerts\\t'+saTidePerts_star+'\\n\\nsaOutputOrder\\t'+strsaOutputOrder+'\\n'\n",
    "    star.write(star_content)\n",
    "    star.close()\n",
    "    \n",
    "    vpl = open('./runs/'+name_idx+'/vpl.in','w')\n",
    "    vpl_content = 'sSystemName\\t'+sys_name+'\\niVerbose\\t'+iVerbose_str+'\\nbOverwrite\\t'+bOverwrite_str+'\\n\\nsaBodyFiles\\t'+saBodyFiles+'\\n\\nsUnitMass\\t'+UnitMass+'\\nsUnitLength\\t'+UnitLength+'\\nsUnitTime\\t'+UnitTime+'\\nsUnitAngle\\t'+UnitAngle+'\\nsUnitTemp\\t'+UnitTemp+'\\n\\nbDoLog\\t'+bDoLog_str+'\\niDigits\\t'+iDigits_str+'\\ndMinValue\\t'+dMinValue_str+'\\n\\nbDoForward\\t'+bDoForward_str+'\\nbVarDt\\t'+bVarDt_str+'\\ndEta\\t'+dEta_str+'\\ndStopTime\\t'+dStopTime_str+'\\ndOutputTime\\t'+ dOutputTime_str+'\\n'\n",
    "    vpl.write(vpl_content)\n",
    "    vpl.close()\n",
    " \n",
    "    n += 1\n",
    "    \n",
    "\n",
    "s = 0      #runs each simulation\n",
    "while s <= t-1:\n",
    "    name_idx = '%05i'%s\n",
    "    folder_name = name_idx\n",
    "    working_directory = './runs/'+folder_name\n",
    "    p = subprocess.call(['vplanet vpl.in'], shell=True, cwd = working_directory)\n",
    "    s += 1\n",
    "    continue\n",
    "\n",
    "\n",
    "\n",
    "\n"
   ]
  },
  {
   "cell_type": "code",
   "execution_count": 5,
   "metadata": {
    "collapsed": false,
    "scrolled": false
   },
   "outputs": [
    {
     "data": {
      "text/plain": [
       "(array([[  9.29605766e+00,   9.72124002e-02,   0.00000000e+00],\n",
       "        [  8.19892834e+00,   1.28891088e-01,   0.00000000e+00],\n",
       "        [  9.56973793e+00,   1.48386343e+00,   0.00000000e+00],\n",
       "        ..., \n",
       "        [  9.62233950e+00,   3.52361011e-02,   0.00000000e+00],\n",
       "        [  9.07051998e+00,   8.85693750e-01,   0.00000000e+00],\n",
       "        [  1.24767456e+00,   3.16820486e+00,   4.34108700e-08]]), (25000, 3))"
      ]
     },
     "execution_count": 5,
     "metadata": {},
     "output_type": "execute_result"
    }
   ],
   "source": [
    "# extracts output from system.log for each run\n",
    "\n",
    "import re\n",
    "from IPython.core.debugger import Tracer\n",
    "\n",
    "x = np.arange(0,15.5,0.5) # Period\n",
    "y = np.arange(0,10.5,0.5) # Radius\n",
    "z = np.array([]) # Avg. Final Ecc.\n",
    "ymax = 10\n",
    "xmax = 15\n",
    "\n",
    "final_rad = np.array([]) # line 241 in system.log\n",
    "final_per = np.array([]) # line 255 in system.log\n",
    "final_ecc = np.array([]) # line 252 in system.log\n",
    "folders = np.array([]) # corresponding folders\n",
    "# need to read in the data to calc ecc; need final rad, orbperiod, ecc:\n",
    "# define respective regex\n",
    "rad_regex = re.compile(r':.*')\n",
    "per_regex = re.compile(r':.*')\n",
    "ecc_regex = re.compile(r':.*')\n",
    "\n",
    "def cutit(s,n): # removes the ': ' from the matches made below\n",
    "    return (s[n:])\n",
    "\n",
    "\n",
    "n = 0\n",
    "while n <= t-1:                                      # builds the final vars from output files\n",
    "    name_idx = '%05i'%n\n",
    "    folder_name = name_idx\n",
    "    wd = './runs/'+folder_name\n",
    "    log = open(wd+'/system.log','r')\n",
    "    foldercount = open('./runs/foldercount.txt','w') #count to know which run it stops pulling data from\n",
    "    foldcount_content = folder_name+' DONE'\n",
    "    foldercount.write(foldcount_content)\n",
    "    foldercount.close()\n",
    "    for i, line in enumerate(log):\n",
    "        if i == 240: #radius\n",
    "            radius = line\n",
    "            rad = rad_regex.search(radius)\n",
    "            rad = rad.group()\n",
    "            rad = rad[2:]\n",
    "            rad = float(rad)\n",
    "            final_rad = np.append(final_rad,rad)\n",
    "        elif i == 254: #period\n",
    "            period = line\n",
    "            per = per_regex.search(period)\n",
    "            per = per.group()\n",
    "            per = per[2:]\n",
    "            per = float(per)\n",
    "            final_per = np.append(final_per,per)\n",
    "        elif i == 251: #ecc\n",
    "            ecc = line\n",
    "            e = ecc_regex.search(ecc)\n",
    "            e = e.group()\n",
    "            e = e[2:]\n",
    "            e = float(e)\n",
    "            final_ecc = np.append(final_ecc,e)\n",
    "    n += 1\n",
    "\n",
    "# now to calc z (avg final ecc) for each bin. \n",
    "# convert to units:\n",
    "final_rad = final_rad * u.m\n",
    "final_rad = final_rad.to(u.earthRad)\n",
    "final_rad = final_rad.value\n",
    "final_per = final_per * u.s\n",
    "final_per = final_per.to(u.day)\n",
    "final_per = final_per.value\n",
    "\n",
    "final = np.array([final_rad,final_per,final_ecc])\n",
    "final = final.transpose() # each row is entry, 1st column is rad, 2nd column is per, 3rd col is ecc. \n",
    "\n",
    "# final[0:1]= final_rad\n",
    "# final[1:2] = final_per\n",
    "# final[2:3] = final_ecc\n",
    "\n",
    "final, final.shape"
   ]
  },
  {
   "cell_type": "code",
   "execution_count": 6,
   "metadata": {
    "collapsed": false
   },
   "outputs": [
    {
     "name": "stderr",
     "output_type": "stream",
     "text": [
      "/home/dm1681/anaconda3/lib/python3.5/site-packages/numpy/core/_methods.py:59: RuntimeWarning: Mean of empty slice.\n",
      "  warnings.warn(\"Mean of empty slice.\", RuntimeWarning)\n",
      "/home/dm1681/anaconda3/lib/python3.5/site-packages/numpy/core/_methods.py:70: RuntimeWarning: invalid value encountered in double_scalars\n",
      "  ret = ret.dtype.type(ret / rcount)\n"
     ]
    },
    {
     "data": {
      "text/plain": [
       "(21, 31)"
      ]
     },
     "execution_count": 6,
     "metadata": {},
     "output_type": "execute_result"
    }
   ],
   "source": [
    "#calculates the avg final eccentricity for each bin\n",
    "\n",
    "import os\n",
    "import math\n",
    "binwidth = 0.5\n",
    "avgfin_ecc = np.array([0,0,0,0,0,0,0,0,0,0,0,0,0,0,0,0,0,0,0,0,0,0,0,0,0,0,0,0,0,0,0])\n",
    "bin_vals = np.array([0,0,0,0,0])\n",
    "\n",
    "for r in y:\n",
    "    rbin_l = r\n",
    "    rbin_u = rbin_l + binwidth\n",
    "    x_avgfin_ecc = np.array([]) #list of avg ecc for a y bin along entire x axis\n",
    "    for p in x:\n",
    "        pbin_l = p\n",
    "        pbin_u = pbin_l + binwidth\n",
    "        ecclist_bin = np.array([]) #list of ecc per bin, changes with each bin. \n",
    "        for ent in final:\n",
    "            rad = ent[0:1]\n",
    "            per = ent[1:2]\n",
    "            ecc = ent[2:3]\n",
    "            #Tracer()()\n",
    "            if rad>=rbin_l and rad<=rbin_u and per>=pbin_l and per<=pbin_u:\n",
    "                ecclist_bin = np.append(ecclist_bin,ecc) \n",
    "        avgecc_bin = ecclist_bin.mean()\n",
    "        x_avgfin_ecc = np.append(x_avgfin_ecc,avgecc_bin)\n",
    "    #Tracer()()\n",
    "    avgfin_ecc = np.vstack((avgfin_ecc,x_avgfin_ecc))\n",
    "        \n",
    "avgfin_ecc = avgfin_ecc[1:] # removes first line of 0's\n",
    "avgfin_ecc.shape #rows,cols"
   ]
  },
  {
   "cell_type": "code",
   "execution_count": 8,
   "metadata": {
    "collapsed": false
   },
   "outputs": [
    {
     "data": {
      "text/plain": [
       "<a list of 6 text.Text objects>"
      ]
     },
     "execution_count": 8,
     "metadata": {},
     "output_type": "execute_result"
    },
    {
     "data": {
      "image/png": "[encoded data removed]",
      "text/plain": [
       "<matplotlib.figure.Figure at 0x7f4163ac7da0>"
      ]
     },
     "metadata": {},
     "output_type": "display_data"
    }
   ],
   "source": [
    "# makes the contour plot\n",
    "\n",
    "fig,ax = plt.subplots(1,1)\n",
    "fig.set_size_inches(6,8.5)\n",
    "z = avgfin_ecc\n",
    "#z = np.flipud(z)\n",
    "#X,Y = np.meshgrid(x,y)\n",
    "levels = [0.05,0.10,0.20]\n",
    "ct = ax.contour(x,y,z,levels)\n",
    "ax.set_ylabel('Radius(R_earth)')\n",
    "ax.set_xlabel('Period(days)')\n",
    "ax.set_ylim(0.5,10)\n",
    "ax.clabel(ct,inline=True,fontsize=10)"
   ]
  },
  {
   "cell_type": "code",
   "execution_count": null,
   "metadata": {
    "collapsed": true
   },
   "outputs": [],
   "source": []
  }
 ],
 "metadata": {
  "anaconda-cloud": {},
  "kernelspec": {
   "display_name": "Python [Root]",
   "language": "python",
   "name": "Python [Root]"
  },
  "language_info": {
   "codemirror_mode": {
    "name": "ipython",
    "version": 3
   },
   "file_extension": ".py",
   "mimetype": "text/x-python",
   "name": "python",
   "nbconvert_exporter": "python",
   "pygments_lexer": "ipython3",
   "version": "3.5.2"
  }
 },
 "nbformat": 4,
 "nbformat_minor": 0
}
