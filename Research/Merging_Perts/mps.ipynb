{
 "cells": [
  {
   "cell_type": "code",
   "execution_count": 1,
   "metadata": {
    "collapsed": true
   },
   "outputs": [],
   "source": [
    "# imports\n",
    "from astropy.table import QTable\n",
    "import numpy as np\n",
    "import matplotlib.pyplot as plt\n",
    "from astropy import units as u\n",
    "from astropy import constants as const\n",
    "import os\n",
    "import math\n",
    "import shutil\n",
    "from IPython.core.debugger import Tracer\n",
    "import subprocess\n",
    "import re\n",
    "%matplotlib inline"
   ]
  },
  {
   "cell_type": "code",
   "execution_count": 2,
   "metadata": {
    "collapsed": false
   },
   "outputs": [
    {
     "data": {
      "image/png": "[encoded data removed]",
      "text/plain": [
       "<matplotlib.figure.Figure at 0x7f6da79716a0>"
      ]
     },
     "metadata": {},
     "output_type": "display_data"
    }
   ],
   "source": [
    "# now able to run entire notebook and produce the relevant parameters and figures.  \n",
    "\n",
    "data = QTable.read('probecc_comma.dat',format='ascii.no_header')\n",
    "\n",
    "\n",
    "data.rename_column('col1','ecc')\n",
    "data.rename_column('col2','% in bin')\n",
    "data.rename_column('col3','cum %')\n",
    "x = np.arange(0,1,0.05)\n",
    "y = data['cum %']\n",
    "ecc_inbin = data['% in bin']\n",
    "cum=data['cum %']\n",
    "binwidth = 0.05\n",
    "fig,ax=plt.subplots(1,1)\n",
    "fig.set_size_inches(11,8.5)                  \n",
    "\n",
    "bar = ax.bar(data['ecc'],ecc_inbin,width=0.05,color='r')\n",
    "ax.set_xlabel('Eccentricity')\n",
    "ax.set_ylabel('P(Eccentricity)')\n",
    "\n",
    "t = 25000 # number of sims to run\n",
    "\n",
    "# generates list of ecc for b.in\n",
    "n = 0\n",
    "ecc_list_b = np.array([])\n",
    "while n <= t-1:\n",
    "    r = (np.random.sample(1)) #some y value (percentage)\n",
    "    if r <= 0.149171270718232:\n",
    "        bin_lower=0.0\n",
    "        bin_upper=0.05\n",
    "    else:\n",
    "        r_mask = np.where(y<=r)\n",
    "        x_below = x[r_mask]\n",
    "        x_below = np.append(x_below,x_below[-1]+0.05)\n",
    "        bin_upper = x_below[-1]+0.05\n",
    "        bin_lower = x_below[-2]+0.05\n",
    "    rand = np.random.uniform(0,0.05,1)\n",
    "    ecc = bin_lower + rand \n",
    "    ecc_list_b=np.append(ecc_list_b,ecc)\n",
    "    n += 1\n",
    "    continue\n",
    "ecc_hist_b = ax.hist(ecc_list_b,bins=x,weights=np.zeros_like(ecc_list_b)+1./ecc_list_b.size,histtype='step',color='blue')\n",
    "\n",
    "# generates list of ecc for c.in\n",
    "n = 0\n",
    "ecc_list_c = np.array([])\n",
    "while n <= t-1:\n",
    "    r = (np.random.sample(1)) #some y value (percentage)\n",
    "    if r <= 0.149171270718232:\n",
    "        bin_lower=0.0\n",
    "        bin_upper=0.05\n",
    "    else:\n",
    "        r_mask = np.where(y<=r)\n",
    "        x_below = x[r_mask]\n",
    "        x_below = np.append(x_below,x_below[-1]+0.05)\n",
    "        bin_upper = x_below[-1]+0.05\n",
    "        bin_lower = x_below[-2]+0.05\n",
    "    rand = np.random.uniform(0,0.05,1)\n",
    "    ecc = bin_lower + rand \n",
    "    ecc_list_c=np.append(ecc_list_c,ecc)\n",
    "    n += 1\n",
    "    continue\n",
    "ecc_hist_c = ax.hist(ecc_list_c,bins=x,weights=np.zeros_like(ecc_list_c)+1./ecc_list_c.size,histtype='step',color='green')\n",
    "\n",
    "\n",
    "\n",
    "\n",
    "R_crit = 2 * u.earthRad\n",
    "\n",
    "# now to generate ICs and their files. \n",
    "# clears vars and generates new randoms\n",
    "# b.in\n",
    "mass_list_b = np.array([]) #if radius < 2 R_earth, then mass = ((R/R_earth)**(3.68))*M_earth; if larger, density = 1g/cm**3\n",
    "ecc_b = ecc_list_b\n",
    "rad_list_b = np.random.uniform(0.5,10,25000) * u.earthRad # [0.5,10] R_earth;  \n",
    "Qp_b = np.array([]) # [30,300] # [10**6,10**7]\n",
    "semi_b = np.random.uniform(0.01,0.15,25000) # [0.01,0.15] AU\n",
    "\n",
    "# c.in\n",
    "mass_list_c = np.array([])\n",
    "ecc_c = ecc_list_c\n",
    "rad_list_c = np.random.uniform(0.5,10,25000) * u.earthRad\n",
    "Qp_c = np.array([])\n",
    "semi_c = np.array([])\n",
    "\n",
    "for a_b in semi_b: # makes sure semi_c is always > semi_b\n",
    "    a_c = np.random.uniform(a_b,0.5,1)\n",
    "    semi_c = np.append(semi_c,a_c)\n",
    "\n",
    "\n",
    "# star.in\n",
    "stellar_mass = np.random.uniform(0.7,1.4,25000) # [0.7,1.4] M_sun\n",
    "stellar_radius = np.random.uniform(0.7,1.4,25000) #[0.7,1.4] R_sun\n",
    "Qstar = np.random.uniform(10**6,10**7,25000) # [10**6,10**7]\n",
    "\n",
    "# vpl.in\n",
    "Ages = np.random.uniform(2*10**9,8*10**9,25000) # [2,8] Gyrs\n",
    "\n",
    "# mass calculations\n",
    "def calc_mass_l2(radius):\n",
    "    r = radius\n",
    "    mass = ((r/const.R_earth)**(3.68))*const.M_earth\n",
    "    return mass\n",
    "\n",
    "def calc_mass_g2(radius):\n",
    "    r = radius\n",
    "    r = r.to(u.cm)\n",
    "    volume = (4*np.pi*r**3)/3\n",
    "    density = (1*u.g)/(1*u.cm)**3\n",
    "    mass = volume * density\n",
    "    return mass\n",
    "\n",
    "# determining mass and Qp based on radius; b.in\n",
    "for r in rad_list_b:\n",
    "    if r < 2*u.earthRad:\n",
    "        mass = calc_mass_l2(r)\n",
    "        mass = mass.to(u.earthMass)\n",
    "        Qplanet = np.random.uniform(30,301)\n",
    "    else:\n",
    "        mass = calc_mass_g2(r)\n",
    "        mass = mass.to(u.earthMass)\n",
    "        Qplanet = np.random.uniform(10**6,(10**7)+1)\n",
    "    mass_list_b = np.append(mass_list_b,mass.value)\n",
    "    Qp_b = np.append(Qp_b,Qplanet)\n",
    "\n",
    "\n",
    "# determining mass and Qp based on radius; c.in    \n",
    "for r in rad_list_c:\n",
    "    if r < 2*u.earthRad:\n",
    "        mass = calc_mass_l2(r)\n",
    "        mass = mass.to(u.earthMass)\n",
    "        Qplanet = np.random.uniform(30,301)\n",
    "    else:\n",
    "        mass = calc_mass_g2(r)\n",
    "        mass = mass.to(u.earthMass)\n",
    "        Qplanet = np.random.uniform(10**6,(10**7)+1)\n",
    "    mass_list_c = np.append(mass_list_c,mass.value)\n",
    "    Qp_c = np.append(Qp_c,Qplanet)\n",
    "\n",
    "        \n",
    "\n",
    "rad_list_b = rad_list_b.value\n",
    "rad_list_c = rad_list_c.value\n",
    "\n"
   ]
  },
  {
   "cell_type": "code",
   "execution_count": 3,
   "metadata": {
    "collapsed": false
   },
   "outputs": [
    {
     "name": "stdout",
     "output_type": "stream",
     "text": [
      "3996 21004 25000\n"
     ]
    },
    {
     "data": {
      "image/png": "[encoded data removed]",
      "text/plain": [
       "<matplotlib.figure.Figure at 0x7f6da43482e8>"
      ]
     },
     "metadata": {},
     "output_type": "display_data"
    }
   ],
   "source": [
    "#distributions for b.in of mass,Qp, Radius\n",
    "fig,ax = plt.subplots(2,2)\n",
    "fig.set_size_inches(11,8.5)\n",
    "ran = max(mass_list_b)-min(mass_list_b)\n",
    "ax[0,0].hist(mass_list_b,bins=18,weights=np.zeros_like(mass_list_b)+1./mass_list_b.size) # 18 bins --> binwidth ~10 earthMass\n",
    "ax[0,1].hist(rad_list_b,weights=np.zeros_like(rad_list_b)+1./rad_list_b.size) # Uniform\n",
    "q_lower = np.where(Qp_b<=301)\n",
    "q_upper = np.where(Qp_b>301) \n",
    "ax[1,0].hist(Qp_b[q_lower],weights=np.zeros_like(Qp_b[q_lower])+1./Qp_b[q_lower].size) \n",
    "ax[1,1].hist(Qp_b[q_upper],weights=np.zeros_like(Qp_b[q_upper])+1./Qp_b[q_upper].size,color='r')\n",
    "\n",
    "ax[0,0].set_xlabel('Mass (EarthMass)')\n",
    "ax[0,1].set_xlabel('Radius (EarthRad)')\n",
    "ax[1,0].set_xlabel('Qr')\n",
    "ax[1,1].set_xlabel('Qg')\n",
    "\n",
    "print(Qp_b[q_lower].size,Qp_b[q_upper].size,Qp_b[q_lower].size + Qp_b[q_upper].size)"
   ]
  },
  {
   "cell_type": "code",
   "execution_count": 4,
   "metadata": {
    "collapsed": false
   },
   "outputs": [
    {
     "name": "stdout",
     "output_type": "stream",
     "text": [
      "3937 21063 25000\n"
     ]
    },
    {
     "data": {
      "image/png": "[encoded data removed]",
      "text/plain": [
       "<matplotlib.figure.Figure at 0x7f6d7ce39080>"
      ]
     },
     "metadata": {},
     "output_type": "display_data"
    }
   ],
   "source": [
    "# distributions for c.in of mass, Qp, Radius. \n",
    "fig,ax = plt.subplots(2,2)\n",
    "fig.set_size_inches(11,8.5)\n",
    "ran = max(mass_list_c)-min(mass_list_c)\n",
    "ax[0,0].hist(mass_list_c,bins=18,weights=np.zeros_like(mass_list_c)+1./mass_list_c.size) # 18 bins --> binwidth ~10 earthMass\n",
    "ax[0,1].hist(rad_list_c,weights=np.zeros_like(rad_list_c)+1./rad_list_c.size) # Uniform\n",
    "q_lower = np.where(Qp_c<=301)\n",
    "q_upper = np.where(Qp_c>301) \n",
    "ax[1,0].hist(Qp_c[q_lower],weights=np.zeros_like(Qp_c[q_lower])+1./Qp_c[q_lower].size) \n",
    "ax[1,1].hist(Qp_c[q_upper],weights=np.zeros_like(Qp_c[q_upper])+1./Qp_c[q_upper].size,color='r')\n",
    "\n",
    "ax[0,0].set_xlabel('Mass (EarthMass)')\n",
    "ax[0,1].set_xlabel('Radius (EarthRad)')\n",
    "ax[1,0].set_xlabel('Qr')\n",
    "ax[1,1].set_xlabel('Qg')\n",
    "\n",
    "print(Qp_c[q_lower].size,Qp_c[q_upper].size,Qp_c[q_lower].size + Qp_c[q_upper].size)"
   ]
  },
  {
   "cell_type": "code",
   "execution_count": 5,
   "metadata": {
    "collapsed": false
   },
   "outputs": [
    {
     "name": "stdout",
     "output_type": "stream",
     "text": [
      "ICs set.\n"
     ]
    }
   ],
   "source": [
    "# Parameters still need to do, by file\n",
    "# b.in\n",
    "name_b = 'b'\n",
    "modules_b = 'eqtide'\n",
    "sTideModel_b = 'p2'\n",
    "dMass_b = (mass_list_b)*(-1) # sets to earth masses;\n",
    "dRadius_b = (rad_list_b)*(-1) # sets to earth radii\n",
    "bForceEqSpin_b = 1\n",
    "#dRotPeriod = -1 \n",
    "dObliquity_b = 0 \n",
    "dRadGyra_b = 0.5\n",
    "dTidalQ_b = Qp_b \n",
    "dK2_b = 0.3\n",
    "#dMaxLockDiff = 0.1 \n",
    "saTidePerts_b = 'star'\n",
    "saOutputOrder_b = 'Time Semim Ecce'\n",
    "\n",
    "# c.in\n",
    "name_c = 'c'\n",
    "modules_c = 'eqtide'\n",
    "sTideModel_c = 'p2'\n",
    "dMass_c = (mass_list_c)*(-1) # sets to earth masses; this isnt working!!\n",
    "dRadius_c = (rad_list_c)*(-1) # sets to earth radii\n",
    "bForceEqSpin_c = 1\n",
    "#dRotPeriod = -1 \n",
    "dObliquity_c = 0 \n",
    "dRadGyra_c = 0.5\n",
    "dTidalQ_c = Qp_c \n",
    "dK2_c = 0.3\n",
    "#dMaxLockDiff = 0.1 \n",
    "saTidePerts_c = 'star'\n",
    "saOutputOrder_c = 'Time Semim Ecce'\n",
    "\n",
    "#star.in\n",
    "name_star = 'star'\n",
    "modules_star = 'eqtide'\n",
    "dMass_star = np.random.uniform(0.7,1.4,25000) #solar masses;\n",
    "dRadius_star = dMass_star * 0.0048 # * ratio of solar radii to au\n",
    "dObliquity_star = 0  \n",
    "bForceEqSpin_star = 1\n",
    "dRotPeriod_star = -30 \n",
    "dRadGyra_star = 0.5 \n",
    "dTidalQ_star = 10**6\n",
    "dK2_star = 0.3 \n",
    "saTidePerts_star = 'b c'\n",
    "saOutputOrder_s = 'Time'\n",
    "\n",
    "#vpl.in\n",
    "Sys_name = 'system'\n",
    "iVerbose = 5\n",
    "bOverwrite = 1\n",
    "saBodyFiles = 'star.in b.in c.in'  \n",
    "UnitMass = 'solar' \n",
    "UnitLength = 'aU'  \n",
    "UnitTime = 'YEARS'\n",
    "UnitAngle = 'd'\n",
    "UnitTemp = 'K'\n",
    "bDoLog = 1\n",
    "iDigits = 6\n",
    "dMinValue = 10**(-10)\n",
    "bDoForward = 1\n",
    "bVarDt = 1\n",
    "dEta = 0.01\n",
    "dStopTime = Ages\n",
    "dOutputTime = 10**9\n",
    "\n",
    "#hillstab.in; need to add mean anomoly\n",
    "cent_mass = dMass_star\n",
    "inner_mass = dMass_b * (-1) * u.earthMass \n",
    "inner_mass = inner_mass.to(u.jupiterMass)\n",
    "inner_mass = inner_mass.value\n",
    "outer_mass = dMass_c * (-1) * u.earthMass\n",
    "outer_mass = outer_mass.to(u.jupiterMass)\n",
    "outer_mass = outer_mass.value\n",
    "#any extra conversions for units defined in vpl.in; therefore everything needs to be in M_earth or R_earth.\n",
    "print ('ICs set.')\n"
   ]
  },
  {
   "cell_type": "code",
   "execution_count": 6,
   "metadata": {
    "collapsed": false
   },
   "outputs": [
    {
     "name": "stdout",
     "output_type": "stream",
     "text": [
      "ICs generated\n"
     ]
    }
   ],
   "source": [
    "# now to filter which IC's follow Hill Inequality:\n",
    "\n",
    "shutil.rmtree('./runs/') # removes current runs; \n",
    "\n",
    "t = t # number of runs\n",
    "\n",
    "\n",
    "n = 0\n",
    "while n <= t-1: # will make n <= x amount of folders; (25000);\n",
    "    # make strings of values; b.in\n",
    "    name_idx = '%05i'%n\n",
    "    mass_str_b = str(dMass_b[n]) \n",
    "    radius_str_b = str(dRadius_b[n])\n",
    "    eqspin_str_b = str(bForceEqSpin_b)\n",
    "    obl_str_b = str(dObliquity_b)\n",
    "    radgy_str_b = str(dRadGyra_b)\n",
    "    ecc_str_b = str(ecc_b[n])\n",
    "    semi_str_b = str(semi_b[n])\n",
    "    q_str_b = str(dTidalQ_b[n])\n",
    "    dK2_str_b = str(dK2_b)\n",
    "    perts_str_b = str(saTidePerts_b)\n",
    "    outorder_str_b = str(saOutputOrder_b)\n",
    "    \n",
    "    #c.in\n",
    "    mass_str_c = str(dMass_c[n]) \n",
    "    radius_str_c = str(dRadius_c[n])\n",
    "    eqspin_str_c = str(bForceEqSpin_c)\n",
    "    obl_str_c = str(dObliquity_c)\n",
    "    radgy_str_c = str(dRadGyra_c)\n",
    "    ecc_str_c = str(ecc_c[n])\n",
    "    semi_str_c = str(semi_c[n])\n",
    "    q_str_c = str(dTidalQ_c[n])\n",
    "    dK2_str_c = str(dK2_c)\n",
    "    perts_str_c = str(saTidePerts_c)\n",
    "    outorder_str_c = str(saOutputOrder_c)\n",
    "    \n",
    "    \n",
    "    #star.in\n",
    "    name_star = name_star\n",
    "    modules_star = modules_star\n",
    "    strMass_str = str(dMass_star[n])\n",
    "    strRad_str = str(dRadius_star[n])\n",
    "    strObl_str = str(dObliquity_star)\n",
    "    #strEqSpin_str = str(bForceEqSpin_star)\n",
    "    strRotPer_str = str(dRotPeriod_star)\n",
    "    strRadGyr_str = str(dRadGyra_star)\n",
    "    strTidalQ_str = str(dTidalQ_star)\n",
    "    strdK2_str = str(dK2_star)\n",
    "    saTidePerts_star = saTidePerts_star\n",
    "    strsaOutputOrder = saOutputOrder_s\n",
    "    \n",
    "    #vpl.in\n",
    "    sys_name = Sys_name\n",
    "    iVerbose_str = str(iVerbose)\n",
    "    bOverwrite_str = str(bOverwrite)\n",
    "    saBodyFiles = saBodyFiles\n",
    "    UnitMass = UnitMass\n",
    "    UnitLength = UnitLength\n",
    "    UnitTime = UnitTime\n",
    "    UnitAngle = UnitAngle\n",
    "    UnitTemp = UnitTemp\n",
    "    bDoLog_str = str(bDoLog)\n",
    "    iDigits_str = str(iDigits)\n",
    "    dMinValue_str = str(dMinValue)\n",
    "    bDoForward_str = str(bDoForward)\n",
    "    bVarDt_str = str(bVarDt)\n",
    "    dEta_str = str(dEta)\n",
    "    dStopTime_str = str(int(dStopTime[n]))\n",
    "    dOutputTime_str = str(dOutputTime)\n",
    "    \n",
    "    os.makedirs('./runs/'+name_idx)\n",
    "    b = open('./runs/'+name_idx+'/b.in','w')\n",
    "    b_content = 'sName\\t'+ name_b + '\\nsaModules\\t'+modules_b+'\\nsTideModel\\t'+sTideModel_b+'\\n\\ndMass\\t'+mass_str_b+'\\ndRadius\\t'+radius_str_b+'\\ndObliquity\\t'+obl_str_b+'\\ndRadGyra\\t'+radgy_str_b+'\\n\\ndEcc\\t'+ecc_str_b+'\\ndSemi\\t'+semi_str_b+'\\n\\nbForceEqSpin\\t'+eqspin_str_b+'\\ndTidalQ\\t'+q_str_b+'\\ndK2\\t'+dK2_str_b+'\\nsaTidePerts\\t'+perts_str_b+'\\n\\nsaOutputOrder\\t'+outorder_str_b+'\\n'\n",
    "    b.write(b_content)\n",
    "    b.close()\n",
    "    \n",
    "    c = open('./runs/'+name_idx+'/c.in','w')\n",
    "    c_content = 'sName\\t'+ name_c + '\\nsaModules\\t'+modules_c+'\\n\\ndMass\\t'+mass_str_c+'\\ndRadius\\t'+radius_str_c+'\\ndObliquity\\t'+obl_str_c+'\\ndRadGyra\\t'+radgy_str_c+'\\n\\ndEcc\\t'+ecc_str_c+'\\ndSemi\\t'+semi_str_c+'\\n\\nbForceEqSpin\\t'+eqspin_str_c+'\\ndTidalQ\\t'+q_str_c+'\\ndK2\\t'+dK2_str_c+'\\nsaTidePerts\\t'+perts_str_c+'\\n\\nsaOutputOrder\\t'+outorder_str_c+'\\n'\n",
    "    c.write(c_content)\n",
    "    c.close()\n",
    "    \n",
    "    star = open('./runs/'+name_idx+'/star.in','w')\n",
    "    star_content = 'sName\\t'+name_star+'\\nsaModules\\t'+modules_star+'\\n\\ndMass\\t'+strMass_str+'\\ndRadius\\t'+strRad_str+'\\ndObliquity\\t'+strObl_str+'\\ndRotPeriod\\t'+strRotPer_str+'\\ndRadGyra\\t'+strRadGyr_str+'\\n\\ndTidalQ\\t'+strTidalQ_str+'\\ndK2\\t'+strdK2_str+'\\n\\nsaTidePerts\\t'+saTidePerts_star+'\\n\\nsaOutputOrder\\t'+strsaOutputOrder+'\\n'\n",
    "    star.write(star_content)\n",
    "    star.close()\n",
    "    \n",
    "    vpl = open('./runs/'+name_idx+'/vpl.in','w')\n",
    "    vpl_content = 'sSystemName\\t'+sys_name+'\\niVerbose\\t'+iVerbose_str+'\\nbOverwrite\\t'+bOverwrite_str+'\\n\\nsaBodyFiles\\t'+saBodyFiles+'\\n\\nsUnitMass\\t'+UnitMass+'\\nsUnitLength\\t'+UnitLength+'\\nsUnitTime\\t'+UnitTime+'\\nsUnitAngle\\t'+UnitAngle+'\\nsUnitTemp\\t'+UnitTemp+'\\n\\nbDoLog\\t'+bDoLog_str+'\\niDigits\\t'+iDigits_str+'\\ndMinValue\\t'+dMinValue_str+'\\n\\nbDoForward\\t'+bDoForward_str+'\\nbVarDt\\t'+bVarDt_str+'\\ndEta\\t'+dEta_str+'\\ndStopTime\\t'+dStopTime_str+'\\ndOutputTime\\t'+ dOutputTime_str+'\\n'\n",
    "    vpl.write(vpl_content)\n",
    "    vpl.close()\n",
    "    \n",
    "    \n",
    "        \n",
    " \n",
    "    n += 1\n",
    "\n",
    "\n",
    "\n",
    "\n",
    "\n",
    "\n",
    "\n",
    "print ('ICs generated')"
   ]
  },
  {
   "cell_type": "code",
   "execution_count": 9,
   "metadata": {
    "collapsed": false
   },
   "outputs": [
    {
     "name": "stdout",
     "output_type": "stream",
     "text": [
      "completed\n"
     ]
    }
   ],
   "source": [
    "# checks hill stability and generates ICs that are hill stable\n",
    "\n",
    "hill_list = np.array([])\n",
    "incl_b_list = np.array([])\n",
    "incl_c_list = np.array([])\n",
    "longasc_b_list = np.array([])\n",
    "longasc_c_list = np.array([])\n",
    "argperi_b_list = np.array([])\n",
    "argperi_c_list = np.array([])\n",
    "mean_an_b_list = np.array([])\n",
    "mean_an_c_list = np.array([])\n",
    "name_idx_list = np.array([])\n",
    "bad_hill_list = np.array([])\n",
    "\n",
    "n = 0\n",
    "while n <= t-1:\n",
    "    name_idx = '%05i'%n\n",
    "    bad_count = 0\n",
    "    while True:\n",
    "        #hill.in\n",
    "        \n",
    "        incl_b = np.random.uniform(0,5)\n",
    "        incl_c = np.random.uniform(0,5)\n",
    "        longasc_b = np.random.uniform(0,360)\n",
    "        longasc_c = np.random.uniform(0,360)\n",
    "        argperi_b = np.random.uniform(0,360)\n",
    "        argperi_c = np.random.uniform(0,360)\n",
    "        mean_an_b = np.random.uniform(0,360)\n",
    "        mean_an_c = np.random.uniform(0,360)\n",
    "        \n",
    "        innermass_str = str(inner_mass[n])\n",
    "        outermass_str = str(outer_mass[n])\n",
    "        strMass_str = str(dMass_star[n])\n",
    "        semi_b_str = str(semi_b[n])\n",
    "        semi_c_str = str(semi_c[n])\n",
    "        ecc_b_str = str(ecc_b[n])\n",
    "        ecc_c_str = str(ecc_c[n])\n",
    "        \n",
    "        incl_str_b = str(incl_b)\n",
    "        incl_str_c = str(incl_c)\n",
    "        longasc_str_b = str(longasc_b)\n",
    "        longasc_str_c = str(longasc_c)\n",
    "        argperi_str_b = str(argperi_b)\n",
    "        argperi_str_c = str(argperi_c)\n",
    "        mean_an_str_b = str(mean_an_b)\n",
    "        mean_an_str_c = str(mean_an_c)\n",
    "    \n",
    "        hill = open('./runs/'+name_idx+'/hill.in','w')\n",
    "        hill_content = (strMass_str+'\\n'\n",
    "                        +innermass_str+' '+semi_str_b+' '+ecc_str_b+' '+incl_str_b+' '+argperi_str_b+' '+longasc_str_b+' '+mean_an_str_b+'\\n'\n",
    "                        +outermass_str+' '+semi_str_c+' '+ecc_str_c+' '+incl_str_c+' '+argperi_str_c+' '+longasc_str_c+' '+mean_an_str_c+'\\n'\n",
    "                        +'body\\n')\n",
    "        hill.write(hill_content)\n",
    "        hill.close()\n",
    "    \n",
    "        wd = './runs/'+name_idx\n",
    "        hill = subprocess.call(['hillstab hill.in > hill_log'], shell=True, cwd = wd )\n",
    "        hill_log = open(wd+'/hill_log','r')\n",
    "        hill_content = hill_log.read()\n",
    "        hill_content = hill_content.split()\n",
    "        hill_exact = hill_content[1]\n",
    "        hill_exact = float(hill_exact)\n",
    "        #Tracer()()\n",
    "        if hill_exact < 1:\n",
    "            bad_count += 1\n",
    "            if bad_count == 10:\n",
    "                bad_count = 0\n",
    "                bad_hill_list = np.append(bad_hill_list,name_idx)\n",
    "                break\n",
    "\n",
    "            continue\n",
    "        elif hill_exact >= 1:\n",
    "            hill_list = np.append(hill_list,hill_exact)\n",
    "            incl_b_list = np.append(incl_b_list,incl_b)\n",
    "            incl_c_list = np.append(incl_c_list,incl_c)\n",
    "            longasc_b_list = np.append(longasc_b_list,longasc_b)\n",
    "            longasc_c_list = np.append(longasc_c_list,longasc_c)\n",
    "            argperi_b_list = np.append(argperi_b_list,argperi_b)\n",
    "            argperi_c_list = np.append(argperi_c_list,argperi_c)\n",
    "            mean_an_b_list = np.append(mean_an_b_list,mean_an_b)\n",
    "            mean_an_c_list = np.append(mean_an_c_list,mean_an_c)\n",
    "            name_idx_list = np.append(name_idx_list,name_idx)\n",
    "            break\n",
    "        \n",
    "    n += 1\n",
    "print('completed')"
   ]
  },
  {
   "cell_type": "code",
   "execution_count": 11,
   "metadata": {
    "collapsed": false
   },
   "outputs": [
    {
     "data": {
      "text/plain": [
       "((17648,), (7352,))"
      ]
     },
     "execution_count": 11,
     "metadata": {},
     "output_type": "execute_result"
    }
   ],
   "source": [
    "hill_list.shape, bad_hill_list.shape\n",
    "# there are 17848 runs that are hill stable (>1) and there are 7352 runs that will never be hill stable (calc hill stability 10 times)"
   ]
  },
  {
   "cell_type": "code",
   "execution_count": 12,
   "metadata": {
    "collapsed": false
   },
   "outputs": [
    {
     "name": "stdout",
     "output_type": "stream",
     "text": [
      "Runs Completed\n"
     ]
    }
   ],
   "source": [
    "\n",
    "s = 0      #runs each simulation\n",
    "while s <= t-1:\n",
    "    name_idx = '%05i'%s\n",
    "    folder_name = name_idx\n",
    "    working_directory = './runs/'+folder_name\n",
    "    p = subprocess.call(['vplanet vpl.in'], shell=True, cwd = working_directory)\n",
    "    s += 1\n",
    "    continue\n",
    "\n",
    "\n",
    "\n",
    "print('Runs Completed')"
   ]
  },
  {
   "cell_type": "code",
   "execution_count": null,
   "metadata": {
    "collapsed": false
   },
   "outputs": [],
   "source": [
    "# cosmology lens model\n",
    "# lens model (Mass,Dd, Ds, Dss)--> einstein radius (arcseconds) (500px x 500px)\n",
    "# define deflection angles\n",
    "# beta = theta - theta_e**2 / theta\n",
    "# theta is angle of pixel away from center of image --> distance from lens to where you observe object (angular distance to a pixel)\n",
    "# can calculate theta for any pixel\n",
    "# gives beta \n",
    "# convert beta into image and transfer flux value from original to where beta is. \n",
    "#  make sure width \n",
    "# image = np.zero(500,500)\n"
   ]
  },
  {
   "cell_type": "code",
   "execution_count": null,
   "metadata": {
    "collapsed": false
   },
   "outputs": [],
   "source": []
  },
  {
   "cell_type": "code",
   "execution_count": null,
   "metadata": {
    "collapsed": true
   },
   "outputs": [],
   "source": []
  }
 ],
 "metadata": {
  "anaconda-cloud": {},
  "kernelspec": {
   "display_name": "Python [default]",
   "language": "python",
   "name": "python3"
  },
  "language_info": {
   "codemirror_mode": {
    "name": "ipython",
    "version": 3
   },
   "file_extension": ".py",
   "mimetype": "text/x-python",
   "name": "python",
   "nbconvert_exporter": "python",
   "pygments_lexer": "ipython3",
   "version": "3.5.2"
  }
 },
 "nbformat": 4,
 "nbformat_minor": 1
}
