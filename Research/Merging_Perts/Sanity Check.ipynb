{
 "cells": [
  {
   "cell_type": "code",
   "execution_count": 1,
   "metadata": {
    "collapsed": true
   },
   "outputs": [],
   "source": [
    "#imports\n",
    "\n",
    "import numpy as np\n",
    "import shelve\n",
    "from astropy.table import QTable\n",
    "import matplotlib.pyplot as plt\n",
    "from astropy import units as u\n",
    "from astropy import constants as const\n",
    "from astropy.table import QTable\n",
    "import os\n",
    "import math\n",
    "import shutil\n",
    "from IPython.core.debugger import Tracer\n",
    "import subprocess\n",
    "import re\n",
    "%matplotlib inline"
   ]
  },
  {
   "cell_type": "code",
   "execution_count": 4,
   "metadata": {
    "collapsed": false
   },
   "outputs": [],
   "source": [
    "ic = QTable.read('IC_table.csv',format='ascii.csv')\n",
    "sim_idx = ic['Sim #']\n",
    "dMass_b = ic['Mass_b']\n",
    "dMass_c = ic['Mass_c']\n",
    "dRadius_b = ic['Radius_b']\n",
    "dRadius_c = ic['Radius_c']\n",
    "dSemi_b = ic['Semi_b_0']\n",
    "dSemi_c = ic['Semi_c_0']\n",
    "dEcc_b = ic['Ecc_b_0']\n",
    "dEcc_c = ic['Ecc_c_0']\n",
    "dInc_b = ic['Incl_b_0']\n",
    "dInc_c = ic['Incl_c_0']\n",
    "dLongA_b = ic['LongA_b_0']\n",
    "dLongA_c = ic['LongA_c_0']\n",
    "dArgP_b = ic['ArgP_b_0']\n",
    "dArgP_c = ic['ArgP_c_0']\n",
    "dTidalQ_b = ic['Qp_b']\n",
    "dTidalQ_c = ic['Qp_c']\n",
    "dTidalQ_star = ic['Q_star']\n",
    "dMass_star = ic['Mass_star']\n",
    "dRadius_star = ic['Radius_star']"
   ]
  },
  {
   "cell_type": "code",
   "execution_count": 15,
   "metadata": {
    "collapsed": false
   },
   "outputs": [
    {
     "data": {
      "text/html": [
       "&lt;Row index=857&gt;\n",
       "<table id=\"table140578740600336\">\n",
       "<thead><tr><th>Sim #</th><th>Mass_b</th><th>Mass_c</th><th>Radius_b</th><th>Radius_c</th><th>Semi_b_0</th><th>Semi_c_0</th><th>Ecc_b_0</th><th>Ecc_c_0</th><th>Incl_b_0</th><th>Incl_c_0</th><th>LongA_b_0</th><th>LongA_c_0</th><th>ArgP_b_0</th><th>ArgP_c_0</th><th>Qp_b</th><th>Qp_c</th><th>Q_star</th><th>Mass_star</th><th>Radius_star</th></tr></thead>\n",
       "<thead><tr><th>float64</th><th>float64</th><th>float64</th><th>float64</th><th>float64</th><th>float64</th><th>float64</th><th>float64</th><th>float64</th><th>float64</th><th>float64</th><th>float64</th><th>float64</th><th>float64</th><th>float64</th><th>float64</th><th>float64</th><th>float64</th><th>float64</th><th>float64</th></tr></thead>\n",
       "<tr><td>857.0</td><td>-0.939770900815</td><td>-16.8767782348</td><td>-0.98326146697</td><td>-4.52688840489</td><td>0.0367296251244</td><td>0.304380737188</td><td>0.00443119135111</td><td>0.158676336859</td><td>0.0</td><td>2.5903491442</td><td>106.132404193</td><td>287.909978502</td><td>342.836478148</td><td>144.298131559</td><td>88.7026249324</td><td>4289070.34084</td><td>2317458.86215</td><td>1.19191866025</td><td>0.00572120956918</td></tr>\n",
       "</table>"
      ],
      "text/plain": [
       "<Row index=857>\n",
       " Sim #       Mass_b         Mass_c        Radius_b       Radius_c        Semi_b_0       Semi_c_0        Ecc_b_0         Ecc_c_0     Incl_b_0   Incl_c_0     LongA_b_0     LongA_c_0      ArgP_b_0      ArgP_c_0        Qp_b          Qp_c         Q_star      Mass_star     Radius_star   \n",
       "float64     float64        float64        float64        float64         float64        float64         float64         float64     float64    float64       float64       float64       float64       float64       float64       float64       float64       float64        float64     \n",
       "------- --------------- -------------- -------------- -------------- --------------- -------------- ---------------- -------------- -------- ------------ ------------- ------------- ------------- ------------- ------------- ------------- ------------- ------------- ----------------\n",
       "  857.0 -0.939770900815 -16.8767782348 -0.98326146697 -4.52688840489 0.0367296251244 0.304380737188 0.00443119135111 0.158676336859      0.0 2.5903491442 106.132404193 287.909978502 342.836478148 144.298131559 88.7026249324 4289070.34084 2317458.86215 1.19191866025 0.00572120956918"
      ]
     },
     "execution_count": 15,
     "metadata": {},
     "output_type": "execute_result"
    }
   ],
   "source": [
    "# picks out earthlike inner, circ inner, close-in inner, close-in outer\n",
    "# picked 00857\n",
    "\n",
    "selection_mask = np.where((np.abs(dMass_b)<=1) & (dEcc_b <= 0.01) & (dSemi_b <= 0.1) & (dSemi_c <= 1))\n",
    "ic[857]"
   ]
  },
  {
   "cell_type": "code",
   "execution_count": 12,
   "metadata": {
    "collapsed": false
   },
   "outputs": [
    {
     "data": {
      "text/plain": [
       "(<Quantity 3.0 earthRad>,\n",
       " <Quantity 4.911950054137448 earthMass>,\n",
       " 6765686.763043897)"
      ]
     },
     "execution_count": 12,
     "metadata": {},
     "output_type": "execute_result"
    }
   ],
   "source": [
    "def calc_mass_Qp(radius,toggle):\n",
    "    r = radius\n",
    "    R_crit = 2*u.earthRad\n",
    "    if r < R_crit:\n",
    "        mass = ((r/const.R_earth)**(3.68))*const.M_earth\n",
    "        mass = mass.to(u.earthMass)\n",
    "        Qplanet = np.random.uniform(30,301)\n",
    "    else:\n",
    "        r = r.to(u.cm)\n",
    "        volume = (4*np.pi*r**3)/3\n",
    "        density = (1*u.g)/(1*u.cm)**3\n",
    "        mass = volume * density\n",
    "        mass = mass.to(u.earthMass)\n",
    "        Qplanet = np.random.uniform(10**6,(10**7)+1)\n",
    "    if toggle == 'm':\n",
    "        return radius, mass\n",
    "    elif toggle == 'Q':\n",
    "        return radius, Qplanet\n",
    "    elif toggle == 'b' or toggle == 'both':\n",
    "        return radius, mass, Qplanet\n",
    "    \n",
    "r = 3 * u.earthRad\n",
    "calc_mass_Qp(r,'b')"
   ]
  },
  {
   "cell_type": "code",
   "execution_count": 6,
   "metadata": {
    "collapsed": false
   },
   "outputs": [
    {
     "data": {
      "text/plain": [
       "-48.155155168563255"
      ]
     },
     "execution_count": 6,
     "metadata": {},
     "output_type": "execute_result"
    }
   ],
   "source": [
    "'''\n",
    "We need to run ~10 simulations:\n",
    "- variations in the outer planet\n",
    "    - sup_nep_mass/rad (6 earth rad)\n",
    "        - circ\n",
    "            - long\n",
    "            - short\n",
    "        - ecc\n",
    "            - long\n",
    "            - short\n",
    "    - sup_earth_mass/rad (2 earth rad)\n",
    "        - circ\n",
    "            - long\n",
    "            - short\n",
    "        - ecc\n",
    "            - long\n",
    "            - short\n",
    "\n",
    "'''"
   ]
  },
  {
   "cell_type": "code",
   "execution_count": null,
   "metadata": {
    "collapsed": true
   },
   "outputs": [],
   "source": []
  }
 ],
 "metadata": {
  "anaconda-cloud": {},
  "kernelspec": {
   "display_name": "Python [conda root]",
   "language": "python",
   "name": "conda-root-py"
  },
  "language_info": {
   "codemirror_mode": {
    "name": "ipython",
    "version": 3
   },
   "file_extension": ".py",
   "mimetype": "text/x-python",
   "name": "python",
   "nbconvert_exporter": "python",
   "pygments_lexer": "ipython3",
   "version": "3.5.2"
  }
 },
 "nbformat": 4,
 "nbformat_minor": 1
}
