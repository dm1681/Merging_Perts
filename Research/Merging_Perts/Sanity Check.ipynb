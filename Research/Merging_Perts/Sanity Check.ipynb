{
 "cells": [
  {
   "cell_type": "code",
   "execution_count": 4,
   "metadata": {
    "collapsed": true
   },
   "outputs": [],
   "source": [
    "#imports\n",
    "\n",
    "import numpy as np\n",
    "import shelve\n",
    "from astropy.table import QTable\n",
    "import matplotlib.pyplot as plt\n",
    "from astropy import units as u\n",
    "from astropy import constants as const\n",
    "from astropy.table import QTable\n",
    "import os\n",
    "import math\n",
    "import shutil\n",
    "from IPython.core.debugger import Tracer\n",
    "import subprocess\n",
    "import re\n",
    "%matplotlib inline"
   ]
  },
  {
   "cell_type": "code",
   "execution_count": 5,
   "metadata": {
    "collapsed": false
   },
   "outputs": [],
   "source": [
    "ic = QTable.read('IC_table.csv',format='ascii.csv')\n",
    "sim_idx = ic['Sim #']\n",
    "dMass_b = ic['Mass_b']\n",
    "dMass_c = ic['Mass_c']\n",
    "dRadius_b = ic['Radius_b']\n",
    "dRadius_c = ic['Radius_c']\n",
    "dSemi_b = ic['Semi_b_0']\n",
    "dSemi_c = ic['Semi_c_0']\n",
    "dEcc_b = ic['Ecc_b_0']\n",
    "dEcc_c = ic['Ecc_c_0']\n",
    "dInc_b = ic['Incl_b_0']\n",
    "dInc_c = ic['Incl_c_0']\n",
    "dLongA_b = ic['LongA_b_0']\n",
    "dLongA_c = ic['LongA_c_0']\n",
    "dArgP_b = ic['ArgP_b_0']\n",
    "dArgP_c = ic['ArgP_c_0']\n",
    "dTidalQ_b = ic['Qp_b']\n",
    "dTidalQ_c = ic['Qp_c']\n",
    "dTidalQ_star = ic['Q_star']\n",
    "dMass_star = ic['Mass_star']\n",
    "dRadius_star = ic['Radius_star']"
   ]
  },
  {
   "cell_type": "code",
   "execution_count": 15,
   "metadata": {
    "collapsed": false
   },
   "outputs": [
    {
     "data": {
      "text/html": [
       "&lt;Row index=857&gt;\n",
       "<table id=\"table140578740600336\">\n",
       "<thead><tr><th>Sim #</th><th>Mass_b</th><th>Mass_c</th><th>Radius_b</th><th>Radius_c</th><th>Semi_b_0</th><th>Semi_c_0</th><th>Ecc_b_0</th><th>Ecc_c_0</th><th>Incl_b_0</th><th>Incl_c_0</th><th>LongA_b_0</th><th>LongA_c_0</th><th>ArgP_b_0</th><th>ArgP_c_0</th><th>Qp_b</th><th>Qp_c</th><th>Q_star</th><th>Mass_star</th><th>Radius_star</th></tr></thead>\n",
       "<thead><tr><th>float64</th><th>float64</th><th>float64</th><th>float64</th><th>float64</th><th>float64</th><th>float64</th><th>float64</th><th>float64</th><th>float64</th><th>float64</th><th>float64</th><th>float64</th><th>float64</th><th>float64</th><th>float64</th><th>float64</th><th>float64</th><th>float64</th><th>float64</th></tr></thead>\n",
       "<tr><td>857.0</td><td>-0.939770900815</td><td>-16.8767782348</td><td>-0.98326146697</td><td>-4.52688840489</td><td>0.0367296251244</td><td>0.304380737188</td><td>0.00443119135111</td><td>0.158676336859</td><td>0.0</td><td>2.5903491442</td><td>106.132404193</td><td>287.909978502</td><td>342.836478148</td><td>144.298131559</td><td>88.7026249324</td><td>4289070.34084</td><td>2317458.86215</td><td>1.19191866025</td><td>0.00572120956918</td></tr>\n",
       "</table>"
      ],
      "text/plain": [
       "<Row index=857>\n",
       " Sim #       Mass_b         Mass_c        Radius_b       Radius_c        Semi_b_0       Semi_c_0        Ecc_b_0         Ecc_c_0     Incl_b_0   Incl_c_0     LongA_b_0     LongA_c_0      ArgP_b_0      ArgP_c_0        Qp_b          Qp_c         Q_star      Mass_star     Radius_star   \n",
       "float64     float64        float64        float64        float64         float64        float64         float64         float64     float64    float64       float64       float64       float64       float64       float64       float64       float64       float64        float64     \n",
       "------- --------------- -------------- -------------- -------------- --------------- -------------- ---------------- -------------- -------- ------------ ------------- ------------- ------------- ------------- ------------- ------------- ------------- ------------- ----------------\n",
       "  857.0 -0.939770900815 -16.8767782348 -0.98326146697 -4.52688840489 0.0367296251244 0.304380737188 0.00443119135111 0.158676336859      0.0 2.5903491442 106.132404193 287.909978502 342.836478148 144.298131559 88.7026249324 4289070.34084 2317458.86215 1.19191866025 0.00572120956918"
      ]
     },
     "execution_count": 15,
     "metadata": {},
     "output_type": "execute_result"
    }
   ],
   "source": [
    "# picks out earthlike inner, circ inner, close-in inner, close-in outer\n",
    "# picked 00857\n",
    "\n",
    "selection_mask = np.where((np.abs(dMass_b)<=1) & (dEcc_b <= 0.01) & (dSemi_b <= 0.1) & (dSemi_c <= 1))\n",
    "ic[857]"
   ]
  },
  {
   "cell_type": "code",
   "execution_count": 32,
   "metadata": {
    "collapsed": false
   },
   "outputs": [],
   "source": [
    "# now to compare a and e for each san_check case w/ eqonly case (00857)\n",
    "san_check_dir = '/home/dm1681/Research/Research/Merging_Perts/comp_san_check/'\n",
    "s_mass_list = ['nep','sup_ear']\n",
    "s_res_list = ['long','short']\n",
    "s_ecc_list = ['circ','ecc']\n",
    "\n",
    "# this script fills the below arrays\n",
    "# eq_* --> eqtide only runs, similarly for eqorb_* referring to eqtide + distorb\n",
    "# *_short or *_long refers to the resolution\n",
    "eq_short_time = np.array([])\n",
    "eq_long_time = np.array([])\n",
    "eq_short_semi = np.array([])\n",
    "eq_long_semi = np.array([])\n",
    "eq_short_e = np.array([])\n",
    "eq_long_e = np.array([])\n",
    "\n",
    "\n",
    "\n",
    "# pulls eqtide data\n",
    "for res in s_res_list:\n",
    "    b_fwd = open(san_check_dir+'00857_'+res+'_eq'+'/system.b.forward') # forward file\n",
    "    b_fwd_content = b_fwd.read()\n",
    "    b_fwd_content = b_fwd_content.split('\\n')\n",
    "    b_fwd_content = b_fwd_content[:-1] # removes the last line, which is just an empty array\n",
    "    for line in b_fwd_content:\n",
    "        items = line.split(' ')\n",
    "        time = items[0]\n",
    "        semi = items[1]\n",
    "        e = items[2]\n",
    "        #print(time)\n",
    "        if res == 'long':\n",
    "            eq_long_time = np.append(eq_long_time, time)\n",
    "            eq_long_semi = np.append(eq_long_semi, semi)\n",
    "            eq_long_e = np.append(eq_long_e, e)\n",
    "        elif res == 'short':\n",
    "            eq_short_time = np.append(eq_short_time, time)\n",
    "            eq_short_semi = np.append(eq_short_semi, semi)\n",
    "            eq_short_e = np.append(eq_short_e, e)\n",
    "\n",
    "            \n",
    "            \n",
    "#sup_ear data\n",
    "sup_ear_short_ecc_time = np.array([])\n",
    "sup_ear_long_ecc_time = np.array([])\n",
    "sup_ear_short_ecc_semi = np.array([])\n",
    "sup_ear_long_ecc_semi = np.array([])\n",
    "sup_ear_short_ecc_e = np.array([])\n",
    "sup_ear_long_ecc_e = np.array([])\n",
    "\n",
    "sup_ear_short_circ_time = np.array([])\n",
    "sup_ear_long_circ_time = np.array([])\n",
    "sup_ear_short_circ_semi = np.array([])\n",
    "sup_ear_long_circ_semi = np.array([])\n",
    "sup_ear_short_circ_e = np.array([])\n",
    "sup_ear_long_circ_e = np.array([])\n",
    "\n",
    "#nep data\n",
    "nep_short_ecc_time = np.array([])\n",
    "nep_long_ecc_time = np.array([])\n",
    "nep_short_ecc_semi = np.array([])\n",
    "nep_long_ecc_semi = np.array([])\n",
    "nep_short_ecc_e = np.array([])\n",
    "nep_long_ecc_e = np.array([])\n",
    "\n",
    "nep_short_circ_time = np.array([])\n",
    "nep_long_circ_time = np.array([])\n",
    "nep_short_circ_semi = np.array([])\n",
    "nep_long_circ_semi = np.array([])\n",
    "nep_short_circ_e = np.array([])\n",
    "nep_long_circ_e = np.array([])\n",
    "            \n",
    "# pulls eqorb data\n",
    "for mass_c in s_mass_list:\n",
    "    for res in s_res_list:\n",
    "        for ecc in s_ecc_list:\n",
    "            run_dir = san_check_dir+mass_c+'_'+res+'_'+ecc\n",
    "            b_fwd = open(run_dir+'/system.b.forward')\n",
    "            b_fwd_content = b_fwd.read()\n",
    "            b_fwd_content = b_fwd_content.split('\\n')\n",
    "            b_fwd_content = b_fwd_content[:-1]\n",
    "            for line in b_fwd_content:\n",
    "                items = line.split(' ')\n",
    "                time = items[0]\n",
    "                semi = items[1]\n",
    "                e = items[2]\n",
    "                # sorts the above pulled data based on resolution and mass_c\n",
    "                if res == 'long':\n",
    "                    if mass_c == 'sup_ear':\n",
    "                        if ecc == 'ecc':\n",
    "                            sup_ear_long_ecc_time = np.append(sup_ear_long_ecc_time, time)\n",
    "                            sup_ear_long_ecc_semi = np.append(sup_ear_long_ecc_semi, semi)\n",
    "                            sup_ear_long_ecc_e = np.append(sup_ear_long_ecc_e, e)\n",
    "                        elif ecc == 'circ':\n",
    "                            sup_ear_long_circ_time = np.append(sup_ear_long_circ_time, time)\n",
    "                            sup_ear_long_circ_semi = np.append(sup_ear_long_circ_semi, semi)\n",
    "                            sup_ear_long_circ_e = np.append(sup_ear_long_circ_e, e)\n",
    "                    elif mass_c == 'nep':\n",
    "                        if ecc == 'ecc':\n",
    "                            nep_long_ecc_time = np.append(nep_long_ecc_time, time)\n",
    "                            nep_long_ecc_semi = np.append(nep_long_ecc_semi, semi)\n",
    "                            nep_long_ecc_e = np.append(nep_long_ecc_e, e)\n",
    "                        elif ecc == 'circ':\n",
    "                            nep_long_circ_time = np.append(nep_long_circ_time, time)\n",
    "                            nep_long_circ_semi = np.append(nep_long_circ_semi, semi)\n",
    "                            nep_long_circ_e = np.append(nep_long_circ_e, e)\n",
    "                    \n",
    "                elif res == 'short':\n",
    "                    if mass_c == 'sup_ear':\n",
    "                        if ecc == 'ecc':\n",
    "                            sup_ear_short_ecc_time = np.append(sup_ear_short_ecc_time, time)\n",
    "                            sup_ear_short_ecc_semi = np.append(sup_ear_short_ecc_semi, semi)\n",
    "                            sup_ear_short_ecc_e = np.append(sup_ear_short_ecc_e, e)\n",
    "                        elif ecc == 'circ':\n",
    "                            sup_ear_short_circ_time = np.append(sup_ear_short_circ_time, time)\n",
    "                            sup_ear_short_circ_semi = np.append(sup_ear_short_circ_semi, semi)\n",
    "                            sup_ear_short_circ_e = np.append(sup_ear_short_circ_e, e)\n",
    "                    elif mass_c == 'nep':\n",
    "                        if ecc == 'ecc':\n",
    "                            nep_short_ecc_time = np.append(nep_short_ecc_time, time)\n",
    "                            nep_short_ecc_semi = np.append(nep_short_ecc_semi, semi)\n",
    "                            nep_short_ecc_e = np.append(nep_short_ecc_e, e)\n",
    "                        elif ecc == 'circ':\n",
    "                            nep_short_circ_time = np.append(nep_short_circ_time, time)\n",
    "                            nep_short_circ_semi = np.append(nep_short_circ_semi, semi)\n",
    "                            nep_short_circ_e = np.append(nep_short_circ_e, e)\n",
    "            \n",
    "\n",
    "\n"
   ]
  },
  {
   "cell_type": "code",
   "execution_count": 37,
   "metadata": {
    "collapsed": false
   },
   "outputs": [
    {
     "data": {
      "text/plain": [
       "[<matplotlib.lines.Line2D at 0x7f644d649d30>]"
      ]
     },
     "execution_count": 37,
     "metadata": {},
     "output_type": "execute_result"
    },
    {
     "data": {
      "image/png": "[encoded data removed]",
      "text/plain": [
       "<matplotlib.figure.Figure at 0x7f644d649d68>"
      ]
     },
     "metadata": {},
     "output_type": "display_data"
    }
   ],
   "source": [
    "fig,ax = plt.subplots(1,1)\n",
    "fig.set_size_inches(10,8)\n",
    "\n",
    "ax.plot(nep_short_circ_time, nep_short_circ_semi, color = 'red')\n",
    "ax.plot(eq_short_time, eq_short_semi, color = 'green')\n"
   ]
  },
  {
   "cell_type": "code",
   "execution_count": 31,
   "metadata": {
    "collapsed": false
   },
   "outputs": [
    {
     "data": {
      "text/plain": [
       "(0,)"
      ]
     },
     "execution_count": 31,
     "metadata": {},
     "output_type": "execute_result"
    }
   ],
   "source": [
    "eq_long_e.shape"
   ]
  },
  {
   "cell_type": "code",
   "execution_count": null,
   "metadata": {
    "collapsed": true
   },
   "outputs": [],
   "source": []
  }
 ],
 "metadata": {
  "anaconda-cloud": {},
  "kernelspec": {
   "display_name": "Python [conda root]",
   "language": "python",
   "name": "conda-root-py"
  },
  "language_info": {
   "codemirror_mode": {
    "name": "ipython",
    "version": 3
   },
   "file_extension": ".py",
   "mimetype": "text/x-python",
   "name": "python",
   "nbconvert_exporter": "python",
   "pygments_lexer": "ipython3",
   "version": "3.5.2"
  }
 },
 "nbformat": 4,
 "nbformat_minor": 1
}
