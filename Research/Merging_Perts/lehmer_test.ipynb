{
 "cells": [
  {
   "cell_type": "code",
   "execution_count": 1,
   "metadata": {
    "collapsed": true
   },
   "outputs": [],
   "source": [
    "import numpy as np\n",
    "import astropy.units as u\n",
    "import astropy.constants as const\n",
    "from astropy.table import QTable\n",
    "import matplotlib.pyplot as plt\n",
    "import pdb\n",
    "%matplotlib inline"
   ]
  },
  {
   "cell_type": "code",
   "execution_count": 2,
   "metadata": {
    "collapsed": true
   },
   "outputs": [],
   "source": [
    "def calc_dmdt(eta, F_xuv, R_xuv, M_p):\n",
    "    dmdt = (eta * np.pi * F_xuv * R_xuv**3)/(const.G * M_p)\n",
    "    return dmdt\n",
    "\n",
    "def calc_M(dmdt,dt):\n",
    "    M = dmdt * dt\n",
    "    return M\n",
    "\n",
    "def calc_H(Rg, T, gs):\n",
    "    H = Rg * T / gs\n",
    "    return H\n",
    "\n",
    "def calc_gs(m,r):\n",
    "    g = const.G * m / r**2\n",
    "    return g\n",
    "\n",
    "def calc_ps(gs, Menv, dM, Rs):\n",
    "    ps = gs * (Menv - dM) / (4 * np.pi * Rs**2)\n",
    "    return ps\n",
    "\n",
    "def calc_Rxuv(Rs, H, Pxuv, Ps):\n",
    "    Rxuv = Rs**2 / (H * np.log(Pxuv/Ps) + Rs)\n",
    "    return Rxuv"
   ]
  },
  {
   "cell_type": "code",
   "execution_count": 8,
   "metadata": {},
   "outputs": [
    {
     "data": {
      "text/plain": [
       "(<Quantity 2.5>,\n",
       " <Quantity 0.075>,\n",
       " <Quantity 2.425>,\n",
       " <Quantity 1.266826915619248>)"
      ]
     },
     "execution_count": 8,
     "metadata": {},
     "output_type": "execute_result"
    }
   ],
   "source": [
    "# reproduce figure 3\n",
    "# \n",
    "alpha = 0.03\n",
    "Mp = 2.5\n",
    "Menv = alpha * Mp\n",
    "Mcore = Mp - Menv\n",
    "\n",
    "Mp = Mp * const.M_earth\n",
    "Menv = Menv * const.M_earth\n",
    "Mcore = Mcore * const.M_earth\n",
    "\n",
    "\n",
    "#Rs = (Mcore.value/1.3)**(1/3.7) * u.m\n",
    "Rs = 1.3 * (Mcore/u.kg) ** 0.27 *u.m # I dont think this is right? \n",
    "\n",
    "T = 880 * u.K\n",
    "a = 0.1 * u.AU\n",
    "Mstar = 1 * const.M_sun\n",
    "Fxuv = 55 * u.W / (u.m**2)\n",
    "eta = 0.1\n",
    "Pxuv = 5 * u.Pa\n",
    "Rg = 4124 * u.J / (u.kg * u.K) # stated as 4157 in paper, actually used 4124\n",
    "tao = 1e8 * u.yr\n",
    "\n",
    "Mp/const.M_earth, Menv/const.M_earth, Mcore/const.M_earth, Rs/const.R_earth\n",
    "\n",
    "\n"
   ]
  },
  {
   "cell_type": "code",
   "execution_count": 9,
   "metadata": {},
   "outputs": [
    {
     "data": {
      "text/html": [
       "&lt;QTable length=1&gt;\n",
       "<table id=\"table139976588695312\" class=\"table-striped table-bordered table-condensed\">\n",
       "<thead><tr><th>time</th><th>Mp</th><th>alpha</th><th>Menv</th><th>P_surf</th><th>R_xuv</th><th>dMdt</th><th>dM</th></tr></thead>\n",
       "<thead><tr><th>yr</th><th>kg</th><th></th><th>kg</th><th>Pa</th><th>m</th><th>kg / s</th><th>kg</th></tr></thead>\n",
       "<thead><tr><th>float64</th><th>float64</th><th>float64</th><th>float64</th><th>float64</th><th>float64</th><th>float64</th><th>float64</th></tr></thead>\n",
       "<tr><td>0.0</td><td>1.49355e+25</td><td>0.03</td><td>4.48065e+23</td><td>8088243514.862843</td><td>22638372.719930742</td><td>207338947.13584083</td><td>6.543119558134011e+19</td></tr>\n",
       "</table>"
      ],
      "text/plain": [
       "<QTable length=1>\n",
       "  time       Mp      alpha  ...        dMdt                  dM         \n",
       "   yr        kg             ...       kg / s                 kg         \n",
       "float64   float64   float64 ...      float64              float64       \n",
       "------- ----------- ------- ... ------------------ ---------------------\n",
       "    0.0 1.49355e+25    0.03 ... 207338947.13584083 6.543119558134011e+19"
      ]
     },
     "execution_count": 9,
     "metadata": {},
     "output_type": "execute_result"
    }
   ],
   "source": [
    "t = 0 * u.yr\n",
    "dt = 10000 * u.yr\n",
    "dM0 = 0 * u.kg\n",
    "\n",
    "# constants\n",
    "g = calc_gs(Mcore, Rs)\n",
    "H = calc_H(Rg, T, g)\n",
    "\n",
    "# intial conditions\n",
    "P0 = calc_ps(g, Menv, dM0, Rs)\n",
    "P0 = P0.to(u.Pa)\n",
    "Rxuv0 = calc_Rxuv(Rs, H, Pxuv, P0)\n",
    "Rxuv0 = Rxuv0.decompose()\n",
    "if Rxuv0 <= Rs:\n",
    "    Rxuv0 = Rs\n",
    "dmdt0 = calc_dmdt(eta, Fxuv, Rxuv0, Mcore)\n",
    "dmdt0 = dmdt0.decompose()\n",
    "\n",
    "data = QTable()\n",
    "# defining some initial conditions\n",
    "data['time'] = [0]*u.yr\n",
    "data['Mp'] = [Mp.decompose().value] * u.kg\n",
    "data['alpha'] = [alpha]\n",
    "data['Menv'] = [Menv.decompose().value] * u.kg\n",
    "data['P_surf'] = [P0.decompose().value] * u.Pa\n",
    "data['R_xuv'] = [Rxuv0.decompose().value] * u.m\n",
    "data['dMdt'] = [dmdt0.decompose().value] * u.kg/u.s\n",
    "data['dM'] = [(dmdt0 * dt).decompose().value] * u.kg\n",
    "data"
   ]
  },
  {
   "cell_type": "code",
   "execution_count": 10,
   "metadata": {},
   "outputs": [
    {
     "name": "stderr",
     "output_type": "stream",
     "text": [
      "/home/dm1681/anaconda3/lib/python3.6/site-packages/ipykernel_launcher.py:22: RuntimeWarning: invalid value encountered in log\n"
     ]
    }
   ],
   "source": [
    "\n",
    "while data['time'][-1] < tao:\n",
    "    #pdb.set_trace()\n",
    "    t = data['time'][-1]\n",
    "    t_new = t + dt\n",
    "\n",
    "    Menv_new = data['Menv'][-1] - data['dM'][-1]\n",
    "    Mp_new = Mcore+Menv_new\n",
    "    alpha_new = Menv_new / Mp_new\n",
    "    \n",
    "    Ps_new = calc_ps(g, Menv_new, data['dM'][-1], Rs).decompose()\n",
    "    Rxuv_new = calc_Rxuv(Rs, H, Pxuv, Ps_new).decompose()\n",
    "    \n",
    "    if Rxuv_new <= Rs:\n",
    "        Rxuv_new = Rs\n",
    "    if Ps_new <= 0:\n",
    "        break\n",
    "    dmdt_new = calc_dmdt(eta, Fxuv, Rxuv_new, Mcore).decompose()\n",
    "    \n",
    "    dm_new = (dmdt_new * dt).decompose()\n",
    "    data.add_row((t_new, Mp_new, alpha_new, Menv_new, Ps_new, Rxuv_new, dmdt_new, dm_new))\n",
    "\n",
    "    \n",
    "    "
   ]
  },
  {
   "cell_type": "code",
   "execution_count": 11,
   "metadata": {},
   "outputs": [
    {
     "data": {
      "text/html": [
       "&lt;QTable length=8916&gt;\n",
       "<table id=\"table139976588695312\" class=\"table-striped table-bordered table-condensed\">\n",
       "<thead><tr><th>time</th><th>Mp</th><th>alpha</th><th>Menv</th><th>P_surf</th><th>R_xuv</th><th>dMdt</th><th>dM</th></tr></thead>\n",
       "<thead><tr><th>yr</th><th>kg</th><th></th><th>kg</th><th>Pa</th><th>m</th><th>kg / s</th><th>kg</th></tr></thead>\n",
       "<thead><tr><th>float64</th><th>float64</th><th>float64</th><th>float64</th><th>float64</th><th>float64</th><th>float64</th><th>float64</th></tr></thead>\n",
       "<tr><td>0.0</td><td>1.49355e+25</td><td>0.03</td><td>4.48065e+23</td><td>8088243514.862843</td><td>22638372.719930742</td><td>207338947.13584083</td><td>6.543119558134011e+19</td></tr>\n",
       "<tr><td>10000.0</td><td>1.4935434568804418e+25</td><td>0.0299957504913</td><td>4.4799956880441863e+23</td><td>8085881252.944011</td><td>22637810.830414843</td><td>207323508.9207576</td><td>6.5426323651177e+19</td></tr>\n",
       "<tr><td>20000.0</td><td>1.4935369142480765e+25</td><td>0.0299915012617</td><td>4.4793414248076746e+23</td><td>8084700297.87585</td><td>22637529.876406502</td><td>207315789.84645534</td><td>6.542388769658499e+19</td></tr>\n",
       "<tr><td>30000.0</td><td>1.493530371859307e+25</td><td>0.0299872521531</td><td>4.478687185930709e+23</td><td>8083519342.807311</td><td>22637248.88833051</td><td>207308070.02779603</td><td>6.542145150709176e+19</td></tr>\n",
       "<tr><td>40000.0</td><td>1.4935238297141563e+25</td><td>0.0299830031656</td><td>4.4780329714156376e+23</td><td>8082338431.719875</td><td>22636967.876644213</td><td>207300349.7521397</td><td>6.5419015173381235e+19</td></tr>\n",
       "<tr><td>50000.0</td><td>1.493517287812639e+25</td><td>0.029978754299</td><td>4.477378781263904e+23</td><td>8081157564.614514</td><td>22636686.841342464</td><td>207292629.01939088</td><td>6.5416578695423295e+19</td></tr>\n",
       "<tr><td>60000.0</td><td>1.4935107461547694e+25</td><td>0.0299745055535</td><td>4.4767246154769495e+23</td><td>8079976741.493825</td><td>22636405.782420482</td><td>207284907.82946414</td><td>6.541414207319097e+19</td></tr>\n",
       "<tr><td>70000.0</td><td>1.493504204740562e+25</td><td>0.029970256929</td><td>4.4760704740562175e+23</td><td>8078795962.360418</td><td>22636124.699873492</td><td>207277186.1822743</td><td>6.54117053066574e+19</td></tr>\n",
       "<tr><td>80000.0</td><td>1.4934976635700314e+25</td><td>0.0299660084255</td><td>4.475416357003151e+23</td><td>8077615227.216899</td><td>22635843.59369672</td><td>207269464.07773623</td><td>6.5409268395795685e+19</td></tr>\n",
       "<tr><td>...</td><td>...</td><td>...</td><td>...</td><td>...</td><td>...</td><td>...</td><td>...</td></tr>\n",
       "<tr><td>89060000.0</td><td>1.448755126123276e+25</td><td>8.02490570464e-06</td><td>1.1626123276247037e+20</td><td>1859027.6872976646</td><td>13224038.958418945</td><td>41327356.93958977</td><td>1.3041921993567982e+19</td></tr>\n",
       "<tr><td>89070000.0</td><td>1.4487538219310769e+25</td><td>7.12469635672e-06</td><td>1.0321931076890239e+20</td><td>1627836.7646421026</td><td>13137440.086045496</td><td>40520753.8516687</td><td>1.2787377417494202e+19</td></tr>\n",
       "<tr><td>89080000.0</td><td>1.448752543193335e+25</td><td>6.24205519267e-06</td><td>9.043193335140819e+19</td><td>1401600.3838659236</td><td>13041211.846323865</td><td>39636848.85355926</td><td>1.250843821381082e+19</td></tr>\n",
       "<tr><td>89090000.0</td><td>1.4487512923495136e+25</td><td>5.3786661347e-06</td><td>7.792349513759737e+19</td><td>1180839.6325046597</td><td>12932713.15043051</td><td>38655759.09325102</td><td>1.2198829831611783e+19</td></tr>\n",
       "<tr><td>89100000.0</td><td>1.4487500724665304e+25</td><td>4.53664621352e-06</td><td>6.572466530598559e+19</td><td>966221.4001388624</td><td>12808000.643922167</td><td>37548214.77836804</td><td>1.1849315426898272e+19</td></tr>\n",
       "<tr><td>89110000.0</td><td>1.4487488875349878e+25</td><td>3.71875004306e-06</td><td>5.387534987908732e+19</td><td>758632.7890223972</td><td>12660780.543444537</td><td>36268259.47002531</td><td>1.1445392250512708e+19</td></tr>\n",
       "<tr><td>89120000.0</td><td>1.4487477429957628e+25</td><td>2.92873330321e-06</td><td>4.242995762857461e+19</td><td>559317.7551916641</td><td>12480011.271811435</td><td>34736831.65608294</td><td>1.096211038670003e+19</td></tr>\n",
       "<tr><td>89130000.0</td><td>1.448746646784724e+25</td><td>2.17207386203e-06</td><td>3.1467847241874584e+19</td><td>370159.22497037164</td><td>12243272.223105635</td><td>32797277.083117396</td><td>1.0350033512781855e+19</td></tr>\n",
       "<tr><td>89140000.0</td><td>1.4487456117813728e+25</td><td>1.45766196338e-06</td><td>2.111781372909273e+19</td><td>194374.5405332817</td><td>11891270.853770716</td><td>30049004.261755746</td><td>9.482744568907831e+18</td></tr>\n",
       "<tr><td>89150000.0</td><td>1.448744663506916e+25</td><td>8.03113858036e-07</td><td>1.16350691601849e+19</td><td>38852.67855618396</td><td>11094046.020512741</td><td>24401423.389383584</td><td>7.700503587528114e+18</td></tr>\n",
       "</table>"
      ],
      "text/plain": [
       "<QTable length=8916>\n",
       "   time              Mp           ...        dMdt                  dM          \n",
       "    yr               kg           ...       kg / s                 kg          \n",
       " float64          float64         ...      float64              float64        \n",
       "---------- ---------------------- ... ------------------ ----------------------\n",
       "       0.0            1.49355e+25 ... 207338947.13584083  6.543119558134011e+19\n",
       "   10000.0 1.4935434568804418e+25 ...  207323508.9207576    6.5426323651177e+19\n",
       "   20000.0 1.4935369142480765e+25 ... 207315789.84645534  6.542388769658499e+19\n",
       "   30000.0  1.493530371859307e+25 ... 207308070.02779603  6.542145150709176e+19\n",
       "   40000.0 1.4935238297141563e+25 ...  207300349.7521397 6.5419015173381235e+19\n",
       "   50000.0  1.493517287812639e+25 ... 207292629.01939088 6.5416578695423295e+19\n",
       "   60000.0 1.4935107461547694e+25 ... 207284907.82946414  6.541414207319097e+19\n",
       "   70000.0  1.493504204740562e+25 ...  207277186.1822743   6.54117053066574e+19\n",
       "   80000.0 1.4934976635700314e+25 ... 207269464.07773623 6.5409268395795685e+19\n",
       "       ...                    ... ...                ...                    ...\n",
       "89060000.0  1.448755126123276e+25 ...  41327356.93958977 1.3041921993567982e+19\n",
       "89070000.0 1.4487538219310769e+25 ...   40520753.8516687 1.2787377417494202e+19\n",
       "89080000.0  1.448752543193335e+25 ...  39636848.85355926  1.250843821381082e+19\n",
       "89090000.0 1.4487512923495136e+25 ...  38655759.09325102 1.2198829831611783e+19\n",
       "89100000.0 1.4487500724665304e+25 ...  37548214.77836804 1.1849315426898272e+19\n",
       "89110000.0 1.4487488875349878e+25 ...  36268259.47002531 1.1445392250512708e+19\n",
       "89120000.0 1.4487477429957628e+25 ...  34736831.65608294  1.096211038670003e+19\n",
       "89130000.0  1.448746646784724e+25 ... 32797277.083117396 1.0350033512781855e+19\n",
       "89140000.0 1.4487456117813728e+25 ... 30049004.261755746  9.482744568907831e+18\n",
       "89150000.0  1.448744663506916e+25 ... 24401423.389383584  7.700503587528114e+18"
      ]
     },
     "execution_count": 11,
     "metadata": {},
     "output_type": "execute_result"
    }
   ],
   "source": [
    "data"
   ]
  },
  {
   "cell_type": "code",
   "execution_count": 12,
   "metadata": {
    "scrolled": false
   },
   "outputs": [
    {
     "data": {
      "image/png": "[encoded data removed]",
      "text/plain": [
       "<matplotlib.figure.Figure at 0x7f4ed1e66198>"
      ]
     },
     "metadata": {},
     "output_type": "display_data"
    }
   ],
   "source": [
    "time = data['time']\n",
    "Menv = data['Menv']\n",
    "Mp = data['Mp']\n",
    "Psurf = data['P_surf']\n",
    "Rxuv = data['R_xuv']\n",
    "dmdt = data['dMdt']\n",
    "dm = data['dM']\n",
    "\n",
    "\n",
    "fig,ax = plt.subplots(3,1)\n",
    "fig.set_size_inches(7,7)\n",
    "fig.subplots_adjust(bottom=0.3)\n",
    "\n",
    "ax[0].plot(time, Menv/Menv[0], color='blue')\n",
    "ax[0].set(ylabel='Atmospheric Mass\\nFraction', xlim=(0,30e6), ylim=(0,1))\n",
    "\n",
    "ax[1].plot(time, Rxuv/Rs, color='blue')\n",
    "ax[1].set(ylabel='Rxuv')\n",
    "\n",
    "ax[2].plot(time, Mp/Mp[0], color='blue')\n",
    "ax[2].set(ylabel='Mp', xlabel='Time (yr)')\n",
    "\n",
    "\n",
    "    \n",
    "\n",
    "fig.savefig('atmesc.pdf')"
   ]
  },
  {
   "cell_type": "code",
   "execution_count": null,
   "metadata": {},
   "outputs": [],
   "source": [
    "H"
   ]
  },
  {
   "cell_type": "code",
   "execution_count": null,
   "metadata": {},
   "outputs": [],
   "source": [
    "lehm_final_time = 28644016 * u.yr\n",
    "diego_final_time = data['time'][-1]\n",
    "(diego_final_time - lehm_final_time)/(lehm_final_time)"
   ]
  },
  {
   "cell_type": "code",
   "execution_count": null,
   "metadata": {},
   "outputs": [],
   "source": [
    "diego_final_time"
   ]
  },
  {
   "cell_type": "code",
   "execution_count": null,
   "metadata": {},
   "outputs": [],
   "source": [
    "lehm_final_time"
   ]
  },
  {
   "cell_type": "code",
   "execution_count": null,
   "metadata": {},
   "outputs": [],
   "source": [
    "data['dMdt'][0]"
   ]
  },
  {
   "cell_type": "code",
   "execution_count": null,
   "metadata": {
    "collapsed": true
   },
   "outputs": [],
   "source": [
    "c_data = QTable.read('/home/dm1681/vplanet/testing/lehmer17/atm.b.forward', format='ascii')\n",
    "c_data.rename_column('col1','time(yr)')\n",
    "c_data.rename_column('col2','Mass(earth)')\n",
    "c_data.rename_column('col3','EnvMass(earth)')\n",
    "c_data.rename_column('col4','Radius(sol)')\n",
    "c_data.rename_column('col5','RadXUV(earth)')"
   ]
  },
  {
   "cell_type": "code",
   "execution_count": null,
   "metadata": {
    "scrolled": true
   },
   "outputs": [],
   "source": [
    "c_time = c_data['time(yr)']\n",
    "c_Menv = c_data['EnvMass(earth)']\n",
    "c_Rxuv = c_data['RadXUV(earth)']\n",
    "\n",
    "\n",
    "fig,ax = plt.subplots(2,1)\n",
    "fig.set_size_inches(7,7)\n",
    "fig.subplots_adjust(bottom=0.3)\n",
    "\n",
    "ax[0].plot(c_time, c_Menv/c_Menv[0], color='blue', label='vplanet')\n",
    "ax[0].plot(time, Menv/Menv[0], color='orange', label='lehmer')\n",
    "ax[0].set(ylabel='Atmospheric Mass\\nFraction')\n",
    "\n",
    "ax[1].plot(c_time, c_Rxuv/c_Rxuv[0], color='blue', label='vplanet')\n",
    "ax[1].plot(time, Rxuv/Rxuv[0], color='orange', label='lehmer')\n",
    "ax[1].set(ylabel='Rxuv Fraction', xlabel='Time(yr)')\n",
    "\n",
    "ax[0].legend()\n",
    "\n",
    "fig.savefig('2xvpl_vs_lehm.pdf')"
   ]
  },
  {
   "cell_type": "code",
   "execution_count": null,
   "metadata": {},
   "outputs": [],
   "source": [
    "c_time[-1]/time[-1].value"
   ]
  },
  {
   "cell_type": "code",
   "execution_count": null,
   "metadata": {},
   "outputs": [],
   "source": [
    "time[-1]"
   ]
  },
  {
   "cell_type": "code",
   "execution_count": null,
   "metadata": {},
   "outputs": [],
   "source": [
    "(-1.0699361804488962e-14 * const.M_sun / u.yr).to(u.kg/u.s)"
   ]
  },
  {
   "cell_type": "code",
   "execution_count": null,
   "metadata": {
    "collapsed": true
   },
   "outputs": [],
   "source": []
  }
 ],
 "metadata": {
  "anaconda-cloud": {},
  "kernelspec": {
   "display_name": "Python 3",
   "language": "python",
   "name": "python3"
  },
  "language_info": {
   "codemirror_mode": {
    "name": "ipython",
    "version": 3
   },
   "file_extension": ".py",
   "mimetype": "text/x-python",
   "name": "python",
   "nbconvert_exporter": "python",
   "pygments_lexer": "ipython3",
   "version": "3.6.1"
  }
 },
 "nbformat": 4,
 "nbformat_minor": 1
}
