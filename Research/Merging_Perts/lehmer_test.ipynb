{
 "cells": [
  {
   "cell_type": "code",
   "execution_count": 1,
   "metadata": {
    "collapsed": true
   },
   "outputs": [],
   "source": [
    "import numpy as np\n",
    "import astropy.units as u\n",
    "import astropy.constants as const\n",
    "from astropy.table import QTable\n",
    "import matplotlib.pyplot as plt\n",
    "import pdb\n",
    "%matplotlib inline"
   ]
  },
  {
   "cell_type": "code",
   "execution_count": 2,
   "metadata": {
    "collapsed": true
   },
   "outputs": [],
   "source": [
    "def calc_dmdt(eta, F_xuv, R_xuv, M_p):\n",
    "    dmdt = (eta * np.pi * F_xuv * R_xuv**3)/(const.G * M_p)\n",
    "    return dmdt\n",
    "\n",
    "def calc_M(dmdt,dt):\n",
    "    M = dmdt * dt\n",
    "    return M\n",
    "\n",
    "def calc_H(Rg, T, gs):\n",
    "    H = Rg * T / gs\n",
    "    return H\n",
    "\n",
    "def calc_gs(m,r):\n",
    "    g = const.G * m / r**2\n",
    "    return g\n",
    "\n",
    "def calc_ps(gs, Menv, dM, Rs):\n",
    "    ps = gs * (Menv - dM) / (4 * np.pi * Rs**2)\n",
    "    return ps\n",
    "\n",
    "def calc_Rxuv(Rs, H, Pxuv, Ps):\n",
    "    Rxuv = Rs**2 / (H * np.log(Pxuv/Ps) + Rs)\n",
    "    return Rxuv"
   ]
  },
  {
   "cell_type": "code",
   "execution_count": 50,
   "metadata": {},
   "outputs": [
    {
     "data": {
      "text/plain": [
       "(<Quantity 10.0>,\n",
       " <Quantity 0.1>,\n",
       " <Quantity 9.9>,\n",
       " <Quantity 1.8521093064357979>)"
      ]
     },
     "execution_count": 50,
     "metadata": {},
     "output_type": "execute_result"
    }
   ],
   "source": [
    "# reproduce figure 3\n",
    "# \n",
    "alpha = 0.01\n",
    "Mp = 10\n",
    "Menv = alpha * Mp\n",
    "Mcore = Mp - Menv\n",
    "\n",
    "Mp = Mp * const.M_earth\n",
    "Menv = Menv * const.M_earth\n",
    "Mcore = Mcore * const.M_earth\n",
    "\n",
    "\n",
    "#Rs = (Mcore.value/1.3)**(1/3.7) * u.m\n",
    "Rs = 1.3 * (Mcore/u.kg) ** 0.27 *u.m # I dont think this is right? \n",
    "\n",
    "T = 880 * u.K\n",
    "a = 0.1 * u.AU\n",
    "Mstar = 1 * const.M_sun\n",
    "Fxuv = 55 * u.W / (u.m**2)\n",
    "eta = 0.1\n",
    "Pxuv = 5 * u.Pa\n",
    "Rg = 4124 * u.J / (u.kg * u.K) # stated as 4157 in paper, actually used 4124\n",
    "tao = 1e8 * u.yr\n",
    "\n",
    "Mp/const.M_earth, Menv/const.M_earth, Mcore/const.M_earth, Rs/const.R_earth\n",
    "\n",
    "\n"
   ]
  },
  {
   "cell_type": "code",
   "execution_count": 59,
   "metadata": {},
   "outputs": [
    {
     "data": {
      "text/latex": [
       "$1.8521093 \\; \\mathrm{}$"
      ],
      "text/plain": [
       "<Quantity 1.8521093064357979>"
      ]
     },
     "execution_count": 59,
     "metadata": {},
     "output_type": "execute_result"
    }
   ],
   "source": [
    "((1.3*(((10*const.M_earth)-(10 * const.M_earth * 0.01)) ** (0.27)).value)*u.m)/const.R_earth"
   ]
  },
  {
   "cell_type": "code",
   "execution_count": 41,
   "metadata": {},
   "outputs": [
    {
     "data": {
      "text/html": [
       "&lt;QTable length=1&gt;\n",
       "<table id=\"table140557678154696\" class=\"table-striped table-bordered table-condensed\">\n",
       "<thead><tr><th>time</th><th>Mp</th><th>alpha</th><th>Menv</th><th>P_surf</th><th>R_xuv</th><th>dMdt</th><th>dM</th></tr></thead>\n",
       "<thead><tr><th>yr</th><th>kg</th><th></th><th>kg</th><th>Pa</th><th>m</th><th>kg / s</th><th>kg</th></tr></thead>\n",
       "<thead><tr><th>float64</th><th>float64</th><th>float64</th><th>float64</th><th>float64</th><th>float64</th><th>float64</th><th>float64</th></tr></thead>\n",
       "<tr><td>0.0</td><td>1.19484e+25</td><td>0.03</td><td>3.58452e+23</td><td>6587141704.791889</td><td>30372699.070495002</td><td>625900712.3451904</td><td>1.9751924319904583e+20</td></tr>\n",
       "</table>"
      ],
      "text/plain": [
       "<QTable length=1>\n",
       "  time       Mp      alpha  ...        dMdt                 dM          \n",
       "   yr        kg             ...       kg / s                kg          \n",
       "float64   float64   float64 ...      float64             float64        \n",
       "------- ----------- ------- ... ----------------- ----------------------\n",
       "    0.0 1.19484e+25    0.03 ... 625900712.3451904 1.9751924319904583e+20"
      ]
     },
     "execution_count": 41,
     "metadata": {},
     "output_type": "execute_result"
    }
   ],
   "source": [
    "t = 0 * u.yr\n",
    "dt = 10000 * u.yr\n",
    "dM0 = 0 * u.kg\n",
    "\n",
    "# constants\n",
    "g = calc_gs(Mcore, Rs)\n",
    "H = calc_H(Rg, T, g)\n",
    "\n",
    "# intial conditions\n",
    "P0 = calc_ps(g, Menv, dM0, Rs)\n",
    "P0 = P0.to(u.Pa)\n",
    "Rxuv0 = calc_Rxuv(Rs, H, Pxuv, P0)\n",
    "Rxuv0 = Rxuv0.decompose()\n",
    "dmdt0 = calc_dmdt(eta, Fxuv, Rxuv0, Mcore)\n",
    "dmdt0 = dmdt0.decompose()\n",
    "\n",
    "data = QTable()\n",
    "# defining some initial conditions\n",
    "data['time'] = [0]*u.yr\n",
    "data['Mp'] = [Mp.decompose().value] * u.kg\n",
    "data['alpha'] = [alpha]\n",
    "data['Menv'] = [Menv.decompose().value] * u.kg\n",
    "data['P_surf'] = [P0.decompose().value] * u.Pa\n",
    "data['R_xuv'] = [Rxuv0.decompose().value] * u.m\n",
    "data['dMdt'] = [dmdt0.decompose().value] * u.kg/u.s\n",
    "data['dM'] = [(dmdt0 * dt).decompose().value] * u.kg\n",
    "data"
   ]
  },
  {
   "cell_type": "code",
   "execution_count": 42,
   "metadata": {},
   "outputs": [
    {
     "name": "stderr",
     "output_type": "stream",
     "text": [
      "/home/dm1681/anaconda3/lib/python3.6/site-packages/ipykernel_launcher.py:22: RuntimeWarning: invalid value encountered in log\n"
     ]
    }
   ],
   "source": [
    "\n",
    "\n",
    "while data['time'][-1] < tao:\n",
    "    #pdb.set_trace()\n",
    "    t = data['time'][-1]\n",
    "    t_new = t + dt\n",
    "\n",
    "    Menv_new = data['Menv'][-1] - data['dM'][-1]\n",
    "    Mp_new = Mcore+Menv_new\n",
    "    alpha_new = Menv_new/Mp_new\n",
    "    \n",
    "    Ps_new = calc_ps(g, Menv_new, data['dM'][-1], Rs).decompose()\n",
    "    Rxuv_new = calc_Rxuv(Rs, H, Pxuv, Ps_new).decompose()\n",
    "    dmdt_new = calc_dmdt(eta, Fxuv, Rxuv_new, Mcore).decompose()\n",
    "    \n",
    "    dm_new = (dmdt_new * dt).decompose()\n",
    "    data.add_row((t_new, Mp_new, alpha_new, Menv_new, Ps_new, Rxuv_new, dmdt_new, dm_new))\n",
    "    if Ps_new <= 0:\n",
    "        break\n",
    "    \n",
    "    "
   ]
  },
  {
   "cell_type": "code",
   "execution_count": 43,
   "metadata": {
    "scrolled": false
   },
   "outputs": [
    {
     "data": {
      "image/png": "[encoded data removed]",
      "text/plain": [
       "<matplotlib.figure.Figure at 0x7fd625ee06d8>"
      ]
     },
     "metadata": {},
     "output_type": "display_data"
    }
   ],
   "source": [
    "time = data['time']\n",
    "Menv = data['Menv']\n",
    "Mp = data['Mp']\n",
    "Psurf = data['P_surf']\n",
    "Rxuv = data['R_xuv']\n",
    "dmdt = data['dMdt']\n",
    "dm = data['dM']\n",
    "\n",
    "\n",
    "fig,ax = plt.subplots(3,1)\n",
    "fig.set_size_inches(7,7)\n",
    "fig.subplots_adjust(bottom=0.3)\n",
    "\n",
    "ax[0].plot(time, Menv/Menv[0], color='blue')\n",
    "ax[0].set(ylabel='Atmospheric Mass\\nFraction', xlim=(0,30e6), ylim=(0,1))\n",
    "\n",
    "ax[1].plot(time, Rxuv/Rxuv[0], color='blue')\n",
    "ax[1].set(ylabel='Rxuv')\n",
    "\n",
    "ax[2].plot(time, Mp/Mp[0], color='blue')\n",
    "ax[2].set(ylabel='Mp', xlabel='Time (yr)')\n",
    "\n",
    "\n",
    "    \n",
    "\n",
    "fig.savefig('atmesc.pdf')"
   ]
  },
  {
   "cell_type": "code",
   "execution_count": 44,
   "metadata": {},
   "outputs": [
    {
     "data": {
      "text/latex": [
       "$271540.59 \\; \\mathrm{\\frac{s^{2}\\,J}{kg\\,m}}$"
      ],
      "text/plain": [
       "<Quantity 271540.59079789487 J s2 / (kg m)>"
      ]
     },
     "execution_count": 44,
     "metadata": {},
     "output_type": "execute_result"
    }
   ],
   "source": [
    "H"
   ]
  },
  {
   "cell_type": "code",
   "execution_count": 45,
   "metadata": {},
   "outputs": [
    {
     "data": {
      "text/latex": [
       "$-0.007122465 \\; \\mathrm{}$"
      ],
      "text/plain": [
       "<Quantity -0.007122464950445496>"
      ]
     },
     "execution_count": 45,
     "metadata": {},
     "output_type": "execute_result"
    }
   ],
   "source": [
    "lehm_final_time = 28644016 * u.yr\n",
    "diego_final_time = data['time'][-1]\n",
    "(diego_final_time - lehm_final_time)/(lehm_final_time)"
   ]
  },
  {
   "cell_type": "code",
   "execution_count": 46,
   "metadata": {},
   "outputs": [
    {
     "data": {
      "text/latex": [
       "$28440000 \\; \\mathrm{yr}$"
      ],
      "text/plain": [
       "<Quantity 28440000.0 yr>"
      ]
     },
     "execution_count": 46,
     "metadata": {},
     "output_type": "execute_result"
    }
   ],
   "source": [
    "diego_final_time"
   ]
  },
  {
   "cell_type": "code",
   "execution_count": 47,
   "metadata": {},
   "outputs": [
    {
     "data": {
      "text/latex": [
       "$28644016 \\; \\mathrm{yr}$"
      ],
      "text/plain": [
       "<Quantity 28644016.0 yr>"
      ]
     },
     "execution_count": 47,
     "metadata": {},
     "output_type": "execute_result"
    }
   ],
   "source": [
    "lehm_final_time"
   ]
  },
  {
   "cell_type": "code",
   "execution_count": 97,
   "metadata": {},
   "outputs": [
    {
     "data": {
      "text/latex": [
       "$6.742236 \\times 10^{8} \\; \\mathrm{\\frac{kg}{s}}$"
      ],
      "text/plain": [
       "<Quantity 674223599.6354682 kg / s>"
      ]
     },
     "execution_count": 97,
     "metadata": {},
     "output_type": "execute_result"
    }
   ],
   "source": [
    "data['dMdt'][0]"
   ]
  },
  {
   "cell_type": "code",
   "execution_count": 57,
   "metadata": {
    "collapsed": true
   },
   "outputs": [],
   "source": [
    "c_data = QTable.read('/home/dm1681/vplanet/testing/lehmer17/atm.b.forward', format='ascii')\n",
    "c_data.rename_column('col1','time(yr)')\n",
    "c_data.rename_column('col2','Mass(earth)')\n",
    "c_data.rename_column('col3','EnvMass(earth)')\n",
    "c_data.rename_column('col4','Radius(sol)')\n",
    "c_data.rename_column('col5','RadXUV(earth)')"
   ]
  },
  {
   "cell_type": "code",
   "execution_count": 58,
   "metadata": {
    "scrolled": true
   },
   "outputs": [
    {
     "data": {
      "image/png": "[encoded data removed]",
      "text/plain": [
       "<matplotlib.figure.Figure at 0x7f6caf2603c8>"
      ]
     },
     "metadata": {},
     "output_type": "display_data"
    }
   ],
   "source": [
    "c_time = c_data['time(yr)']\n",
    "c_Menv = c_data['EnvMass(earth)']\n",
    "c_Rxuv = c_data['RadXUV(earth)']\n",
    "\n",
    "\n",
    "fig,ax = plt.subplots(2,1)\n",
    "fig.set_size_inches(7,7)\n",
    "fig.subplots_adjust(bottom=0.3)\n",
    "\n",
    "ax[0].plot(c_time, c_Menv/c_Menv[0], color='blue', label='vplanet')\n",
    "ax[0].plot(time, Menv/Menv[0], color='orange', label='lehmer')\n",
    "ax[0].set(ylabel='Atmospheric Mass\\nFraction')\n",
    "\n",
    "ax[1].plot(c_time, c_Rxuv/c_Rxuv[0], color='blue', label='vplanet')\n",
    "ax[1].plot(time, Rxuv/Rxuv[0], color='orange', label='lehmer')\n",
    "ax[1].set(ylabel='Rxuv Fraction', xlabel='Time(yr)')\n",
    "\n",
    "ax[0].legend()\n",
    "\n",
    "fig.savefig('2xvpl_vs_lehm.pdf')"
   ]
  },
  {
   "cell_type": "code",
   "execution_count": 59,
   "metadata": {},
   "outputs": [
    {
     "data": {
      "text/plain": [
       "2.0237609466260578"
      ]
     },
     "execution_count": 59,
     "metadata": {},
     "output_type": "execute_result"
    }
   ],
   "source": [
    "c_time[-1]/time[-1].value"
   ]
  },
  {
   "cell_type": "code",
   "execution_count": 12,
   "metadata": {},
   "outputs": [
    {
     "data": {
      "text/latex": [
       "$26810000 \\; \\mathrm{yr}$"
      ],
      "text/plain": [
       "<Quantity 26810000.0 yr>"
      ]
     },
     "execution_count": 12,
     "metadata": {},
     "output_type": "execute_result"
    }
   ],
   "source": [
    "time[-1]"
   ]
  },
  {
   "cell_type": "code",
   "execution_count": 61,
   "metadata": {},
   "outputs": [
    {
     "data": {
      "text/latex": [
       "$-6.7417731 \\times 10^{8} \\; \\mathrm{\\frac{kg}{s}}$"
      ],
      "text/plain": [
       "<Quantity -674177310.9499537 kg / s>"
      ]
     },
     "execution_count": 61,
     "metadata": {},
     "output_type": "execute_result"
    }
   ],
   "source": [
    "(-1.0699361804488962e-14 * const.M_sun / u.yr).to(u.kg/u.s)"
   ]
  },
  {
   "cell_type": "code",
   "execution_count": null,
   "metadata": {
    "collapsed": true
   },
   "outputs": [],
   "source": []
  }
 ],
 "metadata": {
  "anaconda-cloud": {},
  "kernelspec": {
   "display_name": "Python 3",
   "language": "python",
   "name": "python3"
  },
  "language_info": {
   "codemirror_mode": {
    "name": "ipython",
    "version": 3
   },
   "file_extension": ".py",
   "mimetype": "text/x-python",
   "name": "python",
   "nbconvert_exporter": "python",
   "pygments_lexer": "ipython3",
   "version": "3.6.1"
  }
 },
 "nbformat": 4,
 "nbformat_minor": 1
}
