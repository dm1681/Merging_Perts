{
 "cells": [
  {
   "cell_type": "code",
   "execution_count": 1,
   "metadata": {
    "collapsed": true
   },
   "outputs": [],
   "source": [
    "import numpy as np\n",
    "import matplotlib.pyplot as plt\n",
    "import matplotlib\n",
    "%matplotlib inline\n",
    "import os\n",
    "import pdb\n",
    "from astropy.table import QTable\n",
    "import astropy.units as u\n",
    "import astropy.constants as const\n",
    "import math"
   ]
  },
  {
   "cell_type": "code",
   "execution_count": 2,
   "metadata": {
    "collapsed": true
   },
   "outputs": [],
   "source": [
    "eqonly_dir = './final_data/runs_eq_only/'\n",
    "eqorb_dir = './final_data/runs_eqorb/'\n",
    "eqorbmesc_dir = './eqorbmesc/'\n",
    "\n",
    "# lets make a ecc distribution\n",
    "probecc_data = QTable.read('probecc_comma.dat',format='ascii.no_header', names=['ecc','%inbin','cum%'])\n",
    "planet_data = QTable.read('planets.csv',format='ascii')\n",
    "rad_data = planet_data['pl_radj'] * (const.R_jup/const.R_earth)\n",
    "\n",
    "\n",
    "\n",
    "def get_IC_data(n):\n",
    "    '''\n",
    "    n = sim number\n",
    "    '''\n",
    "    foldername = \"%05i\"%n\n",
    "    folderdir = eqorb_dir + foldername\n",
    "    b_file = open(folderdir + '/b.in','r')\n",
    "    c_file = open(folderdir + '/c.in','r')\n",
    "    star_file =open(folderdir + '/star.in','r')\n",
    "    vpl_file = open(folderdir + '/vpl.in','r')\n",
    "    b_content = b_file.read()\n",
    "    c_content = c_file.read()\n",
    "    star_content = star_file.read()\n",
    "    vpl_content = vpl_file.read()\n",
    "    b_content = b_content.split('\\n')\n",
    "    c_content = c_content.split('\\n')\n",
    "    star_content = star_content.split('\\n')\n",
    "    vpl_content = vpl_content.split('\\n')\n",
    "    \n",
    "    b_ecc_line = 9\n",
    "    c_ecc_line = 9\n",
    "    b_rad_line = 5\n",
    "    c_rad_line = 5\n",
    "    b_semi_line = 10\n",
    "    c_semi_line = 10\n",
    "    b_mass_line = 4\n",
    "    c_mass_line = 4\n",
    "    \n",
    "    b_ecc = b_content[b_ecc_line]\n",
    "    c_ecc = c_content[c_ecc_line]\n",
    "    b_ecc = float(b_ecc.split('\\t\\t')[1])\n",
    "    c_ecc = float(c_ecc.split('\\t\\t')[1])\n",
    "    \n",
    "    b_rad = b_content[b_rad_line]\n",
    "    c_rad = c_content[c_rad_line]\n",
    "    b_rad = float(b_rad.split('\\t\\t')[1])*-1\n",
    "    c_rad = float(c_rad.split('\\t\\t')[1])*-1\n",
    "    \n",
    "    b_semi = b_content[b_semi_line]\n",
    "    c_semi = c_content[c_semi_line]\n",
    "    b_semi = float(b_semi.split('\\t\\t')[1])\n",
    "    c_semi = float(c_semi.split('\\t\\t')[1])\n",
    "    \n",
    "    b_mass = b_content[b_mass_line]\n",
    "    c_mass = c_content[c_mass_line]\n",
    "    b_mass = float(b_mass.split('\\t\\t')[1])*-1\n",
    "    c_mass = float(c_mass.split('\\t\\t')[1])*-1\n",
    "    \n",
    "    # now to read in atmmassfrac\n",
    "    \n",
    "    return b_ecc, c_ecc, b_rad, c_rad, b_semi, c_semi, b_mass, c_mass\n",
    "    \n",
    "i = 0\n",
    "n = 25000\n",
    "b_ecc_list = np.zeros(shape=(n))\n",
    "c_ecc_list = np.zeros(shape=(n))\n",
    "b_rad_list = np.zeros(shape=(n))\n",
    "c_rad_list = np.zeros(shape=(n))\n",
    "b_semi_list = np.zeros(shape=(n))\n",
    "c_semi_list = np.zeros(shape=(n))\n",
    "b_mass_list = np.zeros(shape=(n))\n",
    "c_mass_list = np.zeros(shape=(n))\n",
    "\n",
    "while i <= n-1:\n",
    "    (b_ecc_list[i], c_ecc_list[i], b_rad_list[i], c_rad_list[i], b_semi_list[i], c_semi_list[i],\n",
    "     b_mass_list[i], c_mass_list[i]) = get_IC_data(i)\n",
    "    i += 1\n",
    "\n",
    "    \n",
    "# now we have the data\n",
    "# so lets make it into a histogram and save that shit\n",
    "\n"
   ]
  },
  {
   "cell_type": "code",
   "execution_count": 3,
   "metadata": {},
   "outputs": [
    {
     "data": {
      "image/png": "[encoded data removed]",
      "text/plain": [
       "<matplotlib.figure.Figure at 0x7f0ab6c444e0>"
      ]
     },
     "metadata": {},
     "output_type": "display_data"
    }
   ],
   "source": [
    "fig,ax = plt.subplots(2,2)\n",
    "fig.set_size_inches(14,14)\n",
    "plt.rc('text',usetex=True)\n",
    "\n",
    "x = np.arange(0,1,0.05)\n",
    "y = probecc_data['cum%']\n",
    "ecc_in_bin = probecc_data['%inbin']\n",
    "\n",
    "x_rad = np.arange(0,4,0.25)\n",
    "\n",
    "bar = ax[0,0].bar(probecc_data['ecc']+0.025, ecc_in_bin, width=0.05,color='red', label='Source')\n",
    "ecc_hist_b = ax[0,1].hist(b_ecc_list,bins=x,weights=np.zeros_like(b_ecc_list)+1./b_ecc_list.size,histtype='step', label='b')\n",
    "ecc_hist_c = ax[0,1].hist(c_ecc_list,bins=x,weights=np.zeros_like(c_ecc_list)+1./c_ecc_list.size,histtype='step',color='orange', label='c')\n",
    "ax[0,1].set(xlabel='Eccentricity', ylabel='P(Eccentricity)',title='Planet Eccentricity Distributions', xlim=(0,1))\n",
    "ax[0,0].set(title='Source Eccentricity Distribution',xlabel='Eccentricity',ylabel='P(Eccentricity)')\n",
    "\n",
    "rad_dist = ax[1,0].hist(rad_data,bins=x_rad,weights=np.zeros_like(rad_data)+1./rad_data.size, color='red', label='Source')\n",
    "ax[1,0].set(title='Source Radius Distribution', xlabel='Radius ($R_{\\oplus}$)', ylabel='P(Radius)')\n",
    "y_rad = rad_dist[0].cumsum()\n",
    "rad_b_hist = ax[1,1].hist(b_rad_list,bins=x_rad,weights=np.zeros_like(b_rad_list)+1./b_rad_list.size,histtype='step', label = 'b')\n",
    "rad_c_hist = ax[1,1].hist(c_rad_list,bins=x_rad,weights=np.zeros_like(c_rad_list)+1./c_rad_list.size,histtype='step',color='orange', label='c')\n",
    "ax[1,1].set(xlabel='Radius ($R_{\\oplus}$)', ylabel='P(Radius)', title='Radius Distributions', xlim=(0,4))\n",
    "ax[1,1].legend(loc=0)\n",
    "\n",
    "fig.savefig('./IC_figs/ecc_rad_dist.png');"
   ]
  },
  {
   "cell_type": "code",
   "execution_count": 4,
   "metadata": {},
   "outputs": [
    {
     "data": {
      "text/plain": [
       "[<matplotlib.text.Text at 0x7f0ab3685128>,\n",
       " <matplotlib.text.Text at 0x7f0ab36ecef0>]"
      ]
     },
     "execution_count": 4,
     "metadata": {},
     "output_type": "execute_result"
    },
    {
     "data": {
      "image/png": "[encoded data removed]",
      "text/plain": [
       "<matplotlib.figure.Figure at 0x7f0ab37b7048>"
      ]
     },
     "metadata": {},
     "output_type": "display_data"
    }
   ],
   "source": [
    "# now lets plot mass\n",
    "fig,ax = plt.subplots(1,1)\n",
    "fig.set_size_inches(10,10)\n",
    "\n",
    "bins=24\n",
    "\n",
    "ax.hist(b_mass_list, bins=bins, weights=np.zeros_like(b_mass_list)+1./b_mass_list.size, histtype='step', label='b')\n",
    "ax.hist(c_mass_list, bins=bins, weights=np.zeros_like(c_mass_list)+1./c_mass_list.size, color='orange', histtype='step',label='c');\n",
    "ax.legend(loc=0)\n",
    "ax.set(xlabel=\"$Mass(M_{\\oplus})$\", ylabel=\"Percentage\")"
   ]
  },
  {
   "cell_type": "code",
   "execution_count": 9,
   "metadata": {
    "collapsed": true
   },
   "outputs": [],
   "source": [
    "final_data_eqorb = \"./final_data/runs_eqorb\"\n",
    "final_data_eqonly = \"./final_data/runs_eq_only\"\n",
    "\n",
    "def check_merge(log_dir):\n",
    "    log_file = open(log_dir+\"/log\",\"r\")\n",
    "    log_content = log_file.readlines()\n",
    "    merge_line = log_content[-3]\n",
    "    if merge_line[:11] == \"HALT: Merge\":\n",
    "        bMerge = 1\n",
    "    else:\n",
    "        bMerge = 0    \n",
    "    return bMerge\n",
    "\n",
    "def get_merged_data(runs_dir,bAddModule=0):\n",
    "    '''\n",
    "    this function is gonna get all the merged data\n",
    "    '''\n",
    "    runs_list = np.array([]) # we are going to store the run names in this array\n",
    "    bad_sim_list = np.array([])\n",
    "    bMerge_list = np.array([]) # store the sims that merged\n",
    "    modules = \"Eqtide\"\n",
    "    atm_lost_sims = np.array([])\n",
    "    # lets add em in \n",
    "    for dir_name in os.walk(runs_dir):\n",
    "        if dir_name[0] != runs_dir: # the first one in os.walk is the source dir eg runs_dir\n",
    "            runs_list = np.append(runs_list, dir_name[0])\n",
    "    print(\"Found %i Sims\\n\"%len(runs_list))\n",
    "\n",
    "    mass_b_list = np.array([])\n",
    "    semi_b_list = np.array([])\n",
    "    ecc_b_list = np.array([])\n",
    "    bMerge_eqtide_list = np.array([])\n",
    "    \n",
    "    # lets see what modules are being used\n",
    "    if runs_dir.find('orb') != -1: # are we using distorb? (yes)\n",
    "        bDistorb = 1\n",
    "        modules = modules + \"+Distorb\"\n",
    "        mass_c_list = np.array([])\n",
    "        semi_c_list = np.array([])\n",
    "        ecc_c_list = np.array([])\n",
    "        strength_list = np.array([])\n",
    "        if runs_dir.find('mesc') != -1: # are we using atmesc? (yes)\n",
    "            bAtmesc = 1\n",
    "            modules = modules + \"+Atmesc\"\n",
    "            bMerge_eqorbmesc_list = np.array([])\n",
    "            bMerge_eqorb_list = np.array([])\n",
    "        else: #we are not using atmesc\n",
    "            bAtmesc = 0\n",
    "            bMerge_eqorb_list = np.array([])\n",
    "    elif runs_dir.find('mesc') != -1: #eqtide+atmesc\n",
    "        bDistorb = 0\n",
    "        bAtmesc = 1\n",
    "        modules = modules + \"+Atmesc\"\n",
    "        lost_env_counter = 0\n",
    "        Lum_grid_counter = 0\n",
    "        bMerge_eqmesc_list = np.array([])\n",
    "    else:\n",
    "        bDistorb = 0\n",
    "        bAtmesc = 0\n",
    "    print(\"Fetching data for %s runs...\"%modules)\n",
    "    \n",
    "    # now lets iterate over them and read in the final data\n",
    "    for idx,sim_dir in enumerate(runs_list):\n",
    "        try:\n",
    "            # lets check if distorb is used, to read in c ICs as well:\n",
    "            sim_idx = int(sim_dir.split(runs_dir)[1][1:])\n",
    "            if bDistorb: # eqtide+distorb\n",
    "                c_file = sim_dir + '/c.in'\n",
    "                c_file = open(c_file,'r')\n",
    "                c_content = c_file.readlines()\n",
    "                mass_c = np.float64(c_content[4].split('\\t\\t')[1][:-1])*-1\n",
    "                mass_c_list = np.append(mass_c_list, mass_c)\n",
    "                semi_c = np.float64(c_content[10].split('\\t\\t')[1][:-1])\n",
    "                semi_c_list = np.append(semi_c_list, semi_c)\n",
    "                ecc_c = np.float64(c_content[9].split('\\t\\t')[1][:-1])\n",
    "                ecc_c_list = np.append(ecc_c_list, ecc_c)\n",
    "\n",
    "                b_file = sim_dir + '/b.in'\n",
    "                b_file = open(b_file,'r')\n",
    "                b_content = b_file.readlines()\n",
    "                mass_b = np.float64(b_content[4].split('\\t\\t')[1][:-1])*-1\n",
    "                mass_b_list = np.append(mass_b_list, mass_b)\n",
    "                semi_b = np.float64(b_content[10].split('\\t\\t')[1][:-1])\n",
    "                semi_b_list = np.append(semi_b_list, semi_b)\n",
    "                ecc_b = np.float64(b_content[9].split('\\t\\t')[1][:-1])\n",
    "                ecc_b_list = np.append(ecc_b_list, ecc_b)\n",
    "\n",
    "                strength = ecc_c / (semi_c - semi_b)\n",
    "\n",
    "                if math.isinf(strength):\n",
    "                    strength = -1\n",
    "                    print(\"Strength == inf for sim %i\"%sim_idx)\n",
    "\n",
    "                strength_list = np.append(strength_list,strength)\n",
    "\n",
    "                if bAtmesc: #eqtide+distorb+atmesc\n",
    "                    print(\"do eqorbmesc stuff!\")\n",
    "                    \n",
    "                # test for distorb merge\n",
    "                bMerge_eqorb = check_merge(sim_dir)\n",
    "                bMerge_eqorb_list = np.append(bMerge_eqorb_list,bMerge_eqorb)\n",
    "                # test for eqtide merge\n",
    "                eq_sim_dir = sim_dir.split('runs_eqorb')\n",
    "                eq_sim_dir = eq_sim_dir[0] + \"runs_eq_only\" + eq_sim_dir[1]\n",
    "                bMerge_eqonly = check_merge(eq_sim_dir)\n",
    "                bMerge_eqtide_list = np.append(bMerge_eqtide_list, bMerge_eqonly)\n",
    "                \n",
    "                    \n",
    "            elif bAtmesc: #eqtide+atmesc\n",
    "                log_file = sim_dir + \"/log\"\n",
    "                log_file = open(log_file,'r')\n",
    "                log_content = log_file.read()\n",
    "                if log_content.find(\"HALT: star reached the edge of the luminosity grid\") != -1:\n",
    "                    Lum_grid_counter += 1\n",
    "                b_file = sim_dir + '/b.in'\n",
    "                b_file = open(b_file,'r')\n",
    "                b_content = b_file.readlines()\n",
    "                mass_b = np.float64(b_content[4].split('\\t\\t')[1][:-1])*-1\n",
    "                mass_b_list = np.append(mass_b_list, mass_b)\n",
    "                semi_b = np.float64(b_content[10].split('\\t\\t')[1][:-1])\n",
    "                semi_b_list = np.append(semi_b_list, semi_b)\n",
    "                ecc_b = np.float64(b_content[9].split('\\t\\t')[1][:-1])\n",
    "                ecc_b_list = np.append(ecc_b_list, ecc_b)\n",
    "                \n",
    "                b_fwd = open(sim_dir+\"/system.b.forward\",'r')\n",
    "                b_fwd_content = b_fwd.readlines()\n",
    "                tidalqenv_b = b_fwd_content[0].split(' ')[-3]\n",
    "                for line in b_fwd_content:\n",
    "                    #pdb.set_trace()\n",
    "                    tidalq_output = line.split(' ')[-3]\n",
    "                    envmass = np.float64(line.split(' ')[-4])\n",
    "                    if (envmass == 0):\n",
    "                        atm_lost_sims = np.append(atm_lost_sims, sim_idx)\n",
    "                        lost_env_counter += 1\n",
    "                        break\n",
    "                \n",
    "                # test for merge\n",
    "                bMerge_eqmesc = check_merge(sim_dir)\n",
    "                bMerge_eqmesc_list = np.append(bMerge_eqmesc_list, bMerge_eqmesc)\n",
    "                # check for eqtide merge\n",
    "                eq_sim_dir = sim_dir.split(\"runs_eqmesc\")\n",
    "               # pdb.set_trace()\n",
    "                eq_sim_dir = eq_sim_dir[0] + \"runs_eq_only\" + eq_sim_dir[1]\n",
    "                bMerge_eqonly = check_merge(eq_sim_dir)\n",
    "                bMerge_eqtide_list = np.append(bMerge_eqtide_list, bMerge_eqonly)\n",
    "\n",
    "            else: #eqtide\n",
    "                b_file = sim_dir + '/b.in'\n",
    "                b_file = open(b_file,'r')\n",
    "                b_content = b_file.readlines()\n",
    "                mass_b = np.float64(b_content[4].split('\\t\\t')[1][:-1])*-1\n",
    "                mass_b_list = np.append(mass_b_list, mass_b)\n",
    "                semi_b = np.float64(b_content[10].split('\\t\\t')[1][:-1])\n",
    "                semi_b_list = np.append(semi_b_list, semi_b)\n",
    "                ecc_b = np.float64(b_content[9].split('\\t\\t')[1][:-1])\n",
    "                ecc_b_list = np.append(ecc_b_list, ecc_b)\n",
    "                # test for merge\n",
    "                bMerge = check_merge(sim_dir)\n",
    "                bMerge_list = np.append(bMerge_list, bMerge)\n",
    "                    \n",
    "        except IndexError: # the runs that didnt complete. lets delete those. \n",
    "            bad_sim_list = np.append(bad_sim_list,sim_dir)\n",
    "            # to filter out the unfinished sims\n",
    "            bMerge = -9999\n",
    "            bMerge_eqtide_list = np.append(bMerge_eqtide_list, bMerge)\n",
    "            if bDistorb:\n",
    "                if bAtmesc: #eqtide+distorb+atmesc\n",
    "                    bMerge_eqorbmesc_list = np.append(bMerge_eqorbmesc_list, bMerge)\n",
    "                else: #eqtide+distorb\n",
    "                    bMerge_eqorb_list = np.append(bMerge_eqorb_list, bMerge)\n",
    "            elif bAtmesc: #eqtide+atmesc\n",
    "                bMerge_eqmesc_list = np.append(bMerge_eqmesc_list, bMerge)\n",
    "                \n",
    "        \n",
    "    # now to control for what to return based on module\n",
    "    print(\"%i Sims produced errors when reading:\\n \"%bad_sim_list.shape)\n",
    "    print(bad_sim_list)\n",
    "    if (bDistorb == 1 and bAtmesc == 0): #eqtide + distorb\n",
    "        output_list = np.array([runs_list, mass_b_list, mass_c_list, semi_b_list,\n",
    "                                semi_c_list, ecc_b_list, ecc_c_list, strength_list,\n",
    "                                bMerge_eqtide_list, bMerge_eqorb_list])\n",
    "        output_list = output_list.transpose()\n",
    "    elif (bDistorb == 0 and bAtmesc == 1): #eqtide + atmesc\n",
    "        print(\"%i Sims out of %i lost their envelopes\\n\"%(lost_env_counter, len(runs_list)))\n",
    "        print(\"%i Sims had stars reach end of lum. grid\\n\"%Lum_grid_counter)\n",
    "        \n",
    "        output_list = np.array([runs_list, mass_b_list, semi_b_list, ecc_b_list,\n",
    "                                bMerge_list])\n",
    "        output_list = output_list.transpose()\n",
    "    else: # eqtide\n",
    "        output_list = np.array([runs_list, mass_b_list, semi_b_list, ecc_b_list,\n",
    "                                bMerge_list])\n",
    "        output_list = output_list.transpose()\n",
    "        \n",
    "    return output_list\n",
    "    \n",
    "\n",
    "    \n",
    "def make_contour(final_data, x_binwidth=0.01, y_binwidth=0.5, xlim=(0,0.04), levels=[0.1,0.2,0.3,0.4,0.5,0.6]):\n",
    "    '''\n",
    "    here, the final_data input is (~25000,3) dataset, where each row repesents one simulation ()\n",
    "    [0:1] = mass, [1:2] = semi, [2:3] = ecc\n",
    "    '''\n",
    "    x = np.arange(0,0.15,x_binwidth)\n",
    "    #pdb.set_trace()\n",
    "    y = np.arange(0,math.ceil(np.max(final_data[:,0])), y_binwidth)\n",
    "    z = np.zeros(shape=(len(y),len(x)))\n",
    "    \n",
    "    print(\"Shaping Contour Data...\")\n",
    "    for mass_idx, mass in enumerate(y):\n",
    "        mass_lower_bin = mass\n",
    "        mass_upper_bin = mass + y_binwidth\n",
    "        x_avg_ecc = np.array([]) # list of average ecc per row of y\n",
    "        \n",
    "        for semi_idx, semi in enumerate(x):\n",
    "            semi_lower_bin = semi\n",
    "            semi_upper_bin = semi+x_binwidth\n",
    "            ecc_bin = np.array([])\n",
    "            \n",
    "            for entry in final_data:\n",
    "                m = entry[0:1]\n",
    "                a = entry[1:2]\n",
    "                e = entry[2:3]\n",
    "                \n",
    "                if (m<mass_upper_bin and m > mass_lower_bin and a < semi_upper_bin and a > semi_lower_bin):\n",
    "                    ecc_bin = np.append(ecc_bin, e)\n",
    "            avg_ecc_in_bin = np.mean(ecc_bin)\n",
    "            x_avg_ecc = np.append(x_avg_ecc, avg_ecc_in_bin)\n",
    "        z[mass_idx] = x_avg_ecc\n",
    "    print(\"Making Eccentricty Plot\")\n",
    "    \n",
    "    fig,ax = plt.subplots(1,1)\n",
    "    fig.set_size_inches(10,10)\n",
    "    ct = ax.contour(x,y,z,levels=levels)\n",
    "    ax.set(xlabel=\"Semi(AU)\", ylabel=\"Mass($M_{\\oplus}$)\", xlim=xlim, title=\"Avg Ecc contours for merged planets\")\n",
    "    ax.clabel(ct,inline=True)    \n",
    "            \n",
    "\n",
    "        \n",
    "def make_strength_contour(final_data, x_binwidth=1, y_binwidth=0.01, xlim=(0,10), levels=[0.01,0.02,0.03,0.04]):\n",
    "    '''\n",
    "    here, the final_data input is (~25000,3) dataset, where each row repesents one simulation ()\n",
    "    [0:1] = ecc, [1:2] = str, [2:3] = semi\n",
    "    '''\n",
    "    x = np.arange(0,30,x_binwidth)\n",
    "    #pdb.set_trace()\n",
    "    y = np.arange(0,0.15, y_binwidth)\n",
    "    z = np.zeros(shape=(len(y),len(x)))\n",
    "    \n",
    "    print(\"Shaping Contour Data to \" + str(z.shape))\n",
    "    for ecc_idx, ecc in enumerate(y):\n",
    "        ecc_lower_bin = ecc\n",
    "        ecc_upper_bin = ecc + y_binwidth\n",
    "        x_avg_a = np.array([]) # list of average ecc per row of y\n",
    "        \n",
    "        for strength_idx, strength in enumerate(x):\n",
    "            strength_lower_bin = strength\n",
    "            strength_upper_bin = strength+x_binwidth\n",
    "            a_bin = np.array([])\n",
    "            \n",
    "            for entry in final_data:\n",
    "                e = entry[0:1]\n",
    "                s = entry[1:2]\n",
    "                a = entry[2:3]\n",
    "                \n",
    "                if (e<ecc_upper_bin and e > ecc_lower_bin and s < strength_upper_bin and s > strength_lower_bin):\n",
    "                    a_bin = np.append(a_bin, a)\n",
    "            avg_a_in_bin = np.mean(a_bin)\n",
    "            x_avg_a = np.append(x_avg_a, avg_a_in_bin)\n",
    "        z[ecc_idx] = x_avg_a\n",
    "    print(\"Making Eccentricty Plot\")\n",
    "\n",
    "    fig,ax = plt.subplots(1,1)\n",
    "    fig.set_size_inches(10,10)\n",
    "    ct = ax.contour(x,y,z,levels=levels)\n",
    "    ax.set(xlabel=\"Strength(e/AU)\", ylabel=\"Ecc(b)\", xlim=xlim, title=\"Avg Semi contours for merged planets\")\n",
    "    ax.clabel(ct,inline=True)    \n",
    "\n",
    "    return z\n"
   ]
  },
  {
   "cell_type": "code",
   "execution_count": 10,
   "metadata": {},
   "outputs": [
    {
     "name": "stdout",
     "output_type": "stream",
     "text": [
      "Found 14944 Sims\n",
      "\n",
      "Fetching data for Eqtide+Atmesc runs...\n",
      "2 Sims produced errors when reading:\n",
      " \n",
      "['./final_data/runs_eqmesc/20070' './final_data/runs_eqmesc/10937']\n",
      "7248 Sims out of 14944 lost their envelopes\n",
      "\n",
      "11622 Sims had stars reach end of lum. grid\n",
      "\n"
     ]
    }
   ],
   "source": [
    "final_data_eqmesc_dir = \"./final_data/runs_eqmesc\"\n",
    "final_data_eqmesc = get_merged_data(final_data_eqmesc_dir)"
   ]
  },
  {
   "cell_type": "code",
   "execution_count": null,
   "metadata": {
    "collapsed": true
   },
   "outputs": [],
   "source": [
    "# for eq_only        \n",
    "final_b_data_eqonly = get_merged_data(final_data_eqonly)\n",
    "merged_data = final_b_data_eqonly[np.where(final_b_data_eqonly[:,4].astype(float) == 1)]\n",
    "merged_data.shape\n"
   ]
  },
  {
   "cell_type": "code",
   "execution_count": null,
   "metadata": {
    "collapsed": true
   },
   "outputs": [],
   "source": [
    "make_contour(merged_data[:,1:].astype(np.float64),x_binwidth=0.025)"
   ]
  },
  {
   "cell_type": "code",
   "execution_count": null,
   "metadata": {
    "collapsed": true
   },
   "outputs": [],
   "source": [
    "np.arange(0,1,0.5)"
   ]
  },
  {
   "cell_type": "code",
   "execution_count": null,
   "metadata": {
    "collapsed": true
   },
   "outputs": [],
   "source": [
    "# for eqorb\n",
    "final_data_eqorb = get_merged_data(final_data_eqorb)\n",
    "\n",
    "\n"
   ]
  },
  {
   "cell_type": "code",
   "execution_count": null,
   "metadata": {
    "collapsed": true
   },
   "outputs": [],
   "source": [
    "# now lets filter out the ones that didnt complete...\n",
    "comp_mask = np.where((final_data_eqorb[:,9].astype(float) != -9999) | (final_data_eqorb[:,8].astype(float) != -9999))\n",
    "completed_eqorb_data = final_data_eqorb[comp_mask]\n",
    "\n",
    "# now lets filter the runs where bMerge_eqtide = 0 and bMerge_eqorb = 1\n",
    "# bMerge_eqtide idx = 8, bMerge_eqorb idx = 9\n",
    "distorb_caused_merge = np.where((completed_eqorb_data[:,9].astype(float) == 1) & (completed_eqorb_data[:,8].astype(float) == 0))\n",
    "\n",
    "\n",
    "# this is the data to use when determining how distorb affects merging\n",
    "orb_merge_eq_nomerge_data = completed_eqorb_data[distorb_caused_merge]\n"
   ]
  },
  {
   "cell_type": "code",
   "execution_count": null,
   "metadata": {
    "collapsed": true
   },
   "outputs": [],
   "source": [
    "def make_eqorb_merge_eq_nomerge_hist(orb_merge_eq_nomerge_data, bins = 20):\n",
    "    # we want to make a histogram of semi_b\n",
    "    semi_b = orb_merge_eq_nomerge_data[:,3].astype(float)\n",
    "    semi_c = orb_merge_eq_nomerge_data[:,4].astype(float)\n",
    "    \n",
    "    fig,ax = plt.subplots(2,1)\n",
    "    fig.set_size_inches(10,10)\n",
    "    ax[0].hist(semi_b, bins=bins, weights = np.zeros_like(semi_b)+1./semi_b.size)\n",
    "    ax[0].set(xlabel=\"Inner Semi(AU)\", ylabel=\"Percentage(\\%)\", title=\"Cases where outer planet caused merge\")\n",
    "    ax[0].text(0.06,0.15,\"N=%i\"%semi_b.shape[0])\n",
    "    \n",
    "    ax[1].hist(semi_c, bins=bins, weights = np.zeros_like(semi_c)+1./semi_c.size)\n",
    "    ax[1].set(xlabel=\"Outer Semi(AU)\", ylabel=\"Percentage(\\%)\")\n",
    "    fig.savefig(\"outer_planet_merge.png\")\n",
    "    \n",
    "    \n",
    "    \n",
    "make_eqorb_merge_eq_nomerge_hist(orb_merge_eq_nomerge_data)"
   ]
  },
  {
   "cell_type": "code",
   "execution_count": null,
   "metadata": {
    "collapsed": true
   },
   "outputs": [],
   "source": [
    "# the addition of an outer planet can extend the distance at which the inner planet can merge. \n",
    "# cool!!"
   ]
  },
  {
   "cell_type": "code",
   "execution_count": null,
   "metadata": {
    "collapsed": true
   },
   "outputs": [],
   "source": [
    "# for eqmesc\n",
    "\n",
    "\n"
   ]
  },
  {
   "cell_type": "code",
   "execution_count": null,
   "metadata": {
    "collapsed": true
   },
   "outputs": [],
   "source": [
    "make_contour(final_b_data)"
   ]
  },
  {
   "cell_type": "code",
   "execution_count": null,
   "metadata": {
    "collapsed": true
   },
   "outputs": [],
   "source": [
    "# make histogram below\n",
    "# planets that lost envelopes\n",
    "# send rory the hill stab case "
   ]
  },
  {
   "cell_type": "code",
   "execution_count": null,
   "metadata": {
    "collapsed": true
   },
   "outputs": [],
   "source": [
    "# lets find the sims that are said to be hillstable, but shouldnt be\n",
    "\n",
    "fake_hillstab_sims = np.array([13380,10282,369,20941,7058,5404,2793,5556,6203,16812])\n",
    "\n",
    "for sim_num in fake_hillstab_sims:\n",
    "    sim_name = \"%05i\"%sim_num\n",
    "    # lets read in b and c. \n",
    "    b_file = open(\"./final_data/runs_eqorb/\"+sim_name+\"/b.in\",'r')\n",
    "    c_file = open(\"./final_data/runs_eqorb/\"+sim_name+\"/c.in\",'r')\n",
    "    b_content = b_file.readlines()\n",
    "    c_content = c_file.readlines()\n",
    "    # what do we need to read in?\n",
    "    \n",
    "    \n",
    "    \n",
    "    \n",
    "    \n",
    "    "
   ]
  },
  {
   "cell_type": "code",
   "execution_count": null,
   "metadata": {
    "collapsed": true
   },
   "outputs": [],
   "source": [
    "lehmer_test_dir = \"/home/dm1681/vplanet/testing/lehmer17/\"\n",
    "log_file = open(lehmer_test_dir+\"log\",\"r\")\n",
    "log_content = log_file.read()\n",
    "log_content.find(\"Envelope lost!\")"
   ]
  },
  {
   "cell_type": "code",
   "execution_count": null,
   "metadata": {
    "collapsed": true
   },
   "outputs": [],
   "source": [
    "# case that lost a lot of atmosphere, compare eqtide+atmesc w/ eqtide orbital params. \n",
    "# run atmesc cases. \n",
    "\n",
    "#mardling and lin 2004; raymond 2006 (some destruction), "
   ]
  }
 ],
 "metadata": {
  "kernelspec": {
   "display_name": "Python 3",
   "language": "python",
   "name": "python3"
  },
  "language_info": {
   "codemirror_mode": {
    "name": "ipython",
    "version": 3
   },
   "file_extension": ".py",
   "mimetype": "text/x-python",
   "name": "python",
   "nbconvert_exporter": "python",
   "pygments_lexer": "ipython3",
   "version": "3.6.1"
  }
 },
 "nbformat": 4,
 "nbformat_minor": 2
}
