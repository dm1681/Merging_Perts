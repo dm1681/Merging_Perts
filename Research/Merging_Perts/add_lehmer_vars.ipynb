{
 "cells": [
  {
   "cell_type": "code",
   "execution_count": 1,
   "metadata": {
    "collapsed": true
   },
   "outputs": [],
   "source": [
    "import numpy as np\n",
    "import matplotlib.pyplot as plt\n",
    "import os\n",
    "import pdb\n",
    "from astropy.table import QTable\n",
    "import shutil\n",
    "%matplotlib inline"
   ]
  },
  {
   "cell_type": "code",
   "execution_count": 2,
   "metadata": {},
   "outputs": [
    {
     "name": "stdout",
     "output_type": "stream",
     "text": [
      "./final_data/runs_eq_only/24999\r"
     ]
    }
   ],
   "source": [
    "# lets couple this shit\n",
    "i = 0 \n",
    "n = 25000\n",
    "\n",
    "eqorb_dir = './final_data/runs_eqorb/'\n",
    "eq_only_dir = './final_data/runs_eq_only/'\n",
    "\n",
    "def add_atmosphere(dMass, dTidalQ, dK2):\n",
    "    dPresXUV = float(np.random.uniform(0.1,10,1))\n",
    "    dThermTemp = float(np.random.uniform(880,3000,1))\n",
    "    atmmassfrac = float(np.random.uniform(0.01,0.1,1))\n",
    "    dEnvelopeMass = float(dMass * atmmassfrac * -1)\n",
    "    dAtmXAbsEffH = float(np.random.uniform(0.1,0.6,1))\n",
    "    dAtmGasConst = float(np.random.uniform(3600,4157,1))\n",
    "    dSatXUVTime = float(np.random.uniform(80e6,120e6,1))\n",
    "    dTidalQRock = float(np.random.uniform(30,301,1))\n",
    "    dK2Rock = 0.3\n",
    "    dTidalQEnv = dTidalQ\n",
    "    dK2Env = dK2\n",
    "    bEnvTides = 1\n",
    "    return (dPresXUV, dThermTemp, dEnvelopeMass, dAtmXAbsEffH, dAtmGasConst, dSatXUVTime,\n",
    "            dTidalQRock, dK2Rock, dTidalQEnv, dK2Env)\n",
    "\n",
    "def write_atmesc_stuff(body_content, src_dir, dest_dir,bdistorb):\n",
    "    # here body_content is the b/c.in file read in using .readlines()\n",
    "    # first lets create the destination directory:\n",
    "    # if the vpl/star files dont already exist in the destination directory, we copy them over\n",
    "    if (os.path.isfile(dest_dir+'/vpl.in') == 0): \n",
    "        os.makedirs(dest_dir)\n",
    "        shutil.copy(src_dir + \"/vpl.in\",dest_dir+\"/vpl.in\")\n",
    "    \n",
    "    # we change dTidalQ to dTidalQEnv and dK2 to dK2Env\n",
    "    name = body_content[0].split('\\t\\t')[1][:-1]\n",
    "    if name == 'b' and bdistorb == 0:\n",
    "        tidalq_line = 17\n",
    "        k2_line = 18\n",
    "    elif name == 'c':\n",
    "        tidalq_line = 17\n",
    "        k2_line = 18\n",
    "    elif name == 'b':\n",
    "        tidalq_line = 19\n",
    "        k2_line = 20\n",
    "\n",
    "    body_content[tidalq_line] = body_content[tidalq_line].replace('dTidalQ\\t','dTidalQEnv')\n",
    "    body_content[k2_line] = body_content[k2_line].replace('dK2','dK2Env')\n",
    "    \n",
    "    if bdistorb:\n",
    "        modules = 'eqtide distorb'\n",
    "    else:\n",
    "        modules = 'eqtide'\n",
    "    \n",
    "    body_content[1] = body_content[1].replace(modules,modules+' atmesc')\n",
    "    \n",
    "    atmesc_content = (\"\\nsPlanetRadiusModel\\t\" + \"lehmer\" +\n",
    "                      \"\\ndEnvelopeMass\\t\\t\" + str(dEnvelopeMass) + \n",
    "                      \"\\ndPresXUV\\t\\t\" + str(dPresXUV) +\n",
    "                      \"\\ndThermTemp\\t\\t\" + str(dThermTemp) + \n",
    "                      \"\\ndAtmXAbsEffH\\t\\t\" + str(datmXAbsEffH) + \n",
    "                      \"\\ndAtmGasConst\\t\\t\" + str(dAtmGasConst) + \n",
    "                      \"\\ndTidalQRock\\t\\t\" + str(dTidalQRock) + \n",
    "                      \"\\ndK2Rock\\t\\t\\t\" + str(dK2Rock) + \n",
    "                      \"\\nbHaltEnvelopeGone\\t\\t\" + \"0\" + \n",
    "                      \"\\n\")\n",
    "    \n",
    "    body_content.insert(-2,atmesc_content)\n",
    "    body_content[-1] = body_content[-1][:-1] + \" -Mass -EnvelopeMass TidalQ\" + body_content[-1][-1]\n",
    "    body_content = \"\".join(body_content)\n",
    "    body_file = open(dest_dir+'/'+name+'.in','w')\n",
    "    body_file.write(body_content)\n",
    "    body_file.close()\n",
    "\n",
    "def write_stellar(sim_dir, b_atm, c_atm):\n",
    "    if (b_atm or c_atm):\n",
    "        src_star_file = open(sim_dir+'/star.in','r')\n",
    "        star_content = src_star_file.readlines()\n",
    "        star_content[1] = star_content[1].replace('eqtide','eqtide stellar')\n",
    "        star_content.insert(-2,\"\\ndSatXUVTime\\t\"+str(dSatXUVTime))\n",
    "        star_content = \"\".join(star_content)\n",
    "        dest_star_file = open(dest_dir+sim_number+'/star.in','w')\n",
    "        dest_star_file.write(star_content)\n",
    "        dest_star_file.close()\n",
    "\n",
    "while i <= n-1:\n",
    "    sim_number = \"%05i\"%i\n",
    "    sim_dir = eqorb_dir + sim_number\n",
    "    dest_dir = './eqorbmesc/'\n",
    "    # lets read in the input files\n",
    "    #eqorb first\n",
    "    c_atm = 0 # control to determine if an atmosphere was added\n",
    "    c_file = sim_dir + \"/c.in\"\n",
    "    c_file = open(c_file,'r')\n",
    "    c_content = c_file.readlines()\n",
    "    c_tidalq = float(c_content[17].split('\\t\\t')[1][:-1])\n",
    "    c_mass = float(c_content[4].split('\\t\\t')[1][:-1])*-1\n",
    "    c_k2 = float(c_content[18].split('\\t\\t')[1][:-1])\n",
    "    # add an atmosphere to c\n",
    "    if c_tidalq > 400:\n",
    "        c_atm = 1\n",
    "        (dPresXUV, dThermTemp, dEnvelopeMass, datmXAbsEffH, dAtmGasConst, dSatXUVTime,\n",
    "         dTidalQRock, dK2Rock, dTidalQEnv, dK2Env) = add_atmosphere(c_mass, c_tidalq, c_k2)\n",
    "        write_atmesc_stuff(c_content, sim_dir, dest_dir+sim_number,bdistorb=1)\n",
    "    c_file.close()\n",
    "    \n",
    "    \n",
    "    b_atm = 0 # control to determine if an atmosphere was added\n",
    "    b_file = sim_dir + \"/b.in\"\n",
    "    b_file = open(b_file,'r')\n",
    "    b_content = b_file.readlines()\n",
    "    b_tidalq = float(b_content[19].split('\\t\\t')[1][:-1])\n",
    "    b_mass = float(b_content[4].split('\\t\\t')[1][:-1])*-1\n",
    "    b_k2 = float(b_content[20].split('\\t\\t')[1][:-1])\n",
    "    # add an atmosphere to b\n",
    "    if b_tidalq > 400:\n",
    "        b_atm = 1\n",
    "        (dPresXUV, dThermTemp, dEnvelopeMass, datmXAbsEffH, dAtmGasConst, dSatXUVTime,\n",
    "         dTidalQRock, dK2Rock, dTidalQEnv, dK2Env) = add_atmosphere(b_mass, b_tidalq, b_k2)\n",
    "        write_atmesc_stuff(b_content, sim_dir, dest_dir+sim_number,bdistorb=1)\n",
    "    b_file.close()\n",
    "    \n",
    "    # now we need to other files for distorb to work, and stellar\n",
    "    if (b_atm==1 and c_atm==0):\n",
    "        shutil.copy(sim_dir+'/c.in',dest_dir+sim_number+'/c.in')\n",
    "        write_stellar(sim_dir, b_atm, c_atm)\n",
    "    elif (b_atm == 0 and c_atm == 1):\n",
    "        shutil.copy(sim_dir+'/b.in',dest_dir+sim_number+'/b.in')\n",
    "        write_stellar(sim_dir, b_atm, c_atm)\n",
    "    elif (b_atm == 1 and c_atm == 1):\n",
    "        write_stellar(sim_dir, b_atm, c_atm)\n",
    "\n",
    "    # now lets do the same stuff for eqtide_only\n",
    "    sim_dir = eq_only_dir + sim_number\n",
    "    dest_dir = './eqmesc/'\n",
    "    b_atm = 0\n",
    "    b_file = sim_dir+'/b.in'\n",
    "    b_file = open(b_file,'r')\n",
    "    b_content = b_file.readlines()\n",
    "    b_tidalq = float(b_content[17].split('\\t\\t')[1][:-1])\n",
    "    if b_tidalq > 400:\n",
    "        # we've already added at atmosphere, so lets just use the previous values\n",
    "        b_atm = 1\n",
    "        write_atmesc_stuff(b_content,sim_dir,dest_dir+sim_number,bdistorb=0)\n",
    "        write_stellar(sim_dir, b_atm, c_atm=0)\n",
    "    b_file.close()\n",
    "    print (sim_dir,end='\\r')\n",
    "    i += 1"
   ]
  },
  {
   "cell_type": "code",
   "execution_count": null,
   "metadata": {
    "collapsed": true
   },
   "outputs": [],
   "source": [
    "os.path.isfile('./final_data/runs_eqorb/00000/b.in') != 0"
   ]
  },
  {
   "cell_type": "code",
   "execution_count": null,
   "metadata": {
    "collapsed": true
   },
   "outputs": [],
   "source": [
    "# what things do we need to add for each planet that has an atmospheric tidalq\n",
    "# eqtide+atmesc\n",
    "# sPlanetRadiusModel = lehmer\n",
    "# dthermtemp\n",
    "# dpresxuv\n",
    "# datmgasconst\n",
    "# bEnvTides = 1\n",
    "# dTidalQEnv\n",
    "# dK2Env\n",
    "# dTidalQRock\n",
    "# dK2Rock\n",
    "\n"
   ]
  },
  {
   "cell_type": "code",
   "execution_count": null,
   "metadata": {
    "collapsed": true
   },
   "outputs": [],
   "source": [
    "'''\n",
    "- plot of env mass, mass, semi, ecc, tidalq, for case env --> rock; \n",
    "- gen data sets for eqmesc, and eqorbmesc. \n",
    "'''"
   ]
  },
  {
   "cell_type": "code",
   "execution_count": 32,
   "metadata": {
    "collapsed": true
   },
   "outputs": [],
   "source": [
    "# now lets make some figures to show the above distribtions, just to double check.\n",
    "# but first how can I double check I've done everything right...\n",
    "# that atmospheres in the above \n",
    "\n",
    "eqorbmesc_dir = './eqorbmesc/'\n",
    "eqmesc_dir = './eqmesc/'\n",
    "\n",
    "eqmesc_sims = os.listdir(eqmesc_dir)\n",
    "eqorbmesc_sims = os.listdir(eqorbmesc_dir)\n",
    "\n",
    "\n"
   ]
  },
  {
   "cell_type": "code",
   "execution_count": null,
   "metadata": {
    "collapsed": true
   },
   "outputs": [],
   "source": []
  }
 ],
 "metadata": {
  "kernelspec": {
   "display_name": "Python 3",
   "language": "python",
   "name": "python3"
  },
  "language_info": {
   "codemirror_mode": {
    "name": "ipython",
    "version": 3
   },
   "file_extension": ".py",
   "mimetype": "text/x-python",
   "name": "python",
   "nbconvert_exporter": "python",
   "pygments_lexer": "ipython3",
   "version": "3.6.1"
  }
 },
 "nbformat": 4,
 "nbformat_minor": 2
}
