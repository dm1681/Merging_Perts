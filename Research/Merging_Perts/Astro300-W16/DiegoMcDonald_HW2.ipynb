{
 "cells": [
  {
   "cell_type": "markdown",
   "metadata": {},
   "source": [
    "## Diego McDonald - Homework \\#2"
   ]
  },
  {
   "cell_type": "code",
   "execution_count": 1,
   "metadata": {
    "collapsed": false
   },
   "outputs": [],
   "source": [
    "import numpy as np\n",
    "from astropy.table import QTable"
   ]
  },
  {
   "cell_type": "markdown",
   "metadata": {},
   "source": [
    "#### The columns for the dataset 'MainBelt.csv' are:\n",
    "\n",
    "* `Col 1: Asteroid Name and Number (string)`\n",
    "* `Col 2: Asteroid Absolute Magnitude (float)`\n",
    "* `Col 3: Asteroid Albedo (float)`"
   ]
  },
  {
   "cell_type": "markdown",
   "metadata": {},
   "source": [
    "### Read in the datafile `MainBelt.csv`"
   ]
  },
  {
   "cell_type": "code",
   "execution_count": 2,
   "metadata": {
    "collapsed": false
   },
   "outputs": [
    {
     "data": {
      "text/html": [
       "&lt;QTable length=2026&gt;\n",
       "<table id=\"table139832197043424\">\n",
       "<thead><tr><th>Name</th><th>H</th><th>A</th></tr></thead>\n",
       "<thead><tr><th>str34</th><th>float64</th><th>float64</th></tr></thead>\n",
       "<tr><td>1 Ceres</td><td>3.34</td><td>0.09</td></tr>\n",
       "<tr><td>2 Pallas</td><td>4.13</td><td>0.1587</td></tr>\n",
       "<tr><td>3 Juno</td><td>5.33</td><td>0.2383</td></tr>\n",
       "<tr><td>4 Vesta</td><td>3.2</td><td>0.4228</td></tr>\n",
       "<tr><td>5 Astraea</td><td>6.85</td><td>0.2268</td></tr>\n",
       "<tr><td>6 Hebe</td><td>5.71</td><td>0.2679</td></tr>\n",
       "<tr><td>7 Iris</td><td>5.51</td><td>0.2766</td></tr>\n",
       "<tr><td>8 Flora</td><td>6.49</td><td>0.2426</td></tr>\n",
       "<tr><td>9 Metis</td><td>6.28</td><td>0.118</td></tr>\n",
       "<tr><td>10 Hygiea</td><td>5.43</td><td>0.0717</td></tr>\n",
       "<tr><td>...</td><td>...</td><td>...</td></tr>\n",
       "<tr><td>25343 (1999 RA44)</td><td>14.2</td><td>0.0252</td></tr>\n",
       "<tr><td>25453 (1999 XU11)</td><td>12.5</td><td>0.0957</td></tr>\n",
       "<tr><td>25699 (2000 AD127)</td><td>12.6</td><td>0.0346</td></tr>\n",
       "<tr><td>25785 (2000 CY45)</td><td>13.4</td><td>0.0238</td></tr>\n",
       "<tr><td>25843 (2000 EQ84)</td><td>13.3</td><td>0.0167</td></tr>\n",
       "<tr><td>26125 (1992 RG)</td><td>13.0</td><td>0.0975</td></tr>\n",
       "<tr><td>26171 (1996 BY2)</td><td>14.0</td><td>0.048</td></tr>\n",
       "<tr><td>26260 (1998 RA2)</td><td>13.3</td><td>0.067</td></tr>\n",
       "<tr><td>26604 (2000 FO25)</td><td>12.8</td><td>0.4331</td></tr>\n",
       "<tr><td>26662 (2000 WB181)</td><td>14.5</td><td>0.0186</td></tr>\n",
       "</table>"
      ],
      "text/plain": [
       "<QTable length=2026>\n",
       "       Name           H       A   \n",
       "      str34        float64 float64\n",
       "------------------ ------- -------\n",
       "           1 Ceres    3.34    0.09\n",
       "          2 Pallas    4.13  0.1587\n",
       "            3 Juno    5.33  0.2383\n",
       "           4 Vesta     3.2  0.4228\n",
       "         5 Astraea    6.85  0.2268\n",
       "            6 Hebe    5.71  0.2679\n",
       "            7 Iris    5.51  0.2766\n",
       "           8 Flora    6.49  0.2426\n",
       "           9 Metis    6.28   0.118\n",
       "         10 Hygiea    5.43  0.0717\n",
       "               ...     ...     ...\n",
       " 25343 (1999 RA44)    14.2  0.0252\n",
       " 25453 (1999 XU11)    12.5  0.0957\n",
       "25699 (2000 AD127)    12.6  0.0346\n",
       " 25785 (2000 CY45)    13.4  0.0238\n",
       " 25843 (2000 EQ84)    13.3  0.0167\n",
       "   26125 (1992 RG)    13.0  0.0975\n",
       "  26171 (1996 BY2)    14.0   0.048\n",
       "  26260 (1998 RA2)    13.3   0.067\n",
       " 26604 (2000 FO25)    12.8  0.4331\n",
       "26662 (2000 WB181)    14.5  0.0186"
      ]
     },
     "execution_count": 2,
     "metadata": {},
     "output_type": "execute_result"
    }
   ],
   "source": [
    "T = QTable.read('MainBelt.csv',format = 'ascii.csv' )\n",
    "T"
   ]
  },
  {
   "cell_type": "markdown",
   "metadata": {},
   "source": [
    "### Write a function to compute the Diameters of the MBAs"
   ]
  },
  {
   "cell_type": "code",
   "execution_count": 3,
   "metadata": {
    "collapsed": false
   },
   "outputs": [
    {
     "data": {
      "text/html": [
       "&lt;QTable length=2026&gt;\n",
       "<table id=\"table139832197043424\">\n",
       "<thead><tr><th>Name</th><th>H</th><th>A</th><th>Diam</th></tr></thead>\n",
       "<thead><tr><th>str34</th><th>float64</th><th>float64</th><th>float64</th></tr></thead>\n",
       "<tr><td>1 Ceres</td><td>3.34</td><td>0.09</td><td>951.48890004</td></tr>\n",
       "<tr><td>2 Pallas</td><td>4.13</td><td>0.1587</td><td>498.008227327</td></tr>\n",
       "<tr><td>3 Juno</td><td>5.33</td><td>0.2383</td><td>233.863777175</td></tr>\n",
       "<tr><td>4 Vesta</td><td>3.2</td><td>0.4228</td><td>468.22811936</td></tr>\n",
       "<tr><td>5 Astraea</td><td>6.85</td><td>0.2268</td><td>119.042888397</td></tr>\n",
       "<tr><td>6 Hebe</td><td>5.71</td><td>0.2679</td><td>185.156355637</td></tr>\n",
       "<tr><td>7 Iris</td><td>5.51</td><td>0.2766</td><td>199.801568415</td></tr>\n",
       "<tr><td>8 Flora</td><td>6.49</td><td>0.2426</td><td>135.856237475</td></tr>\n",
       "<tr><td>9 Metis</td><td>6.28</td><td>0.118</td><td>214.577399298</td></tr>\n",
       "<tr><td>10 Hygiea</td><td>5.43</td><td>0.0717</td><td>407.160278834</td></tr>\n",
       "<tr><td>...</td><td>...</td><td>...</td><td>...</td></tr>\n",
       "<tr><td>25343 (1999 RA44)</td><td>14.2</td><td>0.0252</td><td>12.1010961189</td></tr>\n",
       "<tr><td>25453 (1999 XU11)</td><td>12.5</td><td>0.0957</td><td>13.5852930807</td></tr>\n",
       "<tr><td>25699 (2000 AD127)</td><td>12.6</td><td>0.0346</td><td>21.5767948095</td></tr>\n",
       "<tr><td>25785 (2000 CY45)</td><td>13.4</td><td>0.0238</td><td>17.9985078753</td></tr>\n",
       "<tr><td>25843 (2000 EQ84)</td><td>13.3</td><td>0.0167</td><td>22.499182858</td></tr>\n",
       "<tr><td>26125 (1992 RG)</td><td>13.0</td><td>0.0975</td><td>10.6911069254</td></tr>\n",
       "<tr><td>26171 (1996 BY2)</td><td>14.0</td><td>0.048</td><td>9.61400541168</td></tr>\n",
       "<tr><td>26260 (1998 RA2)</td><td>13.3</td><td>0.067</td><td>11.2327884451</td></tr>\n",
       "<tr><td>26604 (2000 FO25)</td><td>12.8</td><td>0.4331</td><td>5.56199877757</td></tr>\n",
       "<tr><td>26662 (2000 WB181)</td><td>14.5</td><td>0.0186</td><td>12.2678514589</td></tr>\n",
       "</table>"
      ],
      "text/plain": [
       "<QTable length=2026>\n",
       "       Name           H       A         Diam    \n",
       "      str34        float64 float64    float64   \n",
       "------------------ ------- ------- -------------\n",
       "           1 Ceres    3.34    0.09  951.48890004\n",
       "          2 Pallas    4.13  0.1587 498.008227327\n",
       "            3 Juno    5.33  0.2383 233.863777175\n",
       "           4 Vesta     3.2  0.4228  468.22811936\n",
       "         5 Astraea    6.85  0.2268 119.042888397\n",
       "            6 Hebe    5.71  0.2679 185.156355637\n",
       "            7 Iris    5.51  0.2766 199.801568415\n",
       "           8 Flora    6.49  0.2426 135.856237475\n",
       "           9 Metis    6.28   0.118 214.577399298\n",
       "         10 Hygiea    5.43  0.0717 407.160278834\n",
       "               ...     ...     ...           ...\n",
       " 25343 (1999 RA44)    14.2  0.0252 12.1010961189\n",
       " 25453 (1999 XU11)    12.5  0.0957 13.5852930807\n",
       "25699 (2000 AD127)    12.6  0.0346 21.5767948095\n",
       " 25785 (2000 CY45)    13.4  0.0238 17.9985078753\n",
       " 25843 (2000 EQ84)    13.3  0.0167  22.499182858\n",
       "   26125 (1992 RG)    13.0  0.0975 10.6911069254\n",
       "  26171 (1996 BY2)    14.0   0.048 9.61400541168\n",
       "  26260 (1998 RA2)    13.3   0.067 11.2327884451\n",
       " 26604 (2000 FO25)    12.8  0.4331 5.56199877757\n",
       "26662 (2000 WB181)    14.5  0.0186 12.2678514589"
      ]
     },
     "execution_count": 3,
     "metadata": {},
     "output_type": "execute_result"
    }
   ],
   "source": [
    "def diam(H,A):\n",
    "    \n",
    "    result = (1329 * (A ** (-1/2))) / (10 ** ((.2)*H))\n",
    "    return result\n",
    "\n",
    "DiamResult = diam(T['H'],T['A'])\n",
    "DiamResult\n",
    "T['Diam'] = DiamResult\n",
    "T"
   ]
  },
  {
   "cell_type": "markdown",
   "metadata": {},
   "source": [
    "### Write a function to compute the Masses of the MBAs. Assume $\\rho$ = 3,000 kg/m$^3$"
   ]
  },
  {
   "cell_type": "code",
   "execution_count": 8,
   "metadata": {
    "collapsed": false
   },
   "outputs": [
    {
     "data": {
      "text/html": [
       "&lt;QTable length=2026&gt;\n",
       "<table id=\"table139832679748944\">\n",
       "<thead><tr><th>Name</th><th>Mass</th></tr></thead>\n",
       "<thead><tr><th>str34</th><th>float64</th></tr></thead>\n",
       "<tr><td>1 Ceres</td><td>1.35310361929e+15</td></tr>\n",
       "<tr><td>2 Pallas</td><td>1.94012373935e+14</td></tr>\n",
       "<tr><td>3 Juno</td><td>2.00913332078e+13</td></tr>\n",
       "<tr><td>4 Vesta</td><td>1.61247263082e+14</td></tr>\n",
       "<tr><td>5 Astraea</td><td>2.64990463339e+12</td></tr>\n",
       "<tr><td>6 Hebe</td><td>9.97093188502e+12</td></tr>\n",
       "<tr><td>7 Iris</td><td>1.25290042397e+13</td></tr>\n",
       "<tr><td>8 Flora</td><td>3.9387518944e+12</td></tr>\n",
       "<tr><td>9 Metis</td><td>1.55192885808e+13</td></tr>\n",
       "<tr><td>10 Hygiea</td><td>1.06026905519e+14</td></tr>\n",
       "<tr><td>...</td><td>...</td></tr>\n",
       "<tr><td>25343 (1999 RA44)</td><td>2783517837.26</td></tr>\n",
       "<tr><td>25453 (1999 XU11)</td><td>3938464300.08</td></tr>\n",
       "<tr><td>25699 (2000 AD127)</td><td>15779043435.5</td></tr>\n",
       "<tr><td>25785 (2000 CY45)</td><td>9158606169.74</td></tr>\n",
       "<tr><td>25843 (2000 EQ84)</td><td>17890402568.4</td></tr>\n",
       "<tr><td>26125 (1992 RG)</td><td>1919499027.01</td></tr>\n",
       "<tr><td>26171 (1996 BY2)</td><td>1395831400.0</td></tr>\n",
       "<tr><td>26260 (1998 RA2)</td><td>2226294512.35</td></tr>\n",
       "<tr><td>26604 (2000 FO25)</td><td>270279149.888</td></tr>\n",
       "<tr><td>26662 (2000 WB181)</td><td>2900183006.8</td></tr>\n",
       "</table>"
      ],
      "text/plain": [
       "<QTable length=2026>\n",
       "       Name               Mass      \n",
       "      str34             float64     \n",
       "------------------ -----------------\n",
       "           1 Ceres 1.35310361929e+15\n",
       "          2 Pallas 1.94012373935e+14\n",
       "            3 Juno 2.00913332078e+13\n",
       "           4 Vesta 1.61247263082e+14\n",
       "         5 Astraea 2.64990463339e+12\n",
       "            6 Hebe 9.97093188502e+12\n",
       "            7 Iris 1.25290042397e+13\n",
       "           8 Flora  3.9387518944e+12\n",
       "           9 Metis 1.55192885808e+13\n",
       "         10 Hygiea 1.06026905519e+14\n",
       "               ...               ...\n",
       " 25343 (1999 RA44)     2783517837.26\n",
       " 25453 (1999 XU11)     3938464300.08\n",
       "25699 (2000 AD127)     15779043435.5\n",
       " 25785 (2000 CY45)     9158606169.74\n",
       " 25843 (2000 EQ84)     17890402568.4\n",
       "   26125 (1992 RG)     1919499027.01\n",
       "  26171 (1996 BY2)      1395831400.0\n",
       "  26260 (1998 RA2)     2226294512.35\n",
       " 26604 (2000 FO25)     270279149.888\n",
       "26662 (2000 WB181)      2900183006.8"
      ]
     },
     "execution_count": 8,
     "metadata": {},
     "output_type": "execute_result"
    }
   ],
   "source": [
    "def mass(D):\n",
    "    result = (D**3) * (np.pi) * (1/6) * (3000 * 1000)\n",
    "    return result\n",
    "MassResult = mass(DiamResult)\n",
    "MassResult\n",
    "T['Mass'] = MassResult\n",
    "T['Name','Mass']"
   ]
  },
  {
   "cell_type": "markdown",
   "metadata": {},
   "source": [
    "### List the names of the 5 most massive MBAs"
   ]
  },
  {
   "cell_type": "code",
   "execution_count": 28,
   "metadata": {
    "collapsed": false
   },
   "outputs": [
    {
     "data": {
      "text/html": [
       "&lt;QTable length=5&gt;\n",
       "<table id=\"table139832196046016\">\n",
       "<thead><tr><th>Name</th><th>H</th><th>A</th><th>Diam</th><th>Mass</th></tr></thead>\n",
       "<thead><tr><th>str34</th><th>float64</th><th>float64</th><th>float64</th><th>float64</th></tr></thead>\n",
       "<tr><td>511 Davida (1903 LU)</td><td>6.22</td><td>0.054</td><td>326.082957299</td><td>5.44633285767e+13</td></tr>\n",
       "<tr><td>10 Hygiea</td><td>5.43</td><td>0.0717</td><td>407.160278834</td><td>1.06026905519e+14</td></tr>\n",
       "<tr><td>4 Vesta</td><td>3.2</td><td>0.4228</td><td>468.22811936</td><td>1.61247263082e+14</td></tr>\n",
       "<tr><td>2 Pallas</td><td>4.13</td><td>0.1587</td><td>498.008227327</td><td>1.94012373935e+14</td></tr>\n",
       "<tr><td>1 Ceres</td><td>3.34</td><td>0.09</td><td>951.48890004</td><td>1.35310361929e+15</td></tr>\n",
       "</table>"
      ],
      "text/plain": [
       "<QTable length=5>\n",
       "        Name            H       A         Diam            Mass      \n",
       "       str34         float64 float64    float64         float64     \n",
       "-------------------- ------- ------- ------------- -----------------\n",
       "511 Davida (1903 LU)    6.22   0.054 326.082957299 5.44633285767e+13\n",
       "           10 Hygiea    5.43  0.0717 407.160278834 1.06026905519e+14\n",
       "             4 Vesta     3.2  0.4228  468.22811936 1.61247263082e+14\n",
       "            2 Pallas    4.13  0.1587 498.008227327 1.94012373935e+14\n",
       "             1 Ceres    3.34    0.09  951.48890004 1.35310361929e+15"
      ]
     },
     "execution_count": 28,
     "metadata": {},
     "output_type": "execute_result"
    }
   ],
   "source": [
    "T.sort(['Mass'])\n",
    "mask1 = np.where(T['Mass'] > (5 * (10 ** 13)))\n",
    "T[mask1]\n",
    "\n",
    "\n"
   ]
  },
  {
   "cell_type": "markdown",
   "metadata": {},
   "source": [
    "### List the names of the 5 least massive MBAs"
   ]
  },
  {
   "cell_type": "code",
   "execution_count": 22,
   "metadata": {
    "collapsed": false
   },
   "outputs": [
    {
     "data": {
      "text/html": [
       "&lt;QTable length=5&gt;\n",
       "<table id=\"table139832394671776\">\n",
       "<thead><tr><th>Name</th><th>H</th><th>A</th><th>Diam</th><th>Mass</th></tr></thead>\n",
       "<thead><tr><th>str34</th><th>float64</th><th>float64</th><th>float64</th><th>float64</th></tr></thead>\n",
       "<tr><td>26604 (2000 FO25)</td><td>12.8</td><td>0.4331</td><td>5.56199877757</td><td>270279149.888</td></tr>\n",
       "<tr><td>4335 Verona (1983 VC7)</td><td>13.3</td><td>0.2418</td><td>5.91284960423</td><td>324720999.492</td></tr>\n",
       "<tr><td>3338 Richter (1973 UX5)</td><td>14.2</td><td>0.1</td><td>6.07470203998</td><td>352123345.867</td></tr>\n",
       "<tr><td>4121 Carlin (1986 JH)</td><td>12.6</td><td>0.4164</td><td>6.21970262106</td><td>377945116.924</td></tr>\n",
       "<tr><td>6295 Schmoll (1988 CF3)</td><td>14.0</td><td>0.1114</td><td>6.3107704824</td><td>394790809.145</td></tr>\n",
       "</table>"
      ],
      "text/plain": [
       "<QTable length=5>\n",
       "          Name             H       A         Diam          Mass    \n",
       "         str34          float64 float64    float64       float64   \n",
       "----------------------- ------- ------- ------------- -------------\n",
       "      26604 (2000 FO25)    12.8  0.4331 5.56199877757 270279149.888\n",
       " 4335 Verona (1983 VC7)    13.3  0.2418 5.91284960423 324720999.492\n",
       "3338 Richter (1973 UX5)    14.2     0.1 6.07470203998 352123345.867\n",
       "  4121 Carlin (1986 JH)    12.6  0.4164 6.21970262106 377945116.924\n",
       "6295 Schmoll (1988 CF3)    14.0  0.1114  6.3107704824 394790809.145"
      ]
     },
     "execution_count": 22,
     "metadata": {},
     "output_type": "execute_result"
    }
   ],
   "source": [
    "T.sort(['Mass'])\n",
    "mask2 = np.where(T['Mass'] < (4 * (10 ** 8)))\n",
    "T[mask2]"
   ]
  },
  {
   "cell_type": "markdown",
   "metadata": {},
   "source": [
    "### Determine the total mass of all of the MBAs"
   ]
  },
  {
   "cell_type": "code",
   "execution_count": 32,
   "metadata": {
    "collapsed": false
   },
   "outputs": [
    {
     "name": "stdout",
     "output_type": "stream",
     "text": [
      "3.14617762545e+15\n"
     ]
    }
   ],
   "source": [
    "x = T['Mass']\n",
    "x.sum ()\n",
    "T_M = x.sum ()\n",
    "print (T_M)"
   ]
  },
  {
   "cell_type": "markdown",
   "metadata": {},
   "source": [
    "### Determine the fraction of the total mass contained in the 5 largest MBAs"
   ]
  },
  {
   "cell_type": "code",
   "execution_count": 45,
   "metadata": {
    "collapsed": false
   },
   "outputs": [
    {
     "name": "stdout",
     "output_type": "stream",
     "text": [
      "0.59400762223\n"
     ]
    }
   ],
   "source": [
    "LM = T[mask1]\n",
    "LMt = LM['Mass']\n",
    "frac = (LMt.sum()) / (T_M)\n",
    "print (frac)"
   ]
  },
  {
   "cell_type": "markdown",
   "metadata": {},
   "source": [
    "### How does the total mass of the MBAs compare to the mass of the Moon ($7.35\\ \\times\\ 10^{22}$ kg)?"
   ]
  },
  {
   "cell_type": "code",
   "execution_count": 53,
   "metadata": {
    "collapsed": false
   },
   "outputs": [
    {
     "data": {
      "text/plain": [
       "23361681.61816702"
      ]
     },
     "execution_count": 53,
     "metadata": {},
     "output_type": "execute_result"
    }
   ],
   "source": [
    "M_moon = (7.35 * (10 ** 22))\n",
    "Moon_frac = (M_moon)/(T_M) \n",
    "Moon_frac"
   ]
  },
  {
   "cell_type": "markdown",
   "metadata": {},
   "source": [
    "### How many MBAs does it take to get 90% of the total mass of the MBAs (start from the most massive)"
   ]
  },
  {
   "cell_type": "code",
   "execution_count": 61,
   "metadata": {
    "collapsed": false
   },
   "outputs": [
    {
     "data": {
      "text/plain": [
       "149.0"
      ]
     },
     "execution_count": 61,
     "metadata": {},
     "output_type": "execute_result"
    }
   ],
   "source": [
    "x = T['Mass']\n",
    "T_M = x.sum()\n",
    "T_Mcumperc = (x.cumsum() / x.sum())\n",
    "mask3 = np.where ((T_Mcumperc >= .1) & (T_Mcumperc <= 1))\n",
    "T_Mcumperc[mask3] = 1 \n",
    "y = T_Mcumperc[mask3]\n",
    "y.sum()"
   ]
  },
  {
   "cell_type": "markdown",
   "metadata": {},
   "source": [
    "### Due Wed Jan 19 - 5pm\n",
    "- `cp FirstLast_HW2.ipynb ~pikaia/HOMEWORK/`\n",
    "- `Make sure to change the filename to your name!`\n",
    "- `Make sure to change the Title to your name!`"
   ]
  },
  {
   "cell_type": "markdown",
   "metadata": {},
   "source": [
    "***\n",
    "\n",
    "## Absolute Magnitude, Size and Mass\n",
    "\n",
    "The absolute magnitude **H** of a solar system object is the magnitude that it would have if it was 1 AU from the Earth and 1 AU from the Sun while having a phase angle of 0 degrees. Remember, astronomical magnitudes are \"backwards\".  The magnitude of a bright object is *less* than the magnitude of a dimmer object.\n",
    "\n",
    "The phase angle **$\\theta$** in astronomical observations is the angle between the light incident onto an observed object and the light reflected from the object. In the context of astronomical observations, this is usually the angle $\\angle$ Sun-object-observer.\n",
    "\n",
    "![Phase Angle](images/Phase.jpg)\n",
    "\n",
    "It is actually impossible for an object to be 1 AU from the Earth and 1 AU from the Sun while having a phase angle of 0 degrees. The Sun and the Earth would occupy the same point.  However, this is the definition of **H**.  Please note, that the definition of absolute magnitude for solar system objects is *very* different from the definition of absolute magnitude used for stars.\n",
    "\n",
    "The Absolute magnitude of an object is related to the physical size of the object via the equation:\n",
    "\n",
    "$$\\large D = \\frac{1329}{\\sqrt{A}}\\  10^{-0.2H}$$\n",
    "\n",
    "Where **D** is the diameter of the object in kilometers and **A** is the geometric albedo of the object. \n",
    "\n",
    "The geometric albedo **A** of an astronomical body is the ratio of its actual brightness at zero phase angle (i.e., as seen from the light source) to that of an idealized flat, fully reflecting, diffusively scattering disk with the same cross-section.\n",
    "\n",
    "Perfect reflectors of light have A = 1 and perfect absorbers have **A** = 0. Typical asteroids have a wide range of values: 0.02 $<$ A $<$ 0.8.\n",
    "\n",
    "Once we have the diameter of the object, we can determine the mass if we know the density ($\\rho$).\n",
    "\n",
    "$ \\large \\mathrm{Mass} = \\rho \\cdot \\mathrm{Volume} = \\rho \\cdot \\frac{4}{3} \\pi r^3 \\ = \\ \\rho \\cdot \\frac{1}{6} \\pi D^3 $\n",
    "\n",
    "This assumes that the object is spherical (this is **not** a very good assumption for asteroids)."
   ]
  },
  {
   "cell_type": "code",
   "execution_count": null,
   "metadata": {
    "collapsed": true
   },
   "outputs": [],
   "source": []
  }
 ],
 "metadata": {
  "kernelspec": {
   "display_name": "Python 3",
   "language": "python",
   "name": "python3"
  },
  "language_info": {
   "codemirror_mode": {
    "name": "ipython",
    "version": 3
   },
   "file_extension": ".py",
   "mimetype": "text/x-python",
   "name": "python",
   "nbconvert_exporter": "python",
   "pygments_lexer": "ipython3",
   "version": "3.4.4"
  }
 },
 "nbformat": 4,
 "nbformat_minor": 0
}
