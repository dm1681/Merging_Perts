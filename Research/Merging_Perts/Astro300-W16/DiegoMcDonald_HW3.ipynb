{
 "cells": [
  {
   "cell_type": "markdown",
   "metadata": {},
   "source": [
    "# Diego McDonald- Homework 3"
   ]
  },
  {
   "cell_type": "markdown",
   "metadata": {},
   "source": [
    "* Use the `Astropy` units and constants packages to solve the following problems.\n",
    "* Do not hardcode any constants!\n",
    "* Unless asked, your units should be in the simplest SI units possible"
   ]
  },
  {
   "cell_type": "code",
   "execution_count": 1,
   "metadata": {
    "collapsed": false
   },
   "outputs": [
    {
     "data": {
      "text/plain": [
       "<astropy.units.core._UnitContext at 0x7fdfecb236d8>"
      ]
     },
     "execution_count": 1,
     "metadata": {},
     "output_type": "execute_result"
    }
   ],
   "source": [
    "import numpy as np\n",
    "\n",
    "from astropy import units as u\n",
    "from astropy import constants as const\n",
    "from astropy.units import imperial\n",
    "imperial.enable()"
   ]
  },
  {
   "cell_type": "markdown",
   "metadata": {},
   "source": [
    "### Impulse is a change in momentum\n",
    "\n",
    "$$ I = \\Delta\\ p\\ =\\ m\\Delta v $$"
   ]
  },
  {
   "cell_type": "markdown",
   "metadata": {},
   "source": [
    "**Problem 1** - Calculate the $\\Delta$v that would be the result of an impuse of 700 (N * s) for M = 338 kg."
   ]
  },
  {
   "cell_type": "code",
   "execution_count": 2,
   "metadata": {
    "collapsed": false
   },
   "outputs": [
    {
     "data": {
      "text/latex": [
       "$2.0710059 \\; \\mathrm{\\frac{m}{s}}$"
      ],
      "text/plain": [
       "<Quantity 2.0710059171597632 m / s>"
      ]
     },
     "execution_count": 2,
     "metadata": {},
     "output_type": "execute_result"
    }
   ],
   "source": [
    "M = 338 * u.kg\n",
    "I = 700 * u.N * u.s\n",
    "dV = I/M\n",
    "dV.decompose()"
   ]
  },
  {
   "cell_type": "markdown",
   "metadata": {},
   "source": [
    "**Problem 2** - Calculate the $\\Delta$v that would be the result of an impuse of 700 (lbf * s) for M = 338 kg."
   ]
  },
  {
   "cell_type": "code",
   "execution_count": 3,
   "metadata": {
    "collapsed": false
   },
   "outputs": [
    {
     "data": {
      "text/latex": [
       "$9.2122934 \\; \\mathrm{\\frac{m}{s}}$"
      ],
      "text/plain": [
       "<Quantity 9.21229341304832 m / s>"
      ]
     },
     "execution_count": 3,
     "metadata": {},
     "output_type": "execute_result"
    }
   ],
   "source": [
    "I = 700 * imperial.lbf * u.s\n",
    "M = 338 * u.kg\n",
    "dV = I/M\n",
    "dV.decompose()"
   ]
  },
  {
   "cell_type": "markdown",
   "metadata": {},
   "source": [
    "This is the unit conversion error that doomed the [Mars Climate Orbiter](https://en.wikipedia.org/wiki/Mars_Climate_Orbiter)"
   ]
  },
  {
   "cell_type": "markdown",
   "metadata": {},
   "source": [
    "### The range of a projectile launched with a velocity (v) at and angle ($\\theta$) is\n",
    "\n",
    "$$R\\ =\\  {v^2 \\over g}\\ sin(2\\theta)$$"
   ]
  },
  {
   "cell_type": "markdown",
   "metadata": {},
   "source": [
    "**Problem 3** - Find R for v = 123 mph and $\\theta$ = 1000 arc minutes"
   ]
  },
  {
   "cell_type": "code",
   "execution_count": 4,
   "metadata": {
    "collapsed": false
   },
   "outputs": [
    {
     "data": {
      "text/latex": [
       "$169.41705 \\; \\mathrm{m}$"
      ],
      "text/plain": [
       "<Quantity 169.4170474216097 m>"
      ]
     },
     "execution_count": 4,
     "metadata": {},
     "output_type": "execute_result"
    }
   ],
   "source": [
    "theta = 1000 * u.arcmin\n",
    "v = 123 * imperial.mi / u.h\n",
    "R = (v**2)/(const.g0) * np.sin(2*theta)\n",
    "R.decompose()\n",
    "\n",
    "\n"
   ]
  },
  {
   "cell_type": "markdown",
   "metadata": {},
   "source": [
    "**Problem 4** - How fast to you have to throw a football at 33.3 degrees that that is goes exactly 100 yards. Express your answer in mph"
   ]
  },
  {
   "cell_type": "code",
   "execution_count": 5,
   "metadata": {
    "collapsed": false
   },
   "outputs": [
    {
     "data": {
      "text/latex": [
       "$69.922794 \\; \\mathrm{\\frac{mi}{h}}$"
      ],
      "text/plain": [
       "<Quantity 69.92279356860465 mi / h>"
      ]
     },
     "execution_count": 5,
     "metadata": {},
     "output_type": "execute_result"
    }
   ],
   "source": [
    "theta = 33.3 * u.deg\n",
    "R = 100 * imperial.yd\n",
    "v = np.sqrt(R*const.g0/np.sin(2*theta))\n",
    "v.to(imperial.mi / u.h)"
   ]
  },
  {
   "cell_type": "markdown",
   "metadata": {},
   "source": [
    "### Kepler's third law can be expressed as:\n",
    "\n",
    "$$ T^2 = \\left( {{4\\pi^2} \\over {GM}} \\right)\\ r^3 $$\n",
    "\n",
    "Where **T** is the orbial period of an object at distance (**r**) around a central object of mass (**M**).\n",
    "\n",
    "It assumes the mass of the orbiting object is small compared to the mass of the central object."
   ]
  },
  {
   "cell_type": "markdown",
   "metadata": {},
   "source": [
    "**Problem 5** - Calculate the orbital period of HST. HST orbits 353 miles above the surface of the Earth. Expess your answer in minutes."
   ]
  },
  {
   "cell_type": "code",
   "execution_count": 6,
   "metadata": {
    "collapsed": false
   },
   "outputs": [
    {
     "data": {
      "text/latex": [
       "$96.011886 \\; \\mathrm{min}$"
      ],
      "text/plain": [
       "<Quantity 96.01188551442695 min>"
      ]
     },
     "execution_count": 6,
     "metadata": {},
     "output_type": "execute_result"
    }
   ],
   "source": [
    "r = 353 * imperial.mi + const.R_earth\n",
    "r.si\n",
    "M = const.M_earth\n",
    "T = np.sqrt(((4 * np.pi**2)/(const.G * M))*(r**3))\n",
    "T.to(u.min)"
   ]
  },
  {
   "cell_type": "markdown",
   "metadata": {},
   "source": [
    "** Problem 6 ** - An exoplanet orbits the star Epsilon Tauri in 595 days at a distance of 1.93 AU. Calculate the mass of Epsilon Tauri in terms of solar masses."
   ]
  },
  {
   "cell_type": "code",
   "execution_count": 7,
   "metadata": {
    "collapsed": false
   },
   "outputs": [
    {
     "data": {
      "text/latex": [
       "$2.7084079 \\; \\mathrm{M_{\\odot}}$"
      ],
      "text/plain": [
       "<Quantity 2.7084079224222757 solMass>"
      ]
     },
     "execution_count": 7,
     "metadata": {},
     "output_type": "execute_result"
    }
   ],
   "source": [
    "T = 595 *u.d \n",
    "r = 1.93 *u.AU\n",
    "M = (4*np.pi**2)/(const.G*(T**2 / r**3))\n",
    "M.to(u.solMass)"
   ]
  },
  {
   "cell_type": "markdown",
   "metadata": {},
   "source": [
    "### The Power being received by a solar panel in space can be expressed as:\n",
    "\n",
    "$$ I\\  =\\ {{L_{\\odot}} \\over {4 \\pi d^2}}\\ \\varepsilon$$\n",
    "\n",
    "Where **I** is the power *per unit area* at a distance (**d**) from the Sun, and $\\varepsilon$ is the efficiency of the solar panel.\n",
    "\n",
    "The solar panels that power spacecraft have an efficiency of about 40%."
   ]
  },
  {
   "cell_type": "markdown",
   "metadata": {},
   "source": [
    "** Problem 7 ** -  The New Horizons spacecraft uses 220 Watts of power.\n",
    "\n",
    "Calculate the area of a solar panel that would be needed to power New Horizons at a distance of 1 AU from the Sun."
   ]
  },
  {
   "cell_type": "code",
   "execution_count": 8,
   "metadata": {
    "collapsed": false
   },
   "outputs": [
    {
     "data": {
      "text/latex": [
       "$0.4021741 \\; \\mathrm{m^{2}}$"
      ],
      "text/plain": [
       "<Quantity 0.40217409916248775 m2>"
      ]
     },
     "execution_count": 8,
     "metadata": {},
     "output_type": "execute_result"
    }
   ],
   "source": [
    "E = .4\n",
    "d = 1 *u.AU\n",
    "I = ((const.L_sun)/(4*np.pi*(d**2)))*E\n",
    "P = 220 * u.W\n",
    "A = P / I\n",
    "A.si"
   ]
  },
  {
   "cell_type": "markdown",
   "metadata": {},
   "source": [
    "** Problem 8 ** - Same question as above but now a d = 30 AU."
   ]
  },
  {
   "cell_type": "code",
   "execution_count": 9,
   "metadata": {
    "collapsed": false
   },
   "outputs": [
    {
     "data": {
      "text/latex": [
       "$361.95669 \\; \\mathrm{m^{2}}$"
      ],
      "text/plain": [
       "<Quantity 361.9566892462391 m2>"
      ]
     },
     "execution_count": 9,
     "metadata": {},
     "output_type": "execute_result"
    }
   ],
   "source": [
    "d = 30 * u.AU\n",
    "E = .4\n",
    "P = 220 * u.W\n",
    "I = ((const.L_sun)/(4*np.pi*(d**2)))*E\n",
    "A = P / I\n",
    "A.si"
   ]
  },
  {
   "cell_type": "markdown",
   "metadata": {},
   "source": [
    "** Problem 9 ** - The main part of the Oort cloud is thought to be at a distance of about 10,000 AU.\n",
    "\n",
    "Calculate the size of the solar panel New Horizons would need to operate in the Oort cloud.\n",
    "\n",
    "Express your answer in units of the area of an American football field (120 yd x 53.3 yd)."
   ]
  },
  {
   "cell_type": "code",
   "execution_count": 16,
   "metadata": {
    "collapsed": false
   },
   "outputs": [
    {
     "data": {
      "text/latex": [
       "$7520.2661 \\; \\mathrm{Afootball}$"
      ],
      "text/plain": [
       "<Quantity 7520.266095660395 Afootball>"
      ]
     },
     "execution_count": 16,
     "metadata": {},
     "output_type": "execute_result"
    }
   ],
   "source": [
    "d = 10000 * u.AU\n",
    "E = .4\n",
    "P = 220 * u.W\n",
    "I = ((const.L_sun)/(4*np.pi*(d**2)))*E\n",
    "A = P / I\n",
    "A.si\n",
    "Afootball = u.def_unit('Afootball', (120 *imperial.yd * 53.3*imperial.yd))\n",
    "A.to(Afootball)"
   ]
  },
  {
   "cell_type": "markdown",
   "metadata": {},
   "source": [
    "** Problem 10 ** - Calculate the maximum distance from the Sun can you be where a solar panel of 1 football field can power the New Horizons spacecraft. Express your answer in AU."
   ]
  },
  {
   "cell_type": "code",
   "execution_count": 24,
   "metadata": {
    "collapsed": false
   },
   "outputs": [
    {
     "data": {
      "text/latex": [
       "$115.31436 \\; \\mathrm{AU}$"
      ],
      "text/plain": [
       "<Quantity 115.31436081879977 AU>"
      ]
     },
     "execution_count": 24,
     "metadata": {},
     "output_type": "execute_result"
    }
   ],
   "source": [
    "E = .4\n",
    "P = 220 * u.W\n",
    "I = P / (1 * Afootball)\n",
    "d = (np.sqrt((const.L_sun/(4*np.pi*I))*E))\n",
    "d.to(u.AU)"
   ]
  },
  {
   "cell_type": "markdown",
   "metadata": {
    "collapsed": false
   },
   "source": [
    "### Due Tue Jan 26 - 5pm\n",
    "- `cp FirstLast_HW3.ipynb ~pikaia/HOMEWORK/`\n",
    "- `Make sure to change the filename to your name!`\n",
    "- `Make sure to change the Title to your name!`"
   ]
  }
 ],
 "metadata": {
  "kernelspec": {
   "display_name": "Python 3",
   "language": "python",
   "name": "python3"
  },
  "language_info": {
   "codemirror_mode": {
    "name": "ipython",
    "version": 3
   },
   "file_extension": ".py",
   "mimetype": "text/x-python",
   "name": "python",
   "nbconvert_exporter": "python",
   "pygments_lexer": "ipython3",
   "version": "3.4.4"
  }
 },
 "nbformat": 4,
 "nbformat_minor": 0
}
