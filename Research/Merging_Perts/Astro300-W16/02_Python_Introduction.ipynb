{
 "cells": [
  {
   "cell_type": "markdown",
   "metadata": {},
   "source": [
    "## IPython notebooks are a browser-based python environment that integrates:\n",
    "- Text\n",
    "- Executable python code\n",
    "- Plots and images\n",
    "- Rendered mathematical equations"
   ]
  },
  {
   "cell_type": "markdown",
   "metadata": {},
   "source": [
    "### Cell"
   ]
  },
  {
   "cell_type": "markdown",
   "metadata": {},
   "source": [
    "The basic unit of a IPython notebook is a `cell`. A `cell` can contain any of the above elements. \n",
    "\n",
    "In a notebook, to run a cell of code, hit `Shift-Enter`. This executes the cell and puts the cursor in the next cell below, or makes a new one if you are at the end.  Alternately, you can use:\n",
    "    \n",
    "- `Alt-Enter` to force the creation of a new cell unconditionally (useful when inserting new content in the middle of an existing notebook).\n",
    "- `Control-Enter` executes the cell and keeps the cursor in the same cell, useful for quick experimentation of snippets that you don't need to keep permanently."
   ]
  },
  {
   "cell_type": "markdown",
   "metadata": {},
   "source": [
    "### Hello World"
   ]
  },
  {
   "cell_type": "code",
   "execution_count": 6,
   "metadata": {
    "collapsed": false
   },
   "outputs": [
    {
     "name": "stdout",
     "output_type": "stream",
     "text": [
      "Hello World!\n"
     ]
    }
   ],
   "source": [
    "print(\"Hello World!\")"
   ]
  },
  {
   "cell_type": "code",
   "execution_count": 7,
   "metadata": {
    "collapsed": false
   },
   "outputs": [
    {
     "name": "stdout",
     "output_type": "stream",
     "text": [
      "This line is printed\n"
     ]
    }
   ],
   "source": [
    "# lines that begin with a # are treated as comment lines and not executed\n",
    "\n",
    "#print(\"This line is not printed\")\n",
    "\n",
    "print(\"This line is printed\")"
   ]
  },
  {
   "cell_type": "markdown",
   "metadata": {},
   "source": [
    "### Create a variable"
   ]
  },
  {
   "cell_type": "code",
   "execution_count": 8,
   "metadata": {
    "collapsed": true
   },
   "outputs": [],
   "source": [
    "g = 3.0 * 2.0"
   ]
  },
  {
   "cell_type": "markdown",
   "metadata": {},
   "source": [
    "### Print out the value of the variable"
   ]
  },
  {
   "cell_type": "code",
   "execution_count": 4,
   "metadata": {
    "collapsed": false
   },
   "outputs": [
    {
     "name": "stdout",
     "output_type": "stream",
     "text": [
      "6.0\n"
     ]
    }
   ],
   "source": [
    "print(g)"
   ]
  },
  {
   "cell_type": "markdown",
   "metadata": {},
   "source": [
    "### or even easier:"
   ]
  },
  {
   "cell_type": "code",
   "execution_count": 5,
   "metadata": {
    "collapsed": false
   },
   "outputs": [
    {
     "data": {
      "text/plain": [
       "6.0"
      ]
     },
     "execution_count": 5,
     "metadata": {},
     "output_type": "execute_result"
    }
   ],
   "source": [
    "g"
   ]
  },
  {
   "cell_type": "markdown",
   "metadata": {},
   "source": [
    "### `UNIX` commands can be run by placing a `!` before the command:"
   ]
  },
  {
   "cell_type": "code",
   "execution_count": 9,
   "metadata": {
    "collapsed": false
   },
   "outputs": [
    {
     "name": "stdout",
     "output_type": "stream",
     "text": [
      "01_UnixNotes.txt\t      FirstLast_HW2.ipynb  UnixCommands.pdf\r\n",
      "02_Python_Introduction.ipynb  LinuxSheet.pdf\t   Week1_Assignment.pdf\r\n",
      "Astro_Coordinates.pdf\t      MainBelt.csv\t   hw1temp\r\n",
      "BrightStars.csv\t\t      Planets.csv\t   hw1temp~\r\n",
      "Constellations.csv\t      README.md\t\t   images\r\n",
      "DiegoMcDonald_HW1.txt\t      Raven.txt\t\t   junque.dat\r\n",
      "DiegoMcDonald_hw1.txt\t      Sillybus.pdf\t   small.dat\r\n"
     ]
    }
   ],
   "source": [
    "!ls"
   ]
  },
  {
   "cell_type": "markdown",
   "metadata": {},
   "source": [
    "# Datatypes\n",
    "\n",
    "In computer programming, a data type is a classification identifying one of various types that data\n",
    "can have. \n",
    "\n",
    "The most common data type we will see in this class are:\n",
    "\n",
    "* **Integers** (`int`): Integers are the classic cardinal numbers: ... -3, -2, -1, 0, 1, 2, 3, 4, ...\n",
    "    \n",
    "* **Floating Point** (`float`): Floating Point are numbers with a decimal point: 1.2, 34.98, -67,23354435, ...\n",
    "    \n",
    "* **Booleans** (`bool`): Booleans types can only have one of two values: `True` or `False`. In many languages 0 is considered `False`, and any other value is considered `True`.\n",
    "\n",
    "* **Strings** (`str`): Strings can be composed of one or more characters: ’a’, ’spam’, ’spam spam eggs and spam’. Usually quotes (’) are used to specify a string. For example ’12’ would refer to the string, not the integer.\n",
    "\n",
    "## Collections of Data Types\n",
    "\n",
    "* **Scalar**: A single value of any data type.\n",
    "\n",
    "* **List**: A collection of values. May be mixed data types. (1, 2.34, ’Spam’, True) including lists of lists: (1, (1,2,3), (3,4))\n",
    "\n",
    "* **Array**: A collection of values. Must be same data type. [1,2,3,4] or [1.2, 4.5, 2.6] or [True, False, False] or [’Spam’, ’Eggs’, ’Spam’]\n",
    "\n",
    "* **Matrix**: A multi-dimensional array: [[1,2], [3,4]] (an array of arrays)."
   ]
  },
  {
   "cell_type": "code",
   "execution_count": 11,
   "metadata": {
    "collapsed": true
   },
   "outputs": [],
   "source": [
    "a = 1\n",
    "b = 2.3\n",
    "c = True\n",
    "d = \"Spam\""
   ]
  },
  {
   "cell_type": "code",
   "execution_count": 12,
   "metadata": {
    "collapsed": false
   },
   "outputs": [
    {
     "data": {
      "text/plain": [
       "(int, float, bool, str)"
      ]
     },
     "execution_count": 12,
     "metadata": {},
     "output_type": "execute_result"
    }
   ],
   "source": [
    "type(a), type(b), type(c), type(d)"
   ]
  },
  {
   "cell_type": "code",
   "execution_count": 13,
   "metadata": {
    "collapsed": false
   },
   "outputs": [
    {
     "data": {
      "text/plain": [
       "(3.3, float)"
      ]
     },
     "execution_count": 13,
     "metadata": {},
     "output_type": "execute_result"
    }
   ],
   "source": [
    "a + b, type(a + b)"
   ]
  },
  {
   "cell_type": "code",
   "execution_count": 14,
   "metadata": {
    "collapsed": false
   },
   "outputs": [
    {
     "data": {
      "text/plain": [
       "(2, int)"
      ]
     },
     "execution_count": 14,
     "metadata": {},
     "output_type": "execute_result"
    }
   ],
   "source": [
    "a + c, type(a + c)    # True = 1"
   ]
  },
  {
   "cell_type": "code",
   "execution_count": 15,
   "metadata": {
    "collapsed": false
   },
   "outputs": [
    {
     "ename": "TypeError",
     "evalue": "unsupported operand type(s) for +: 'int' and 'str'",
     "output_type": "error",
     "traceback": [
      "\u001b[1;31m---------------------------------------------------------------------------\u001b[0m",
      "\u001b[1;31mTypeError\u001b[0m                                 Traceback (most recent call last)",
      "\u001b[1;32m<ipython-input-15-a7e39af9a194>\u001b[0m in \u001b[0;36m<module>\u001b[1;34m()\u001b[0m\n\u001b[1;32m----> 1\u001b[1;33m \u001b[0ma\u001b[0m \u001b[1;33m+\u001b[0m \u001b[0md\u001b[0m\u001b[1;33m\u001b[0m\u001b[0m\n\u001b[0m",
      "\u001b[1;31mTypeError\u001b[0m: unsupported operand type(s) for +: 'int' and 'str'"
     ]
    }
   ],
   "source": [
    "a + d"
   ]
  },
  {
   "cell_type": "code",
   "execution_count": 16,
   "metadata": {
    "collapsed": false
   },
   "outputs": [
    {
     "data": {
      "text/plain": [
       "'1Spam'"
      ]
     },
     "execution_count": 16,
     "metadata": {},
     "output_type": "execute_result"
    }
   ],
   "source": [
    "str(a) + d"
   ]
  },
  {
   "cell_type": "markdown",
   "metadata": {},
   "source": [
    "# NumPy (Numerical Python) is the fundamental package for scientific computing with Python."
   ]
  },
  {
   "cell_type": "markdown",
   "metadata": {},
   "source": [
    "### Load the numpy library:"
   ]
  },
  {
   "cell_type": "code",
   "execution_count": 17,
   "metadata": {
    "collapsed": false
   },
   "outputs": [],
   "source": [
    "import numpy as np"
   ]
  },
  {
   "cell_type": "raw",
   "metadata": {},
   "source": [
    "  **   <-- for exponentiation  (e.g. 2 ** 4 = 16)\n",
    "\n",
    "  % for remainder or modulo, 400%360 = 40\n",
    "  // integer division\n",
    "\n",
    "  ==  equal to                      !=  not equal to\n",
    "  >   greater than                  <   less than\n",
    "  >=  greater than or equal to      <=  less than or equal to\n",
    "\n",
    "  x += 2 same as x = x + 2\n",
    "\n",
    "  can also use  -=  *=  /=  **=\n",
    "\n",
    "  np.arctan (or np.arcsin, np.arccos)\n",
    "\n",
    "  np.degrees(x) np.radians(x)    <-- Convert between radians and degrees"
   ]
  },
  {
   "cell_type": "markdown",
   "metadata": {},
   "source": [
    "### pi and e are  built-in constants:"
   ]
  },
  {
   "cell_type": "code",
   "execution_count": 18,
   "metadata": {
    "collapsed": false
   },
   "outputs": [
    {
     "data": {
      "text/plain": [
       "(3.141592653589793, 2.718281828459045)"
      ]
     },
     "execution_count": 18,
     "metadata": {},
     "output_type": "execute_result"
    }
   ],
   "source": [
    "np.pi, np.e"
   ]
  },
  {
   "cell_type": "markdown",
   "metadata": {},
   "source": [
    "### Different types of division"
   ]
  },
  {
   "cell_type": "code",
   "execution_count": 19,
   "metadata": {
    "collapsed": false
   },
   "outputs": [
    {
     "data": {
      "text/plain": [
       "0.3333333333333333"
      ]
     },
     "execution_count": 19,
     "metadata": {},
     "output_type": "execute_result"
    }
   ],
   "source": [
    "# Normal division\n",
    "\n",
    "1/3"
   ]
  },
  {
   "cell_type": "code",
   "execution_count": 20,
   "metadata": {
    "collapsed": false
   },
   "outputs": [
    {
     "data": {
      "text/plain": [
       "0"
      ]
     },
     "execution_count": 20,
     "metadata": {},
     "output_type": "execute_result"
    }
   ],
   "source": [
    "# Integer division\n",
    "\n",
    "1//3"
   ]
  },
  {
   "cell_type": "markdown",
   "metadata": {},
   "source": [
    "## Our basic unit will be the NumPy array"
   ]
  },
  {
   "cell_type": "code",
   "execution_count": 21,
   "metadata": {
    "collapsed": false
   },
   "outputs": [
    {
     "data": {
      "text/plain": [
       "array([7, 4, 8, 5, 7, 3, 7, 8, 5, 4, 8, 8, 3, 6, 5, 2, 8, 6, 2, 5])"
      ]
     },
     "execution_count": 21,
     "metadata": {},
     "output_type": "execute_result"
    }
   ],
   "source": [
    "np.random.seed(42)                 # set the seed - everyone gets the same random numbers\n",
    "x = np.random.randint(1,10,20)     # 20 random ints between 1 and 10\n",
    "x"
   ]
  },
  {
   "cell_type": "markdown",
   "metadata": {},
   "source": [
    "## Indexing"
   ]
  },
  {
   "cell_type": "code",
   "execution_count": 22,
   "metadata": {
    "collapsed": false
   },
   "outputs": [
    {
     "data": {
      "text/plain": [
       "7"
      ]
     },
     "execution_count": 22,
     "metadata": {},
     "output_type": "execute_result"
    }
   ],
   "source": [
    "x[0]    # The 0th element of the array x"
   ]
  },
  {
   "cell_type": "code",
   "execution_count": 23,
   "metadata": {
    "collapsed": false
   },
   "outputs": [
    {
     "data": {
      "text/plain": [
       "5"
      ]
     },
     "execution_count": 23,
     "metadata": {},
     "output_type": "execute_result"
    }
   ],
   "source": [
    "x[-1]    # The last element of the array x"
   ]
  },
  {
   "cell_type": "markdown",
   "metadata": {},
   "source": [
    "## Slices\n",
    "\n",
    "`x[start:stop:step]`\n",
    " \n",
    "- `start` is the first item that you want [default = first element]\n",
    "- `stop`  is the first item that you **do not** want [default = last element]\n",
    "- `step`  defines size of `step` and whether you are moving forwards (positive) or backwards (negative) [default = 1]"
   ]
  },
  {
   "cell_type": "code",
   "execution_count": 24,
   "metadata": {
    "collapsed": false
   },
   "outputs": [
    {
     "data": {
      "text/plain": [
       "array([7, 4, 8, 5, 7, 3, 7, 8, 5, 4, 8, 8, 3, 6, 5, 2, 8, 6, 2, 5])"
      ]
     },
     "execution_count": 24,
     "metadata": {},
     "output_type": "execute_result"
    }
   ],
   "source": [
    "x"
   ]
  },
  {
   "cell_type": "code",
   "execution_count": 25,
   "metadata": {
    "collapsed": false
   },
   "outputs": [
    {
     "data": {
      "text/plain": [
       "array([7, 4, 8, 5])"
      ]
     },
     "execution_count": 25,
     "metadata": {},
     "output_type": "execute_result"
    }
   ],
   "source": [
    "x[0:4]           # first 4 items"
   ]
  },
  {
   "cell_type": "code",
   "execution_count": 26,
   "metadata": {
    "collapsed": false
   },
   "outputs": [
    {
     "data": {
      "text/plain": [
       "array([7, 4, 8, 5])"
      ]
     },
     "execution_count": 26,
     "metadata": {},
     "output_type": "execute_result"
    }
   ],
   "source": [
    "x[:4]            # same"
   ]
  },
  {
   "cell_type": "code",
   "execution_count": 27,
   "metadata": {
    "collapsed": false
   },
   "outputs": [
    {
     "data": {
      "text/plain": [
       "array([7, 8])"
      ]
     },
     "execution_count": 27,
     "metadata": {},
     "output_type": "execute_result"
    }
   ],
   "source": [
    "x[0:4:2]         # first four item, step = 2"
   ]
  },
  {
   "cell_type": "code",
   "execution_count": 28,
   "metadata": {
    "collapsed": false
   },
   "outputs": [
    {
     "data": {
      "text/plain": [
       "array([5, 8, 4, 7])"
      ]
     },
     "execution_count": 28,
     "metadata": {},
     "output_type": "execute_result"
    }
   ],
   "source": [
    "x[3::-1]         # first four items backwards, step = -1"
   ]
  },
  {
   "cell_type": "code",
   "execution_count": 29,
   "metadata": {
    "collapsed": false
   },
   "outputs": [
    {
     "data": {
      "text/plain": [
       "array([5, 2, 6, 8, 2, 5, 6, 3, 8, 8, 4, 5, 8, 7, 3, 7, 5, 8, 4, 7])"
      ]
     },
     "execution_count": 29,
     "metadata": {},
     "output_type": "execute_result"
    }
   ],
   "source": [
    "x[::-1]          # Reverse the array x"
   ]
  },
  {
   "cell_type": "code",
   "execution_count": 30,
   "metadata": {
    "collapsed": false
   },
   "outputs": [
    {
     "name": "stdout",
     "output_type": "stream",
     "text": [
      "[2 8 6 2 5]\n"
     ]
    }
   ],
   "source": [
    "print(x[-5:])    # last 5 elements of the array x"
   ]
  },
  {
   "cell_type": "markdown",
   "metadata": {},
   "source": [
    "## There are lots of different `methods` that can be applied to a NumPy array"
   ]
  },
  {
   "cell_type": "code",
   "execution_count": 40,
   "metadata": {
    "collapsed": false
   },
   "outputs": [
    {
     "data": {
      "text/plain": [
       "array([  7,  11,  19,  24,  31,  34,  41,  49,  54,  58,  66,  74,  77,\n",
       "        83,  88,  90,  98, 104, 106, 111])"
      ]
     },
     "execution_count": 40,
     "metadata": {},
     "output_type": "execute_result"
    }
   ],
   "source": [
    "x.cumsum()                   # Number of elements in x"
   ]
  },
  {
   "cell_type": "code",
   "execution_count": 32,
   "metadata": {
    "collapsed": false
   },
   "outputs": [
    {
     "data": {
      "text/plain": [
       "5.5499999999999998"
      ]
     },
     "execution_count": 32,
     "metadata": {},
     "output_type": "execute_result"
    }
   ],
   "source": [
    "x.mean()                 # Average of the elements in x"
   ]
  },
  {
   "cell_type": "code",
   "execution_count": 33,
   "metadata": {
    "collapsed": false
   },
   "outputs": [
    {
     "data": {
      "text/plain": [
       "111"
      ]
     },
     "execution_count": 33,
     "metadata": {},
     "output_type": "execute_result"
    }
   ],
   "source": [
    "x.sum()                  # Total of the elements in x"
   ]
  },
  {
   "cell_type": "code",
   "execution_count": 34,
   "metadata": {
    "collapsed": false
   },
   "outputs": [
    {
     "data": {
      "text/plain": [
       "23"
      ]
     },
     "execution_count": 34,
     "metadata": {},
     "output_type": "execute_result"
    }
   ],
   "source": [
    "x[-5:].sum()              # Total of last 5 elements in x"
   ]
  },
  {
   "cell_type": "code",
   "execution_count": 35,
   "metadata": {
    "collapsed": false
   },
   "outputs": [
    {
     "data": {
      "text/plain": [
       "array([  7,  11,  19,  24,  31,  34,  41,  49,  54,  58,  66,  74,  77,\n",
       "        83,  88,  90,  98, 104, 106, 111])"
      ]
     },
     "execution_count": 35,
     "metadata": {},
     "output_type": "execute_result"
    }
   ],
   "source": [
    "x.cumsum()                # Cumulative sum"
   ]
  },
  {
   "cell_type": "code",
   "execution_count": 36,
   "metadata": {
    "collapsed": false
   },
   "outputs": [
    {
     "data": {
      "text/plain": [
       "array([ 0.06306306,  0.0990991 ,  0.17117117,  0.21621622,  0.27927928,\n",
       "        0.30630631,  0.36936937,  0.44144144,  0.48648649,  0.52252252,\n",
       "        0.59459459,  0.66666667,  0.69369369,  0.74774775,  0.79279279,\n",
       "        0.81081081,  0.88288288,  0.93693694,  0.95495495,  1.        ])"
      ]
     },
     "execution_count": 36,
     "metadata": {},
     "output_type": "execute_result"
    }
   ],
   "source": [
    "x.cumsum()/x.sum()        # Cumulative percentage"
   ]
  },
  {
   "cell_type": "raw",
   "metadata": {},
   "source": [
    "x.[TAB] will give you all of the possibilites as a drop-down menu."
   ]
  },
  {
   "cell_type": "markdown",
   "metadata": {},
   "source": [
    "### Help about a function:"
   ]
  },
  {
   "cell_type": "code",
   "execution_count": 1,
   "metadata": {
    "collapsed": false
   },
   "outputs": [
    {
     "name": "stdout",
     "output_type": "stream",
     "text": [
      "Object `x.min` not found.\n"
     ]
    }
   ],
   "source": [
    "?x.min"
   ]
  },
  {
   "cell_type": "markdown",
   "metadata": {},
   "source": [
    "## NumPy math works over an entire array:"
   ]
  },
  {
   "cell_type": "code",
   "execution_count": 42,
   "metadata": {
    "collapsed": false
   },
   "outputs": [
    {
     "data": {
      "text/plain": [
       "array([14,  8, 16, 10, 14,  6, 14, 16, 10,  8, 16, 16,  6, 12, 10,  4, 16,\n",
       "       12,  4, 10])"
      ]
     },
     "execution_count": 42,
     "metadata": {},
     "output_type": "execute_result"
    }
   ],
   "source": [
    "y = x * 2\n",
    "y"
   ]
  },
  {
   "cell_type": "code",
   "execution_count": 43,
   "metadata": {
    "collapsed": false
   },
   "outputs": [
    {
     "ename": "NameError",
     "evalue": "name 'sin' is not defined",
     "output_type": "error",
     "traceback": [
      "\u001b[1;31m---------------------------------------------------------------------------\u001b[0m",
      "\u001b[1;31mNameError\u001b[0m                                 Traceback (most recent call last)",
      "\u001b[1;32m<ipython-input-43-d54ca4672a4e>\u001b[0m in \u001b[0;36m<module>\u001b[1;34m()\u001b[0m\n\u001b[1;32m----> 1\u001b[1;33m \u001b[0msin\u001b[0m\u001b[1;33m(\u001b[0m\u001b[0mx\u001b[0m\u001b[1;33m)\u001b[0m     \u001b[1;31m# need to Numpy's math functions\u001b[0m\u001b[1;33m\u001b[0m\u001b[0m\n\u001b[0m",
      "\u001b[1;31mNameError\u001b[0m: name 'sin' is not defined"
     ]
    }
   ],
   "source": [
    "sin(x)     # need to Numpy's math functions"
   ]
  },
  {
   "cell_type": "code",
   "execution_count": 44,
   "metadata": {
    "collapsed": false
   },
   "outputs": [
    {
     "data": {
      "text/plain": [
       "array([ 0.6569866 , -0.7568025 ,  0.98935825, -0.95892427,  0.6569866 ,\n",
       "        0.14112001,  0.6569866 ,  0.98935825, -0.95892427, -0.7568025 ,\n",
       "        0.98935825,  0.98935825,  0.14112001, -0.2794155 , -0.95892427,\n",
       "        0.90929743,  0.98935825, -0.2794155 ,  0.90929743, -0.95892427])"
      ]
     },
     "execution_count": 44,
     "metadata": {},
     "output_type": "execute_result"
    }
   ],
   "source": [
    "np.sin(x)"
   ]
  },
  {
   "cell_type": "markdown",
   "metadata": {},
   "source": [
    "## Masking - The key to fast programs"
   ]
  },
  {
   "cell_type": "code",
   "execution_count": 45,
   "metadata": {
    "collapsed": false
   },
   "outputs": [
    {
     "data": {
      "text/plain": [
       "(array([7, 4, 8, 5, 7, 3, 7, 8, 5, 4, 8, 8, 3, 6, 5, 2, 8, 6, 2, 5]),\n",
       " (array([ 0,  2,  4,  6,  7, 10, 11, 13, 16, 17]),))"
      ]
     },
     "execution_count": 45,
     "metadata": {},
     "output_type": "execute_result"
    }
   ],
   "source": [
    "mask1 = np.where(x>5)\n",
    "x, mask1"
   ]
  },
  {
   "cell_type": "code",
   "execution_count": 46,
   "metadata": {
    "collapsed": false
   },
   "outputs": [
    {
     "data": {
      "text/plain": [
       "(array([7, 8, 7, 7, 8, 8, 8, 6, 8, 6]),\n",
       " array([14, 16, 14, 14, 16, 16, 16, 12, 16, 12]))"
      ]
     },
     "execution_count": 46,
     "metadata": {},
     "output_type": "execute_result"
    }
   ],
   "source": [
    "x[mask1], y[mask1]"
   ]
  },
  {
   "cell_type": "code",
   "execution_count": 47,
   "metadata": {
    "collapsed": false
   },
   "outputs": [
    {
     "data": {
      "text/plain": [
       "array([4, 5, 5, 4, 6, 5, 6, 5])"
      ]
     },
     "execution_count": 47,
     "metadata": {},
     "output_type": "execute_result"
    }
   ],
   "source": [
    "mask2 = np.where((x>3) & (x<7))\n",
    "x[mask2]"
   ]
  },
  {
   "cell_type": "markdown",
   "metadata": {},
   "source": [
    "## Fancy masking"
   ]
  },
  {
   "cell_type": "code",
   "execution_count": 48,
   "metadata": {
    "collapsed": false
   },
   "outputs": [
    {
     "data": {
      "text/plain": [
       "array([8, 8, 8, 8, 8])"
      ]
     },
     "execution_count": 48,
     "metadata": {},
     "output_type": "execute_result"
    }
   ],
   "source": [
    "mask3 = np.where(x >= 8)\n",
    "x[mask3]"
   ]
  },
  {
   "cell_type": "code",
   "execution_count": 49,
   "metadata": {
    "collapsed": false
   },
   "outputs": [
    {
     "data": {
      "text/plain": [
       "array([7, 4, 0, 5, 7, 3, 7, 0, 5, 4, 0, 0, 3, 6, 5, 2, 0, 6, 2, 5])"
      ]
     },
     "execution_count": 49,
     "metadata": {},
     "output_type": "execute_result"
    }
   ],
   "source": [
    "# Set all values of x that match mask3 to 0\n",
    "\n",
    "x[mask3] = 0\n",
    "x"
   ]
  },
  {
   "cell_type": "code",
   "execution_count": 50,
   "metadata": {
    "collapsed": false
   },
   "outputs": [
    {
     "data": {
      "text/plain": [
       "(array([ 0,  1,  3,  4,  5,  6,  8,  9, 12, 13, 14, 15, 17, 18, 19]),)"
      ]
     },
     "execution_count": 50,
     "metadata": {},
     "output_type": "execute_result"
    }
   ],
   "source": [
    "mask4 = np.where(x != 0)\n",
    "mask4"
   ]
  },
  {
   "cell_type": "code",
   "execution_count": 51,
   "metadata": {
    "collapsed": false
   },
   "outputs": [
    {
     "data": {
      "text/plain": [
       "array([107, 104,   0, 105, 107, 103, 107,   0, 105, 104,   0,   0, 103,\n",
       "       106, 105, 102,   0, 106, 102, 105])"
      ]
     },
     "execution_count": 51,
     "metadata": {},
     "output_type": "execute_result"
    }
   ],
   "source": [
    "#Add 10 to every value of x that matches mask4:\n",
    "\n",
    "x[mask4] += 100\n",
    "x"
   ]
  },
  {
   "cell_type": "markdown",
   "metadata": {},
   "source": [
    "## Sorting"
   ]
  },
  {
   "cell_type": "code",
   "execution_count": 52,
   "metadata": {
    "collapsed": false
   },
   "outputs": [
    {
     "data": {
      "text/plain": [
       "array([3, 1, 1, 7, 3, 5, 4, 5, 3, 7, 6, 5, 3, 1, 4, 6, 4, 7, 6, 2])"
      ]
     },
     "execution_count": 52,
     "metadata": {},
     "output_type": "execute_result"
    }
   ],
   "source": [
    "np.random.seed(13)                 # set the seed - everyone gets the same random numbers\n",
    "z = np.random.randint(1,10,20)     # 20 random ints between 1 and 10\n",
    "z"
   ]
  },
  {
   "cell_type": "code",
   "execution_count": 53,
   "metadata": {
    "collapsed": false
   },
   "outputs": [
    {
     "data": {
      "text/plain": [
       "array([1, 1, 1, 2, 3, 3, 3, 3, 4, 4, 4, 5, 5, 5, 6, 6, 6, 7, 7, 7])"
      ]
     },
     "execution_count": 53,
     "metadata": {},
     "output_type": "execute_result"
    }
   ],
   "source": [
    "np.sort(z)"
   ]
  },
  {
   "cell_type": "code",
   "execution_count": 54,
   "metadata": {
    "collapsed": false
   },
   "outputs": [
    {
     "data": {
      "text/plain": [
       "array([1, 1, 1, 2])"
      ]
     },
     "execution_count": 54,
     "metadata": {},
     "output_type": "execute_result"
    }
   ],
   "source": [
    "np.sort(z)[0:4]"
   ]
  },
  {
   "cell_type": "code",
   "execution_count": 55,
   "metadata": {
    "collapsed": false
   },
   "outputs": [
    {
     "data": {
      "text/plain": [
       "array([ 1,  2, 13, 19, 12,  8,  0,  4, 14, 16,  6,  7,  5, 11, 18, 10, 15,\n",
       "        3, 17,  9])"
      ]
     },
     "execution_count": 55,
     "metadata": {},
     "output_type": "execute_result"
    }
   ],
   "source": [
    "# Returns the indices that would sort an array\n",
    "\n",
    "np.argsort(z)"
   ]
  },
  {
   "cell_type": "code",
   "execution_count": 56,
   "metadata": {
    "collapsed": false
   },
   "outputs": [
    {
     "data": {
      "text/plain": [
       "(array([3, 1, 1, 7, 3, 5, 4, 5, 3, 7, 6, 5, 3, 1, 4, 6, 4, 7, 6, 2]),\n",
       " array([1, 1, 1, 2, 3, 3, 3, 3, 4, 4, 4, 5, 5, 5, 6, 6, 6, 7, 7, 7]))"
      ]
     },
     "execution_count": 56,
     "metadata": {},
     "output_type": "execute_result"
    }
   ],
   "source": [
    "z, z[np.argsort(z)]"
   ]
  },
  {
   "cell_type": "code",
   "execution_count": 57,
   "metadata": {
    "collapsed": false
   },
   "outputs": [
    {
     "data": {
      "text/plain": [
       "(array([3, 1, 1, 7, 3, 5, 4, 5, 3, 7, 6, 5, 3, 1, 4, 6, 4, 7, 6, 2]),\n",
       " array([1, 1, 1, 2, 3, 3, 3, 3, 4, 4, 4, 5, 5, 5, 6, 6, 6, 7, 7, 7]))"
      ]
     },
     "execution_count": 57,
     "metadata": {},
     "output_type": "execute_result"
    }
   ],
   "source": [
    "maskS = np.argsort(z)\n",
    "\n",
    "z, z[maskS]"
   ]
  },
  {
   "cell_type": "markdown",
   "metadata": {},
   "source": [
    "# Reading in data - The `AstroPy` package"
   ]
  },
  {
   "cell_type": "code",
   "execution_count": 58,
   "metadata": {
    "collapsed": false
   },
   "outputs": [],
   "source": [
    "from astropy.table import QTable"
   ]
  },
  {
   "cell_type": "code",
   "execution_count": 59,
   "metadata": {
    "collapsed": false
   },
   "outputs": [
    {
     "name": "stdout",
     "output_type": "stream",
     "text": [
      "Name,a,\r\n",
      "Mercury,0.3871,0.2056\r\n",
      "Venus,0.7233,0.0068\r\n",
      "Earth,0.9991,0.0166\r\n",
      "Mars,1.5237,0.0935\r\n",
      "Jupiter,5.2016,0.0490\r\n",
      "Saturn,9.5424,0.0547\r\n",
      "Uranus,19.1727,0.0486\r\n",
      "Neptune,29.9769,0.0088\r\n",
      "Halley,17.8589,0.9680\r\n"
     ]
    }
   ],
   "source": [
    "!cat Planets.csv"
   ]
  },
  {
   "cell_type": "code",
   "execution_count": 60,
   "metadata": {
    "collapsed": false
   },
   "outputs": [],
   "source": [
    "T = QTable.read('Planets.csv', format='ascii.csv')"
   ]
  },
  {
   "cell_type": "code",
   "execution_count": 61,
   "metadata": {
    "collapsed": false
   },
   "outputs": [
    {
     "data": {
      "text/html": [
       "&lt;QTable length=9&gt;\n",
       "<table id=\"table140513004026848\">\n",
       "<thead><tr><th>Name</th><th>a</th><th>col2</th></tr></thead>\n",
       "<thead><tr><th>str7</th><th>float64</th><th>float64</th></tr></thead>\n",
       "<tr><td>Mercury</td><td>0.3871</td><td>0.2056</td></tr>\n",
       "<tr><td>Venus</td><td>0.7233</td><td>0.0068</td></tr>\n",
       "<tr><td>Earth</td><td>0.9991</td><td>0.0166</td></tr>\n",
       "<tr><td>Mars</td><td>1.5237</td><td>0.0935</td></tr>\n",
       "<tr><td>Jupiter</td><td>5.2016</td><td>0.049</td></tr>\n",
       "<tr><td>Saturn</td><td>9.5424</td><td>0.0547</td></tr>\n",
       "<tr><td>Uranus</td><td>19.1727</td><td>0.0486</td></tr>\n",
       "<tr><td>Neptune</td><td>29.9769</td><td>0.0088</td></tr>\n",
       "<tr><td>Halley</td><td>17.8589</td><td>0.968</td></tr>\n",
       "</table>"
      ],
      "text/plain": [
       "<QTable length=9>\n",
       "  Name     a      col2 \n",
       "  str7  float64 float64\n",
       "------- ------- -------\n",
       "Mercury  0.3871  0.2056\n",
       "  Venus  0.7233  0.0068\n",
       "  Earth  0.9991  0.0166\n",
       "   Mars  1.5237  0.0935\n",
       "Jupiter  5.2016   0.049\n",
       " Saturn  9.5424  0.0547\n",
       " Uranus 19.1727  0.0486\n",
       "Neptune 29.9769  0.0088\n",
       " Halley 17.8589   0.968"
      ]
     },
     "execution_count": 61,
     "metadata": {},
     "output_type": "execute_result"
    }
   ],
   "source": [
    "T"
   ]
  },
  {
   "cell_type": "code",
   "execution_count": 62,
   "metadata": {
    "collapsed": false
   },
   "outputs": [
    {
     "name": "stdout",
     "output_type": "stream",
     "text": [
      "  Name     a     col2 \n",
      "------- ------- ------\n",
      "Mercury  0.3871 0.2056\n",
      "  Venus  0.7233 0.0068\n",
      "  Earth  0.9991 0.0166\n",
      "   Mars  1.5237 0.0935\n",
      "Jupiter  5.2016  0.049\n",
      " Saturn  9.5424 0.0547\n",
      " Uranus 19.1727 0.0486\n",
      "Neptune 29.9769 0.0088\n",
      " Halley 17.8589  0.968\n"
     ]
    }
   ],
   "source": [
    "print(T)"
   ]
  },
  {
   "cell_type": "markdown",
   "metadata": {},
   "source": [
    "## Renaming columns"
   ]
  },
  {
   "cell_type": "code",
   "execution_count": 63,
   "metadata": {
    "collapsed": false
   },
   "outputs": [
    {
     "name": "stdout",
     "output_type": "stream",
     "text": [
      "  Name     a     ecc  \n",
      "------- ------- ------\n",
      "Mercury  0.3871 0.2056\n",
      "  Venus  0.7233 0.0068\n",
      "  Earth  0.9991 0.0166\n",
      "   Mars  1.5237 0.0935\n",
      "Jupiter  5.2016  0.049\n",
      " Saturn  9.5424 0.0547\n",
      " Uranus 19.1727 0.0486\n",
      "Neptune 29.9769 0.0088\n",
      " Halley 17.8589  0.968\n"
     ]
    }
   ],
   "source": [
    "T.rename_column('col2', 'ecc')\n",
    "print(T)"
   ]
  },
  {
   "cell_type": "code",
   "execution_count": 64,
   "metadata": {
    "collapsed": false
   },
   "outputs": [
    {
     "data": {
      "text/html": [
       "&lt;Column name=&apos;Name&apos; dtype=&apos;str7&apos; length=9&gt;\n",
       "<table>\n",
       "<tr><td>Mercury</td></tr>\n",
       "<tr><td>Venus</td></tr>\n",
       "<tr><td>Earth</td></tr>\n",
       "<tr><td>Mars</td></tr>\n",
       "<tr><td>Jupiter</td></tr>\n",
       "<tr><td>Saturn</td></tr>\n",
       "<tr><td>Uranus</td></tr>\n",
       "<tr><td>Neptune</td></tr>\n",
       "<tr><td>Halley</td></tr>\n",
       "</table>"
      ],
      "text/plain": [
       "<Column name='Name' dtype='str7' length=9>\n",
       "Mercury\n",
       "  Venus\n",
       "  Earth\n",
       "   Mars\n",
       "Jupiter\n",
       " Saturn\n",
       " Uranus\n",
       "Neptune\n",
       " Halley"
      ]
     },
     "execution_count": 64,
     "metadata": {},
     "output_type": "execute_result"
    }
   ],
   "source": [
    "T['Name']"
   ]
  },
  {
   "cell_type": "code",
   "execution_count": 65,
   "metadata": {
    "collapsed": false
   },
   "outputs": [
    {
     "data": {
      "text/plain": [
       "'Mercury'"
      ]
     },
     "execution_count": 65,
     "metadata": {},
     "output_type": "execute_result"
    }
   ],
   "source": [
    "T['Name'][0]"
   ]
  },
  {
   "cell_type": "markdown",
   "metadata": {},
   "source": [
    "## Sorting"
   ]
  },
  {
   "cell_type": "code",
   "execution_count": 67,
   "metadata": {
    "collapsed": false
   },
   "outputs": [],
   "source": [
    "T.sort(['ecc'])"
   ]
  },
  {
   "cell_type": "code",
   "execution_count": 68,
   "metadata": {
    "collapsed": false
   },
   "outputs": [
    {
     "data": {
      "text/html": [
       "&lt;QTable length=9&gt;\n",
       "<table id=\"table140513004026848\">\n",
       "<thead><tr><th>Name</th><th>a</th><th>ecc</th></tr></thead>\n",
       "<thead><tr><th>str7</th><th>float64</th><th>float64</th></tr></thead>\n",
       "<tr><td>Venus</td><td>0.7233</td><td>0.0068</td></tr>\n",
       "<tr><td>Neptune</td><td>29.9769</td><td>0.0088</td></tr>\n",
       "<tr><td>Earth</td><td>0.9991</td><td>0.0166</td></tr>\n",
       "<tr><td>Uranus</td><td>19.1727</td><td>0.0486</td></tr>\n",
       "<tr><td>Jupiter</td><td>5.2016</td><td>0.049</td></tr>\n",
       "<tr><td>Saturn</td><td>9.5424</td><td>0.0547</td></tr>\n",
       "<tr><td>Mars</td><td>1.5237</td><td>0.0935</td></tr>\n",
       "<tr><td>Mercury</td><td>0.3871</td><td>0.2056</td></tr>\n",
       "<tr><td>Halley</td><td>17.8589</td><td>0.968</td></tr>\n",
       "</table>"
      ],
      "text/plain": [
       "<QTable length=9>\n",
       "  Name     a      ecc  \n",
       "  str7  float64 float64\n",
       "------- ------- -------\n",
       "  Venus  0.7233  0.0068\n",
       "Neptune 29.9769  0.0088\n",
       "  Earth  0.9991  0.0166\n",
       " Uranus 19.1727  0.0486\n",
       "Jupiter  5.2016   0.049\n",
       " Saturn  9.5424  0.0547\n",
       "   Mars  1.5237  0.0935\n",
       "Mercury  0.3871  0.2056\n",
       " Halley 17.8589   0.968"
      ]
     },
     "execution_count": 68,
     "metadata": {},
     "output_type": "execute_result"
    }
   ],
   "source": [
    "T"
   ]
  },
  {
   "cell_type": "markdown",
   "metadata": {},
   "source": [
    "## Masking"
   ]
  },
  {
   "cell_type": "code",
   "execution_count": 69,
   "metadata": {
    "collapsed": true
   },
   "outputs": [],
   "source": [
    "T.sort(['a'])    # re-sort our table"
   ]
  },
  {
   "cell_type": "code",
   "execution_count": 70,
   "metadata": {
    "collapsed": false
   },
   "outputs": [
    {
     "data": {
      "text/plain": [
       "(array([4, 5, 6, 7, 8]),)"
      ]
     },
     "execution_count": 70,
     "metadata": {},
     "output_type": "execute_result"
    }
   ],
   "source": [
    "mask6 = np.where(T['a'] > 5)\n",
    "\n",
    "mask6"
   ]
  },
  {
   "cell_type": "code",
   "execution_count": 71,
   "metadata": {
    "collapsed": false
   },
   "outputs": [
    {
     "data": {
      "text/html": [
       "&lt;QTable length=5&gt;\n",
       "<table id=\"table140512997123296\">\n",
       "<thead><tr><th>Name</th><th>a</th><th>ecc</th></tr></thead>\n",
       "<thead><tr><th>str7</th><th>float64</th><th>float64</th></tr></thead>\n",
       "<tr><td>Jupiter</td><td>5.2016</td><td>0.049</td></tr>\n",
       "<tr><td>Saturn</td><td>9.5424</td><td>0.0547</td></tr>\n",
       "<tr><td>Halley</td><td>17.8589</td><td>0.968</td></tr>\n",
       "<tr><td>Uranus</td><td>19.1727</td><td>0.0486</td></tr>\n",
       "<tr><td>Neptune</td><td>29.9769</td><td>0.0088</td></tr>\n",
       "</table>"
      ],
      "text/plain": [
       "<QTable length=5>\n",
       "  Name     a      ecc  \n",
       "  str7  float64 float64\n",
       "------- ------- -------\n",
       "Jupiter  5.2016   0.049\n",
       " Saturn  9.5424  0.0547\n",
       " Halley 17.8589   0.968\n",
       " Uranus 19.1727  0.0486\n",
       "Neptune 29.9769  0.0088"
      ]
     },
     "execution_count": 71,
     "metadata": {},
     "output_type": "execute_result"
    }
   ],
   "source": [
    "T[mask6]"
   ]
  },
  {
   "cell_type": "code",
   "execution_count": 72,
   "metadata": {
    "collapsed": false
   },
   "outputs": [
    {
     "data": {
      "text/html": [
       "&lt;QTable length=3&gt;\n",
       "<table id=\"table140512999598512\">\n",
       "<thead><tr><th>Name</th><th>a</th><th>ecc</th></tr></thead>\n",
       "<thead><tr><th>str7</th><th>float64</th><th>float64</th></tr></thead>\n",
       "<tr><td>Jupiter</td><td>5.2016</td><td>0.049</td></tr>\n",
       "<tr><td>Uranus</td><td>19.1727</td><td>0.0486</td></tr>\n",
       "<tr><td>Neptune</td><td>29.9769</td><td>0.0088</td></tr>\n",
       "</table>"
      ],
      "text/plain": [
       "<QTable length=3>\n",
       "  Name     a      ecc  \n",
       "  str7  float64 float64\n",
       "------- ------- -------\n",
       "Jupiter  5.2016   0.049\n",
       " Uranus 19.1727  0.0486\n",
       "Neptune 29.9769  0.0088"
      ]
     },
     "execution_count": 72,
     "metadata": {},
     "output_type": "execute_result"
    }
   ],
   "source": [
    "mask7 = ((T['a'] > 5) & (T['ecc'] < 0.05))\n",
    "\n",
    "T[mask7]"
   ]
  },
  {
   "cell_type": "markdown",
   "metadata": {},
   "source": [
    "## Functions"
   ]
  },
  {
   "cell_type": "markdown",
   "metadata": {},
   "source": [
    "In computer science, a `function` (also called a `procedure`, `method`, `subroutine`, or `routine`) is a portion\n",
    "of code within a larger program that performs a specific task and is relatively independent of the\n",
    "remaining code. The big advantage of a `function` is that it breaks a program into smaller, easier\n",
    "to understand pieces. It also makes debugging easier. A `function` can also be reused in another\n",
    "program.\n",
    "\n",
    "The basic idea of a `function` is that it will take various values, do something with them, and `return` a result. The variables in a `function` are local. That means that they do not affect anything outside the `function`.\n",
    "\n",
    "Below ia an example of a `function` that solves the mathematical function:\n",
    "\n",
    "$ f(x,y) = x\\ (1 - y)$\n",
    "\n",
    "In the example the name of the `function` is **george** (you can name `functions` what ever you want). The `function` **george** takes two arguments `x` and `y`, and returns the value of the equation to the main program. In the main program a variable named `GeorgeResult` is assigned the value returned by **george**. Notice that in the main program the `function` **george** is called using the arguments `T[a]` and `T[ecc]`. Since the variables in the `function` are local, you do not have name them `x` and `y` in the main program."
   ]
  },
  {
   "cell_type": "code",
   "execution_count": 82,
   "metadata": {
    "collapsed": false
   },
   "outputs": [],
   "source": [
    "def george(x,y):\n",
    "    \n",
    "    result = x * (1.0 - y)          # assign the variable result the value of the function\n",
    "    return result                   # return the value of the function to the main program"
   ]
  },
  {
   "cell_type": "code",
   "execution_count": 75,
   "metadata": {
    "collapsed": false
   },
   "outputs": [
    {
     "data": {
      "text/html": [
       "&lt;Column name=&apos;a&apos; dtype=&apos;float64&apos; length=9&gt;\n",
       "<table>\n",
       "<tr><td>0.30751224</td></tr>\n",
       "<tr><td>0.71838156</td></tr>\n",
       "<tr><td>0.98251494</td></tr>\n",
       "<tr><td>1.38123405</td></tr>\n",
       "<tr><td>4.9467216</td></tr>\n",
       "<tr><td>9.02043072</td></tr>\n",
       "<tr><td>0.5714848</td></tr>\n",
       "<tr><td>18.24090678</td></tr>\n",
       "<tr><td>29.71310328</td></tr>\n",
       "</table>"
      ],
      "text/plain": [
       "<Column name='a' dtype='float64' length=9>\n",
       " 0.30751224\n",
       " 0.71838156\n",
       " 0.98251494\n",
       " 1.38123405\n",
       "  4.9467216\n",
       " 9.02043072\n",
       "  0.5714848\n",
       "18.24090678\n",
       "29.71310328"
      ]
     },
     "execution_count": 75,
     "metadata": {},
     "output_type": "execute_result"
    }
   ],
   "source": [
    "GeorgeResult = george(T['a'],T['ecc'])\n",
    "\n",
    "GeorgeResult"
   ]
  },
  {
   "cell_type": "code",
   "execution_count": 76,
   "metadata": {
    "collapsed": false
   },
   "outputs": [
    {
     "name": "stdout",
     "output_type": "stream",
     "text": [
      "  Name     a     ecc    Perihelion\n",
      "------- ------- ------ -----------\n",
      "Mercury  0.3871 0.2056  0.30751224\n",
      "  Venus  0.7233 0.0068  0.71838156\n",
      "  Earth  0.9991 0.0166  0.98251494\n",
      "   Mars  1.5237 0.0935  1.38123405\n",
      "Jupiter  5.2016  0.049   4.9467216\n",
      " Saturn  9.5424 0.0547  9.02043072\n",
      " Halley 17.8589  0.968   0.5714848\n",
      " Uranus 19.1727 0.0486 18.24090678\n",
      "Neptune 29.9769 0.0088 29.71310328\n"
     ]
    }
   ],
   "source": [
    "T['Perihelion'] = GeorgeResult\n",
    "\n",
    "print(T)"
   ]
  },
  {
   "cell_type": "markdown",
   "metadata": {},
   "source": [
    "#### The results of one function can be used as the input to another function"
   ]
  },
  {
   "cell_type": "code",
   "execution_count": 77,
   "metadata": {
    "collapsed": true
   },
   "outputs": [],
   "source": [
    "def ringo(x):\n",
    "    \n",
    "    result = x - 0.98251494\n",
    "    return result"
   ]
  },
  {
   "cell_type": "code",
   "execution_count": 78,
   "metadata": {
    "collapsed": false
   },
   "outputs": [
    {
     "data": {
      "text/html": [
       "&lt;Column name=&apos;a&apos; dtype=&apos;float64&apos; length=9&gt;\n",
       "<table>\n",
       "<tr><td>-0.6750027</td></tr>\n",
       "<tr><td>-0.26413338</td></tr>\n",
       "<tr><td>1.11022302463e-16</td></tr>\n",
       "<tr><td>0.39871911</td></tr>\n",
       "<tr><td>3.96420666</td></tr>\n",
       "<tr><td>8.03791578</td></tr>\n",
       "<tr><td>-0.41103014</td></tr>\n",
       "<tr><td>17.25839184</td></tr>\n",
       "<tr><td>28.73058834</td></tr>\n",
       "</table>"
      ],
      "text/plain": [
       "<Column name='a' dtype='float64' length=9>\n",
       "       -0.6750027\n",
       "      -0.26413338\n",
       "1.11022302463e-16\n",
       "       0.39871911\n",
       "       3.96420666\n",
       "       8.03791578\n",
       "      -0.41103014\n",
       "      17.25839184\n",
       "      28.73058834"
      ]
     },
     "execution_count": 78,
     "metadata": {},
     "output_type": "execute_result"
    }
   ],
   "source": [
    "ringo(GeorgeResult)"
   ]
  },
  {
   "cell_type": "markdown",
   "metadata": {},
   "source": [
    "### Saving a table"
   ]
  },
  {
   "cell_type": "code",
   "execution_count": 79,
   "metadata": {
    "collapsed": false
   },
   "outputs": [],
   "source": [
    "T.write('newfile.csv', format='ascii.csv')"
   ]
  },
  {
   "cell_type": "code",
   "execution_count": 80,
   "metadata": {
    "collapsed": false
   },
   "outputs": [
    {
     "name": "stdout",
     "output_type": "stream",
     "text": [
      "Name,a,ecc,Perihelion\r\n",
      "Mercury,0.3871,0.2056,0.30751224\r\n",
      "Venus,0.7233,0.0068,0.7183815600000001\r\n",
      "Earth,0.9991,0.0166,0.9825149400000001\r\n",
      "Mars,1.5237,0.0935,1.38123405\r\n",
      "Jupiter,5.2016,0.049,4.9467216\r\n",
      "Saturn,9.5424,0.0547,9.02043072\r\n",
      "Halley,17.8589,0.968,0.5714848000000005\r\n",
      "Uranus,19.1727,0.0486,18.24090678\r\n",
      "Neptune,29.9769,0.0088,29.71310328\r\n"
     ]
    }
   ],
   "source": [
    "!cat newfile.csv"
   ]
  },
  {
   "cell_type": "code",
   "execution_count": null,
   "metadata": {
    "collapsed": true
   },
   "outputs": [],
   "source": []
  }
 ],
 "metadata": {
  "kernelspec": {
   "display_name": "Python 3",
   "language": "python",
   "name": "python3"
  },
  "language_info": {
   "codemirror_mode": {
    "name": "ipython",
    "version": 3
   },
   "file_extension": ".py",
   "mimetype": "text/x-python",
   "name": "python",
   "nbconvert_exporter": "python",
   "pygments_lexer": "ipython3",
   "version": "3.5.1"
  }
 },
 "nbformat": 4,
 "nbformat_minor": 0
}
