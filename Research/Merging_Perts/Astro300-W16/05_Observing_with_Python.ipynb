{
 "cells": [
  {
   "cell_type": "markdown",
   "metadata": {},
   "source": [
    "# Planning observations with `astroplan`"
   ]
  },
  {
   "cell_type": "code",
   "execution_count": 1,
   "metadata": {
    "collapsed": false
   },
   "outputs": [],
   "source": [
    "import numpy as np\n",
    "\n",
    "import astropy.units as u\n",
    "from astropy.time import Time\n",
    "from astropy.coordinates import SkyCoord\n",
    "\n",
    "from astroplan import Observer, FixedTarget"
   ]
  },
  {
   "cell_type": "markdown",
   "metadata": {},
   "source": [
    "## Time and Dates\n",
    "- ### All dates and times in are UTC: *Coordinated Universal Time* \n",
    "- All `Time` calculation assume that the time is UTC\n",
    "- UTC is related to  Greenwich Mean Time (GMT) but does not change with a change of seasons."
   ]
  },
  {
   "cell_type": "code",
   "execution_count": 2,
   "metadata": {
    "collapsed": false
   },
   "outputs": [
    {
     "name": "stdout",
     "output_type": "stream",
     "text": [
      "2016-02-14 00:00:00.000\n"
     ]
    }
   ],
   "source": [
    "date1 = Time(\"2016-02-14 00:00:00\", format='iso')\n",
    "\n",
    "print(date1)"
   ]
  },
  {
   "cell_type": "markdown",
   "metadata": {},
   "source": [
    "### Current UTC Time"
   ]
  },
  {
   "cell_type": "code",
   "execution_count": 3,
   "metadata": {
    "collapsed": false
   },
   "outputs": [
    {
     "name": "stdout",
     "output_type": "stream",
     "text": [
      "2016-02-14 00:00:00.000\n"
     ]
    }
   ],
   "source": [
    "now = Time(\"2016-02-14 00:00:00\", format='iso')   # Current UTC Time\n",
    "\n",
    "print(now)"
   ]
  },
  {
   "cell_type": "markdown",
   "metadata": {},
   "source": [
    "### Different Date Formats"
   ]
  },
  {
   "cell_type": "code",
   "execution_count": 4,
   "metadata": {
    "collapsed": false
   },
   "outputs": [
    {
     "name": "stdout",
     "output_type": "stream",
     "text": [
      "2457432.5\n",
      "57432.0\n",
      "1455408000.0\n",
      "2016.120218579235\n"
     ]
    }
   ],
   "source": [
    "print(now.jd)               # Julian Date\n",
    "\n",
    "print(now.mjd)              # Modified Julian Date\n",
    "\n",
    "print(now.unix)             # Seconds since the unix epoch (Jan 01, 1970 00:00:00 UTC)\n",
    "\n",
    "print(now.decimalyear)      # Fraction of the year (very useful for plotting)"
   ]
  },
  {
   "cell_type": "markdown",
   "metadata": {},
   "source": [
    "### Math with Time and Dates\n",
    "\n",
    "The most common unints in working with dates and times are: u.s (seconds), u.min (minutes), u.h (hours), u.d (days), and u.yr (years)"
   ]
  },
  {
   "cell_type": "markdown",
   "metadata": {},
   "source": [
    "### Converting to local time - Need to know your offset from UTC"
   ]
  },
  {
   "cell_type": "code",
   "execution_count": 5,
   "metadata": {
    "collapsed": false
   },
   "outputs": [
    {
     "name": "stdout",
     "output_type": "stream",
     "text": [
      "The current local time is 2016-02-13 16:00:00.000 local time\n"
     ]
    }
   ],
   "source": [
    "# Seattle Time (PST) = UTC - 8 hours\n",
    "\n",
    "offset = -8 * u.h\n",
    "\n",
    "print(\"The current local time is {0} local time\".format(now + offset))"
   ]
  },
  {
   "cell_type": "code",
   "execution_count": 6,
   "metadata": {
    "collapsed": false
   },
   "outputs": [
    {
     "name": "stdout",
     "output_type": "stream",
     "text": [
      "In 1 hour and 25 minutes it will be 2016-02-14 01:25:00.000 UTC\n"
     ]
    }
   ],
   "source": [
    "print(\"In 1 hour and 25 minutes it will be {0} UTC\".format(now + 1*u.h + 25*u.min))"
   ]
  },
  {
   "cell_type": "code",
   "execution_count": 7,
   "metadata": {
    "collapsed": false
   },
   "outputs": [
    {
     "name": "stdout",
     "output_type": "stream",
     "text": [
      "315.0 d\n",
      "27216000.0 s\n"
     ]
    }
   ],
   "source": [
    "Christmas = Time(\"2016-12-25 00:00:00\", format='iso')\n",
    "\n",
    "dt = Christmas - now\n",
    "\n",
    "print(dt.to(u.d))   # difference in days\n",
    "\n",
    "print(dt.to(u.s))  #difference in seconds"
   ]
  },
  {
   "cell_type": "markdown",
   "metadata": {},
   "source": [
    "---\n",
    "\n",
    "### [Accurate Time](http://bmmorris.blogspot.com/2015/06/ut1-utc-and-astropy.html) - `UT1`\n",
    "\n",
    "`AstroPy` calculates the times of events to a very high accuracy. To do this, is has to account for the fact that  Earth's rotation period is constantly changing due to tidal forces and changes in the Earth's moment of inertia.\n",
    "\n",
    "To do this, `AstroPy` uses a time convention called `UT1`. This system is tied to the rotation of the Earth with repect to the positions of distant quasars. Since the Earth's rotation is constantly changing, the time system `UT1` is constanly changing with repect to `UTC`. \n",
    "\n",
    "The orientation of the Earth, which must be measured continuously to keep `UT1` accurate. This measurement is logged by the International Earth Rotation and Reference Systems Service (IERS). They update a \"bulletin\" with the most recent measurements of the Earth's orientation. This bulletin is constantly being updated.\n",
    "\n",
    "You will run into occasions when you will get a warning that your dates are out of range of the IERS bulletin. To update the bulletin, run the follow block of code:\n",
    "\n",
    "---"
   ]
  },
  {
   "cell_type": "code",
   "execution_count": 8,
   "metadata": {
    "collapsed": false
   },
   "outputs": [
    {
     "name": "stdout",
     "output_type": "stream",
     "text": [
      "Downloading http://maia.usno.navy.mil/ser7/finals2000A.all [Done]\n"
     ]
    }
   ],
   "source": [
    "from astroplan import download_IERS_A\n",
    "\n",
    "download_IERS_A()"
   ]
  },
  {
   "cell_type": "markdown",
   "metadata": {},
   "source": [
    "## Setting your location - `Observer`"
   ]
  },
  {
   "cell_type": "code",
   "execution_count": 9,
   "metadata": {
    "collapsed": false
   },
   "outputs": [],
   "source": [
    "astrolab = Observer(longitude = -122.3115 * u.deg,\n",
    "                    latitude = 47.65371 * u.deg,\n",
    "                    elevation = 63.4 * u.m,\n",
    "                    name = \"Astrolab\"\n",
    "                    )"
   ]
  },
  {
   "cell_type": "markdown",
   "metadata": {},
   "source": [
    "### Information at your location"
   ]
  },
  {
   "cell_type": "code",
   "execution_count": 10,
   "metadata": {
    "collapsed": false
   },
   "outputs": [
    {
     "name": "stdout",
     "output_type": "stream",
     "text": [
      "Sunset will be at 2016-02-14 01:28:59.123 UTC\n",
      "Local Midnight will be at 2016-02-14 08:27:07.090 UTC\n",
      "Sunrise will be at 2016-02-14 15:24:41.201 UTC\n"
     ]
    }
   ],
   "source": [
    "sunset_here = astrolab.sun_set_time(now, which='nearest') #which sunrise or sunset\n",
    "sunrise_here = astrolab.sun_rise_time(now, which='next')\n",
    "midnight_here = astrolab.midnight(now, which='next')\n",
    "\n",
    "print(\"Sunset will be at {0.iso} UTC\".format(sunset_here))\n",
    "print(\"Local Midnight will be at {0.iso} UTC\".format(midnight_here))\n",
    "print(\"Sunrise will be at {0.iso} UTC\".format(sunrise_here))"
   ]
  },
  {
   "cell_type": "code",
   "execution_count": 11,
   "metadata": {
    "collapsed": false
   },
   "outputs": [
    {
     "name": "stdout",
     "output_type": "stream",
     "text": [
      "Sunset will be at 2016-02-13 17:28:59.123 local time\n",
      "Local Midnight will be at 2016-02-14 00:27:07.090 local time\n",
      "Sunrise will be at 2016-02-14 07:24:41.201 local time\n"
     ]
    }
   ],
   "source": [
    "print(\"Sunset will be at {0.iso} local time\".format(sunset_here + offset))\n",
    "print(\"Local Midnight will be at {0.iso} local time\".format(midnight_here + offset))\n",
    "print(\"Sunrise will be at {0.iso} local time\".format(sunrise_here + offset))"
   ]
  },
  {
   "cell_type": "markdown",
   "metadata": {},
   "source": [
    "#### The Manastash Ridge Observatory (MRO) is operated by the Astronomy Department of the University of Washington for the training of graduate and undergraduate students as well as for astronomical research."
   ]
  },
  {
   "cell_type": "code",
   "execution_count": 12,
   "metadata": {
    "collapsed": false
   },
   "outputs": [
    {
     "name": "stdout",
     "output_type": "stream",
     "text": [
      "Sunset at MRO will be at 2016-02-13 17:24:05.239 local time\n"
     ]
    }
   ],
   "source": [
    "mro = Observer.at_site('mro')\n",
    "\n",
    "sunset_mro = mro.sun_set_time(now, which='nearest')\n",
    "\n",
    "print(\"Sunset at MRO will be at {0.iso} local time\".format(sunset_mro + offset))"
   ]
  },
  {
   "cell_type": "code",
   "execution_count": 13,
   "metadata": {
    "collapsed": false
   },
   "outputs": [
    {
     "data": {
      "text/latex": [
       "$4.8980617 \\; \\mathrm{min}$"
      ],
      "text/plain": [
       "<Quantity 4.89806167781353 min>"
      ]
     },
     "execution_count": 13,
     "metadata": {},
     "output_type": "execute_result"
    }
   ],
   "source": [
    "(sunset_here - sunset_mro).to(u.min)"
   ]
  },
  {
   "cell_type": "code",
   "execution_count": 14,
   "metadata": {
    "collapsed": false
   },
   "outputs": [
    {
     "data": {
      "text/latex": [
       "$9^\\mathrm{h}46^\\mathrm{m}45.204^\\mathrm{s}$"
      ],
      "text/plain": [
       "<Longitude 9.779223341224329 hourangle>"
      ]
     },
     "execution_count": 14,
     "metadata": {},
     "output_type": "execute_result"
    }
   ],
   "source": [
    "midnight_mro = mro.midnight(now, which='next')\n",
    "\n",
    "astrolab.local_sidereal_time(midnight_mro)"
   ]
  },
  {
   "cell_type": "code",
   "execution_count": 15,
   "metadata": {
    "collapsed": false
   },
   "outputs": [
    {
     "name": "stdout",
     "output_type": "stream",
     "text": [
      "Astronomical Evening Twilight starts at 2016-02-14 03:11:38.537 UTC\n",
      "Astronomical Midnight is at 2016-02-14 08:20:47.468 UTC\n",
      "Astronomical Morning Twilight starts at 2016-02-14 13:29:41.377 UTC\n"
     ]
    }
   ],
   "source": [
    "# Astronomical twilight is when the Sun is 18 degrees below the horizon\n",
    "\n",
    "astro_set = mro.twilight_evening_astronomical(now, which='nearest')  \n",
    "astro_rise = mro.twilight_morning_astronomical(now, which='next')\n",
    "\n",
    "print(\"Astronomical Evening Twilight starts at {0.iso} UTC\".format(astro_set))\n",
    "print(\"Astronomical Midnight is at {0.iso} UTC\".format(midnight_mro))\n",
    "print(\"Astronomical Morning Twilight starts at {0.iso} UTC\".format(astro_rise))"
   ]
  },
  {
   "cell_type": "code",
   "execution_count": 16,
   "metadata": {
    "collapsed": false
   },
   "outputs": [
    {
     "name": "stdout",
     "output_type": "stream",
     "text": [
      "Astronomical Evening Twilight starts at 2016-02-13 19:11:38.537 local time\n",
      "Astronomical Midnight is at 2016-02-14 00:20:47.468 local time\n",
      "Astronomical Morning Twilight starts at 2016-02-14 05:29:41.377 local time\n"
     ]
    }
   ],
   "source": [
    "# Local Times\n",
    "\n",
    "print(\"Astronomical Evening Twilight starts at {0.iso} local time\".format(astro_set + offset))\n",
    "print(\"Astronomical Midnight is at {0.iso} local time\".format(midnight_mro - 8*u.h))\n",
    "print(\"Astronomical Morning Twilight starts at {0.iso} local time\".format(astro_rise + offset))"
   ]
  },
  {
   "cell_type": "markdown",
   "metadata": {},
   "source": [
    "## Objects in the sky - `FixedTarget`"
   ]
  },
  {
   "cell_type": "markdown",
   "metadata": {},
   "source": [
    "### You can define targets by [coordinates](./Astro_Coordinates.pdf)"
   ]
  },
  {
   "cell_type": "code",
   "execution_count": 17,
   "metadata": {
    "collapsed": false
   },
   "outputs": [],
   "source": [
    "coords = SkyCoord('02h19m00.0s', '+57d07m042s', frame='icrs') #icrs - international celestial reference system\n",
    "ngc869 = FixedTarget(name='NGC869', coord=coords) #fixedtarget - dont move wrt background stars"
   ]
  },
  {
   "cell_type": "code",
   "execution_count": 18,
   "metadata": {
    "collapsed": false
   },
   "outputs": [
    {
     "data": {
      "text/latex": [
       "$34^\\circ45{}^\\prime00{}^{\\prime\\prime}$"
      ],
      "text/plain": [
       "<Longitude 34.74999999999999 deg>"
      ]
     },
     "execution_count": 18,
     "metadata": {},
     "output_type": "execute_result"
    }
   ],
   "source": [
    "ngc869.ra"
   ]
  },
  {
   "cell_type": "code",
   "execution_count": 19,
   "metadata": {
    "collapsed": false
   },
   "outputs": [
    {
     "data": {
      "text/plain": [
       "hms_tuple(h=2.0, m=18.0, s=59.999999999999147)"
      ]
     },
     "execution_count": 19,
     "metadata": {},
     "output_type": "execute_result"
    }
   ],
   "source": [
    "ngc869.ra.hms"
   ]
  },
  {
   "cell_type": "code",
   "execution_count": 20,
   "metadata": {
    "collapsed": false
   },
   "outputs": [
    {
     "data": {
      "text/plain": [
       "True"
      ]
     },
     "execution_count": 20,
     "metadata": {},
     "output_type": "execute_result"
    }
   ],
   "source": [
    "astrolab.target_is_up(midnight_here, ngc869) #(when, obj)"
   ]
  },
  {
   "cell_type": "code",
   "execution_count": 21,
   "metadata": {
    "collapsed": false
   },
   "outputs": [
    {
     "data": {
      "text/plain": [
       "(28.510540494814432, 325.5008249712631)"
      ]
     },
     "execution_count": 21,
     "metadata": {},
     "output_type": "execute_result"
    }
   ],
   "source": [
    "# Altitude and Azimuth of a target at a specific time\n",
    "\n",
    "aa = astrolab.altaz(midnight_here, ngc869)\n",
    "\n",
    "aa.alt.degree, aa.az.degree"
   ]
  },
  {
   "cell_type": "code",
   "execution_count": 22,
   "metadata": {
    "collapsed": false
   },
   "outputs": [
    {
     "data": {
      "text/plain": [
       "<SkyCoord (Galactic): (l, b) in deg\n",
       "    (134.63216119, -3.74091212)>"
      ]
     },
     "execution_count": 22,
     "metadata": {},
     "output_type": "execute_result"
    }
   ],
   "source": [
    "# You can get the galactice coords of the target\n",
    "\n",
    "aa.galactic"
   ]
  },
  {
   "cell_type": "code",
   "execution_count": 23,
   "metadata": {
    "collapsed": false
   },
   "outputs": [
    {
     "data": {
      "text/plain": [
       "<SkyCoord (FK4: equinox=B1950.000, obstime=2457432.8521653963): (ra, dec) in deg\n",
       "    (33.86767216, 56.89850062)>"
      ]
     },
     "execution_count": 23,
     "metadata": {},
     "output_type": "execute_result"
    }
   ],
   "source": [
    "# You can get the coords at a different epoch (1950)\n",
    "\n",
    "aa.fk4"
   ]
  },
  {
   "cell_type": "markdown",
   "metadata": {},
   "source": [
    "### Most targets can be defined by name"
   ]
  },
  {
   "cell_type": "code",
   "execution_count": 24,
   "metadata": {
    "collapsed": true
   },
   "outputs": [],
   "source": [
    "Obj1 = FixedTarget.from_name(\"m1\")"
   ]
  },
  {
   "cell_type": "code",
   "execution_count": 25,
   "metadata": {
    "collapsed": false
   },
   "outputs": [
    {
     "data": {
      "text/plain": [
       "<SkyCoord (ICRS): (ra, dec) in deg\n",
       "    (83.633083, 22.0145)>"
      ]
     },
     "execution_count": 25,
     "metadata": {},
     "output_type": "execute_result"
    }
   ],
   "source": [
    "Obj1.coord "
   ]
  },
  {
   "cell_type": "code",
   "execution_count": 26,
   "metadata": {
    "collapsed": false
   },
   "outputs": [
    {
     "data": {
      "text/plain": [
       "hms_tuple(h=5.0, m=34.0, s=31.939920000004918)"
      ]
     },
     "execution_count": 26,
     "metadata": {},
     "output_type": "execute_result"
    }
   ],
   "source": [
    "Obj1.ra.hms"
   ]
  },
  {
   "cell_type": "markdown",
   "metadata": {},
   "source": [
    "### Planning - Observing at MRO"
   ]
  },
  {
   "cell_type": "markdown",
   "metadata": {},
   "source": [
    "#### [Air Mass](https://en.wikipedia.org/wiki/Air_mass_%28astronomy%29) is the optical path length through Earth’s atmosphere. At sea-level, the air mass at the zenith is 1. Air mass increases as you move toward the horizon, reaching a value of approximately 38 at the horizon.\n",
    "\n",
    "- #### The best time to observe a target is at minimum airmass.\n",
    "- #### When the airmass of your target is getting close to 2, you should be observing another target."
   ]
  },
  {
   "cell_type": "code",
   "execution_count": 27,
   "metadata": {
    "collapsed": false
   },
   "outputs": [
    {
     "data": {
      "text/plain": [
       "True"
      ]
     },
     "execution_count": 27,
     "metadata": {},
     "output_type": "execute_result"
    }
   ],
   "source": [
    "mro.target_is_up(midnight_mro, Obj1)"
   ]
  },
  {
   "cell_type": "markdown",
   "metadata": {},
   "source": [
    "Object is up at midnight at MRO - good"
   ]
  },
  {
   "cell_type": "code",
   "execution_count": 28,
   "metadata": {
    "collapsed": false
   },
   "outputs": [
    {
     "data": {
      "text/plain": [
       "(<Latitude 34.22715902084896 deg>, <Longitude 265.8031964633017 deg>)"
      ]
     },
     "execution_count": 28,
     "metadata": {},
     "output_type": "execute_result"
    }
   ],
   "source": [
    "altaz_Obj1 = astrolab.altaz(midnight_mro, Obj1)\n",
    "\n",
    "altaz_Obj1.alt, altaz_Obj1.az"
   ]
  },
  {
   "cell_type": "markdown",
   "metadata": {},
   "source": [
    "Nice high altitude - looking good"
   ]
  },
  {
   "cell_type": "code",
   "execution_count": 29,
   "metadata": {
    "collapsed": false
   },
   "outputs": [
    {
     "data": {
      "text/latex": [
       "$1.7778556 \\; \\mathrm{}$"
      ],
      "text/plain": [
       "<Quantity 1.7778556470995026>"
      ]
     },
     "execution_count": 29,
     "metadata": {},
     "output_type": "execute_result"
    }
   ],
   "source": [
    "# You can find the airmass by using the .secz method\n",
    "\n",
    "altaz_Obj1.secz"
   ]
  },
  {
   "cell_type": "markdown",
   "metadata": {},
   "source": [
    "Airmass < 2, you are good to go."
   ]
  },
  {
   "cell_type": "markdown",
   "metadata": {},
   "source": [
    "## Planning observation is easier with plots"
   ]
  },
  {
   "cell_type": "code",
   "execution_count": 30,
   "metadata": {
    "collapsed": false
   },
   "outputs": [],
   "source": [
    "%matplotlib inline\n",
    "import matplotlib.pyplot as plt\n",
    "\n",
    "from astroplan.plots import plot_sky, plot_airmass"
   ]
  },
  {
   "cell_type": "code",
   "execution_count": 31,
   "metadata": {
    "collapsed": false
   },
   "outputs": [
    {
     "data": {
      "image/png": "[encoded data removed]",
      "text/plain": [
       "<matplotlib.figure.Figure at 0x7f093bcd1a90>"
      ]
     },
     "metadata": {},
     "output_type": "display_data"
    }
   ],
   "source": [
    "plot_sky(Obj1, mro, midnight_mro);"
   ]
  },
  {
   "cell_type": "code",
   "execution_count": 49,
   "metadata": {
    "collapsed": false
   },
   "outputs": [
    {
     "data": {
      "image/png": "[encoded data removed]",
      "text/plain": [
       "<matplotlib.figure.Figure at 0x7f093ac88c50>"
      ]
     },
     "metadata": {},
     "output_type": "display_data"
    }
   ],
   "source": [
    "start_time = astro_set\n",
    "end_time = astro_rise\n",
    "delta_t = end_time - start_time\n",
    "observe_time = start_time + delta_t * np.linspace(0.0, 1.0, 50)\n",
    "\n",
    "# np.linspace(0, 1, 50) make 50 evenly spaced points from 0.0 to 1.0\n",
    "\n",
    "plot_sky(Obj1, mro, observe_time);\n"
   ]
  },
  {
   "cell_type": "markdown",
   "metadata": {},
   "source": [
    "### Plot the airmass of the target over the night"
   ]
  },
  {
   "cell_type": "code",
   "execution_count": 33,
   "metadata": {
    "collapsed": false
   },
   "outputs": [
    {
     "data": {
      "image/png": "[encoded data removed]",
      "text/plain": [
       "<matplotlib.figure.Figure at 0x7f093bcd1908>"
      ]
     },
     "metadata": {},
     "output_type": "display_data"
    }
   ],
   "source": [
    "plot_airmass(Obj1, mro, observe_time);"
   ]
  },
  {
   "cell_type": "markdown",
   "metadata": {},
   "source": [
    "M31 is good target for observation at MRO for most of the night"
   ]
  },
  {
   "cell_type": "markdown",
   "metadata": {},
   "source": [
    "### Not all targets can be observed at all locations"
   ]
  },
  {
   "cell_type": "code",
   "execution_count": 34,
   "metadata": {
    "collapsed": false
   },
   "outputs": [],
   "source": [
    "Obj2 = FixedTarget.from_name(\"Wezen\")"
   ]
  },
  {
   "cell_type": "code",
   "execution_count": 35,
   "metadata": {
    "collapsed": false
   },
   "outputs": [
    {
     "data": {
      "text/plain": [
       "True"
      ]
     },
     "execution_count": 35,
     "metadata": {},
     "output_type": "execute_result"
    }
   ],
   "source": [
    "mro.target_is_up(midnight_mro, Obj2)"
   ]
  },
  {
   "cell_type": "code",
   "execution_count": 36,
   "metadata": {
    "collapsed": false
   },
   "outputs": [
    {
     "data": {
      "image/png": "[encoded data removed]",
      "text/plain": [
       "<matplotlib.figure.Figure at 0x7f093bb86c88>"
      ]
     },
     "metadata": {},
     "output_type": "display_data"
    }
   ],
   "source": [
    "plot_sky(Obj2, mro, observe_time);"
   ]
  },
  {
   "cell_type": "code",
   "execution_count": 37,
   "metadata": {
    "collapsed": false
   },
   "outputs": [
    {
     "data": {
      "image/png": "[encoded data removed]",
      "text/plain": [
       "<matplotlib.figure.Figure at 0x7f093bb849e8>"
      ]
     },
     "metadata": {},
     "output_type": "display_data"
    }
   ],
   "source": [
    "plot_airmass(Obj2, mro, observe_time);"
   ]
  },
  {
   "cell_type": "markdown",
   "metadata": {},
   "source": [
    "Not looking good"
   ]
  },
  {
   "cell_type": "code",
   "execution_count": 38,
   "metadata": {
    "collapsed": false
   },
   "outputs": [
    {
     "data": {
      "image/png": "[encoded data removed]",
      "text/plain": [
       "<matplotlib.figure.Figure at 0x7f093ad9a1d0>"
      ]
     },
     "metadata": {},
     "output_type": "display_data"
    }
   ],
   "source": [
    "# astroplan sets the default limits of the airmass plot to [3,0].\n",
    "# If you want to see a target at a higher airmass you have to set the limits yourself.\n",
    "\n",
    "fig,ax = plt.subplots(1,1)\n",
    "\n",
    "plot_airmass(Obj2, mro, observe_time)\n",
    "ax.set_ylim([20,0]);"
   ]
  },
  {
   "cell_type": "markdown",
   "metadata": {},
   "source": [
    "As you can see, MRO is not the best place to observe Object 2."
   ]
  },
  {
   "cell_type": "markdown",
   "metadata": {},
   "source": [
    "### Finder Charts"
   ]
  },
  {
   "cell_type": "code",
   "execution_count": 39,
   "metadata": {
    "collapsed": false
   },
   "outputs": [
    {
     "ename": "ImportError",
     "evalue": "No module named 'astroquery'",
     "output_type": "error",
     "traceback": [
      "\u001b[1;31m---------------------------------------------------------------------------\u001b[0m",
      "\u001b[1;31mImportError\u001b[0m                               Traceback (most recent call last)",
      "\u001b[1;32m<ipython-input-39-4fca28e728bf>\u001b[0m in \u001b[0;36m<module>\u001b[1;34m()\u001b[0m\n\u001b[0;32m      1\u001b[0m \u001b[1;32mfrom\u001b[0m \u001b[0mastroplan\u001b[0m\u001b[1;33m.\u001b[0m\u001b[0mplots\u001b[0m\u001b[1;33m.\u001b[0m\u001b[0mfinder\u001b[0m \u001b[1;32mimport\u001b[0m \u001b[0mplot_finder_image\u001b[0m\u001b[1;33m\u001b[0m\u001b[0m\n\u001b[1;32m----> 2\u001b[1;33m \u001b[1;32mfrom\u001b[0m \u001b[0mastroquery\u001b[0m\u001b[1;33m.\u001b[0m\u001b[0mskyview\u001b[0m \u001b[1;32mimport\u001b[0m \u001b[0mSkyView\u001b[0m\u001b[1;33m\u001b[0m\u001b[0m\n\u001b[0m",
      "\u001b[1;31mImportError\u001b[0m: No module named 'astroquery'"
     ]
    }
   ],
   "source": [
    "from astroplan.plots.finder import plot_finder_image\n",
    "from astroquery.skyview import SkyView"
   ]
  },
  {
   "cell_type": "code",
   "execution_count": null,
   "metadata": {
    "collapsed": false
   },
   "outputs": [],
   "source": [
    "plot_finder_image(ngc869)"
   ]
  },
  {
   "cell_type": "code",
   "execution_count": null,
   "metadata": {
    "collapsed": false
   },
   "outputs": [],
   "source": [
    "# plot_finder_image defaults to a field of view of 10 u*arcmin\n",
    "# You can specify a different fov\n",
    "\n",
    "plot_finder_image(ngc869, fov_radius= 1.3 * u.degree)"
   ]
  },
  {
   "cell_type": "code",
   "execution_count": null,
   "metadata": {
    "collapsed": false
   },
   "outputs": [],
   "source": [
    "plot_finder_image(Obj1, fov_radius= 7 * u.arcmin)"
   ]
  },
  {
   "cell_type": "code",
   "execution_count": null,
   "metadata": {
    "collapsed": true
   },
   "outputs": [],
   "source": []
  }
 ],
 "metadata": {
  "kernelspec": {
   "display_name": "Python 3",
   "language": "python",
   "name": "python3"
  },
  "language_info": {
   "codemirror_mode": {
    "name": "ipython",
    "version": 3
   },
   "file_extension": ".py",
   "mimetype": "text/x-python",
   "name": "python",
   "nbconvert_exporter": "python",
   "pygments_lexer": "ipython3",
   "version": "3.5.1"
  }
 },
 "nbformat": 4,
 "nbformat_minor": 0
}
