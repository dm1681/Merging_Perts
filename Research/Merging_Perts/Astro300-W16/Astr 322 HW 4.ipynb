{
 "cells": [
  {
   "cell_type": "code",
   "execution_count": 8,
   "metadata": {
    "collapsed": true
   },
   "outputs": [],
   "source": [
    "import numpy as np\n",
    "from astropy import units as u\n",
    "from astropy import constants as const"
   ]
  },
  {
   "cell_type": "code",
   "execution_count": 20,
   "metadata": {
    "collapsed": false
   },
   "outputs": [
    {
     "data": {
      "text/latex": [
       "$0.26462504 \\; \\mathrm{\\mathring{A}}$"
      ],
      "text/plain": [
       "<Quantity 0.2646250389961285 Angstrom>"
      ]
     },
     "execution_count": 20,
     "metadata": {},
     "output_type": "execute_result"
    }
   ],
   "source": [
    "l = 486.1 * u.nm\n",
    "T = 5777 * u.K\n",
    "m = 1 * u.u\n",
    "vturb = 0 * u.m/u.s\n",
    "\n",
    "FWHM = (2*l/const.c)*((2*const.k_B*T/m + vturb**2)*np.log(2))**(1/2)\n",
    "FWHM.to(u.Angstrom)"
   ]
  },
  {
   "cell_type": "code",
   "execution_count": 27,
   "metadata": {
    "collapsed": false
   },
   "outputs": [
    {
     "data": {
      "text/plain": [
       "(<Quantity 475.33522594280583 pc>,\n",
       " <Quantity 1202.2644346174131 pc>,\n",
       " <Quantity 726.9292086746073 pc>)"
      ]
     },
     "execution_count": 27,
     "metadata": {},
     "output_type": "execute_result"
    }
   ],
   "source": [
    "mv = 11.9\n",
    "mb = 12.6\n",
    "Mv = 1.5\n",
    "\n",
    "BmV_obs = mb - mv\n",
    "BmV_abs = 0.05\n",
    "ErrBmV = BmV_obs - BmV_abs\n",
    "Av = 3.1 * ErrBmV\n",
    "d = 10**(((mv - Mv - Av)/5)+1) * u.pc\n",
    "d_nored = 10**(((mv-Mv)/5)+1)*u.pc\n",
    "deltad = (d_nored - d)\n",
    "\n",
    "d,d_nored,deltad"
   ]
  },
  {
   "cell_type": "code",
   "execution_count": 36,
   "metadata": {
    "collapsed": false
   },
   "outputs": [
    {
     "data": {
      "text/latex": [
       "$20.590367 \\; \\mathrm{}$"
      ],
      "text/plain": [
       "<Quantity 20.59036659820676>"
      ]
     },
     "execution_count": 36,
     "metadata": {},
     "output_type": "execute_result"
    }
   ],
   "source": [
    "v_sun = 220 * u.km/u.s\n",
    "r = 8000 * u.pc\n",
    "circ_mw = 2 * np.pi * r\n",
    "t_1P = circ_mw / v_sun\n",
    "sun_age = 4.6 * 10**9 * u.yr\n",
    "\n",
    "count_periods = sun_age / t_1P\n",
    "count_periods.decompose()"
   ]
  },
  {
   "cell_type": "code",
   "execution_count": null,
   "metadata": {
    "collapsed": true
   },
   "outputs": [],
   "source": []
  }
 ],
 "metadata": {
  "kernelspec": {
   "display_name": "Python 3",
   "language": "python",
   "name": "python3"
  },
  "language_info": {
   "codemirror_mode": {
    "name": "ipython",
    "version": 3
   },
   "file_extension": ".py",
   "mimetype": "text/x-python",
   "name": "python",
   "nbconvert_exporter": "python",
   "pygments_lexer": "ipython3",
   "version": "3.5.1"
  }
 },
 "nbformat": 4,
 "nbformat_minor": 0
}
