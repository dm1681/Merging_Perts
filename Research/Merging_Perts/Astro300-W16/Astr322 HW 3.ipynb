{
 "cells": [
  {
   "cell_type": "code",
   "execution_count": 1,
   "metadata": {
    "collapsed": false
   },
   "outputs": [],
   "source": [
    "import numpy as np\n",
    "from astropy import constants as const\n",
    "from astropy import units as u\n",
    "from astropy.units import imperial\n"
   ]
  },
  {
   "cell_type": "code",
   "execution_count": null,
   "metadata": {
    "collapsed": true
   },
   "outputs": [],
   "source": []
  },
  {
   "cell_type": "code",
   "execution_count": 50,
   "metadata": {
    "collapsed": false
   },
   "outputs": [
    {
     "data": {
      "text/latex": [
       "$10.072344 \\; \\mathrm{R_{\\odot}}$"
      ],
      "text/plain": [
       "<Quantity 10.072344260423007 solRad>"
      ]
     },
     "execution_count": 50,
     "metadata": {},
     "output_type": "execute_result"
    }
   ],
   "source": [
    "\n",
    "para_angle = .097 * u.arcsec\n",
    "mv = 1.14\n",
    "mb = 2.14\n",
    "BC = -0.42 #depends on star\n",
    "Mbolsun = 4.74\n",
    "T = 4666 * u.K\n",
    "d = para_angle.to(u.pc, equivalencies=u.parallax())\n",
    "Dmodulus = 5 * (np.log10(d.value)-1)\n",
    "#Dmodulus = mv - MV\n",
    "Mv = mv - Dmodulus\n",
    "\n",
    "Mbol = Mv + BC \n",
    "#Mbol - Mbolsun == -2.5 * np.log10(Lpol/const.L_sun) how???\n",
    "L = const.L_sun * 10**((Mbol - Mbolsun)/-2.5)\n",
    "R = (L / (4 * np.pi * const.sigma_sb * T**4))**(1/2)\n",
    "R.to(u.solRad)\n",
    "\n",
    "#distance = 1 / para_angle\n",
    "#distance = 10.309278 pc\n",
    "\n"
   ]
  },
  {
   "cell_type": "code",
   "execution_count": 70,
   "metadata": {
    "collapsed": false
   },
   "outputs": [
    {
     "data": {
      "text/latex": [
       "$1944.2819 \\; \\mathrm{}$"
      ],
      "text/plain": [
       "<Quantity 1944.2818609271599>"
      ]
     },
     "execution_count": 70,
     "metadata": {},
     "output_type": "execute_result"
    }
   ],
   "source": [
    "T = 3000 * u.K \n",
    "mu = 1\n",
    "density = 1.5 * 10**(-22) * u.g/u.cm**3\n",
    "JM = ((5 * const.k_B * T)/(const.G * mu * 1 * u.u))**(3/2) * (3/(4*np.pi*density))**(1/2)\n",
    "#JM.to(u.solMass)\n",
    "\n",
    "JR = ((15 * const.k_B * T)/(4*np.pi*const.G*mu*1*u.u*density))**(1/2)\n",
    "#JR.to(u.pc)\n",
    "#print (JM.to(u.solMass),JR.to(u.pc))\n",
    "\n",
    "#collapse time\n",
    "t = (3*np.pi/(32*const.G*density))**(1/2)\n",
    "t.decompose()\n",
    "\n",
    "T = 12 * u.K\n",
    "mu = 2\n",
    "\n",
    "altJR = (const.G * mu * 1*u.u*const.M_sun/(3*const.k_B*T))\n",
    "prop = (JR.to(u.pc)/altJR.to(u.pc))\n",
    "prop"
   ]
  },
  {
   "cell_type": "code",
   "execution_count": null,
   "metadata": {
    "collapsed": true
   },
   "outputs": [],
   "source": []
  }
 ],
 "metadata": {
  "kernelspec": {
   "display_name": "Python 3",
   "language": "python",
   "name": "python3"
  },
  "language_info": {
   "codemirror_mode": {
    "name": "ipython",
    "version": 3
   },
   "file_extension": ".py",
   "mimetype": "text/x-python",
   "name": "python",
   "nbconvert_exporter": "python",
   "pygments_lexer": "ipython3",
   "version": "3.5.1"
  }
 },
 "nbformat": 4,
 "nbformat_minor": 0
}
