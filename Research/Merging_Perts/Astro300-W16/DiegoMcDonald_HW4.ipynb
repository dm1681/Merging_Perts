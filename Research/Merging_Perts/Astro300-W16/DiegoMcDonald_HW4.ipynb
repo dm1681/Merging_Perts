{
 "cells": [
  {
   "cell_type": "markdown",
   "metadata": {},
   "source": [
    "## Diego McDonald - Homework \\#4"
   ]
  },
  {
   "cell_type": "code",
   "execution_count": 1,
   "metadata": {
    "collapsed": false
   },
   "outputs": [],
   "source": [
    "import numpy as np\n",
    "\n",
    "from astropy.table import QTable\n",
    "from astropy import units as u\n",
    "from astropy import constants as const"
   ]
  },
  {
   "cell_type": "markdown",
   "metadata": {},
   "source": [
    "## The dataset `PHA.cvs` contains data for 10 objects classified as potentially hazardous asteroids\n",
    "\n",
    "- Read in dataset `PHA.csv`\n",
    "- `The columns for the dataset 'Objects.csv' are: Name, a, ecc, H, A`"
   ]
  },
  {
   "cell_type": "code",
   "execution_count": 2,
   "metadata": {
    "collapsed": false
   },
   "outputs": [
    {
     "data": {
      "text/html": [
       "&lt;QTable length=10&gt;\n",
       "<table id=\"table140276902963464\">\n",
       "<thead><tr><th>Name</th><th>a</th><th>ecc</th><th>H</th><th>A</th></tr></thead>\n",
       "<thead><tr><th>str17</th><th>float64</th><th>float64</th><th>float64</th><th>float64</th></tr></thead>\n",
       "<tr><td>Icarus</td><td>1.08</td><td>0.83</td><td>16.9</td><td>1.51</td></tr>\n",
       "<tr><td>Geographos</td><td>1.25</td><td>0.34</td><td>15.6</td><td>0.33</td></tr>\n",
       "<tr><td>Apollo</td><td>1.47</td><td>0.56</td><td>16.25</td><td>0.25</td></tr>\n",
       "<tr><td>Midas</td><td>1.78</td><td>0.65</td><td>15.2</td><td>0.25</td></tr>\n",
       "<tr><td>Adonis</td><td>1.87</td><td>0.76</td><td>18.8</td><td>0.25</td></tr>\n",
       "<tr><td>Phaethon</td><td>1.27</td><td>0.89</td><td>14.6</td><td>0.11</td></tr>\n",
       "<tr><td>Dionysus</td><td>2.2</td><td>0.54</td><td>16.4</td><td>0.16</td></tr>\n",
       "<tr><td>Wilson-Harrington</td><td>2.64</td><td>0.62</td><td>15.99</td><td>0.05</td></tr>\n",
       "<tr><td>Vishnu</td><td>1.06</td><td>0.44</td><td>18.4</td><td>0.52</td></tr>\n",
       "<tr><td>Toutatis</td><td>2.53</td><td>0.63</td><td>15.3</td><td>0.25</td></tr>\n",
       "</table>"
      ],
      "text/plain": [
       "<QTable length=10>\n",
       "       Name          a      ecc      H       A   \n",
       "      str17       float64 float64 float64 float64\n",
       "----------------- ------- ------- ------- -------\n",
       "           Icarus    1.08    0.83    16.9    1.51\n",
       "       Geographos    1.25    0.34    15.6    0.33\n",
       "           Apollo    1.47    0.56   16.25    0.25\n",
       "            Midas    1.78    0.65    15.2    0.25\n",
       "           Adonis    1.87    0.76    18.8    0.25\n",
       "         Phaethon    1.27    0.89    14.6    0.11\n",
       "         Dionysus     2.2    0.54    16.4    0.16\n",
       "Wilson-Harrington    2.64    0.62   15.99    0.05\n",
       "           Vishnu    1.06    0.44    18.4    0.52\n",
       "         Toutatis    2.53    0.63    15.3    0.25"
      ]
     },
     "execution_count": 2,
     "metadata": {},
     "output_type": "execute_result"
    }
   ],
   "source": [
    "T = QTable.read('PHA.csv', format='ascii.csv')\n",
    "T"
   ]
  },
  {
   "cell_type": "markdown",
   "metadata": {},
   "source": [
    "## Determine the speed of each of the PHAs at r = 1 AU.\n",
    "\n",
    "\n",
    "- Make sure you use units.\n",
    "- Express your answer SI units with 2 digits after the decimal.\n",
    "- Your output should be 10 lines that look like:\n",
    "    - `The speed of [Name] at 1 AU would be [SPEED] [unit]`"
   ]
  },
  {
   "cell_type": "code",
   "execution_count": 3,
   "metadata": {
    "collapsed": false
   },
   "outputs": [
    {
     "name": "stdout",
     "output_type": "stream",
     "text": [
      "The speed of Icarus, at 1 AU would be 30872.42 m / s\n",
      "The speed of Geographos, at 1 AU would be 32632.03 m / s\n",
      "The speed of Apollo, at 1 AU would be 34221.24 m / s\n",
      "The speed of Midas, at 1 AU would be 35724.28 m / s\n",
      "The speed of Adonis, at 1 AU would be 36058.53 m / s\n",
      "The speed of Phaethon, at 1 AU would be 32802.88 m / s\n",
      "The speed of Dionysus, at 1 AU would be 37032.38 m / s\n",
      "The speed of Wilson-Harrington, at 1 AU would be 37929.18 m / s\n",
      "The speed of Vishnu, at 1 AU would be 30620.31 m / s\n",
      "The speed of Toutatis, at 1 AU would be 37736.03 m / s\n"
     ]
    }
   ],
   "source": [
    "\n",
    "for Idx,ab in enumerate(T['Name']):\n",
    "    N = T['Name'][Idx]\n",
    "    r = 1*u.AU\n",
    "    a = T['a'][Idx] * u.AU\n",
    "    v = np.sqrt((const.G * const.M_sun)*((2/r)-(1/a)))\n",
    "    S = 'The speed of {0:s}, at 1 AU would be {1:.2f}'.format(N,v.decompose())\n",
    "    print(S)"
   ]
  },
  {
   "cell_type": "markdown",
   "metadata": {},
   "source": [
    "## Determine the kinetic energy each PHA whould have impact the surface of the Earth\n",
    "\n",
    "- Express your answer in tons of TNT with 2 digits after the decimal\n",
    "- 1 ton TNT $= 4.18 \\times 10^9$ J.\n",
    "- Your output should be 10 lines that look like:\n",
    "    - `The asteroid [Name] would hit the Earth with the energy of [X] tons of TNT`"
   ]
  },
  {
   "cell_type": "code",
   "execution_count": 42,
   "metadata": {
    "collapsed": false
   },
   "outputs": [
    {
     "name": "stdout",
     "output_type": "stream",
     "text": [
      "450.85460230758315 m\n",
      "143955876756.81937 kg\n"
     ]
    }
   ],
   "source": [
    "def D(H,A):\n",
    "        result = (1329 / np.sqrt(A)) * (10 ** (-0.2 * H))\n",
    "        return result * u.km\n",
    "di= D(T['H'],T['A'])\n",
    "diam = di.to(u.m)\n",
    "print (diam[0])\n",
    "\n",
    "def M(D):\n",
    "        result = (diam**3) * (np.pi) * (1/6) * (3000*(u.kg/(u.m)**3))\n",
    "        return result\n",
    "\n",
    "mass = M(D)\n",
    "print (mass[0])\n",
    "#di = D(T['H'],T['A'])\n",
    "#diam = di.to(u.m)"
   ]
  },
  {
   "cell_type": "code",
   "execution_count": 39,
   "metadata": {
    "collapsed": false
   },
   "outputs": [
    {
     "name": "stdout",
     "output_type": "stream",
     "text": [
      "The asteroid Icarus would hit the Earth with the energy of 16412107431.70 ETNT tons of TNT\n",
      "The asteroid Geographos would hit the Earth with the energy of 1081448579638.48 ETNT tons of TNT\n",
      "The asteroid Apollo would hit the Earth with the energy of 734801307674.49 ETNT tons of TNT\n",
      "The asteroid Midas would hit the Earth with the energy of 3415902674604.50 ETNT tons of TNT\n",
      "The asteroid Adonis would hit the Earth with the energy of 24076562524.38 ETNT tons of TNT\n",
      "The asteroid Phaethon would hit the Earth with the energy of 22605988924446.96 ETNT tons of TNT\n",
      "The asteroid Dionysus would hit the Earth with the energy of 1366066371984.82 ETNT tons of TNT\n",
      "The asteroid Wilson-Harrington would hit the Earth with the energy of 14453744519696.22 ETNT tons of TNT\n",
      "The asteroid Vishnu would hit the Earth with the energy of 10057792702.62 ETNT tons of TNT\n",
      "The asteroid Toutatis would hit the Earth with the energy of 3319640372704.65 ETNT tons of TNT\n"
     ]
    }
   ],
   "source": [
    "ETNT = u.def_unit('ETNT', 4.18*(10**9) * u.J)\n",
    "\n",
    "for Idx,ab in enumerate(T['Name']):\n",
    "\n",
    "    N = T['Name'][Idx]\n",
    "    A = T['A'][Idx]\n",
    "    H = T['H'][Idx]\n",
    "    \n",
    "    \n",
    "    diam = D(H,A)\n",
    "    \n",
    "    mass = M(diam)\n",
    "    \n",
    "    r = 1*u.AU\n",
    "    a = T['a'][Idx] * u.AU\n",
    "    v = np.sqrt((const.G * const.M_sun)*((2/r)-(1/a)))\n",
    "    \n",
    "    \n",
    "    KE = (1/2)*(mass)*(v**2)\n",
    "    \n",
    "    S = 'The asteroid {0:s} would hit the Earth with the energy of {1:.2f} tons of TNT'.format(N,KE.to(ETNT))\n",
    "    print(S)\n"
   ]
  },
  {
   "cell_type": "markdown",
   "metadata": {},
   "source": [
    "## Determine how many 1 ton nuclear weapons will be needed to destroy each of the PHAs.\n",
    "\n",
    "- Assume $\\rho$ = 3,000 kg/m$^3$\n",
    "- Your output should be 10 lines that look like:\n",
    "  - `It would take [X] 1 ton yield nuclear weapons to destory the asteroid [Name]`"
   ]
  },
  {
   "cell_type": "code",
   "execution_count": 43,
   "metadata": {
    "collapsed": false
   },
   "outputs": [
    {
     "name": "stdout",
     "output_type": "stream",
     "text": [
      "It would take 0.88 ETNT 1 ton yield nuclear weapons to destroy the asteroid Icarus\n",
      "It would take 786.97 ETNT 1 ton yield nuclear weapons to destroy the asteroid Geographos\n",
      "It would take 352.69 ETNT 1 ton yield nuclear weapons to destroy the asteroid Apollo\n",
      "It would take 3957.27 ETNT 1 ton yield nuclear weapons to destroy the asteroid Midas\n",
      "It would take 0.99 ETNT 1 ton yield nuclear weapons to destroy the asteroid Adonis\n",
      "It would take 122677.16 ETNT 1 ton yield nuclear weapons to destroy the asteroid Phaethon\n",
      "It would take 761.98 ETNT 1 ton yield nuclear weapons to destroy the asteroid Dionysus\n",
      "It would take 35877.35 ETNT 1 ton yield nuclear weapons to destroy the asteroid Wilson-Harrington\n",
      "It would take 0.40 ETNT 1 ton yield nuclear weapons to destroy the asteroid Vishnu\n",
      "It would take 3143.37 ETNT 1 ton yield nuclear weapons to destroy the asteroid Toutatis\n"
     ]
    }
   ],
   "source": [
    "for Idx,ab in enumerate(T['Name']):\n",
    "    \n",
    "    N = T['Name'][Idx]\n",
    "    A = T['A'][Idx]\n",
    "    H = T['H'][Idx]\n",
    "    \n",
    "    \n",
    "    diam = D(H,A)\n",
    "    \n",
    "    mass = M(diam)\n",
    "    \n",
    "    r = 1*u.AU\n",
    "    a = T['a'][Idx] * u.AU\n",
    "    v = np.sqrt((const.G * const.M_sun)*((2/r)-(1/a)))\n",
    "    \n",
    "    \n",
    "    KE = (1/2)*(mass)*(v**2)\n",
    "    \n",
    "    PE = (6/5)*(const.G)*((mass**2)/diam)\n",
    "    \n",
    "    S = \"It would take {0:.2f} 1 ton yield nuclear weapons to destroy the asteroid {1:s}\".format(PE.to(ETNT),N)\n",
    "    print(S)"
   ]
  },
  {
   "cell_type": "markdown",
   "metadata": {},
   "source": [
    "### Due Tue Feb 2 - 5pm\n",
    "- `cp FirstLast_HW4.ipynb ~pikaia/HOMEWORK/`\n",
    "- Make sure to change the file name to your name!\n",
    "- Make sure to change the file title to your name!"
   ]
  },
  {
   "cell_type": "markdown",
   "metadata": {
    "collapsed": false
   },
   "source": [
    "---"
   ]
  },
  {
   "cell_type": "markdown",
   "metadata": {},
   "source": [
    "## Some Orbital Mechanics\n",
    "\n",
    "Kepler's first law says: *The orbit of every planet is an ellipse with the sun at one focus*. The Semimajor axis **a** and the eccentricity **ecc** parametrize the size and shape of the ellipse. The units of **a** in our dataset are Astronomical Units (AU), the average distance between the Sun and the Earth.\n",
    "\n",
    "![Orbit Diagram](images/Orbit.jpg)\n",
    "\n",
    "For a closed elliptical orbit (orbits gravitationally bound to the Sun), $ecc = \\sqrt{1 - {b^2}/{a^2}}$, where **a** and **b** are the semimajor and semiminor axes. As you can see from the equation, when **a** = **b**, **ecc** = 0 (a circle), and when **a** $>>$ **b**, **ecc** approaches 1. When **ecc** = 1, the orbit is a parabolic orbit (just bound). When **ecc** $>$ 1 the orbit is a hyperbolic orbit (unbound).\n",
    "\n",
    "---\n",
    "\n",
    "The speed of an object on an elliptical orbit around the Sun at a distance **r** from the Sun is:\n",
    "\n",
    "$$ \\large\n",
    "v\\ =\\ \\sqrt{GM_{\\odot}\\ \\left(\\frac{2}{r} - \\frac{1}{a}\\right)}\n",
    "$$\n",
    "\n",
    "---"
   ]
  },
  {
   "cell_type": "markdown",
   "metadata": {},
   "source": [
    "## Encountering the Earth\n",
    "\n",
    "The encounter speed of an asteroid meeting the Earth at 1 AU is (assuimg aligned prograde orbits):\n",
    "\n",
    "$$ \\large\n",
    "V_{\\textrm{encounter}}\\ =\\ V_{\\textrm{asteroid at 1AU}}\\ -\\ V_{\\textrm{Earth}}\n",
    "$$\n",
    "\n",
    "Where $V_{\\textrm{Earth}}\\ =\\ 30\\ \\textrm{km/s}$\n",
    "\n",
    "## Hitting the Earth\n",
    "\n",
    "The impact speed of an asteroid hitting the Earth is:\n",
    "\n",
    "$$ \\large\n",
    "V_{\\textrm{impact}}\\ =\\ \\sqrt{V_{\\textrm{encounter}}^2 + V_{\\textrm{escape}}^2}\n",
    "$$\n",
    "\n",
    "Where $V_{\\textrm{escape}}\\ = 11.2\\ km/s$\n",
    "\n",
    "---"
   ]
  },
  {
   "cell_type": "markdown",
   "metadata": {},
   "source": [
    "## Blowing up an asteroid\n",
    "\n",
    "The self gravitational potential energy of a uniform sphere of mass (m) and diameter (d) is:\n",
    "\n",
    "$$ \\large\n",
    "PE \\ = \\ \\frac{6}{5} \\cdot \\frac{Gm^2}{d}\n",
    "$$  \n",
    "\n",
    "This is the amount of energy you need to give the sphere to move all of its components pieces infinitely far away (i.e. to destroy it!).\n",
    "\n",
    "Remember that the mass and diameter of the asteroid is derived from its absolute magnitude **H** and albedo **A**."
   ]
  }
 ],
 "metadata": {
  "kernelspec": {
   "display_name": "Python 3",
   "language": "python",
   "name": "python3"
  },
  "language_info": {
   "codemirror_mode": {
    "name": "ipython",
    "version": 3
   },
   "file_extension": ".py",
   "mimetype": "text/x-python",
   "name": "python",
   "nbconvert_exporter": "python",
   "pygments_lexer": "ipython3",
   "version": "3.4.4"
  }
 },
 "nbformat": 4,
 "nbformat_minor": 0
}
