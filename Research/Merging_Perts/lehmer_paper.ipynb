{
 "cells": [
  {
   "cell_type": "code",
   "execution_count": 1,
   "metadata": {
    "collapsed": true
   },
   "outputs": [],
   "source": [
    "import numpy as np\n",
    "import astropy.units as u\n",
    "import astropy.constants as const\n",
    "from astropy.table import QTable\n",
    "import matplotlib.pyplot as plt\n",
    "import pdb\n",
    "%matplotlib inline"
   ]
  },
  {
   "cell_type": "code",
   "execution_count": 2,
   "metadata": {
    "collapsed": false
   },
   "outputs": [
    {
     "data": {
      "text/latex": [
       "$6.67408 \\times 10^{-11} \\; \\mathrm{\\frac{m^{3}}{kg\\,s^{2}}}$"
      ],
      "text/plain": [
       "<<class 'astropy.constants.codata2014.CODATA2014'> name='Gravitational constant' value=6.67408e-11 uncertainty=3.1e-15 unit='m3 / (kg s2)' reference='CODATA 2014'>"
      ]
     },
     "execution_count": 2,
     "metadata": {},
     "output_type": "execute_result"
    }
   ],
   "source": [
    "const.G"
   ]
  },
  {
   "cell_type": "code",
   "execution_count": 3,
   "metadata": {
    "collapsed": true
   },
   "outputs": [],
   "source": [
    "def calc_dmdt(eta, F_xuv, R_xuv, M_p):\n",
    "    dmdt = (eta * np.pi * F_xuv * R_xuv**3)/(const.G * M_p)\n",
    "    return dmdt\n",
    "\n",
    "def calc_M(dmdt,dt):\n",
    "    M = dmdt * dt\n",
    "    return M\n",
    "\n",
    "def calc_H(Rg, T, gs):\n",
    "    H = Rg * T / gs\n",
    "    return H\n",
    "\n",
    "def calc_gs(m,r):\n",
    "    g = const.G * m / r**2\n",
    "    return g\n",
    "\n",
    "def calc_ps(gs, Menv, dM, Rs):\n",
    "    ps = gs * (Menv - dM) / (4 * np.pi * Rs**2)\n",
    "    return ps\n",
    "\n",
    "def calc_Rxuv(Rs, H, Pxuv, Ps):\n",
    "    Rxuv = Rs**2 / (H * np.log(Pxuv/Ps) + Rs)\n",
    "    return Rxuv"
   ]
  },
  {
   "cell_type": "code",
   "execution_count": 8,
   "metadata": {
    "collapsed": false
   },
   "outputs": [
    {
     "data": {
      "text/plain": [
       "(<Quantity 1.1944729460839545e+25 kg>,\n",
       " <Quantity 3.5834188382518635e+23 kg>,\n",
       " <Quantity 1.1586387577014358e+25 kg>,\n",
       " <Quantity 7606928.362559093 m>)"
      ]
     },
     "execution_count": 8,
     "metadata": {},
     "output_type": "execute_result"
    }
   ],
   "source": [
    "# reproduce figure 3\n",
    "# \n",
    "alpha = 0.03\n",
    "Mp = 2\n",
    "Menv = alpha * Mp\n",
    "Mcore = Mp - Menv\n",
    "\n",
    "Mp = Mp * const.M_earth\n",
    "Menv = Menv * const.M_earth\n",
    "Mcore = Mcore * const.M_earth\n",
    "\n",
    "\n",
    "#Rs = (Mcore.value/1.3)**(1/3.7) * u.m\n",
    "Rs = 1.3 * (Mcore/u.kg) ** 0.27 *u.m # I dont think this is right? \n",
    "\n",
    "T = 880 * u.K\n",
    "a = 0.1 * u.AU\n",
    "Mstar = 1 * const.M_sun\n",
    "Fxuv = 55 * u.W / (u.m**2)\n",
    "eta = 0.1\n",
    "Pxuv = 5 * u.Pa\n",
    "Rg = 4157 * u.J / (u.kg * u.K) # stated as 4157 in paper, actually used 4124\n",
    "tao = 1e8 * u.yr\n",
    "\n",
    "Mp, Menv, Mcore, Rs\n",
    "\n",
    "\n"
   ]
  },
  {
   "cell_type": "code",
   "execution_count": 9,
   "metadata": {
    "collapsed": false
   },
   "outputs": [
    {
     "data": {
      "text/html": [
       "&lt;QTable length=1&gt;\n",
       "<table id=\"table140217498191352\" class=\"table-striped table-bordered table-condensed\">\n",
       "<thead><tr><th>time</th><th>Mp</th><th>alpha</th><th>Menv</th><th>P_surf</th><th>R_xuv</th><th>dMdt</th><th>dM</th></tr></thead>\n",
       "<thead><tr><th>yr</th><th>kg</th><th></th><th>kg</th><th>Pa</th><th>m</th><th>kg / s</th><th>kg</th></tr></thead>\n",
       "<thead><tr><th>float64</th><th>float64</th><th>float64</th><th>float64</th><th>float64</th><th>float64</th><th>float64</th><th>float64</th></tr></thead>\n",
       "<tr><td>0.0</td><td>1.1944729460839545e+25</td><td>0.03</td><td>3.5834188382518635e+23</td><td>6585516817.569603</td><td>31132233.751170516</td><td>674223599.6354682</td><td>2.1276878667856252e+20</td></tr>\n",
       "</table>"
      ],
      "text/plain": [
       "<QTable length=1>\n",
       "  time            Mp           ...        dMdt                 dM          \n",
       "   yr             kg           ...       kg / s                kg          \n",
       "float64        float64         ...      float64             float64        \n",
       "------- ---------------------- ... ----------------- ----------------------\n",
       "    0.0 1.1944729460839545e+25 ... 674223599.6354682 2.1276878667856252e+20"
      ]
     },
     "execution_count": 9,
     "metadata": {},
     "output_type": "execute_result"
    }
   ],
   "source": [
    "t = 0 * u.yr\n",
    "dt = 10000 * u.yr\n",
    "dM0 = 0 * u.kg\n",
    "\n",
    "# constants\n",
    "g = calc_gs(Mcore, Rs)\n",
    "H = calc_H(Rg, T, g)\n",
    "\n",
    "# intial conditions\n",
    "P0 = calc_ps(g, Menv, dM0, Rs)\n",
    "P0 = P0.to(u.Pa)\n",
    "Rxuv0 = calc_Rxuv(Rs, H, Pxuv, P0)\n",
    "Rxuv0 = Rxuv0.decompose()\n",
    "dmdt0 = calc_dmdt(eta, Fxuv, Rxuv0, Mcore)\n",
    "dmdt0 = dmdt0.decompose()\n",
    "\n",
    "data = QTable()\n",
    "# defining some initial conditions\n",
    "data['time'] = [0]*u.yr\n",
    "data['Mp'] = [Mp.decompose().value] * u.kg\n",
    "data['alpha'] = [alpha]\n",
    "data['Menv'] = [Menv.decompose().value] * u.kg\n",
    "data['P_surf'] = [P0.decompose().value] * u.Pa\n",
    "data['R_xuv'] = [Rxuv0.decompose().value] * u.m\n",
    "data['dMdt'] = [dmdt0.decompose().value] * u.kg/u.s\n",
    "data['dM'] = [(dmdt0 * dt).decompose().value] * u.kg\n",
    "data"
   ]
  },
  {
   "cell_type": "code",
   "execution_count": 13,
   "metadata": {
    "collapsed": false
   },
   "outputs": [
    {
     "data": {
      "text/plain": [
       "(<Quantity 13.36351813679245 m / s2>,\n",
       " <Quantity 7606928.362559093 m>,\n",
       " <Quantity 273742.28571803635 J s2 / (kg m)>,\n",
       " <Quantity 6585516817.569603 Pa>,\n",
       " <Quantity 31132233.751170516 m>,\n",
       " <Quantity 0.06>,\n",
       " <Quantity 4.780861056506418 1 / m>)"
      ]
     },
     "execution_count": 13,
     "metadata": {},
     "output_type": "execute_result"
    }
   ],
   "source": [
    "g, Rs, H, P0, Rxuv0, Menv/const.M_earth, 3.0390977564e+07/const.R_earth"
   ]
  },
  {
   "cell_type": "code",
   "execution_count": 20,
   "metadata": {
    "collapsed": false
   },
   "outputs": [
    {
     "data": {
      "text/latex": [
       "$4.7808611 \\; \\mathrm{R_{\\oplus}}$"
      ],
      "text/plain": [
       "<Quantity 4.780861056506418 earthRad>"
      ]
     },
     "execution_count": 20,
     "metadata": {},
     "output_type": "execute_result"
    }
   ],
   "source": [
    "test = 4.263493e-05 * u.au\n",
    "#test.to(u.earthRad)\n",
    "new_test = 3.0390977564e+07 * u.m\n",
    "new_test.to(u.earthRad)"
   ]
  },
  {
   "cell_type": "code",
   "execution_count": 21,
   "metadata": {
    "collapsed": false
   },
   "outputs": [
    {
     "data": {
      "text/latex": [
       "$1.9999401 \\; \\mathrm{M_{\\oplus}}$"
      ],
      "text/plain": [
       "<Quantity 1.9999401475201732 earthMass>"
      ]
     },
     "execution_count": 21,
     "metadata": {},
     "output_type": "execute_result"
    }
   ],
   "source": [
    "m = 1.1944372e+25 * u.kg\n",
    "m.to(u.earthMass)"
   ]
  },
  {
   "cell_type": "code",
   "execution_count": null,
   "metadata": {
    "collapsed": false
   },
   "outputs": [],
   "source": [
    "\n",
    "\n",
    "while data['time'][-1] < tao:\n",
    "    #pdb.set_trace()\n",
    "    t = data['time'][-1]\n",
    "    t_new = t + dt\n",
    "    \n",
    "    Menv_new = data['Menv'][-1] - data['dM'][-1]\n",
    "    Mp_new = Mcore+Menv_new\n",
    "    alpha_new = Menv_new/Mp_new\n",
    "    \n",
    "    Ps_new = calc_ps(g, Menv_new, data['dM'][-1], Rs).decompose()\n",
    "    Rxuv_new = calc_Rxuv(Rs, H, Pxuv, Ps_new).decompose()\n",
    "    dmdt_new = calc_dmdt(eta, Fxuv, Rxuv_new, Mcore).decompose()\n",
    "    \n",
    "    dm_new = (dmdt_new * dt).decompose()\n",
    "    data.add_row((t_new, Mp_new, alpha_new, Menv_new, Ps_new, Rxuv_new, dmdt_new, dm_new))\n",
    "    if Ps_new <= 0:\n",
    "        break\n",
    "    \n",
    "    "
   ]
  },
  {
   "cell_type": "code",
   "execution_count": null,
   "metadata": {
    "collapsed": false,
    "scrolled": false
   },
   "outputs": [],
   "source": [
    "time = data['time']\n",
    "Menv = data['Menv']\n",
    "Mp = data['Mp']\n",
    "Psurf = data['P_surf']\n",
    "Rxuv = data['R_xuv']\n",
    "dmdt = data['dMdt']\n",
    "dm = data['dM']\n",
    "\n",
    "\n",
    "fig,ax = plt.subplots(3,1)\n",
    "fig.set_size_inches(7,7)\n",
    "fig.subplots_adjust(bottom=0.3)\n",
    "\n",
    "ax[0].plot(time, Menv/Menv[0], color='blue')\n",
    "ax[0].set(ylabel='Atmospheric Mass\\nFraction', xlim=(0,30e6), ylim=(0,1))\n",
    "\n",
    "ax[1].plot(time, Rxuv/Rxuv[0], color='blue')\n",
    "ax[1].set(ylabel='Rxuv')\n",
    "\n",
    "ax[2].plot(time, Mp/Mp[0], color='blue')\n",
    "ax[2].set(ylabel='Mp', xlabel='Time (yr)')\n",
    "\n",
    "\n",
    "    \n",
    "\n",
    "fig.savefig('atmesc.pdf')"
   ]
  },
  {
   "cell_type": "code",
   "execution_count": null,
   "metadata": {
    "collapsed": false
   },
   "outputs": [],
   "source": [
    "#data[2840:2850]\n",
    "data[:5]"
   ]
  },
  {
   "cell_type": "code",
   "execution_count": null,
   "metadata": {
    "collapsed": false
   },
   "outputs": [],
   "source": [
    "lehm_final_time = 28644016 * u.yr\n",
    "diego_final_time = data['time'][-1]\n",
    "(diego_final_time - lehm_final_time)/(lehm_final_time)"
   ]
  },
  {
   "cell_type": "code",
   "execution_count": null,
   "metadata": {
    "collapsed": false
   },
   "outputs": [],
   "source": [
    "diego_final_time"
   ]
  },
  {
   "cell_type": "code",
   "execution_count": null,
   "metadata": {
    "collapsed": false
   },
   "outputs": [],
   "source": [
    "lehm_final_time"
   ]
  },
  {
   "cell_type": "code",
   "execution_count": null,
   "metadata": {
    "collapsed": false
   },
   "outputs": [],
   "source": [
    "1/3.7"
   ]
  },
  {
   "cell_type": "code",
   "execution_count": null,
   "metadata": {
    "collapsed": false
   },
   "outputs": [],
   "source": [
    "c_data = QTable.read('lehmer/structs/pointers/output.csv', format='csv')"
   ]
  },
  {
   "cell_type": "code",
   "execution_count": null,
   "metadata": {
    "collapsed": false
   },
   "outputs": [],
   "source": [
    "c_data = QTable.read('lehmer/structs/pointers/output.csv', format='csv')\n",
    "c_time = c_data['time']\n",
    "c_Menv = c_data['Menv']\n",
    "c_Rxuv = c_data['Rxuv']\n",
    "c_Mp = c_data['Mp']\n",
    "\n",
    "fig,ax = plt.subplots(3,1)\n",
    "fig.set_size_inches(7,7)\n",
    "fig.subplots_adjust(bottom=0.3)\n",
    "\n",
    "ax[0].plot(c_time, c_Menv/c_Menv[0], color='blue')\n",
    "ax[0].set(ylabel='Atmospheric Mass\\nFraction', xlim=(0,30e6), ylim=(0,1))\n",
    "\n",
    "ax[1].plot(c_time, c_Rxuv/c_Rxuv[0], color='blue')\n",
    "ax[1].set(ylabel='Rxuv')\n",
    "\n",
    "ax[2].plot(c_time, c_Mp/c_Mp[0], color='blue')\n",
    "ax[2].set(ylabel='Mp', xlabel='Time (yr)')"
   ]
  },
  {
   "cell_type": "code",
   "execution_count": null,
   "metadata": {
    "collapsed": false
   },
   "outputs": [],
   "source": [
    "c_time[-1]"
   ]
  },
  {
   "cell_type": "code",
   "execution_count": null,
   "metadata": {
    "collapsed": false
   },
   "outputs": [],
   "source": [
    "c_Menv/c_Menv[0]"
   ]
  },
  {
   "cell_type": "code",
   "execution_count": null,
   "metadata": {
    "collapsed": true
   },
   "outputs": [],
   "source": []
  }
 ],
 "metadata": {
  "anaconda-cloud": {},
  "kernelspec": {
   "display_name": "Python [default]",
   "language": "python",
   "name": "python3"
  },
  "language_info": {
   "codemirror_mode": {
    "name": "ipython",
    "version": 3
   },
   "file_extension": ".py",
   "mimetype": "text/x-python",
   "name": "python",
   "nbconvert_exporter": "python",
   "pygments_lexer": "ipython3",
   "version": "3.5.2"
  }
 },
 "nbformat": 4,
 "nbformat_minor": 1
}
