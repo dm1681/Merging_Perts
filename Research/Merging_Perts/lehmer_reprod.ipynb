{
 "cells": [
  {
   "cell_type": "code",
   "execution_count": 14,
   "metadata": {
    "collapsed": true
   },
   "outputs": [],
   "source": [
    "import numpy as np\n",
    "import matplotlib.pyplot as plt\n",
    "%matplotlib inline\n",
    "import astropy.units as u\n",
    "import astropy.constants as const\n",
    "from astropy.table import QTable\n",
    "import os\n",
    "import shutil\n",
    "import pdb"
   ]
  },
  {
   "cell_type": "code",
   "execution_count": 4,
   "metadata": {},
   "outputs": [],
   "source": [
    "# lets define some initial conditions that Lehmer uses\n",
    "\n",
    "# number of sims to run\n",
    "n = 10000\n",
    "\n",
    "# star conditions\n",
    "dMass_star = 1\n",
    "dAge = np.array([1e6,3e6,10e6]) # ages at which the planet forms, choosing various times\n",
    "name_star = 'star'\n",
    "modules_star = 'stellar'\n",
    "\n",
    "# planet conditions\n",
    "\n",
    "# Lehmer parameters\n",
    "dPresXUV = 5\n",
    "#dPresXUV = np.random.uniform(0.1,10,n)\n",
    "dAtmGasConst = 4157\n",
    "#dAtmGasConst = np.random.uniform(3600, 4157, n)\n",
    "#dThermTemp = np.random.uniform(880,3000,n)\n",
    "dThermTemp = 880\n",
    "dFXUV = 55\n",
    "#dFXUV = np.random.uniform(43,172,n)\n",
    "#AtmMassFrac = np.random.uniform(0.01,0.1,n)\n",
    "AtmMassFrac = 0.03\n",
    "dAtmXAbsEffH = 0.1\n",
    "#dAtmXAbsEffH = np.random.uniform(0.1,0.6,n)\n",
    "sPlanetRadiusModel = \"lehmer\"\n",
    "dSatXUVtime = 100e6\n",
    "#dSatXUVtime = np.random.uniform(80e6,120e6,n)\n",
    "# Planet parameters\n",
    "name_b = 'b'\n",
    "modules_b = 'atmesc'\n",
    "bHaltEnvelopeGone = 1\n",
    "#dMass_planet = np.random.uniform(2.24,44.0,n)\n",
    "dMass_planet = np.arange(0.5,10.5,0.5)\n",
    "dEnvelopeMass = dMass_planet * AtmMassFrac\n",
    "dSemi = 0.1\n",
    "saOutputOrder = \"Time -Mass -EnvelopeMass -DEnvMassDt -RadSolid -RadXUV -PresSurf -FXUV\"\n",
    "\n",
    "#vpl.in\n",
    "systemname = 'atm'\n",
    "iVerbose = 5\n",
    "bOverwrite = 1\n",
    "bodyfiles = 'star.in b.in'\n",
    "unitmass = 'solar'\n",
    "unitlength = 'aU'\n",
    "unittime = 'years'\n",
    "unitangle = 'd'\n",
    "unittemp = 'K'\n",
    "dolog = 1\n",
    "digits = 16\n",
    "minvalue = 1e-10\n",
    "doforward = 1\n",
    "vardt = 1\n",
    "eta = 0.01\n",
    "stoptime = 100e6\n",
    "outputtime = 10e6\n"
   ]
  },
  {
   "cell_type": "code",
   "execution_count": 5,
   "metadata": {},
   "outputs": [
    {
     "data": {
      "text/plain": [
       "20"
      ]
     },
     "execution_count": 5,
     "metadata": {},
     "output_type": "execute_result"
    }
   ],
   "source": [
    "len(dMass_planet)"
   ]
  },
  {
   "cell_type": "code",
   "execution_count": 7,
   "metadata": {},
   "outputs": [],
   "source": [
    "# now lets write some files\n",
    "runs_dir = \"/home/dm1681/Merging_Perts/Research/Merging_Perts/lehmer_reprod_massradplot/\"\n",
    "\n",
    "i = 0\n",
    "n = len(dMass_planet)\n",
    "while i <= n-1:\n",
    "    # lets convert the above values to strings so easier to write to file\n",
    "    name_idx = \"%05i\"%i\n",
    "    if os.path.isdir(runs_dir+name_idx) == True: #sim folders exist\n",
    "        shutil.rmtree(runs_dir) #removes previous folders; THIS LINE DELETES THE ENTIRE RUNS DIRECTORY\n",
    "        os.makedirs(runs_dir+name_idx)\n",
    "    else: #sims folder does not exist\n",
    "        os.makedirs(runs_dir+name_idx)\n",
    "    \n",
    "    bHaltEnvelopeGone_str = str(bHaltEnvelopeGone)\n",
    "    dPresXUV_str = str(dPresXUV) # list\n",
    "    dAtmGasConst_str = str(dAtmGasConst) #\n",
    "    dThermTemp_str = str(dThermTemp)\n",
    "    dFXUV_str = str(dFXUV)\n",
    "    dAtmXAbsEffH_str = str(dAtmXAbsEffH)\n",
    "    dSatXUVtime_str = str(dSatXUVtime)\n",
    "    dMass_planet_str = str(dMass_planet[i] * -1)\n",
    "    dEnvelopeMass_str = str(dEnvelopeMass[i] * -1)\n",
    "    dSemi_str = str(dSemi)\n",
    "    dMass_star_str = str(dMass_star)\n",
    "    dAge_star_str = str(dAge[2])\n",
    "    #vpl.in\n",
    "    iVerbose_str = str(iVerbose)\n",
    "    bOverwrite_str = str(bOverwrite)\n",
    "    bDoLog_str = str(dolog)\n",
    "    iDigits_str = str(digits)\n",
    "    dMinValue_str = str(minvalue)\n",
    "    bDoForward_str = str(doforward)\n",
    "    bVarDt_str = str(vardt)\n",
    "    dEta_str = str(eta)\n",
    "    dStopTime_str = str(stoptime)\n",
    "    dOutputTime_str = str(outputtime)\n",
    "    \n",
    "    \n",
    "    # now lets write to file\n",
    "    # b.in\n",
    "    b = open(runs_dir+name_idx+'/b.in','w')\n",
    "    b_content = ('sName\\t\\t\\t' + name_b + \n",
    "                 '\\nsaModules\\t\\t' + modules_b +\n",
    "                 '\\n\\ndMass\\t\\t\\t' + dMass_planet_str + \n",
    "                 '\\n\\ndSemi\\t\\t\\t' + dSemi_str + \n",
    "                 '\\n\\nbHaltEnvelopeGone\\t' + bHaltEnvelopeGone_str +\n",
    "                 '\\ndEnvelopeMass\\t\\t' + dEnvelopeMass_str + \n",
    "                 '\\ndAtmXAbsEffH\\t\\t' + dAtmXAbsEffH_str +\n",
    "                 '\\n\\nsPlanetRadiusModel\\t' + sPlanetRadiusModel +\n",
    "                 '\\ndThermTemp\\t\\t' + dThermTemp_str +\n",
    "                 '\\ndPresXUV\\t\\t' + dPresXUV_str +\n",
    "                 '\\ndAtmGasConst\\t\\t' + dAtmGasConst_str +\n",
    "                 '\\ndFXUV\\t\\t\\t' + dFXUV_str + \n",
    "                 '\\n\\nsaOutputOrder\\t' + saOutputOrder + \n",
    "                 '\\n'\n",
    "                )\n",
    "    b.write(b_content)\n",
    "    b.close()\n",
    "    \n",
    "    star = open(runs_dir+name_idx+'/star.in','w')\n",
    "    star_content = ('sName\\t\\t' + name_star +\n",
    "                    '\\nsaModules\\t' + modules_star +\n",
    "                    '\\n\\ndMass\\t\\t' + dMass_star_str + \n",
    "                    '\\n\\ndSatXUVTime\\t'+dSatXUVtime_str +\n",
    "                    #'\\n\\ndAge\\t\\t' + dAge_star_str + \n",
    "                    '\\n'\n",
    "                   )\n",
    "    star.write(star_content)\n",
    "    star.close()\n",
    "    \n",
    "    vpl = open(runs_dir+name_idx+'/vpl.in','w')\n",
    "    vpl_content = ('sSystemName\\t' + systemname +\n",
    "                   '\\niVerbose\\t' + iVerbose_str + \n",
    "                   '\\nbOverwrite\\t' + bOverwrite_str +\n",
    "                   '\\n\\nsaBodyFiles\\t' + bodyfiles +\n",
    "                   '\\n\\nsUnitMass\\t' + unitmass +\n",
    "                   '\\nsUnitLength\\t' + unitlength +\n",
    "                   '\\nsUnitTime\\t' + unittime + \n",
    "                   '\\nsUnitAngle\\t' + unitangle +\n",
    "                   '\\nsUnitTemp\\t' + unittemp +\n",
    "                   '\\n\\nbDoLog\\t\\t' + bDoLog_str + \n",
    "                   '\\niDigits\\t\\t' + iDigits_str + \n",
    "                   '\\ndMinValue\\t' + dMinValue_str +\n",
    "                   '\\n\\nbDoForward\\t' + bDoForward_str + \n",
    "                   '\\nbVarDt\\t\\t' + bVarDt_str +\n",
    "                   '\\ndEta\\t\\t' + dEta_str +\n",
    "                   '\\ndStopTime\\t' + dStopTime_str + \n",
    "                   '\\ndOutputTime\\t' + dOutputTime_str + \n",
    "                   '\\n'\n",
    "                  )\n",
    "    vpl.write(vpl_content)\n",
    "    vpl.close()\n",
    "    i+=1"
   ]
  },
  {
   "cell_type": "code",
   "execution_count": 15,
   "metadata": {
    "collapsed": true
   },
   "outputs": [],
   "source": [
    "# now lets read in the data and try and reproduce his figures\n",
    "# Figure 2\n",
    "### plot of RadSolid and Count\n",
    "\n",
    "def detRXUVisRadSolid(fwd_content):\n",
    "    RXUV_i = 5\n",
    "    RadSolid_i = 4\n",
    "    for line in fwd_content:\n",
    "        line = line.split(' ')\n",
    "        time = float(line[0])\n",
    "        rxuv = float(line[RXUV_i])\n",
    "        rsol = float(line[RadSolid_i])\n",
    "        if rxuv <= rsol:\n",
    "            return True\n",
    "        if time == 100e6:\n",
    "            return False\n",
    "\n",
    "def determineAtmGone(comp_runs_dir, folder_num):\n",
    "    try:\n",
    "        folder_name = comp_runs_dir + folder_num\n",
    "        log_file = open(folder_name + '/log')\n",
    "        log_content = log_file.read()\n",
    "        log_content = log_content.split('\\n')\n",
    "        \n",
    "        fwd_file = open(folder_name + '/atm.b.forward')\n",
    "        fwd_content = fwd_file.read()\n",
    "        fwd_content = fwd_content.split('\\n')\n",
    "        if (log_content[5] == \"HALT: b's envelope mass =  0.0000000000000000Earth Masses.\") or (detRXUVisRadSolid(fwd_content)):\n",
    "            return True\n",
    "        else:\n",
    "            return False\n",
    "    except IndexError:\n",
    "        print (folder_num)\n",
    "        \n",
    "def getRadSolid(comp_runs_dir, folder_num):\n",
    "    RadSolid_list = np.array([])\n",
    "    folder_name = comp_runs_dir + folder_num\n",
    "    fwd_file = open(folder_name + '/atm.b.forward')\n",
    "    fwd_content = fwd_file.read()\n",
    "    fwd_content = fwd_content.split('\\n')\n",
    "    first_line = fwd_content[0]\n",
    "    first_line = first_line.split(' ')\n",
    "    RadSolid = float(first_line[4])\n",
    "    return RadSolid\n",
    "\n",
    "def getEnvMass(comp_runs_dir, folder_num):\n",
    "    RadSolid_list = np.array([])\n",
    "    folder_name = comp_runs_dir + folder_num\n",
    "    fwd_file = open(folder_name + '/atm.b.forward')\n",
    "    fwd_content = fwd_file.read()\n",
    "    fwd_content = fwd_content.split('\\n')\n",
    "    first_line = fwd_content[0]\n",
    "    first_line = first_line.split(' ')\n",
    "    RadSolid = float(first_line[4])\n",
    "    return RadSolid\n",
    "        \n",
    "\n",
    "\n",
    "    \n",
    "comp_runs_dir = './lehmer_reprod_raddist/'\n",
    "\n",
    "n = 10000\n",
    "i = 0 \n",
    "\n",
    "RadSolid_atmgone = np.array([])\n",
    "while i <= n-1:\n",
    "    folder_num = '%05i'%i\n",
    "    if determineAtmGone(comp_runs_dir,folder_num):\n",
    "        RadSolid = getRadSolid(comp_runs_dir,folder_num)\n",
    "        RadSolid_atmgone = np.append(RadSolid_atmgone, RadSolid)\n",
    "    i+=1\n"
   ]
  },
  {
   "cell_type": "code",
   "execution_count": 16,
   "metadata": {},
   "outputs": [
    {
     "data": {
      "text/plain": [
       "(1503,)"
      ]
     },
     "execution_count": 16,
     "metadata": {},
     "output_type": "execute_result"
    }
   ],
   "source": [
    "RadSolid_atmgone.shape"
   ]
  },
  {
   "cell_type": "code",
   "execution_count": 19,
   "metadata": {
    "scrolled": false
   },
   "outputs": [
    {
     "data": {
      "image/png": "[encoded data removed]",
      "text/plain": [
       "<matplotlib.figure.Figure at 0x7fc719550e10>"
      ]
     },
     "metadata": {},
     "output_type": "display_data"
    }
   ],
   "source": [
    "def plotRadHist(RadList,title):\n",
    "    fig,ax = plt.subplots(1,)\n",
    "    fig.set_size_inches(8,8)\n",
    "    \n",
    "    mean = np.mean(RadList)\n",
    "    std = np.std(RadList)\n",
    "    pos_2sig = mean + 2*std\n",
    "    neg_2sig = mean - 2*std\n",
    "    \n",
    "    lehm_mean = 1.76\n",
    "    lehm_pos2sig = lehm_mean + 0.38\n",
    "    lehm_neg2sig = lehm_mean - 0.38\n",
    "    \n",
    "    plt.rc('text', usetex=True)\n",
    "    ax.hist(RadList,bins=100)\n",
    "    ax.set(xlabel='RadSolid ($R_\\oplus$)', title=title)\n",
    "    ax.scatter(mean, 35)\n",
    "    ax.scatter(lehm_mean, 37)\n",
    "    ax.hlines(35,neg_2sig, pos_2sig, color='blue', label='vplanet: %0.2f'%mean)\n",
    "    ax.hlines(37,lehm_neg2sig, lehm_pos2sig, color='red', label='lehmer: %0.2f'%lehm_mean)\n",
    "    ax.legend(loc='upper center', bbox_to_anchor=(0.5, -0.1),\n",
    "          fancybox=True, ncol=2)\n",
    "    fig.savefig('RadSolidHist.png')\n",
    "plotRadHist(RadSolid_atmgone, 'RadSolid')\n"
   ]
  },
  {
   "cell_type": "code",
   "execution_count": 9,
   "metadata": {},
   "outputs": [
    {
     "name": "stdout",
     "output_type": "stream",
     "text": [
      "2.38530813166\n"
     ]
    },
    {
     "data": {
      "image/png": "[encoded data removed]",
      "text/plain": [
       "<matplotlib.figure.Figure at 0x7f6a640ad588>"
      ]
     },
     "metadata": {},
     "output_type": "display_data"
    }
   ],
   "source": [
    "comp_runs_dir = './lehmer_reprod/'\n",
    "def FourPanelPlot(comp_runs_dir, folder_num):\n",
    "    # function to plot EnvMass, RadXUV, PresSurf, Fxuv\n",
    "    fig,ax = plt.subplots(2,2)\n",
    "    fig.set_size_inches(10,10)\n",
    "    EnvMass_list = np.array([])\n",
    "    RadXUV_list = np.array([])\n",
    "    PresSurf_list = np.array([])\n",
    "    FXUV_list = np.array([])\n",
    "    time_list = np.array([])\n",
    "    fwd_file = open(comp_runs_dir + folder_num + '/atm.b.forward')\n",
    "    fwd_content = fwd_file.read()\n",
    "    fwd_content = fwd_content.split('\\n')[:-1]\n",
    "    for line in fwd_content:\n",
    "        line = line.split(' ')\n",
    "        EnvMass = float(line[2])\n",
    "        EnvMass_list = np.append(EnvMass_list, EnvMass)\n",
    "        RadSurf = float(line[4])\n",
    "        RadXUV = float(line[5])\n",
    "        RadXUV_list = np.append(RadXUV_list, RadXUV)\n",
    "        PresSurf= float(line[6])\n",
    "        PresSurf_list = np.append(PresSurf_list, PresSurf)\n",
    "        FXUV = float(line[7])\n",
    "        FXUV_list = np.append(FXUV_list, FXUV)\n",
    "        time = float(line[0])\n",
    "        time_list = np.append(time_list, time)\n",
    "    ax[0,0].plot(time_list, EnvMass_list)\n",
    "    ax[0,0].set(ylabel='EnvMass($M_\\oplus$)')\n",
    "    ax[0,1].plot(time_list, PresSurf_list)\n",
    "    ax[0,1].set(ylabel='PresSurf(Pa)')\n",
    "    ax[1,0].plot(time_list, RadXUV_list)\n",
    "    ax[1,0].set(ylabel='RadXUV($R_\\oplus$)')\n",
    "    ax[1,1].plot(time_list, FXUV_list)\n",
    "    ax[1,1].set(ylabel='FXUV($W/m^2$)')\n",
    "    print (RadXUV_list[-1] + RadSurf)\n",
    "    \n",
    "FourPanelPlot(comp_runs_dir, '00003')\n",
    "    "
   ]
  },
  {
   "cell_type": "code",
   "execution_count": null,
   "metadata": {
    "collapsed": true
   },
   "outputs": [],
   "source": []
  },
  {
   "cell_type": "code",
   "execution_count": null,
   "metadata": {
    "collapsed": true
   },
   "outputs": [],
   "source": [
    "'''\n",
    "to do:\n",
    "- analysis of lehmer_reprod data\n",
    "- run w/0 specifying FXUV\n",
    "     - for three different ages\n",
    "\n",
    "\n",
    "- papers (atmesc)\n",
    "-- Rory tidal critical radius\n",
    "    - jackson et all 2009 xx\n",
    "    - levrard (2009)\n",
    "    - raymond et all (2008) \n",
    "    - mardling (some distorb)\n",
    "    - kepler78\n",
    "--distorb\n",
    "    - barnes and reinberg 2006 (motion near secular separatrix)\n",
    "    - email russel \n",
    "- atmesc\n",
    "-- Eric Lopez\n",
    "-- Emily bolmomt\n",
    "-- Lammers\n",
    "-- Catling & Zahnl\n",
    "\n",
    "'''"
   ]
  },
  {
   "cell_type": "code",
   "execution_count": 4,
   "metadata": {},
   "outputs": [
    {
     "data": {
      "text/plain": [
       "(2.2401835632823177, 43.96340530875746)"
      ]
     },
     "execution_count": 4,
     "metadata": {},
     "output_type": "execute_result"
    }
   ],
   "source": [
    "def calc_m(r_s):\n",
    "    r_s = r_s * const.R_earth\n",
    "    m = (r_s/1.3)**(1/0.27)\n",
    "    return (m.value/const.M_earth).value\n",
    "\n",
    "calc_m(1.24), calc_m(2.77)\n"
   ]
  },
  {
   "cell_type": "code",
   "execution_count": 8,
   "metadata": {},
   "outputs": [
    {
     "name": "stdout",
     "output_type": "stream",
     "text": [
      "00019\r"
     ]
    }
   ],
   "source": [
    "import subprocess\n",
    "i = 0\n",
    "n = n\n",
    "while i <= n-1:\n",
    "    name_idx = '%05i'%i\n",
    "    folder_name = name_idx\n",
    "    working_directory = './lehmer_reprod_massradplot/'+folder_name\n",
    "    p = subprocess.call(['vplanet vpl.in > log'], shell=True, cwd = working_directory)\n",
    "    print(name_idx, end='\\r')\n",
    "    i += 1\n",
    "    continue"
   ]
  },
  {
   "cell_type": "code",
   "execution_count": 11,
   "metadata": {},
   "outputs": [],
   "source": [
    "i = 0 \n",
    "n = 20\n",
    "final_rad_list = np.array([])\n",
    "mass_list = np.array([])\n",
    "atm_mass_list = np.array([])\n",
    "while i <= n-1:\n",
    "    name_idx = '%05i'%i\n",
    "    wd = './lehmer_reprod_massradplot/'+name_idx\n",
    "    b_fwd_file = open(wd + '/atm.b.forward','r')\n",
    "    b_fwd_content = b_fwd_file.read()\n",
    "    b_fwd_content = b_fwd_content.split('\\n')\n",
    "    first_line = b_fwd_content[0]\n",
    "    first_line = first_line.split(' ')\n",
    "    mass = float(first_line[1])\n",
    "    ini_atm_mass = float(first_line[2])\n",
    "    mass_list = np.append(mass_list, mass)\n",
    "    last_line = b_fwd_content[-2]\n",
    "    last_line = last_line.split(' ')\n",
    "    final_atm_mass = float(last_line[2])\n",
    "    final_atm_mass = final_atm_mass / ini_atm_mass\n",
    "    radsolid = float(last_line[4])\n",
    "    radxuv = float(last_line[5])\n",
    "    if radsolid == radxuv:\n",
    "        final_rad = radsolid\n",
    "        final_atm_mass = 0\n",
    "    else:    \n",
    "        final_rad = radxuv\n",
    "    final_rad_list = np.append(final_rad_list, final_rad)\n",
    "    atm_mass_list = np.append(atm_mass_list, final_atm_mass)\n",
    "    i+=1"
   ]
  },
  {
   "cell_type": "code",
   "execution_count": 12,
   "metadata": {},
   "outputs": [
    {
     "data": {
      "image/png": "[encoded data removed]",
      "text/plain": [
       "<matplotlib.figure.Figure at 0x7fc719a484a8>"
      ]
     },
     "metadata": {},
     "output_type": "display_data"
    }
   ],
   "source": [
    "fig,ax = plt.subplots(1,1)\n",
    "fig.set_size_inches(10,10)\n",
    "import matplotlib as mpl\n",
    "\n",
    "norm = mpl.colors.Normalize(vmin = min(atm_mass_list),vmax=max(atm_mass_list))\n",
    "\n",
    "scatter = ax.scatter(mass_list, final_rad_list, c = atm_mass_list, cmap = 'bwr')\n",
    "ax.grid(True, linestyle='--')\n",
    "ax.set(ylabel='Radius(Rearth)', xlabel='Mass(Mearth)');\n",
    "\n",
    "fig.colorbar(scatter);"
   ]
  },
  {
   "cell_type": "code",
   "execution_count": 15,
   "metadata": {},
   "outputs": [
    {
     "data": {
      "text/plain": [
       "(3.0, 2.9267976363624904, 0.36915760062833558)"
      ]
     },
     "execution_count": 15,
     "metadata": {},
     "output_type": "execute_result"
    }
   ],
   "source": [
    "i = 5\n",
    "mass_list[i], final_rad_list[i], atm_mass_list[i]"
   ]
  },
  {
   "cell_type": "code",
   "execution_count": null,
   "metadata": {
    "collapsed": true
   },
   "outputs": [],
   "source": []
  }
 ],
 "metadata": {
  "anaconda-cloud": {},
  "kernelspec": {
   "display_name": "Python 3",
   "language": "python",
   "name": "python3"
  },
  "language_info": {
   "codemirror_mode": {
    "name": "ipython",
    "version": 3
   },
   "file_extension": ".py",
   "mimetype": "text/x-python",
   "name": "python",
   "nbconvert_exporter": "python",
   "pygments_lexer": "ipython3",
   "version": "3.6.1"
  }
 },
 "nbformat": 4,
 "nbformat_minor": 1
}
