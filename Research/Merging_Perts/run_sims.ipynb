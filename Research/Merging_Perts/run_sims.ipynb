{
 "cells": [
  {
   "cell_type": "code",
   "execution_count": 1,
   "metadata": {
    "collapsed": true
   },
   "outputs": [],
   "source": [
    "import numpy as np\n",
    "import shelve\n",
    "from astropy.table import QTable\n",
    "import matplotlib.pyplot as plt\n",
    "from astropy import units as u\n",
    "from astropy import constants as const\n",
    "import os\n",
    "import math\n",
    "import shutil\n",
    "from IPython.core.debugger import Tracer\n",
    "import subprocess\n",
    "import re\n",
    "%matplotlib inline\n",
    "\n",
    "stable_ICs = shelve.open('stable_ICs')\n",
    "ecc_b = stable_ICs['ecc_b']\n",
    "ecc_c = stable_ICs['ecc_c']\n",
    "semi_b = stable_ICs['semi_b']\n",
    "semi_c = stable_ICs['semi_c']\n",
    "dInc_b = stable_ICs['dInc_b']\n",
    "dInc_c = stable_ICs['dInc_c']\n",
    "dLongA_b = stable_ICs['dLongA_b']\n",
    "dLongA_c = stable_ICs['dLongA_c']\n",
    "dArgP_b = stable_ICs['dArgP_b']\n",
    "dArgP_c = stable_ICs['dArgP_c']\n",
    "mean_an_b = stable_ICs['mean_an_b']\n",
    "mean_an_c = stable_ICs['mean_an_c']\n",
    "good_hill = stable_ICs['good_hill']\n",
    "bad_hill = stable_ICs['bad_hill']\n",
    "dPrecA_b = stable_ICs['dPrecA_b']\n",
    "dMass_star = stable_ICs['dMass_star']\n",
    "dRadius_star = stable_ICs['dRadius_star']\n",
    "dMass_b = stable_ICs['dMass_b']\n",
    "dMass_c = stable_ICs['dMass_c']\n",
    "dRadius_b = stable_ICs['dRadius_b']\n",
    "dRadius_c = stable_ICs['dRadius_c']\n",
    "dTidalQ_b = stable_ICs['dTidalQ_b']\n",
    "dTidalQ_c = stable_ICs['dTidalQ_c']\n",
    "dTidalQ_star = stable_ICs['dTidalQ_star']\n",
    "dStopTime = stable_ICs['dStopTime']\n",
    "stable_ICs.close()"
   ]
  },
  {
   "cell_type": "code",
   "execution_count": 2,
   "metadata": {
    "collapsed": false
   },
   "outputs": [
    {
     "name": "stdout",
     "output_type": "stream",
     "text": [
      "ICs set.\n"
     ]
    }
   ],
   "source": [
    "# Parameters still need to do, by file\n",
    "# b.in\n",
    "name_b = 'b'\n",
    "modules_b = 'eqtide distorb distrot'\n",
    "sTideModel_b = 'p2'\n",
    "dMass_b = dMass_b # sets to earth masses;\n",
    "dRadius_b = dRadius_b # sets to earth radii\n",
    "#semi_b defined above\n",
    "#ecc_b defined above\n",
    "bForceEqSpin_b = 1\n",
    "#dRotPeriod = -1 \n",
    "dObliquity_b = 45 \n",
    "dRadGyra_b = 0.5\n",
    "dInc_b = dInc_b #distorb\n",
    "dLongA_b = dLongA_b #distorb\n",
    "dArgP_b = dArgP_b #distorb\n",
    "sOrbitModel_b = 'rd4' #distorb\n",
    "bOutputLapl_b = 0 #distorb\n",
    "dPrecA_b = dPrecA_b #distrot\n",
    "bCalcDynEllip_b = 1 #distrot\n",
    "dTidalQ_b = dTidalQ_b \n",
    "dK2_b = 0.3\n",
    "#dMaxLockDiff = 0.1 \n",
    "saTidePerts_b = 'star'\n",
    "saOutputOrder_b = 'Time Semim Ecce Inc Obliquity SurfEnFluxEqtide LongP LongA PrecA' #precA only for distrot\n",
    "\n",
    "# c.in\n",
    "name_c = 'c'\n",
    "modules_c = 'eqtide distorb'\n",
    "sTideModel_c = 'p2'\n",
    "dMass_c = dMass_c # sets to earth masses; this isnt working!!\n",
    "dRadius_c = dRadius_c # sets to earth radii\n",
    "#semi_c defined above\n",
    "#ecc_c defined above\n",
    "bForceEqSpin_c = 1\n",
    "#dRotPeriod = -1 \n",
    "dObliquity_c = 45 \n",
    "dRadGyra_c = 0.5\n",
    "dInc_c = dInc_c\n",
    "dLongA_c = dLongA_c\n",
    "dArgP_c = dArgP_c\n",
    "sOrbitModel_c = 'rd4'\n",
    "bOutputLapl_c = 0\n",
    "dTidalQ_c = dTidalQ_c \n",
    "dK2_c = 0.3\n",
    "#dMaxLockDiff = 0.1 \n",
    "saTidePerts_c = 'star'\n",
    "saOutputOrder_c = 'Time Semim Ecce Inc LongP LongA'\n",
    "\n",
    "#star.in\n",
    "name_star = 'star'\n",
    "modules_star = 'eqtide'\n",
    "dMass_star = dMass_star #solar masses;\n",
    "dRadius_star = dMass_star * 0.0048 # * ratio of solar radii to au\n",
    "dObliquity_star = 0  \n",
    "bForceEqSpin_star = 1\n",
    "dRotPeriod_star = -30 \n",
    "dRadGyra_star = 0.5 \n",
    "dTidalQ_star = dTidalQ_star\n",
    "dK2_star = 0.3 \n",
    "saTidePerts_star = 'b c'\n",
    "saOutputOrder_s = 'Time'\n",
    "\n",
    "#vpl.in\n",
    "Sys_name = 'system'\n",
    "iVerbose = 5\n",
    "bOverwrite = 1\n",
    "saBodyFiles = 'star.in b.in c.in'  \n",
    "UnitMass = 'solar' \n",
    "UnitLength = 'aU'  \n",
    "UnitTime = 'YEARS'\n",
    "UnitAngle = 'd'\n",
    "UnitTemp = 'K'\n",
    "bDoLog = 1\n",
    "iDigits = 6\n",
    "dMinValue = 10**(-10)\n",
    "bDoForward = 1\n",
    "bVarDt = 1\n",
    "dEta = 0.01\n",
    "dStopTime = dStopTime\n",
    "dOutputTime = 10**9\n",
    "\n",
    "\n",
    "#any extra conversions for units defined in vpl.in; therefore everything needs to be in M_earth or R_earth.\n",
    "print ('ICs set.')\n",
    "\n",
    "#test edit for git update"
   ]
  },
  {
   "cell_type": "code",
   "execution_count": 7,
   "metadata": {
    "collapsed": false
   },
   "outputs": [
    {
     "data": {
      "text/plain": [
       "3513"
      ]
     },
     "execution_count": 7,
     "metadata": {},
     "output_type": "execute_result"
    }
   ],
   "source": [
    "# now to calc mutual incl\n",
    "dInc_b_deg = dInc_b * u.deg\n",
    "dInc_b_rad = dInc_b_deg.to(u.rad)\n",
    "dInc_c_deg = dInc_c * u.deg\n",
    "dInc_c_rad = dInc_c_deg.to(u.rad)\n",
    "dLongA_b_deg = dLongA_b * u.deg\n",
    "dLongA_b_rad = dLongA_b_deg.to(u.rad)\n",
    "dLongA_c_deg = dLongA_c * u.deg\n",
    "dLongA_c_rad = dLongA_c_deg.to(u.rad)\n",
    "\n",
    "mut_incl = np.arccos(np.cos(dInc_b_rad)*np.cos(dInc_c_rad)+\n",
    "                     np.sin(dInc_b_rad)*np.sin(dInc_c_rad)*np.cos(dLongA_c_rad - dLongA_b_rad))\n",
    "\n",
    "max_idx_mut_incl = np.argmax(mut_incl)\n",
    "min_idx_mut_incl = np.argmin(mut_incl)\n",
    "# gives the run witb the greates mutual inclination. \n",
    "\n",
    "max_idx = max_idx_mut_incl\n",
    "min_idx = min_idx_mut_incl\n",
    "max_idx"
   ]
  },
  {
   "cell_type": "code",
   "execution_count": 17,
   "metadata": {
    "collapsed": false
   },
   "outputs": [],
   "source": [
    "low_q_high_mutinc_idx = np.array([])\n",
    "asc_mutincl_idx = np.argsort(mut_incl)\n",
    "des_mutincl_idx = asc_mutincl_idx[::-1]\n",
    "des_mutincl_idx\n",
    "for idx in des_mutincl_idx:\n",
    "    Q = dTidalQ_b[idx]\n",
    "    if Q <= 300:\n",
    "        low_q_high_mutinc_idx = np.append(low_q_high_mutinc_idx,idx)\n",
    "        "
   ]
  },
  {
   "cell_type": "code",
   "execution_count": 18,
   "metadata": {
    "collapsed": false
   },
   "outputs": [
    {
     "data": {
      "text/plain": [
       "array([   957.,  21897.,   3808., ...,   2697.,   9158.,   5857.])"
      ]
     },
     "execution_count": 18,
     "metadata": {},
     "output_type": "execute_result"
    }
   ],
   "source": [
    "low_q_high_mutinc_idx"
   ]
  },
  {
   "cell_type": "code",
   "execution_count": 21,
   "metadata": {
    "collapsed": false
   },
   "outputs": [
    {
     "data": {
      "text/plain": [
       "(47.917443192545591, <Quantity 0.16568601994156928 rad>, -0.6032486535234578)"
      ]
     },
     "execution_count": 21,
     "metadata": {},
     "output_type": "execute_result"
    }
   ],
   "source": [
    "dTidalQ_b[957],mut_incl[957],dMass_b[957]"
   ]
  },
  {
   "cell_type": "code",
   "execution_count": 22,
   "metadata": {
    "collapsed": false
   },
   "outputs": [
    {
     "data": {
      "text/latex": [
       "$0.16905233 \\; \\mathrm{rad}$"
      ],
      "text/plain": [
       "<Quantity 0.1690523318634666 rad>"
      ]
     },
     "execution_count": 22,
     "metadata": {},
     "output_type": "execute_result"
    }
   ],
   "source": [
    "mut_incl[3513]"
   ]
  },
  {
   "cell_type": "code",
   "execution_count": 4,
   "metadata": {
    "collapsed": false
   },
   "outputs": [
    {
     "name": "stdout",
     "output_type": "stream",
     "text": [
      "IC files generated\n"
     ]
    }
   ],
   "source": [
    "t = 25000 # number of runs\n",
    "\n",
    "\n",
    "n = 0\n",
    "while n <= t-1: # will make n <= x amount of folders; (25000);\n",
    "    # make strings of values; b.in\n",
    "    name_idx = '%05i'%n\n",
    "    mass_str_b = str(dMass_b[n]) \n",
    "    radius_str_b = str(dRadius_b[n])\n",
    "    eqspin_str_b = str(bForceEqSpin_b)\n",
    "    obl_str_b = str(dObliquity_b)\n",
    "    radgy_str_b = str(dRadGyra_b)\n",
    "    ecc_str_b = str(ecc_b[n])\n",
    "    semi_str_b = str(semi_b[n])\n",
    "    dInc_str_b = str(dInc_b[n]) # new\n",
    "    dLongA_str_b = str(dLongA_b[n]) # new\n",
    "    dArgP_str_b = str(dArgP_b[n]) # new\n",
    "    bOutputLapl_str_b = str(bOutputLapl_b) # new\n",
    "    dPrecA_str_b = str(dPrecA_b[n]) # new\n",
    "    bCalcDynEllip_str_b = str(bCalcDynEllip_b)\n",
    "    q_str_b = str(dTidalQ_b[n])\n",
    "    dK2_str_b = str(dK2_b)\n",
    "    perts_str_b = str(saTidePerts_b)\n",
    "    outorder_str_b = str(saOutputOrder_b)\n",
    "    \n",
    "    #c.in\n",
    "    mass_str_c = str(dMass_c[n]) \n",
    "    radius_str_c = str(dRadius_c[n])\n",
    "    eqspin_str_c = str(bForceEqSpin_c)\n",
    "    obl_str_c = str(dObliquity_c)\n",
    "    radgy_str_c = str(dRadGyra_c)\n",
    "    ecc_str_c = str(ecc_c[n])\n",
    "    semi_str_c = str(semi_c[n])\n",
    "    dInc_str_c = str(dInc_c[n])\n",
    "    dLongA_str_c = str(dLongA_c[n])\n",
    "    dArgP_str_c = str(dArgP_c[n])\n",
    "    q_str_c = str(dTidalQ_c[n])\n",
    "    dK2_str_c = str(dK2_c)\n",
    "    perts_str_c = str(saTidePerts_c)\n",
    "    outorder_str_c = str(saOutputOrder_c)\n",
    "    \n",
    "    \n",
    "    #star.in\n",
    "    name_star = name_star\n",
    "    modules_star = modules_star\n",
    "    strMass_str = str(dMass_star[n])\n",
    "    strRad_str = str(dRadius_star[n])\n",
    "    strObl_str = str(dObliquity_star)\n",
    "    #strEqSpin_str = str(bForceEqSpin_star)\n",
    "    strRotPer_str = str(dRotPeriod_star)\n",
    "    strRadGyr_str = str(dRadGyra_star)\n",
    "    strTidalQ_str = str(dTidalQ_star[n])\n",
    "    strdK2_str = str(dK2_star)\n",
    "    saTidePerts_star = saTidePerts_star\n",
    "    strsaOutputOrder = saOutputOrder_s\n",
    "    \n",
    "    #vpl.in\n",
    "    sys_name = Sys_name\n",
    "    iVerbose_str = str(iVerbose)\n",
    "    bOverwrite_str = str(bOverwrite)\n",
    "    saBodyFiles = saBodyFiles\n",
    "    UnitMass = UnitMass\n",
    "    UnitLength = UnitLength\n",
    "    UnitTime = UnitTime\n",
    "    UnitAngle = UnitAngle\n",
    "    UnitTemp = UnitTemp\n",
    "    bDoLog_str = str(bDoLog)\n",
    "    iDigits_str = str(iDigits)\n",
    "    dMinValue_str = str(dMinValue)\n",
    "    bDoForward_str = str(bDoForward)\n",
    "    bVarDt_str = str(bVarDt)\n",
    "    dEta_str = str(dEta)\n",
    "    dStopTime_str = str(int(dStopTime[n]))\n",
    "    dOutputTime_str = str(dOutputTime)\n",
    "    \n",
    "    \n",
    "    b = open('./runs/'+name_idx+'/b.in','w')\n",
    "    b_content = ('sName\\t'+ name_b + \n",
    "                 '\\nsaModules\\t'+modules_b+\n",
    "                 '\\nsTideModel\\t'+sTideModel_b+\n",
    "                 '\\n\\ndMass\\t'+mass_str_b+\n",
    "                 '\\ndRadius\\t'+radius_str_b+\n",
    "                 '\\ndObliquity\\t'+obl_str_b+\n",
    "                 '\\ndRadGyra\\t'+radgy_str_b+\n",
    "                 '\\n\\ndEcc\\t'+ecc_str_b+\n",
    "                 '\\ndSemi\\t'+semi_str_b+\n",
    "                 '\\n\\ndInc\\t'+dInc_str_b+\n",
    "                 '\\ndLongA\\t'+dLongA_str_b+\n",
    "                 '\\ndArgP\\t'+dArgP_str_b+\n",
    "                 '\\nsOrbitModel\\t'+sOrbitModel_b+\n",
    "                 '\\nbOutputLapl\\t'+bOutputLapl_str_b+\n",
    "                 '\\n\\ndPrecA\\t'+dPrecA_str_b+     #distrot? \n",
    "                 '\\nbCalcDynEllip\\t'+bCalcDynEllip_str_b+ #distrot?\n",
    "                 '\\n\\nbForceEqSpin\\t'+eqspin_str_b+\n",
    "                 '\\ndTidalQ\\t'+q_str_b+\n",
    "                 '\\ndK2\\t'+dK2_str_b+\n",
    "                 '\\nsaTidePerts\\t'+perts_str_b+\n",
    "                 '\\n\\nsaOutputOrder\\t'+outorder_str_b+'\\n')\n",
    "    b.write(b_content)\n",
    "    b.close()\n",
    "    \n",
    "    c = open('./runs/'+name_idx+'/c.in','w')\n",
    "    c_content = ('sName\\t'+ name_c + \n",
    "                 '\\nsaModules\\t'+modules_c+\n",
    "                 '\\n\\ndMass\\t'+mass_str_c+\n",
    "                 '\\ndRadius\\t'+radius_str_c+\n",
    "                 '\\ndObliquity\\t'+obl_str_c+\n",
    "                 '\\ndRadGyra\\t'+radgy_str_c+\n",
    "                 '\\n\\ndEcc\\t'+ecc_str_c+\n",
    "                 '\\ndSemi\\t'+semi_str_c+\n",
    "                 '\\n\\ndInc\\t'+dInc_str_c+\n",
    "                 '\\ndLongA\\t'+dLongA_str_c+\n",
    "                 '\\ndArgP\\t'+dArgP_str_c+\n",
    "                 '\\n\\nbForceEqSpin\\t'+eqspin_str_c+\n",
    "                 '\\ndTidalQ\\t'+q_str_c+\n",
    "                 '\\ndK2\\t'+dK2_str_c+\n",
    "                 '\\nsaTidePerts\\t'+perts_str_c+\n",
    "                 '\\n\\nsaOutputOrder\\t'+outorder_str_c+'\\n')\n",
    "    c.write(c_content)\n",
    "    c.close()\n",
    "    \n",
    "    star = open('./runs/'+name_idx+'/star.in','w')\n",
    "    star_content = ('sName\\t'+name_star+\n",
    "                    '\\nsaModules\\t'+modules_star+\n",
    "                    '\\n\\ndMass\\t'+strMass_str+\n",
    "                    '\\ndRadius\\t'+strRad_str+\n",
    "                    '\\ndObliquity\\t'+strObl_str+\n",
    "                    '\\ndRotPeriod\\t'+strRotPer_str+\n",
    "                    '\\ndRadGyra\\t'+strRadGyr_str+\n",
    "                    '\\n\\ndTidalQ\\t'+strTidalQ_str+\n",
    "                    '\\ndK2\\t'+strdK2_str+\n",
    "                    '\\n\\nsaTidePerts\\t'+saTidePerts_star+\n",
    "                    '\\n\\nsaOutputOrder\\t'+strsaOutputOrder+'\\n')\n",
    "    star.write(star_content)\n",
    "    star.close()\n",
    "    \n",
    "    vpl = open('./runs/'+name_idx+'/vpl.in','w')\n",
    "    vpl_content = ('sSystemName\\t'+sys_name+\n",
    "                   '\\niVerbose\\t'+iVerbose_str+\n",
    "                   '\\nbOverwrite\\t'+bOverwrite_str+\n",
    "                   '\\n\\nsaBodyFiles\\t'+saBodyFiles+\n",
    "                   '\\n\\nsUnitMass\\t'+UnitMass+\n",
    "                   '\\nsUnitLength\\t'+UnitLength+\n",
    "                   '\\nsUnitTime\\t'+UnitTime+\n",
    "                   '\\nsUnitAngle\\t'+UnitAngle+\n",
    "                   '\\nsUnitTemp\\t'+UnitTemp+\n",
    "                   '\\n\\nbDoLog\\t'+bDoLog_str+\n",
    "                   '\\niDigits\\t'+iDigits_str+\n",
    "                   '\\ndMinValue\\t'+dMinValue_str+\n",
    "                   '\\n\\nbDoForward\\t'+bDoForward_str+\n",
    "                   '\\nbVarDt\\t'+bVarDt_str+\n",
    "                   '\\ndEta\\t'+dEta_str+\n",
    "                   '\\ndStopTime\\t'+dStopTime_str+\n",
    "                   '\\ndOutputTime\\t'+ dOutputTime_str+'\\n')\n",
    "    vpl.write(vpl_content)\n",
    "    vpl.close()\n",
    "    \n",
    "    \n",
    "        \n",
    " \n",
    "    n += 1\n",
    "\n",
    "\n",
    "\n",
    "\n",
    "\n",
    "\n",
    "\n",
    "print ('IC files generated')"
   ]
  },
  {
   "cell_type": "code",
   "execution_count": 6,
   "metadata": {
    "collapsed": false
   },
   "outputs": [
    {
     "data": {
      "text/plain": [
       "5857"
      ]
     },
     "execution_count": 6,
     "metadata": {},
     "output_type": "execute_result"
    }
   ],
   "source": [
    "min_idx"
   ]
  },
  {
   "cell_type": "code",
   "execution_count": 23,
   "metadata": {
    "collapsed": false
   },
   "outputs": [
    {
     "data": {
      "text/plain": [
       "3513"
      ]
     },
     "execution_count": 23,
     "metadata": {},
     "output_type": "execute_result"
    }
   ],
   "source": [
    "max_idx"
   ]
  },
  {
   "cell_type": "code",
   "execution_count": null,
   "metadata": {
    "collapsed": true
   },
   "outputs": [],
   "source": []
  }
 ],
 "metadata": {
  "anaconda-cloud": {},
  "kernelspec": {
   "display_name": "Python [Root]",
   "language": "python",
   "name": "Python [Root]"
  },
  "language_info": {
   "codemirror_mode": {
    "name": "ipython",
    "version": 3
   },
   "file_extension": ".py",
   "mimetype": "text/x-python",
   "name": "python",
   "nbconvert_exporter": "python",
   "pygments_lexer": "ipython3",
   "version": "3.5.2"
  }
 },
 "nbformat": 4,
 "nbformat_minor": 0
}
