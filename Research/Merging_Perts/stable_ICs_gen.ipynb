{
 "cells": [
  {
   "cell_type": "code",
   "execution_count": 1,
   "metadata": {
    "collapsed": true
   },
   "outputs": [],
   "source": [
    "# imports\n",
    "from astropy.table import QTable\n",
    "import numpy as np\n",
    "import matplotlib.pyplot as plt\n",
    "from astropy import units as u\n",
    "from astropy import constants as const\n",
    "import os\n",
    "import math\n",
    "import shutil\n",
    "from IPython.core.debugger import Tracer\n",
    "import subprocess\n",
    "import re\n",
    "%matplotlib inline"
   ]
  },
  {
   "cell_type": "code",
   "execution_count": null,
   "metadata": {
    "collapsed": true
   },
   "outputs": [],
   "source": [
    "# add a script to load prior ICs"
   ]
  },
  {
   "cell_type": "code",
   "execution_count": 7,
   "metadata": {
    "collapsed": false
   },
   "outputs": [
    {
     "data": {
      "image/png": "[encoded data removed]",
      "text/plain": [
       "<matplotlib.figure.Figure at 0x7fd04d46fe10>"
      ]
     },
     "metadata": {},
     "output_type": "display_data"
    }
   ],
   "source": [
    "# now able to run entire notebook and produce the relevant parameters and figures.  \n",
    "\n",
    "data = QTable.read('probecc_comma.dat',format='ascii.no_header')\n",
    "\n",
    "\n",
    "data.rename_column('col1','ecc')\n",
    "data.rename_column('col2','% in bin')\n",
    "data.rename_column('col3','cum %')\n",
    "x = np.arange(0,1,0.05)\n",
    "y = data['cum %']\n",
    "ecc_inbin = data['% in bin']\n",
    "cum=data['cum %']\n",
    "binwidth = 0.05\n",
    "fig,ax=plt.subplots(1,1)\n",
    "fig.set_size_inches(11,8.5)                  \n",
    "\n",
    "bar = ax.bar(data['ecc'],ecc_inbin,width=0.05,color='r')\n",
    "ax.set_xlabel('Eccentricity')\n",
    "ax.set_ylabel('P(Eccentricity)')\n",
    "\n",
    "t = 25000 # number of sims to run\n",
    "\n",
    "# generates list of ecc for b.in\n",
    "n = 0\n",
    "ecc_list_b = np.array([])\n",
    "while n <= t-1:\n",
    "    r = (np.random.sample(1)) #some y value (percentage)\n",
    "    if r <= 0.149171270718232:\n",
    "        bin_lower=0.0\n",
    "        bin_upper=0.05\n",
    "    else:\n",
    "        r_mask = np.where(y<=r)\n",
    "        x_below = x[r_mask]\n",
    "        x_below = np.append(x_below,x_below[-1]+0.05)\n",
    "        bin_upper = x_below[-1]+0.05\n",
    "        bin_lower = x_below[-2]+0.05\n",
    "    rand = np.random.uniform(0,0.05,1)\n",
    "    ecc = bin_lower + rand \n",
    "    ecc_list_b=np.append(ecc_list_b,ecc)\n",
    "    n += 1\n",
    "    continue\n",
    "ecc_hist_b = ax.hist(ecc_list_b,bins=x,weights=np.zeros_like(ecc_list_b)+1./ecc_list_b.size,histtype='step',color='blue')\n",
    "\n",
    "# generates list of ecc for c.in\n",
    "n = 0\n",
    "ecc_list_c = np.array([])\n",
    "while n <= t-1:\n",
    "    r = (np.random.sample(1)) #some y value (percentage)\n",
    "    if r <= 0.149171270718232:\n",
    "        bin_lower=0.0\n",
    "        bin_upper=0.05\n",
    "    else:\n",
    "        r_mask = np.where(y<=r)\n",
    "        x_below = x[r_mask]\n",
    "        x_below = np.append(x_below,x_below[-1]+0.05)\n",
    "        bin_upper = x_below[-1]+0.05\n",
    "        bin_lower = x_below[-2]+0.05\n",
    "    rand = np.random.uniform(0,0.05,1)\n",
    "    ecc = bin_lower + rand \n",
    "    ecc_list_c=np.append(ecc_list_c,ecc)\n",
    "    n += 1\n",
    "    continue\n",
    "ecc_hist_c = ax.hist(ecc_list_c,bins=x,weights=np.zeros_like(ecc_list_c)+1./ecc_list_c.size,histtype='step',color='green')\n",
    "\n",
    "\n",
    "\n",
    "\n",
    "R_crit = 2 * u.earthRad\n",
    "\n",
    "# now to generate ICs and their files. \n",
    "# clears vars and generates new randoms\n",
    "# b.in\n",
    "mass_list_b = np.array([]) #if radius < 2 R_earth, then mass = ((R/R_earth)**(3.68))*M_earth; if larger, density = 1g/cm**3\n",
    "ecc_b = ecc_list_b\n",
    "rad_list_b = np.random.uniform(0.5,10,25000) * u.earthRad # [0.5,10] R_earth;  \n",
    "Qp_b = np.array([]) # [30,300] # [10**6,10**7]\n",
    "semi_b = np.random.uniform(0.01,0.15,25000) # [0.01,0.15] AU\n",
    "\n",
    "# c.in\n",
    "mass_list_c = np.array([])\n",
    "ecc_c = ecc_list_c\n",
    "rad_list_c = np.random.uniform(0.5,10,25000) * u.earthRad\n",
    "Qp_c = np.array([])\n",
    "semi_c = np.array([])\n",
    "\n",
    "for a_b in semi_b: # makes sure semi_c is always > semi_b\n",
    "    a_c = np.random.uniform(a_b,0.5,1)\n",
    "    semi_c = np.append(semi_c,a_c)\n",
    "\n",
    "\n",
    "# star.in\n",
    "stellar_mass = np.random.uniform(0.7,1.4,25000) # [0.7,1.4] M_sun\n",
    "stellar_radius = np.random.uniform(0.7,1.4,25000) #[0.7,1.4] R_sun\n",
    "Qstar = np.random.uniform(10**6,10**7,25000) # [10**6,10**7]\n",
    "\n",
    "# vpl.in\n",
    "Ages = np.random.uniform(2*10**9,8*10**9,25000) # [2,8] Gyrs\n",
    "\n",
    "# mass calculations\n",
    "def calc_mass_l2(radius):\n",
    "    r = radius\n",
    "    mass = ((r/const.R_earth)**(3.68))*const.M_earth\n",
    "    return mass\n",
    "\n",
    "def calc_mass_g2(radius):\n",
    "    r = radius\n",
    "    r = r.to(u.cm)\n",
    "    volume = (4*np.pi*r**3)/3\n",
    "    density = (1*u.g)/(1*u.cm)**3\n",
    "    mass = volume * density\n",
    "    return mass\n",
    "\n",
    "# determining mass and Qp based on radius; b.in\n",
    "for r in rad_list_b:\n",
    "    if r < 2*u.earthRad:\n",
    "        mass = calc_mass_l2(r)\n",
    "        mass = mass.to(u.earthMass)\n",
    "        Qplanet = np.random.uniform(30,301)\n",
    "    else:\n",
    "        mass = calc_mass_g2(r)\n",
    "        mass = mass.to(u.earthMass)\n",
    "        Qplanet = np.random.uniform(10**6,(10**7)+1)\n",
    "    mass_list_b = np.append(mass_list_b,mass.value)\n",
    "    Qp_b = np.append(Qp_b,Qplanet)\n",
    "\n",
    "\n",
    "# determining mass and Qp based on radius; c.in    \n",
    "for r in rad_list_c:\n",
    "    if r < 2*u.earthRad:\n",
    "        mass = calc_mass_l2(r)\n",
    "        mass = mass.to(u.earthMass)\n",
    "        Qplanet = np.random.uniform(30,301)\n",
    "    else:\n",
    "        mass = calc_mass_g2(r)\n",
    "        mass = mass.to(u.earthMass)\n",
    "        Qplanet = np.random.uniform(10**6,(10**7)+1)\n",
    "    mass_list_c = np.append(mass_list_c,mass.value)\n",
    "    Qp_c = np.append(Qp_c,Qplanet)\n",
    "\n",
    "        \n",
    "\n",
    "rad_list_b = rad_list_b.value\n",
    "rad_list_c = rad_list_c.value\n",
    "\n"
   ]
  },
  {
   "cell_type": "code",
   "execution_count": 8,
   "metadata": {
    "collapsed": false
   },
   "outputs": [
    {
     "name": "stdout",
     "output_type": "stream",
     "text": [
      "4034 20966 25000\n"
     ]
    },
    {
     "data": {
      "image/png": "[encoded data removed]",
      "text/plain": [
       "<matplotlib.figure.Figure at 0x7fd04d4c0cc0>"
      ]
     },
     "metadata": {},
     "output_type": "display_data"
    }
   ],
   "source": [
    "#distributions for b.in of mass,Qp, Radius\n",
    "fig,ax = plt.subplots(2,2)\n",
    "fig.set_size_inches(11,8.5)\n",
    "ran = max(mass_list_b)-min(mass_list_b)\n",
    "ax[0,0].hist(mass_list_b,bins=18,weights=np.zeros_like(mass_list_b)+1./mass_list_b.size) # 18 bins --> binwidth ~10 earthMass\n",
    "ax[0,1].hist(rad_list_b,weights=np.zeros_like(rad_list_b)+1./rad_list_b.size) # Uniform\n",
    "q_lower = np.where(Qp_b<=301)\n",
    "q_upper = np.where(Qp_b>301) \n",
    "ax[1,0].hist(Qp_b[q_lower],weights=np.zeros_like(Qp_b[q_lower])+1./Qp_b[q_lower].size) \n",
    "ax[1,1].hist(Qp_b[q_upper],weights=np.zeros_like(Qp_b[q_upper])+1./Qp_b[q_upper].size,color='r')\n",
    "\n",
    "ax[0,0].set_xlabel('Mass (EarthMass)')\n",
    "ax[0,1].set_xlabel('Radius (EarthRad)')\n",
    "ax[1,0].set_xlabel('Qr')\n",
    "ax[1,1].set_xlabel('Qg')\n",
    "\n",
    "print(Qp_b[q_lower].size,Qp_b[q_upper].size,Qp_b[q_lower].size + Qp_b[q_upper].size)"
   ]
  },
  {
   "cell_type": "code",
   "execution_count": 4,
   "metadata": {
    "collapsed": false
   },
   "outputs": [
    {
     "name": "stdout",
     "output_type": "stream",
     "text": [
      "3954 21046 25000\n"
     ]
    },
    {
     "data": {
      "image/png": "[encoded data removed]",
      "text/plain": [
       "<matplotlib.figure.Figure at 0x7fe78f164668>"
      ]
     },
     "metadata": {},
     "output_type": "display_data"
    }
   ],
   "source": [
    "# distributions for c.in of mass, Qp, Radius. \n",
    "fig,ax = plt.subplots(2,2)\n",
    "fig.set_size_inches(11,8.5)\n",
    "ran = max(mass_list_c)-min(mass_list_c)\n",
    "ax[0,0].hist(mass_list_c,bins=18,weights=np.zeros_like(mass_list_c)+1./mass_list_c.size) # 18 bins --> binwidth ~10 earthMass\n",
    "ax[0,1].hist(rad_list_c,weights=np.zeros_like(rad_list_c)+1./rad_list_c.size) # Uniform\n",
    "q_lower = np.where(Qp_c<=301)\n",
    "q_upper = np.where(Qp_c>301) \n",
    "ax[1,0].hist(Qp_c[q_lower],weights=np.zeros_like(Qp_c[q_lower])+1./Qp_c[q_lower].size) \n",
    "ax[1,1].hist(Qp_c[q_upper],weights=np.zeros_like(Qp_c[q_upper])+1./Qp_c[q_upper].size,color='r')\n",
    "\n",
    "ax[0,0].set_xlabel('Mass (EarthMass)')\n",
    "ax[0,1].set_xlabel('Radius (EarthRad)')\n",
    "ax[1,0].set_xlabel('Qr')\n",
    "ax[1,1].set_xlabel('Qg')\n",
    "\n",
    "print(Qp_c[q_lower].size,Qp_c[q_upper].size,Qp_c[q_lower].size + Qp_c[q_upper].size)"
   ]
  },
  {
   "cell_type": "code",
   "execution_count": 9,
   "metadata": {
    "collapsed": false
   },
   "outputs": [
    {
     "name": "stdout",
     "output_type": "stream",
     "text": [
      "ICs set.\n"
     ]
    }
   ],
   "source": [
    "-"
   ]
  },
  {
   "cell_type": "code",
   "execution_count": 11,
   "metadata": {
    "collapsed": false
   },
   "outputs": [],
   "source": [
    "#shutil.rmtree('./runs/')\n",
    "#min(outer_mass)\n"
   ]
  },
  {
   "cell_type": "code",
   "execution_count": 12,
   "metadata": {
    "collapsed": false
   },
   "outputs": [
    {
     "name": "stdout",
     "output_type": "stream",
     "text": [
      "Hill Stability determined\n"
     ]
    }
   ],
   "source": [
    "# checks hill stability\n",
    "# DONT RUN THIS ONE; TAKES SO LONG\n",
    "\n",
    "#shutil.rmtree('./runs/')\n",
    "\n",
    "hill_list = np.array([])\n",
    "\n",
    "mean_an_b_list = np.array([])\n",
    "mean_an_c_list = np.array([])\n",
    "good_hill_list = np.array([])\n",
    "bad_hill_list = np.array([])\n",
    "bad_count = 0 \n",
    "\n",
    "n = 0\n",
    "while n <= t-1:\n",
    "    name_idx = '%05i'%n\n",
    "    os.makedirs('./runs/'+name_idx)\n",
    "    semi_c_0 = np.array([])\n",
    "    while True:\n",
    "        #hill.in\n",
    "        \n",
    "        if bad_count == 2:\n",
    "            semi_c_0 = np.append(semi_c_0,semi_c[n])\n",
    "            semi_c[n] = semi_c[n] + 0.01\n",
    "            bad_count = 0 # increases outer mass, should that increase hill stability? \n",
    "        incl_b = np.random.uniform(0,5)\n",
    "        incl_c = np.random.uniform(0,5)\n",
    "        longasc_b = np.random.uniform(0,360)\n",
    "        longasc_c = np.random.uniform(0,360)\n",
    "        argperi_b = np.random.uniform(0,360)\n",
    "        argperi_c = np.random.uniform(0,360)\n",
    "        mean_an_b = np.random.uniform(0,360)\n",
    "        mean_an_c = np.random.uniform(0,360)\n",
    "        \n",
    "        innermass_str = str(inner_mass[n])\n",
    "        outermass_str = str(outer_mass[n])\n",
    "        strMass_str = str(dMass_star[n])\n",
    "        semi_str_b = str(semi_b[n])\n",
    "        semi_str_c = str(semi_c[n])\n",
    "        ecc_str_b = str(ecc_b[n])\n",
    "        ecc_str_c = str(ecc_c[n])\n",
    "        \n",
    "        incl_str_b = str(incl_b)\n",
    "        incl_str_c = str(incl_c)\n",
    "        longasc_str_b = str(longasc_b)\n",
    "        longasc_str_c = str(longasc_c)\n",
    "        argperi_str_b = str(argperi_b)\n",
    "        argperi_str_c = str(argperi_c)\n",
    "        mean_an_str_b = str(mean_an_b)\n",
    "        mean_an_str_c = str(mean_an_c)\n",
    "    \n",
    "        hill = open('./runs/'+name_idx+'/hill.in','w')\n",
    "        hill_content = (strMass_str+'\\n'\n",
    "                        +innermass_str+' '+semi_str_b+' '+ecc_str_b+' '+incl_str_b+' '+argperi_str_b+' '+longasc_str_b+' '+mean_an_str_b+'\\n'\n",
    "                        +outermass_str+' '+semi_str_c+' '+ecc_str_c+' '+incl_str_c+' '+argperi_str_c+' '+longasc_str_c+' '+mean_an_str_c+'\\n'\n",
    "                        +'body\\n')\n",
    "        hill.write(hill_content)\n",
    "        hill.close()\n",
    "    \n",
    "        wd = './runs/'+name_idx\n",
    "        hill = subprocess.call(['hillstab hill.in > hill_log'], shell=True, cwd = wd )\n",
    "        hill_log = open(wd+'/hill_log','r')\n",
    "        hill_content = hill_log.read()\n",
    "        hill_content = hill_content.split()\n",
    "        hill_exact = hill_content[1]\n",
    "        hill_exact = float(hill_exact)\n",
    "        if hill_exact < 1: # push out semi so that hill stab > 1\n",
    "            bad_count += 1\n",
    "            continue\n",
    "        elif hill_exact >= 1:\n",
    "            hill_list = np.append(hill_list,hill_exact)\n",
    "            dInc_b = np.append(dInc_b,incl_b)\n",
    "            dInc_c = np.append(dInc_c,incl_c)\n",
    "            dLongA_b = np.append(dLongA_b,longasc_b)\n",
    "            dLongA_c = np.append(dLongA_c,longasc_c)\n",
    "            dArgP_b = np.append(dArgP_b,argperi_b)\n",
    "            dArgP_c = np.append(dArgP_c,argperi_c)\n",
    "            mean_an_b_list = np.append(mean_an_b_list,mean_an_b)\n",
    "            mean_an_c_list = np.append(mean_an_c_list,mean_an_c)\n",
    "            good_hill_list = np.append(good_hill_list,name_idx)\n",
    "            break\n",
    "        \n",
    "    n += 1\n",
    "print('Hill Stability determined')\n",
    "\n",
    "# good = stab  > 1\n",
    "# bad = instab < 1"
   ]
  },
  {
   "cell_type": "code",
   "execution_count": 14,
   "metadata": {
    "collapsed": false
   },
   "outputs": [],
   "source": [
    "# now we need to save the above generated ICs to a file\n",
    "# so that we dont have to run this long ass script again...\n",
    "# saves all ICs; remember to upload the corresponding files to git\n",
    "import shelve\n",
    "stable_ICs = shelve.open('stable_ICs')\n",
    "stable_ICs['ecc_b'] = ecc_b\n",
    "stable_ICs['ecc_c'] = ecc_c\n",
    "stable_ICs['semi_b'] = semi_b\n",
    "stable_ICs['semi_c'] = semi_c\n",
    "stable_ICs['dInc_b'] = dInc_b\n",
    "stable_ICs['dInc_c'] = dInc_c\n",
    "stable_ICs['dLongA_b'] = dLongA_b\n",
    "stable_ICs['dLongA_c'] = dLongA_c\n",
    "stable_ICs['dArgP_b'] = dArgP_b\n",
    "stable_ICs['dArgP_c'] = dArgP_b\n",
    "stable_ICs['mean_an_b'] = mean_an_b_list\n",
    "stable_ICs['mean_an_c'] = mean_an_c_list\n",
    "stable_ICs['good_hill'] = good_hill_list\n",
    "stable_ICs['bad_hill'] = bad_hill_list\n",
    "stable_ICs['dPrecA_b'] = dPrecA_b\n",
    "stable_ICs['dMass_star'] = dMass_star\n",
    "stable_ICs['dRadius_star'] = dRadius_star\n",
    "stable_ICs['dMass_b'] = dMass_b\n",
    "stable_ICs['dMass_c'] = dMass_c\n",
    "stable_ICs['dRadius_b'] = dRadius_b\n",
    "stable_ICs['dRadius_c'] = dRadius_c\n",
    "stable_ICs['dTidalQ_b'] = dTidalQ_b\n",
    "stable_ICs['dTidalQ_c'] = dTidalQ_c\n",
    "stable_ICs['dTidalQ_star'] = Qstar\n",
    "stable_ICs['dStopTime'] = dStopTime\n",
    "stable_ICs.close()"
   ]
  },
  {
   "cell_type": "code",
   "execution_count": null,
   "metadata": {
    "collapsed": false
   },
   "outputs": [],
   "source": [
    "bad_run_list = np.array([])\n",
    "good_run_list = np.array([])\n",
    "bad_mass_b_list = np.array([])\n",
    "bad_mass_c_list = np.array([])\n",
    "good_mass_b_list = np.array([])\n",
    "good_mass_c_list = np.array([])\n",
    "\n",
    "for run in bad_hill_list: # generates list of masses for inner and outer \n",
    "    run = float(run)\n",
    "    bad_run_list =  np.append(bad_run_list,run)\n",
    "    bad_mass_b = dMass_b[run]\n",
    "    bad_mass_b_list = np.append(bad_mass_b_list,bad_mass_b)\n",
    "    bad_mass_c = dMass_c[run]\n",
    "    bad_mass_c_list = np.append(bad_mass_c_list,bad_mass_c)\n",
    "    \n",
    "for run in good_hill_list:\n",
    "    run = float(run)\n",
    "    good_run_list = np.append(good_run_list,run)\n",
    "    good_mass_b = dMass_b[run]\n",
    "    good_mass_b_list = np.append(good_mass_b_list,good_mass_b)\n",
    "    good_mass_c = dMass_c[run]\n",
    "    good_mass_c_list = np.append(good_mass_c_list,good_mass_c)\n",
    "\n",
    "bad_diff_mass_list = bad_mass_c_list - bad_mass_b_list # mass difference between c and b\n",
    "good_diff_mass_list = good_mass_c_list - good_mass_b_list\n",
    "\n",
    "bad_avg_mass_diff = bad_diff_mass_list.mean()\n",
    "good_avg_mass_diff = good_diff_mass_list.mean()\n",
    "\n",
    "\n",
    "\n",
    "\n",
    "\n",
    "\n",
    "good_avg_mass_diff,bad_avg_mass_diff    \n",
    "    \n",
    "# good --> positive --> mass_c > mass_b on average (9 earthMass);\n",
    "# bad --> negative --> mass_c < mass_b on average (94 earthMass);\n",
    "# positive and negative interchange --> not important\n",
    "# order of magnitude is similar"
   ]
  },
  {
   "cell_type": "code",
   "execution_count": null,
   "metadata": {
    "collapsed": false
   },
   "outputs": [],
   "source": [
    "# distorb as well\n",
    "# distrot? (w/ and w/o) not on c\n",
    "# change obl_b = 45 deg\n",
    "# case barnes et al 2011 origin and dynamics epsilon andromeda --> mutual incl. (incl and longasc to get). \n",
    "# dPrecA = np.random.uniform(0,360)\n",
    "# change of semi over 10gyrs (for distorb and +distrot case)\n",
    "# vplot both and send em\n",
    "# separate w/ semi of b w/ both cases (distorb+distrot and only distorb) \n",
    "\n",
    "\n",
    "\n",
    "\n",
    "\n",
    "\n",
    "\n",
    "\n",
    "\n",
    "\n",
    "\n",
    "\n",
    "'''\n",
    "s = 0      #runs each simulation\n",
    "while s <= t-1:\n",
    "    name_idx = '%05i'%s\n",
    "    folder_name = name_idx\n",
    "    working_directory = './runs/'+folder_name\n",
    "    p = subprocess.call(['vplanet vpl.in'], shell=True, cwd = working_directory)\n",
    "    s += 1\n",
    "    continue\n",
    "\n",
    "\n",
    "\n",
    "print('Runs Completed')\n",
    "'''"
   ]
  },
  {
   "cell_type": "code",
   "execution_count": null,
   "metadata": {
    "collapsed": false
   },
   "outputs": [],
   "source": [
    "# cosmology lens model\n",
    "# lens model (Mass,Dd, Ds, Dss)--> einstein radius (arcseconds) (500px x 500px)\n",
    "# define deflection angles\n",
    "# beta = theta - theta_e**2 / theta\n",
    "# theta is angle of pixel away from center of image --> distance from lens to where you observe object (angular distance to a pixel)\n",
    "# can calculate theta for any pixel\n",
    "# gives beta \n",
    "# convert beta into image and transfer flux value from original to where beta is. \n",
    "#  make sure width \n",
    "# image = np.zero(500,500)\n"
   ]
  },
  {
   "cell_type": "code",
   "execution_count": null,
   "metadata": {
    "collapsed": false
   },
   "outputs": [],
   "source": []
  },
  {
   "cell_type": "code",
   "execution_count": null,
   "metadata": {
    "collapsed": true
   },
   "outputs": [],
   "source": []
  }
 ],
 "metadata": {
  "anaconda-cloud": {},
  "kernelspec": {
   "display_name": "Python [Root]",
   "language": "python",
   "name": "Python [Root]"
  },
  "language_info": {
   "codemirror_mode": {
    "name": "ipython",
    "version": 3
   },
   "file_extension": ".py",
   "mimetype": "text/x-python",
   "name": "python",
   "nbconvert_exporter": "python",
   "pygments_lexer": "ipython3",
   "version": "3.5.2"
  }
 },
 "nbformat": 4,
 "nbformat_minor": 1
}
