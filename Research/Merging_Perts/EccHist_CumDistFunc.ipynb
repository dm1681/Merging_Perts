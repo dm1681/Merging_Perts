{
 "cells": [
  {
   "cell_type": "code",
   "execution_count": 21,
   "metadata": {
    "collapsed": false,
    "scrolled": true
   },
   "outputs": [
    {
     "ename": "TypeError",
     "evalue": "'Quantity' object is not callable",
     "output_type": "error",
     "traceback": [
      "\u001b[1;31m---------------------------------------------------------------------------\u001b[0m",
      "\u001b[1;31mTypeError\u001b[0m                                 Traceback (most recent call last)",
      "\u001b[1;32m<ipython-input-21-aecf8e28858c>\u001b[0m in \u001b[0;36m<module>\u001b[1;34m()\u001b[0m\n\u001b[0;32m     70\u001b[0m \u001b[1;33m\u001b[0m\u001b[0m\n\u001b[0;32m     71\u001b[0m \u001b[1;32mfor\u001b[0m \u001b[0mi\u001b[0m \u001b[1;32min\u001b[0m \u001b[0mdRadius\u001b[0m\u001b[1;33m:\u001b[0m\u001b[1;33m\u001b[0m\u001b[0m\n\u001b[1;32m---> 72\u001b[1;33m     \u001b[0mmass\u001b[0m \u001b[1;33m=\u001b[0m \u001b[0mmass\u001b[0m\u001b[1;33m(\u001b[0m\u001b[0mi\u001b[0m\u001b[1;33m)\u001b[0m\u001b[1;33m\u001b[0m\u001b[0m\n\u001b[0m\u001b[0;32m     73\u001b[0m \u001b[1;33m\u001b[0m\u001b[0m\n\u001b[0;32m     74\u001b[0m \u001b[1;33m\u001b[0m\u001b[0m\n",
      "\u001b[1;31mTypeError\u001b[0m: 'Quantity' object is not callable"
     ]
    },
    {
     "data": {
      "image/png": "[encoded data removed]",
      "text/plain": [
       "<matplotlib.figure.Figure at 0x7f76916e1cc0>"
      ]
     },
     "metadata": {},
     "output_type": "display_data"
    }
   ],
   "source": [
    "from astropy.table import QTable\n",
    "import numpy as np\n",
    "import matplotlib.pyplot as plt\n",
    "from astropy import units as u\n",
    "from astropy import constants as const\n",
    "\n",
    "%matplotlib inline\n",
    "\n",
    "# change the data for the kepler data, and graphs below\n",
    "data = QTable.read('probecc_comma.dat',format='ascii.no_header')\n",
    "\n",
    "\n",
    "data.rename_column('col1','ecc')\n",
    "data.rename_column('col2','% in bin')\n",
    "data.rename_column('col3','cum %')\n",
    "x = np.arange(0,1,0.05)\n",
    "y = data['cum %']\n",
    "ecc_inbin = data['% in bin']\n",
    "cum=data['cum %']\n",
    "binwidth = 0.05\n",
    "fig,ax=plt.subplots(1,1)\n",
    "fig.set_size_inches(11,8.5)                  \n",
    "\n",
    "bar = ax.bar(data['ecc'],ecc_inbin,width=0.05,color='r')\n",
    "ax.set_xlabel('Eccentricity')\n",
    "ax.set_ylabel('P(Eccentricity)')\n",
    "\n",
    "n = 1\n",
    "ecc_list = np.array([])\n",
    "while n <= 25000:\n",
    "    r = (np.random.sample(1)) #some y value (percentage)\n",
    "    #Tracer()()\n",
    "    if r <= 0.149171270718232:\n",
    "        bin_lower=0.0\n",
    "        bin_upper=0.05\n",
    "    else:\n",
    "        r_mask = np.where(y<=r)\n",
    "        x_below = x[r_mask]\n",
    "        x_below = np.append(x_below,x_below[-1]+0.05)\n",
    "        bin_upper = x_below[-1]+0.05\n",
    "        bin_lower = x_below[-2]+0.05\n",
    "    rand = np.random.uniform(0,0.05,1)\n",
    "    ecc = bin_lower + rand \n",
    "    ecc_list=np.append(ecc_list,ecc)\n",
    "    n += 1\n",
    "    continue\n",
    "ecc_hist = ax.hist(ecc_list,bins=x,weights=np.zeros_like(ecc_list)+1./ecc_list.size,histtype='step',color='green')\n",
    "\n",
    "# now to generate ICs and their files. \n",
    "\n",
    "\n",
    "#calculating masses\n",
    "\n",
    "def mass(r):\n",
    "    if r < 2:\n",
    "        r = r * u.earthRad\n",
    "        mass = (((r)/const.R_earth)**(3.68))*const.M_earth\n",
    "        mass = mass.to(u.earthMass)\n",
    "    else:\n",
    "        r = r * u.earthRad\n",
    "        r = r.to(u.cm)\n",
    "        volume = (4*np.pi*r**3)/3 # assuming volume of sphere?\n",
    "        density = (1*u.g)/(1*u.cm**3)\n",
    "        mass = density * volume \n",
    "        mass = mass.to(u.earthMass)\n",
    "    return mass\n",
    "\n",
    "\n",
    "dRadius = np.random.uniform(0.5,10,25000) # [0.5,10] R_earth; \n",
    "\n",
    "for i in dRadius:\n",
    "    mass = mass(i)\n",
    "\n",
    "\n",
    "dmass = mass #if radius < 2 R_earth, then mass = ((R/R_earth)**(3.68))*M_earth; if larger, density = 1g/cm**3\n",
    "dEcc = ecc_list\n",
    "stellar_mass = np.random.uniform(0.7,1.4,25000) # [0.7,1.4] M_sun\n",
    "stellar_radius = np.random.uniform(0.7,1.4,25000) #[0.7,1.4] R_sun\n",
    "dQr = np.array([]) # [30,300]\n",
    "dQg = np.array([]) # [10**6,10**7]\n",
    "Qstar = np.random.uniform(10**6,10**7,25000) # [10**6,10**7]\n",
    "dRotPeriod = np.array([])\n",
    "semi = np.random.uniform(0.01,0.15,25000) # [0.01,0.15] AU\n",
    "Ages = np.random.uniform(2*10**9,8*10**9,25000) # [2,8] Gyrs\n",
    "\n",
    "print (dRadius, dmass.size)"
   ]
  },
  {
   "cell_type": "code",
   "execution_count": 5,
   "metadata": {
    "collapsed": false,
    "scrolled": false
   },
   "outputs": [
    {
     "name": "stdout",
     "output_type": "stream",
     "text": [
      "[ 0.99026409] =r \n",
      " (array([ 0,  1,  2,  3,  4,  5,  6,  7,  8,  9, 10, 11, 12, 13, 14, 15, 16,\n",
      "       17, 18, 19]),) =r_mask(indices) \n",
      " [ 0.    0.05  0.1   0.15  0.2   0.25  0.3   0.35  0.4   0.45  0.5   0.55\n",
      "  0.6   0.65  0.7   0.75  0.8   0.85  0.9   0.95  1.  ] bins(last is right edge) \n",
      " 20 index of right edge \n",
      "    % in bin   \n",
      "--------------\n",
      "0.149171270718\n",
      "0.256906077348\n",
      "0.417127071823\n",
      "0.508287292818\n",
      "0.591160220994\n",
      "0.696132596685\n",
      "0.754143646409\n",
      "0.790055248619\n",
      "0.839779005525\n",
      "0.870165745856\n",
      "0.908839779006\n",
      "0.919889502762\n",
      "0.936464088398\n",
      "0.953038674033\n",
      "0.969613259669\n",
      "0.977900552486\n",
      "0.991712707182\n",
      "0.991712707182\n",
      "           1.0\n",
      "           1.0\n"
     ]
    },
    {
     "data": {
      "image/png": "[encoded data removed]",
      "text/plain": [
       "<matplotlib.figure.Figure at 0x7faa318e2518>"
      ]
     },
     "metadata": {},
     "output_type": "display_data"
    }
   ],
   "source": [
    "\n",
    "# Sanity check, pick some range of y and spit out x and compare to original \n",
    "'''\n",
    "to create cumdist, need a line where x is 0 to 1 and y is 0 to 1. \n",
    "each point is the sum of all the previous points (the third column in the data)\n",
    "'''\n",
    "fig,ax=plt.subplots(1,1)\n",
    "x = np.arange(0,1,0.05)\n",
    "y = data['cum %']\n",
    "#y = np.array(y)\n",
    "ax.plot(x,y,c='blue')\n",
    "ax.set_xlabel('Eccentricity')\n",
    "ax.set_ylabel('% below given X')\n",
    "\n",
    "#sanity check\n",
    "\n",
    "\n",
    "    \n",
    "    \n",
    "r = (np.random.sample(1))\n",
    "if r >= 0.25 and r <= 0.75:\n",
    "    r_mask = np.where(y<=r)\n",
    "else:\n",
    "    r_mask = np.where(y==y) # doesnt apply any masking, x_below = x\n",
    "    \n",
    "x_below = x[r_mask]\n",
    "x_below = np.append(x_below,x_below[-1]+0.05) # to include the bin in which r belongs\n",
    "max_index = np.argmax(x_below) \n",
    "max_range = x_below[-1]\n",
    "\n",
    "\n",
    "# now set r = y and find all values of x that are less than that percent\n",
    "#now add (% in bin) up to b_max, and compare cumsum \n",
    "sanity_check = np.cumsum(ecc_inbin[0:max_index+1])\n",
    "print(r,'=r','\\n',r_mask,'=r_mask(indices)','\\n',x_below,'bins(last is right edge)','\\n',max_index,'index of right edge','\\n',sanity_check)"
   ]
  },
  {
   "cell_type": "code",
   "execution_count": 133,
   "metadata": {
    "collapsed": false
   },
   "outputs": [],
   "source": [
    "# make 25000 ICs w/ mass, radii, Q, ecc., period and histogram of each; 25 bins per parameter\n",
    "# in data, the last column is upper bound for the bin, where bin_upper is the next line's eccentricity\n",
    "    #ex --> first line means 14.9% are below 0.05\n",
    "#DATA MATCHES!!!!!\n",
    "#25000 folders\n",
    "#np.random.uniform() for all except eccentricity.\n",
    "#import subprocess. \n",
    "#size of output files\n",
    "#output time 1gyr\n",
    "#eqtide\n",
    "#ecc + binwidth\n",
    "    #get bin, then plus random number in binwidth. "
   ]
  },
  {
   "cell_type": "code",
   "execution_count": 8,
   "metadata": {
    "collapsed": false
   },
   "outputs": [
    {
     "name": "stdout",
     "output_type": "stream",
     "text": [
      "[ 0.45507075  0.11230553  0.27975844 ...,  0.04859791  0.20891135\n",
      "  0.00838665] (0,)\n"
     ]
    },
    {
     "data": {
      "text/plain": [
       "(array([ 0.13852,  0.10728,  0.14588,  0.09672,  0.08296,  0.09424,\n",
       "         0.07012,  0.04208,  0.04068,  0.03728,  0.0324 ,  0.02436,\n",
       "         0.01296,  0.016  ,  0.01528,  0.0146 ,  0.00864,  0.012  ,\n",
       "         0.00028,  0.00772]),\n",
       " array([  1.80591576e-05,   4.75052715e-02,   9.49924839e-02,\n",
       "          1.42479696e-01,   1.89966909e-01,   2.37454121e-01,\n",
       "          2.84941333e-01,   3.32428546e-01,   3.79915758e-01,\n",
       "          4.27402970e-01,   4.74890183e-01,   5.22377395e-01,\n",
       "          5.69864608e-01,   6.17351820e-01,   6.64839032e-01,\n",
       "          7.12326245e-01,   7.59813457e-01,   8.07300669e-01,\n",
       "          8.54787882e-01,   9.02275094e-01,   9.49762307e-01]),\n",
       " <a list of 20 Patch objects>)"
      ]
     },
     "execution_count": 8,
     "metadata": {},
     "output_type": "execute_result"
    },
    {
     "data": {
      "image/png": "[encoded data removed]",
      "text/plain": [
       "<matplotlib.figure.Figure at 0x7faa31aeb828>"
      ]
     },
     "metadata": {},
     "output_type": "display_data"
    }
   ],
   "source": [
    "# generate eccentricity distribution mirroring above histogram\n",
    "from IPython.core.debugger import Tracer\n",
    "n = 1\n",
    "ecc_list = np.array([])\n",
    "while n <= 25000:\n",
    "    r = (np.random.sample(1)) #some y value (percentage)\n",
    "    #Tracer()()\n",
    "    if r <= 0.149171270718232:\n",
    "        bin_lower=0.0\n",
    "        bin_upper=0.05\n",
    "    else:\n",
    "        r_mask = np.where(y<=r)\n",
    "        x_below = x[r_mask]\n",
    "        x_below = np.append(x_below,x_below[-1]+0.05)\n",
    "        bin_upper = x_below[-1]+0.05\n",
    "        bin_lower = x_below[-2]+0.05\n",
    "    rand = np.random.uniform(0,0.05,1)\n",
    "    ecc = bin_lower + rand \n",
    "    ecc_list=np.append(ecc_list,ecc)\n",
    "    n += 1\n",
    "    continue\n",
    "too_big = np.where(x>1)\n",
    "np.delete(ecc_list,ecc_list[too_big])\n",
    "print (ecc_list,ecc_list[too_big].shape)\n",
    "fig,ax = plt.subplots(1,1)\n",
    "plt.hist(ecc_list,bins=20,weights=np.zeros_like(ecc_list)+1./ecc_list.size)"
   ]
  },
  {
   "cell_type": "code",
   "execution_count": 16,
   "metadata": {
    "collapsed": false
   },
   "outputs": [
    {
     "name": "stdout",
     "output_type": "stream",
     "text": [
      "[ 2.67414298  1.85328223  7.23425926 ...,  8.68414268  4.893462    3.09955166]\n"
     ]
    }
   ],
   "source": [
    "# now to generate ICs and their files. \n",
    "mass = np.array([]) #if radius < 2 R_earth, then mass = ((R/R_earth)**(3.68))*M_earth; if larger, density = 1g/cm**3\n",
    "ecc = ecc_list\n",
    "stellar_mass = np.random.uniform(0.7,1.4,25000) # [0.7,1.4] M_sun\n",
    "stellar_radius = np.random.uniform(0.7,1.4,25000) #[0.7,1.4] R_sun\n",
    "radius = np.random.uniform(0.5,10,25000) # [0.5,10] R_earth;  \n",
    "Qr = np.array([]) # [30,300]\n",
    "Qg = np.array([]) # [10**6,10**7]\n",
    "Qstar = np.random.uniform(10**6,10**7,25000) # [10**6,10**7]\n",
    "Period = np.array([])\n",
    "semi = np.random.uniform(0.01,0.15,25000) # [0.01,0.15] AU\n",
    "Ages = np.random.uniform(2*10**9,8*10**9,25000) # [2,8] Gyrs\n",
    "\n",
    "#calculating masses\n",
    "print (radius)\n",
    "def calc_mass(radius):\n",
    "    if radius < 2"
   ]
  },
  {
   "cell_type": "code",
   "execution_count": 15,
   "metadata": {
    "collapsed": false
   },
   "outputs": [
    {
     "data": {
      "text/plain": [
       "'\\nb.in: Physical Properties\\n'"
      ]
     },
     "execution_count": 15,
     "metadata": {},
     "output_type": "execute_result"
    }
   ],
   "source": [
    "#what do i need for simulations: b.in, star.in, vpl.in. only running eqtide, so only eqtide params. Check gl581 to get defined list? \n",
    "'''\n",
    "b.in: Physical Properties\n",
    "'''"
   ]
  },
  {
   "cell_type": "code",
   "execution_count": 43,
   "metadata": {
    "collapsed": false
   },
   "outputs": [
    {
     "data": {
      "text/latex": [
       "$1.1645827 \\times 10^{29} \\; \\mathrm{g}$"
      ],
      "text/plain": [
       "<Quantity 1.164582742068493e+29 g>"
      ]
     },
     "execution_count": 43,
     "metadata": {},
     "output_type": "execute_result"
    }
   ],
   "source": [
    "dRadius = np.random.uniform(0.5,10,25000)\n",
    "def calc_mass(radius):\n",
    "    for r in radius:\n",
    "        if r < 2:\n",
    "            r = r *u.earthRad\n",
    "            mass = ((r/const.R_earth)**(3.68))*const.M_earth\n",
    "            return mass\n",
    "        else:\n",
    "            r = r * u.earthRad\n",
    "            r = r.to(u.cm)\n",
    "            volume = (4*np.pi*r**3)/3\n",
    "            density = (1*u.g)/(1*u.cm)**3\n",
    "            mass = volume * density\n",
    "            return mass\n",
    "\n",
    "dRadius = np.ndarray.tolist(dRadius)\n",
    "calc_mass(dRadius) \n",
    "\n",
    "        \n",
    "    "
   ]
  },
  {
   "cell_type": "code",
   "execution_count": null,
   "metadata": {
    "collapsed": true
   },
   "outputs": [],
   "source": []
  }
 ],
 "metadata": {
  "anaconda-cloud": {},
  "kernelspec": {
   "display_name": "Python [Root]",
   "language": "python",
   "name": "Python [Root]"
  },
  "language_info": {
   "codemirror_mode": {
    "name": "ipython",
    "version": 3
   },
   "file_extension": ".py",
   "mimetype": "text/x-python",
   "name": "python",
   "nbconvert_exporter": "python",
   "pygments_lexer": "ipython3",
   "version": "3.5.2"
  }
 },
 "nbformat": 4,
 "nbformat_minor": 0
}
