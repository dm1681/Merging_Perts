{
 "cells": [
  {
   "cell_type": "code",
   "execution_count": 121,
   "metadata": {
    "collapsed": false,
    "scrolled": true
   },
   "outputs": [
    {
     "data": {
      "image/png": "[encoded data removed]",
      "text/plain": [
       "<matplotlib.figure.Figure at 0x7fdc79bafb70>"
      ]
     },
     "metadata": {},
     "output_type": "display_data"
    }
   ],
   "source": [
    "from astropy.table import QTable\n",
    "import numpy as np\n",
    "import matplotlib.pyplot as plt\n",
    "%matplotlib inline\n",
    "\n",
    "# change the data for the kepler data, and graphs below\n",
    "data = QTable.read('probecc_comma.dat',format='ascii.no_header')\n",
    "\n",
    "\n",
    "data.rename_column('col1','ecc')\n",
    "data.rename_column('col2','% in bin')\n",
    "data.rename_column('col3','cum %')\n",
    "x = np.arange(0,1,0.05)\n",
    "ecc_inbin = data['% in bin']\n",
    "cum=data['cum %']\n",
    "binwidth = 0.05\n",
    "fig,ax=plt.subplots(1,1)\n",
    "fig.set_size_inches(11,8.5)                  \n",
    "\n",
    "bar = ax.bar(data['ecc'],ecc_inbin,width=0.05,color='r')\n",
    "ax.set_xlabel('Eccentricity')\n",
    "ax.set_ylabel('P(Eccentricity)')\n",
    "\n",
    "n = 1\n",
    "ecc_list = np.array([])\n",
    "while n <= 25000:\n",
    "    r = (np.random.sample(1)) #some y value (percentage)\n",
    "    #Tracer()()\n",
    "    if r <= 0.149171270718232:\n",
    "        bin_lower=0.0\n",
    "        bin_upper=0.05\n",
    "    else:\n",
    "        r_mask = np.where(y<=r)\n",
    "        x_below = x[r_mask]\n",
    "        x_below = np.append(x_below,x_below[-1]+0.05)\n",
    "        bin_upper = x_below[-1]+0.05\n",
    "        bin_lower = x_below[-2]+0.05\n",
    "    rand = np.random.uniform(0,0.05,1)\n",
    "    ecc = bin_lower + rand \n",
    "    ecc_list=np.append(ecc_list,ecc)\n",
    "    n += 1\n",
    "    continue\n",
    "ecc_hist = ax.hist(ecc_list,bins=x,weights=np.zeros_like(ecc_list)+1./ecc_list.size,histtype='step')"
   ]
  },
  {
   "cell_type": "code",
   "execution_count": 2,
   "metadata": {
    "collapsed": false,
    "scrolled": false
   },
   "outputs": [
    {
     "name": "stdout",
     "output_type": "stream",
     "text": [
      "[ 0.58132804] =r \n",
      " (array([0, 1, 2, 3]),) =r_mask(indices) \n",
      " [ 0.    0.05  0.1   0.15  0.2 ] bins(last is right edge) \n",
      " 4 index of right edge \n",
      "    % in bin   \n",
      "--------------\n",
      "0.149171270718\n",
      "0.256906077348\n",
      "0.417127071823\n",
      "0.508287292818\n",
      "0.591160220994\n"
     ]
    },
    {
     "data": {
      "image/png": "[encoded data removed]",
      "text/plain": [
       "<matplotlib.figure.Figure at 0x7fdc7b6e8438>"
      ]
     },
     "metadata": {},
     "output_type": "display_data"
    }
   ],
   "source": [
    "\n",
    "# Sanity check, pick some range of y and spit out x and compare to original \n",
    "'''\n",
    "to create cumdist, need a line where x is 0 to 1 and y is 0 to 1. \n",
    "each point is the sum of all the previous points (the third column in the data)\n",
    "'''\n",
    "fig,ax=plt.subplots(1,1)\n",
    "x = np.arange(0,1,0.05)\n",
    "y = data['cum %']\n",
    "#y = np.array(y)\n",
    "ax.plot(x,y,c='blue')\n",
    "ax.set_xlabel('Eccentricity')\n",
    "ax.set_ylabel('% below given X')\n",
    "\n",
    "#sanity check\n",
    "\n",
    "\n",
    "    \n",
    "    \n",
    "r = (np.random.sample(1))\n",
    "if r >= 0.25 and r <= 0.75:\n",
    "    r_mask = np.where(y<=r)\n",
    "else:\n",
    "    r_mask = np.where(y==y) # doesnt apply any masking, x_below = x\n",
    "    \n",
    "x_below = x[r_mask]\n",
    "x_below = np.append(x_below,x_below[-1]+0.05) # to include the bin in which r belongs\n",
    "max_index = np.argmax(x_below) \n",
    "max_range = x_below[-1]\n",
    "\n",
    "\n",
    "# now set r = y and find all values of x that are less than that percent\n",
    "#now add (% in bin) up to b_max, and compare cumsum \n",
    "sanity_check = np.cumsum(ecc_inbin[0:max_index+1])\n",
    "print(r,'=r','\\n',r_mask,'=r_mask(indices)','\\n',x_below,'bins(last is right edge)','\\n',max_index,'index of right edge','\\n',sanity_check)"
   ]
  },
  {
   "cell_type": "code",
   "execution_count": 133,
   "metadata": {
    "collapsed": false
   },
   "outputs": [],
   "source": [
    "# make 25000 ICs w/ mass, radii, Q, ecc., period and histogram of each; 25 bins per parameter\n",
    "# in data, the last column is upper bound for the bin, where bin_upper is the next line's eccentricity\n",
    "    #ex --> first line means 14.9% are below 0.05\n",
    "#DATA MATCHES!!!!!\n",
    "#25000 folders\n",
    "#np.random.uniform() for all except eccentricity.\n",
    "#import subprocess. \n",
    "#size of output files\n",
    "#output time 1gyr\n",
    "#eqtide\n",
    "#ecc + binwidth\n",
    "    #get bin, then plus random number in binwidth. "
   ]
  },
  {
   "cell_type": "code",
   "execution_count": 99,
   "metadata": {
    "collapsed": false
   },
   "outputs": [
    {
     "name": "stdout",
     "output_type": "stream",
     "text": [
      "[  5.09000916e-02   3.49743636e-01   6.76315255e-01 ...,   6.57995450e-04\n",
      "   3.29358313e-01   1.96301109e-01] (0,)\n"
     ]
    },
    {
     "data": {
      "text/plain": [
       "(array([ 0.1415,  0.1006,  0.1457,  0.0945,  0.0852,  0.0942,  0.0718,\n",
       "         0.0403,  0.0448,  0.0375,  0.0313,  0.0251,  0.0135,  0.0161,\n",
       "         0.0152,  0.0126,  0.0091,  0.0111,  0.0003,  0.0096]),\n",
       " array([  1.25194477e-04,   4.76072680e-02,   9.50893414e-02,\n",
       "          1.42571415e-01,   1.90053488e-01,   2.37535562e-01,\n",
       "          2.85017635e-01,   3.32499709e-01,   3.79981782e-01,\n",
       "          4.27463856e-01,   4.74945929e-01,   5.22428003e-01,\n",
       "          5.69910076e-01,   6.17392150e-01,   6.64874223e-01,\n",
       "          7.12356297e-01,   7.59838370e-01,   8.07320444e-01,\n",
       "          8.54802517e-01,   9.02284591e-01,   9.49766664e-01]),\n",
       " <a list of 20 Patch objects>)"
      ]
     },
     "execution_count": 99,
     "metadata": {},
     "output_type": "execute_result"
    },
    {
     "data": {
      "image/png": "[encoded data removed]",
      "text/plain": [
       "<matplotlib.figure.Figure at 0x7fdc7b1cb710>"
      ]
     },
     "metadata": {},
     "output_type": "display_data"
    }
   ],
   "source": [
    "# generate eccentricity distribution mirroring above histogram\n",
    "from IPython.core.debugger import Tracer\n",
    "n = 1\n",
    "ecc_list = np.array([])\n",
    "while n <= 10000:\n",
    "    r = (np.random.sample(1)) #some y value (percentage)\n",
    "    #Tracer()()\n",
    "    if r <= 0.149171270718232:\n",
    "        bin_lower=0.0\n",
    "        bin_upper=0.05\n",
    "    else:\n",
    "        r_mask = np.where(y<=r)\n",
    "        x_below = x[r_mask]\n",
    "        x_below = np.append(x_below,x_below[-1]+0.05)\n",
    "        bin_upper = x_below[-1]+0.05\n",
    "        bin_lower = x_below[-2]+0.05\n",
    "    rand = np.random.uniform(0,0.05,1)\n",
    "    ecc = bin_lower + rand \n",
    "    ecc_list=np.append(ecc_list,ecc)\n",
    "    n += 1\n",
    "    continue\n",
    "#too_big = np.where(x>1)\n",
    "#np.delete(ecc_list,ecc_list[too_big])\n",
    "print (ecc_list,ecc_list[too_big].shape)\n",
    "fig,ax = plt.subplots(1,1)\n",
    "plt.hist(ecc_list,bins=20,weights=np.zeros_like(ecc_list)+1./ecc_list.size)"
   ]
  },
  {
   "cell_type": "code",
   "execution_count": null,
   "metadata": {
    "collapsed": true
   },
   "outputs": [],
   "source": [
    "# now to generate ICs and their files. \n",
    "mass = np.array([]) #if radius < 2 R_sun, then mass = ((R/R_earth)**(3.68))*M_earth; if larger, density = 1g/cm**3\n",
    "stellar_mass = np.random.uniform(0.7,1.4,25000) # [0.7,1.4] M_sun\n",
    "stellar_radius = np.random.uniform(0.7,1.4,25000) #[0.7,1.4] R_sun\n",
    "radius = np.random.uniform(0.5,10,25000) # [0.5,10] R_earth;  \n",
    "Qr = np.array([]) # [30,300]\n",
    "Qg = np.array([]) # [10**6,10**7]\n",
    "Qs = np.random.uniform(10**6,10**7,25000) # [10**6,10**7]\n",
    "Period = np.array([])\n",
    "semi = np.random.uniform(0.01,0.15,25000) # [0.01,0.15] AU\n",
    "Ages = np.random.uniform(2*10**9,8*10**9,25000) # [2,8] Gyrs\n",
    "\n",
    "#calculating masses\n"
   ]
  },
  {
   "cell_type": "code",
   "execution_count": null,
   "metadata": {
    "collapsed": true
   },
   "outputs": [],
   "source": []
  }
 ],
 "metadata": {
  "anaconda-cloud": {},
  "kernelspec": {
   "display_name": "Python [Root]",
   "language": "python",
   "name": "Python [Root]"
  },
  "language_info": {
   "codemirror_mode": {
    "name": "ipython",
    "version": 3
   },
   "file_extension": ".py",
   "mimetype": "text/x-python",
   "name": "python",
   "nbconvert_exporter": "python",
   "pygments_lexer": "ipython3",
   "version": "3.5.2"
  }
 },
 "nbformat": 4,
 "nbformat_minor": 0
}
